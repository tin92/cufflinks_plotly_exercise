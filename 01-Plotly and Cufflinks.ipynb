{
 "cells": [
  {
   "cell_type": "markdown",
   "metadata": {},
   "source": [
    "___\n",
    "\n",
    "<a href='http://www.pieriandata.com'> <img src='../Pierian_Data_Logo.png' /></a>\n",
    "___\n",
    "# Plotly and Cufflinks"
   ]
  },
  {
   "cell_type": "markdown",
   "metadata": {},
   "source": [
    "Plotly is a library that allows you to create interactive plots that you can use in dashboards or websites (you can save them as html files or static images).\n",
    "\n",
    "## Installation\n",
    "\n",
    "In order for this all to work, you'll need to install plotly and cufflinks to call plots directly off of a pandas dataframe. These libraries are not currently available through **conda** but are available through **pip**. Install the libraries at your command line/terminal using:\n",
    "\n",
    "    pip install plotly\n",
    "    pip install cufflinks\n",
    "\n",
    "** NOTE: Make sure you only have one installation of Python on your computer when you do this, otherwise the installation may not work. **\n",
    "\n",
    "## Imports and Set-up"
   ]
  },
  {
   "cell_type": "code",
   "execution_count": 1,
   "metadata": {},
   "outputs": [],
   "source": [
    "import pandas as pd\n",
    "import numpy as np\n",
    "%matplotlib inline"
   ]
  },
  {
   "cell_type": "code",
   "execution_count": 2,
   "metadata": {},
   "outputs": [
    {
     "name": "stdout",
     "output_type": "stream",
     "text": [
      "5.5.0\n"
     ]
    }
   ],
   "source": [
    "from plotly import __version__\n",
    "from plotly.offline import download_plotlyjs, init_notebook_mode, plot, iplot\n",
    "\n",
    "print(__version__) # requires version >= 1.9.0"
   ]
  },
  {
   "cell_type": "code",
   "execution_count": 3,
   "metadata": {},
   "outputs": [],
   "source": [
    "import cufflinks as cf"
   ]
  },
  {
   "cell_type": "code",
   "execution_count": 4,
   "metadata": {},
   "outputs": [
    {
     "data": {
      "text/html": [
       "        <script type=\"text/javascript\">\n",
       "        window.PlotlyConfig = {MathJaxConfig: 'local'};\n",
       "        if (window.MathJax) {MathJax.Hub.Config({SVG: {font: \"STIX-Web\"}});}\n",
       "        if (typeof require !== 'undefined') {\n",
       "        require.undef(\"plotly\");\n",
       "        requirejs.config({\n",
       "            paths: {\n",
       "                'plotly': ['https://cdn.plot.ly/plotly-2.8.3.min']\n",
       "            }\n",
       "        });\n",
       "        require(['plotly'], function(Plotly) {\n",
       "            window._Plotly = Plotly;\n",
       "        });\n",
       "        }\n",
       "        </script>\n",
       "        "
      ]
     },
     "metadata": {},
     "output_type": "display_data"
    }
   ],
   "source": [
    "# For Notebooks\n",
    "init_notebook_mode(connected=True)"
   ]
  },
  {
   "cell_type": "code",
   "execution_count": 5,
   "metadata": {},
   "outputs": [
    {
     "data": {
      "text/html": [
       "        <script type=\"text/javascript\">\n",
       "        window.PlotlyConfig = {MathJaxConfig: 'local'};\n",
       "        if (window.MathJax) {MathJax.Hub.Config({SVG: {font: \"STIX-Web\"}});}\n",
       "        if (typeof require !== 'undefined') {\n",
       "        require.undef(\"plotly\");\n",
       "        requirejs.config({\n",
       "            paths: {\n",
       "                'plotly': ['https://cdn.plot.ly/plotly-2.8.3.min']\n",
       "            }\n",
       "        });\n",
       "        require(['plotly'], function(Plotly) {\n",
       "            window._Plotly = Plotly;\n",
       "        });\n",
       "        }\n",
       "        </script>\n",
       "        "
      ]
     },
     "metadata": {},
     "output_type": "display_data"
    }
   ],
   "source": [
    "# For offline use\n",
    "cf.go_offline()"
   ]
  },
  {
   "cell_type": "markdown",
   "metadata": {},
   "source": [
    "### Fake Data"
   ]
  },
  {
   "cell_type": "code",
   "execution_count": 6,
   "metadata": {},
   "outputs": [],
   "source": [
    "df = pd.DataFrame(np.random.randn(100,4),columns='A B C D'.split())"
   ]
  },
  {
   "cell_type": "code",
   "execution_count": 7,
   "metadata": {},
   "outputs": [
    {
     "data": {
      "text/html": [
       "<div>\n",
       "<style scoped>\n",
       "    .dataframe tbody tr th:only-of-type {\n",
       "        vertical-align: middle;\n",
       "    }\n",
       "\n",
       "    .dataframe tbody tr th {\n",
       "        vertical-align: top;\n",
       "    }\n",
       "\n",
       "    .dataframe thead th {\n",
       "        text-align: right;\n",
       "    }\n",
       "</style>\n",
       "<table border=\"1\" class=\"dataframe\">\n",
       "  <thead>\n",
       "    <tr style=\"text-align: right;\">\n",
       "      <th></th>\n",
       "      <th>A</th>\n",
       "      <th>B</th>\n",
       "      <th>C</th>\n",
       "      <th>D</th>\n",
       "    </tr>\n",
       "  </thead>\n",
       "  <tbody>\n",
       "    <tr>\n",
       "      <th>0</th>\n",
       "      <td>-1.236925</td>\n",
       "      <td>-0.769842</td>\n",
       "      <td>-0.149587</td>\n",
       "      <td>0.529367</td>\n",
       "    </tr>\n",
       "    <tr>\n",
       "      <th>1</th>\n",
       "      <td>0.647360</td>\n",
       "      <td>-0.017613</td>\n",
       "      <td>-0.073896</td>\n",
       "      <td>-0.774881</td>\n",
       "    </tr>\n",
       "    <tr>\n",
       "      <th>2</th>\n",
       "      <td>-0.457634</td>\n",
       "      <td>-0.368651</td>\n",
       "      <td>-0.054246</td>\n",
       "      <td>1.004106</td>\n",
       "    </tr>\n",
       "    <tr>\n",
       "      <th>3</th>\n",
       "      <td>1.351641</td>\n",
       "      <td>-1.871443</td>\n",
       "      <td>-1.619133</td>\n",
       "      <td>-0.501469</td>\n",
       "    </tr>\n",
       "    <tr>\n",
       "      <th>4</th>\n",
       "      <td>0.740049</td>\n",
       "      <td>1.988312</td>\n",
       "      <td>0.786129</td>\n",
       "      <td>-0.799070</td>\n",
       "    </tr>\n",
       "  </tbody>\n",
       "</table>\n",
       "</div>"
      ],
      "text/plain": [
       "          A         B         C         D\n",
       "0 -1.236925 -0.769842 -0.149587  0.529367\n",
       "1  0.647360 -0.017613 -0.073896 -0.774881\n",
       "2 -0.457634 -0.368651 -0.054246  1.004106\n",
       "3  1.351641 -1.871443 -1.619133 -0.501469\n",
       "4  0.740049  1.988312  0.786129 -0.799070"
      ]
     },
     "execution_count": 7,
     "metadata": {},
     "output_type": "execute_result"
    }
   ],
   "source": [
    "df.head()"
   ]
  },
  {
   "cell_type": "code",
   "execution_count": 8,
   "metadata": {},
   "outputs": [],
   "source": [
    "df2 = pd.DataFrame({'Category':['A','B','C'],'Values':[32,43,50]})"
   ]
  },
  {
   "cell_type": "code",
   "execution_count": 9,
   "metadata": {},
   "outputs": [
    {
     "data": {
      "text/html": [
       "<div>\n",
       "<style scoped>\n",
       "    .dataframe tbody tr th:only-of-type {\n",
       "        vertical-align: middle;\n",
       "    }\n",
       "\n",
       "    .dataframe tbody tr th {\n",
       "        vertical-align: top;\n",
       "    }\n",
       "\n",
       "    .dataframe thead th {\n",
       "        text-align: right;\n",
       "    }\n",
       "</style>\n",
       "<table border=\"1\" class=\"dataframe\">\n",
       "  <thead>\n",
       "    <tr style=\"text-align: right;\">\n",
       "      <th></th>\n",
       "      <th>Category</th>\n",
       "      <th>Values</th>\n",
       "    </tr>\n",
       "  </thead>\n",
       "  <tbody>\n",
       "    <tr>\n",
       "      <th>0</th>\n",
       "      <td>A</td>\n",
       "      <td>32</td>\n",
       "    </tr>\n",
       "    <tr>\n",
       "      <th>1</th>\n",
       "      <td>B</td>\n",
       "      <td>43</td>\n",
       "    </tr>\n",
       "    <tr>\n",
       "      <th>2</th>\n",
       "      <td>C</td>\n",
       "      <td>50</td>\n",
       "    </tr>\n",
       "  </tbody>\n",
       "</table>\n",
       "</div>"
      ],
      "text/plain": [
       "  Category  Values\n",
       "0        A      32\n",
       "1        B      43\n",
       "2        C      50"
      ]
     },
     "execution_count": 9,
     "metadata": {},
     "output_type": "execute_result"
    }
   ],
   "source": [
    "df2.head()"
   ]
  },
  {
   "cell_type": "markdown",
   "metadata": {},
   "source": [
    "## Using Cufflinks and iplot()\n",
    "\n",
    "* scatter\n",
    "* bar\n",
    "* box\n",
    "* spread\n",
    "* ratio\n",
    "* heatmap\n",
    "* surface\n",
    "* histogram\n",
    "* bubble"
   ]
  },
  {
   "cell_type": "markdown",
   "metadata": {},
   "source": [
    "## Scatter"
   ]
  },
  {
   "cell_type": "code",
   "execution_count": 10,
   "metadata": {},
   "outputs": [
    {
     "data": {
      "application/vnd.plotly.v1+json": {
       "config": {
        "linkText": "Export to plot.ly",
        "plotlyServerURL": "https://plot.ly",
        "showLink": true
       },
       "data": [
        {
         "line": {
          "color": "rgba(255, 153, 51, 1.0)",
          "dash": "solid",
          "shape": "linear",
          "width": 1.3
         },
         "marker": {
          "size": 10,
          "symbol": "circle"
         },
         "mode": "markers",
         "name": "B",
         "text": "",
         "type": "scatter",
         "x": [
          -1.2369250000725207,
          0.6473596835857014,
          -0.4576338812403941,
          1.3516406754529127,
          0.7400490122585802,
          0.25510972366488843,
          -1.0651127106807845,
          2.3917146406957177,
          -1.4679389463105594,
          0.8391765739801815,
          0.4275400882654248,
          0.16019668981205584,
          -0.6546600458002377,
          0.25412542709008795,
          0.5812567887503652,
          2.824949855418005,
          -0.31753914966873975,
          -1.1188413124275982,
          -1.4841744546525169,
          -0.6865651933187513,
          -0.42853193432899855,
          -0.12083131295141886,
          -1.221878323795664,
          -0.21561458823488314,
          -0.6307860927928218,
          -2.7228708574986076,
          -0.14450177790649302,
          -0.13376997897710408,
          -2.1398184114432217,
          -0.27717423900572963,
          0.32303226145341607,
          0.3196944117300218,
          0.18597203059934792,
          -0.3799543016021088,
          -1.0570470176616962,
          -1.0437146318646817,
          1.244589105638801,
          -0.04337519472915891,
          0.30445962279555866,
          -1.8154741203814067,
          -0.8887990983280419,
          -1.5770320135643106,
          -0.6197241790299651,
          0.7644478130818563,
          -0.029785981514331553,
          0.23798873536899082,
          0.9446448368549804,
          0.7613448633925672,
          0.14087615944824644,
          0.6789662147155467,
          -1.6009293240998381,
          -0.2598721191100311,
          -2.7010390549845638,
          -0.26171844799409383,
          -0.9532264629107607,
          -0.03094940289085503,
          2.221027207346979,
          -0.24580105092785837,
          0.8183072372593397,
          0.5713252247110742,
          -0.31740801327057744,
          -1.0604555041989718,
          2.0615159143161503,
          -0.1092063059271307,
          -1.183761123674222,
          0.8302419529454999,
          -0.7770729098525189,
          1.9288790251622796,
          -1.6447440687176327,
          2.2441800141523807,
          -1.0906365477452125,
          -0.5183838762682667,
          -0.7108962314761669,
          -1.150536488305488,
          1.175992686063915,
          2.032896845776216,
          0.35408398135278496,
          0.8631735515015497,
          -0.3051640736411098,
          1.3060739739788678,
          1.4258657965350854,
          1.5277233446501692,
          1.6820603839835706,
          2.143177075085741,
          -0.47631071552440274,
          -0.9258348620953202,
          -1.3563642994337253,
          0.4804089287943433,
          -0.37248548367288253,
          0.7844780851728226,
          0.8658452629035026,
          1.1774201175308285,
          2.3582276533948496,
          1.577825382866515,
          0.7451127400443657,
          0.5417536639361865,
          0.5538339949773834,
          -0.8830866917087877,
          0.3986237791716136,
          1.4054611931446328
         ],
         "y": [
          -0.7698420862193472,
          -0.01761344336614215,
          -0.3686509050757071,
          -1.8714428775453267,
          1.988312377332831,
          -1.3694925212446596,
          -2.401861046922229,
          2.189063518367414,
          -0.6621720424869381,
          1.524830199372334,
          1.4325678710439211,
          0.2550436856316146,
          0.8589892106314515,
          1.8432136918947117,
          -1.1688456826211293,
          -1.515607620680818,
          -1.980287684188495,
          0.25328966866584374,
          -1.7739046333305717,
          0.8556947038213887,
          -0.5140998417635303,
          0.7223069066597191,
          0.39218572055196327,
          -0.18528948274597204,
          -0.04737676014181813,
          -0.11184810713112321,
          -0.06878806172071653,
          2.1147752527686583,
          0.03454371723819343,
          0.41196652639701076,
          -0.1281605512730255,
          1.9780250375126323,
          0.4491786287378268,
          0.5802485955833719,
          1.8130977866814353,
          1.1581563719854284,
          0.13656895481419654,
          -0.05096485569692876,
          0.3975911275865297,
          -2.407100495423285,
          -0.511101815832546,
          0.04656885644815061,
          -0.9653852690988891,
          1.0783208346025044,
          0.7551442633864494,
          -1.067561156982996,
          -1.6379049071327247,
          -0.4722769241659087,
          0.3479744630317592,
          0.5534559533175919,
          0.14931895908285625,
          -0.853566511765684,
          -0.6789447430531352,
          -0.14248196175510502,
          0.4066834180661509,
          -0.6562879392179125,
          0.34913669973456174,
          0.9022011491435852,
          -0.5713150913939063,
          1.5092160997551691,
          -0.7751297096205931,
          -0.2913856688677858,
          -0.3104074903415344,
          1.4033441419701584,
          0.7210651941738934,
          -1.9081400958723442,
          0.6467291739360184,
          0.42314805386297644,
          -1.4004503453459785,
          1.2200421037296094,
          0.609092067563452,
          -2.6755118760668073,
          0.6336658466514746,
          0.9300038752354216,
          1.3044851754888402,
          1.0413176800369963,
          -0.387193892665513,
          -0.361276679396097,
          0.38503462731182436,
          1.103668402883417,
          0.49031354112047426,
          -3.2077677410318635,
          0.20980464731512286,
          -0.05156654692620989,
          0.4548618578874998,
          -0.28081765560387134,
          0.011772750841938939,
          -0.3274067294413862,
          -0.5962238831091922,
          -1.4992843996535743,
          -0.6814237192311466,
          -0.36870526912415374,
          -0.1047288555309101,
          2.1506056914516782,
          -0.9839862105924292,
          1.092333878962264,
          0.11894918611924253,
          -0.4015425020670459,
          1.1142914730518803,
          -0.2967379401748048
         ]
        }
       ],
       "layout": {
        "legend": {
         "bgcolor": "#F5F6F9",
         "font": {
          "color": "#4D5663"
         }
        },
        "paper_bgcolor": "#F5F6F9",
        "plot_bgcolor": "#F5F6F9",
        "template": {
         "data": {
          "bar": [
           {
            "error_x": {
             "color": "#2a3f5f"
            },
            "error_y": {
             "color": "#2a3f5f"
            },
            "marker": {
             "line": {
              "color": "#E5ECF6",
              "width": 0.5
             },
             "pattern": {
              "fillmode": "overlay",
              "size": 10,
              "solidity": 0.2
             }
            },
            "type": "bar"
           }
          ],
          "barpolar": [
           {
            "marker": {
             "line": {
              "color": "#E5ECF6",
              "width": 0.5
             },
             "pattern": {
              "fillmode": "overlay",
              "size": 10,
              "solidity": 0.2
             }
            },
            "type": "barpolar"
           }
          ],
          "carpet": [
           {
            "aaxis": {
             "endlinecolor": "#2a3f5f",
             "gridcolor": "white",
             "linecolor": "white",
             "minorgridcolor": "white",
             "startlinecolor": "#2a3f5f"
            },
            "baxis": {
             "endlinecolor": "#2a3f5f",
             "gridcolor": "white",
             "linecolor": "white",
             "minorgridcolor": "white",
             "startlinecolor": "#2a3f5f"
            },
            "type": "carpet"
           }
          ],
          "choropleth": [
           {
            "colorbar": {
             "outlinewidth": 0,
             "ticks": ""
            },
            "type": "choropleth"
           }
          ],
          "contour": [
           {
            "colorbar": {
             "outlinewidth": 0,
             "ticks": ""
            },
            "colorscale": [
             [
              0,
              "#0d0887"
             ],
             [
              0.1111111111111111,
              "#46039f"
             ],
             [
              0.2222222222222222,
              "#7201a8"
             ],
             [
              0.3333333333333333,
              "#9c179e"
             ],
             [
              0.4444444444444444,
              "#bd3786"
             ],
             [
              0.5555555555555556,
              "#d8576b"
             ],
             [
              0.6666666666666666,
              "#ed7953"
             ],
             [
              0.7777777777777778,
              "#fb9f3a"
             ],
             [
              0.8888888888888888,
              "#fdca26"
             ],
             [
              1,
              "#f0f921"
             ]
            ],
            "type": "contour"
           }
          ],
          "contourcarpet": [
           {
            "colorbar": {
             "outlinewidth": 0,
             "ticks": ""
            },
            "type": "contourcarpet"
           }
          ],
          "heatmap": [
           {
            "colorbar": {
             "outlinewidth": 0,
             "ticks": ""
            },
            "colorscale": [
             [
              0,
              "#0d0887"
             ],
             [
              0.1111111111111111,
              "#46039f"
             ],
             [
              0.2222222222222222,
              "#7201a8"
             ],
             [
              0.3333333333333333,
              "#9c179e"
             ],
             [
              0.4444444444444444,
              "#bd3786"
             ],
             [
              0.5555555555555556,
              "#d8576b"
             ],
             [
              0.6666666666666666,
              "#ed7953"
             ],
             [
              0.7777777777777778,
              "#fb9f3a"
             ],
             [
              0.8888888888888888,
              "#fdca26"
             ],
             [
              1,
              "#f0f921"
             ]
            ],
            "type": "heatmap"
           }
          ],
          "heatmapgl": [
           {
            "colorbar": {
             "outlinewidth": 0,
             "ticks": ""
            },
            "colorscale": [
             [
              0,
              "#0d0887"
             ],
             [
              0.1111111111111111,
              "#46039f"
             ],
             [
              0.2222222222222222,
              "#7201a8"
             ],
             [
              0.3333333333333333,
              "#9c179e"
             ],
             [
              0.4444444444444444,
              "#bd3786"
             ],
             [
              0.5555555555555556,
              "#d8576b"
             ],
             [
              0.6666666666666666,
              "#ed7953"
             ],
             [
              0.7777777777777778,
              "#fb9f3a"
             ],
             [
              0.8888888888888888,
              "#fdca26"
             ],
             [
              1,
              "#f0f921"
             ]
            ],
            "type": "heatmapgl"
           }
          ],
          "histogram": [
           {
            "marker": {
             "pattern": {
              "fillmode": "overlay",
              "size": 10,
              "solidity": 0.2
             }
            },
            "type": "histogram"
           }
          ],
          "histogram2d": [
           {
            "colorbar": {
             "outlinewidth": 0,
             "ticks": ""
            },
            "colorscale": [
             [
              0,
              "#0d0887"
             ],
             [
              0.1111111111111111,
              "#46039f"
             ],
             [
              0.2222222222222222,
              "#7201a8"
             ],
             [
              0.3333333333333333,
              "#9c179e"
             ],
             [
              0.4444444444444444,
              "#bd3786"
             ],
             [
              0.5555555555555556,
              "#d8576b"
             ],
             [
              0.6666666666666666,
              "#ed7953"
             ],
             [
              0.7777777777777778,
              "#fb9f3a"
             ],
             [
              0.8888888888888888,
              "#fdca26"
             ],
             [
              1,
              "#f0f921"
             ]
            ],
            "type": "histogram2d"
           }
          ],
          "histogram2dcontour": [
           {
            "colorbar": {
             "outlinewidth": 0,
             "ticks": ""
            },
            "colorscale": [
             [
              0,
              "#0d0887"
             ],
             [
              0.1111111111111111,
              "#46039f"
             ],
             [
              0.2222222222222222,
              "#7201a8"
             ],
             [
              0.3333333333333333,
              "#9c179e"
             ],
             [
              0.4444444444444444,
              "#bd3786"
             ],
             [
              0.5555555555555556,
              "#d8576b"
             ],
             [
              0.6666666666666666,
              "#ed7953"
             ],
             [
              0.7777777777777778,
              "#fb9f3a"
             ],
             [
              0.8888888888888888,
              "#fdca26"
             ],
             [
              1,
              "#f0f921"
             ]
            ],
            "type": "histogram2dcontour"
           }
          ],
          "mesh3d": [
           {
            "colorbar": {
             "outlinewidth": 0,
             "ticks": ""
            },
            "type": "mesh3d"
           }
          ],
          "parcoords": [
           {
            "line": {
             "colorbar": {
              "outlinewidth": 0,
              "ticks": ""
             }
            },
            "type": "parcoords"
           }
          ],
          "pie": [
           {
            "automargin": true,
            "type": "pie"
           }
          ],
          "scatter": [
           {
            "marker": {
             "colorbar": {
              "outlinewidth": 0,
              "ticks": ""
             }
            },
            "type": "scatter"
           }
          ],
          "scatter3d": [
           {
            "line": {
             "colorbar": {
              "outlinewidth": 0,
              "ticks": ""
             }
            },
            "marker": {
             "colorbar": {
              "outlinewidth": 0,
              "ticks": ""
             }
            },
            "type": "scatter3d"
           }
          ],
          "scattercarpet": [
           {
            "marker": {
             "colorbar": {
              "outlinewidth": 0,
              "ticks": ""
             }
            },
            "type": "scattercarpet"
           }
          ],
          "scattergeo": [
           {
            "marker": {
             "colorbar": {
              "outlinewidth": 0,
              "ticks": ""
             }
            },
            "type": "scattergeo"
           }
          ],
          "scattergl": [
           {
            "marker": {
             "colorbar": {
              "outlinewidth": 0,
              "ticks": ""
             }
            },
            "type": "scattergl"
           }
          ],
          "scattermapbox": [
           {
            "marker": {
             "colorbar": {
              "outlinewidth": 0,
              "ticks": ""
             }
            },
            "type": "scattermapbox"
           }
          ],
          "scatterpolar": [
           {
            "marker": {
             "colorbar": {
              "outlinewidth": 0,
              "ticks": ""
             }
            },
            "type": "scatterpolar"
           }
          ],
          "scatterpolargl": [
           {
            "marker": {
             "colorbar": {
              "outlinewidth": 0,
              "ticks": ""
             }
            },
            "type": "scatterpolargl"
           }
          ],
          "scatterternary": [
           {
            "marker": {
             "colorbar": {
              "outlinewidth": 0,
              "ticks": ""
             }
            },
            "type": "scatterternary"
           }
          ],
          "surface": [
           {
            "colorbar": {
             "outlinewidth": 0,
             "ticks": ""
            },
            "colorscale": [
             [
              0,
              "#0d0887"
             ],
             [
              0.1111111111111111,
              "#46039f"
             ],
             [
              0.2222222222222222,
              "#7201a8"
             ],
             [
              0.3333333333333333,
              "#9c179e"
             ],
             [
              0.4444444444444444,
              "#bd3786"
             ],
             [
              0.5555555555555556,
              "#d8576b"
             ],
             [
              0.6666666666666666,
              "#ed7953"
             ],
             [
              0.7777777777777778,
              "#fb9f3a"
             ],
             [
              0.8888888888888888,
              "#fdca26"
             ],
             [
              1,
              "#f0f921"
             ]
            ],
            "type": "surface"
           }
          ],
          "table": [
           {
            "cells": {
             "fill": {
              "color": "#EBF0F8"
             },
             "line": {
              "color": "white"
             }
            },
            "header": {
             "fill": {
              "color": "#C8D4E3"
             },
             "line": {
              "color": "white"
             }
            },
            "type": "table"
           }
          ]
         },
         "layout": {
          "annotationdefaults": {
           "arrowcolor": "#2a3f5f",
           "arrowhead": 0,
           "arrowwidth": 1
          },
          "autotypenumbers": "strict",
          "coloraxis": {
           "colorbar": {
            "outlinewidth": 0,
            "ticks": ""
           }
          },
          "colorscale": {
           "diverging": [
            [
             0,
             "#8e0152"
            ],
            [
             0.1,
             "#c51b7d"
            ],
            [
             0.2,
             "#de77ae"
            ],
            [
             0.3,
             "#f1b6da"
            ],
            [
             0.4,
             "#fde0ef"
            ],
            [
             0.5,
             "#f7f7f7"
            ],
            [
             0.6,
             "#e6f5d0"
            ],
            [
             0.7,
             "#b8e186"
            ],
            [
             0.8,
             "#7fbc41"
            ],
            [
             0.9,
             "#4d9221"
            ],
            [
             1,
             "#276419"
            ]
           ],
           "sequential": [
            [
             0,
             "#0d0887"
            ],
            [
             0.1111111111111111,
             "#46039f"
            ],
            [
             0.2222222222222222,
             "#7201a8"
            ],
            [
             0.3333333333333333,
             "#9c179e"
            ],
            [
             0.4444444444444444,
             "#bd3786"
            ],
            [
             0.5555555555555556,
             "#d8576b"
            ],
            [
             0.6666666666666666,
             "#ed7953"
            ],
            [
             0.7777777777777778,
             "#fb9f3a"
            ],
            [
             0.8888888888888888,
             "#fdca26"
            ],
            [
             1,
             "#f0f921"
            ]
           ],
           "sequentialminus": [
            [
             0,
             "#0d0887"
            ],
            [
             0.1111111111111111,
             "#46039f"
            ],
            [
             0.2222222222222222,
             "#7201a8"
            ],
            [
             0.3333333333333333,
             "#9c179e"
            ],
            [
             0.4444444444444444,
             "#bd3786"
            ],
            [
             0.5555555555555556,
             "#d8576b"
            ],
            [
             0.6666666666666666,
             "#ed7953"
            ],
            [
             0.7777777777777778,
             "#fb9f3a"
            ],
            [
             0.8888888888888888,
             "#fdca26"
            ],
            [
             1,
             "#f0f921"
            ]
           ]
          },
          "colorway": [
           "#636efa",
           "#EF553B",
           "#00cc96",
           "#ab63fa",
           "#FFA15A",
           "#19d3f3",
           "#FF6692",
           "#B6E880",
           "#FF97FF",
           "#FECB52"
          ],
          "font": {
           "color": "#2a3f5f"
          },
          "geo": {
           "bgcolor": "white",
           "lakecolor": "white",
           "landcolor": "#E5ECF6",
           "showlakes": true,
           "showland": true,
           "subunitcolor": "white"
          },
          "hoverlabel": {
           "align": "left"
          },
          "hovermode": "closest",
          "mapbox": {
           "style": "light"
          },
          "paper_bgcolor": "white",
          "plot_bgcolor": "#E5ECF6",
          "polar": {
           "angularaxis": {
            "gridcolor": "white",
            "linecolor": "white",
            "ticks": ""
           },
           "bgcolor": "#E5ECF6",
           "radialaxis": {
            "gridcolor": "white",
            "linecolor": "white",
            "ticks": ""
           }
          },
          "scene": {
           "xaxis": {
            "backgroundcolor": "#E5ECF6",
            "gridcolor": "white",
            "gridwidth": 2,
            "linecolor": "white",
            "showbackground": true,
            "ticks": "",
            "zerolinecolor": "white"
           },
           "yaxis": {
            "backgroundcolor": "#E5ECF6",
            "gridcolor": "white",
            "gridwidth": 2,
            "linecolor": "white",
            "showbackground": true,
            "ticks": "",
            "zerolinecolor": "white"
           },
           "zaxis": {
            "backgroundcolor": "#E5ECF6",
            "gridcolor": "white",
            "gridwidth": 2,
            "linecolor": "white",
            "showbackground": true,
            "ticks": "",
            "zerolinecolor": "white"
           }
          },
          "shapedefaults": {
           "line": {
            "color": "#2a3f5f"
           }
          },
          "ternary": {
           "aaxis": {
            "gridcolor": "white",
            "linecolor": "white",
            "ticks": ""
           },
           "baxis": {
            "gridcolor": "white",
            "linecolor": "white",
            "ticks": ""
           },
           "bgcolor": "#E5ECF6",
           "caxis": {
            "gridcolor": "white",
            "linecolor": "white",
            "ticks": ""
           }
          },
          "title": {
           "x": 0.05
          },
          "xaxis": {
           "automargin": true,
           "gridcolor": "white",
           "linecolor": "white",
           "ticks": "",
           "title": {
            "standoff": 15
           },
           "zerolinecolor": "white",
           "zerolinewidth": 2
          },
          "yaxis": {
           "automargin": true,
           "gridcolor": "white",
           "linecolor": "white",
           "ticks": "",
           "title": {
            "standoff": 15
           },
           "zerolinecolor": "white",
           "zerolinewidth": 2
          }
         }
        },
        "title": {
         "font": {
          "color": "#4D5663"
         }
        },
        "xaxis": {
         "gridcolor": "#E1E5ED",
         "showgrid": true,
         "tickfont": {
          "color": "#4D5663"
         },
         "title": {
          "font": {
           "color": "#4D5663"
          },
          "text": ""
         },
         "zerolinecolor": "#E1E5ED"
        },
        "yaxis": {
         "gridcolor": "#E1E5ED",
         "showgrid": true,
         "tickfont": {
          "color": "#4D5663"
         },
         "title": {
          "font": {
           "color": "#4D5663"
          },
          "text": ""
         },
         "zerolinecolor": "#E1E5ED"
        }
       }
      },
      "text/html": [
       "<div>                            <div id=\"81b0c319-9699-4b03-8e84-941f7eea5168\" class=\"plotly-graph-div\" style=\"height:525px; width:100%;\"></div>            <script type=\"text/javascript\">                require([\"plotly\"], function(Plotly) {                    window.PLOTLYENV=window.PLOTLYENV || {};\n",
       "                    window.PLOTLYENV.BASE_URL='https://plot.ly';                                    if (document.getElementById(\"81b0c319-9699-4b03-8e84-941f7eea5168\")) {                    Plotly.newPlot(                        \"81b0c319-9699-4b03-8e84-941f7eea5168\",                        [{\"line\":{\"color\":\"rgba(255, 153, 51, 1.0)\",\"dash\":\"solid\",\"shape\":\"linear\",\"width\":1.3},\"marker\":{\"size\":10,\"symbol\":\"circle\"},\"mode\":\"markers\",\"name\":\"B\",\"text\":\"\",\"x\":[-1.2369250000725207,0.6473596835857014,-0.4576338812403941,1.3516406754529127,0.7400490122585802,0.25510972366488843,-1.0651127106807845,2.3917146406957177,-1.4679389463105594,0.8391765739801815,0.4275400882654248,0.16019668981205584,-0.6546600458002377,0.25412542709008795,0.5812567887503652,2.824949855418005,-0.31753914966873975,-1.1188413124275982,-1.4841744546525169,-0.6865651933187513,-0.42853193432899855,-0.12083131295141886,-1.221878323795664,-0.21561458823488314,-0.6307860927928218,-2.7228708574986076,-0.14450177790649302,-0.13376997897710408,-2.1398184114432217,-0.27717423900572963,0.32303226145341607,0.3196944117300218,0.18597203059934792,-0.3799543016021088,-1.0570470176616962,-1.0437146318646817,1.244589105638801,-0.04337519472915891,0.30445962279555866,-1.8154741203814067,-0.8887990983280419,-1.5770320135643106,-0.6197241790299651,0.7644478130818563,-0.029785981514331553,0.23798873536899082,0.9446448368549804,0.7613448633925672,0.14087615944824644,0.6789662147155467,-1.6009293240998381,-0.2598721191100311,-2.7010390549845638,-0.26171844799409383,-0.9532264629107607,-0.03094940289085503,2.221027207346979,-0.24580105092785837,0.8183072372593397,0.5713252247110742,-0.31740801327057744,-1.0604555041989718,2.0615159143161503,-0.1092063059271307,-1.183761123674222,0.8302419529454999,-0.7770729098525189,1.9288790251622796,-1.6447440687176327,2.2441800141523807,-1.0906365477452125,-0.5183838762682667,-0.7108962314761669,-1.150536488305488,1.175992686063915,2.032896845776216,0.35408398135278496,0.8631735515015497,-0.3051640736411098,1.3060739739788678,1.4258657965350854,1.5277233446501692,1.6820603839835706,2.143177075085741,-0.47631071552440274,-0.9258348620953202,-1.3563642994337253,0.4804089287943433,-0.37248548367288253,0.7844780851728226,0.8658452629035026,1.1774201175308285,2.3582276533948496,1.577825382866515,0.7451127400443657,0.5417536639361865,0.5538339949773834,-0.8830866917087877,0.3986237791716136,1.4054611931446328],\"y\":[-0.7698420862193472,-0.01761344336614215,-0.3686509050757071,-1.8714428775453267,1.988312377332831,-1.3694925212446596,-2.401861046922229,2.189063518367414,-0.6621720424869381,1.524830199372334,1.4325678710439211,0.2550436856316146,0.8589892106314515,1.8432136918947117,-1.1688456826211293,-1.515607620680818,-1.980287684188495,0.25328966866584374,-1.7739046333305717,0.8556947038213887,-0.5140998417635303,0.7223069066597191,0.39218572055196327,-0.18528948274597204,-0.04737676014181813,-0.11184810713112321,-0.06878806172071653,2.1147752527686583,0.03454371723819343,0.41196652639701076,-0.1281605512730255,1.9780250375126323,0.4491786287378268,0.5802485955833719,1.8130977866814353,1.1581563719854284,0.13656895481419654,-0.05096485569692876,0.3975911275865297,-2.407100495423285,-0.511101815832546,0.04656885644815061,-0.9653852690988891,1.0783208346025044,0.7551442633864494,-1.067561156982996,-1.6379049071327247,-0.4722769241659087,0.3479744630317592,0.5534559533175919,0.14931895908285625,-0.853566511765684,-0.6789447430531352,-0.14248196175510502,0.4066834180661509,-0.6562879392179125,0.34913669973456174,0.9022011491435852,-0.5713150913939063,1.5092160997551691,-0.7751297096205931,-0.2913856688677858,-0.3104074903415344,1.4033441419701584,0.7210651941738934,-1.9081400958723442,0.6467291739360184,0.42314805386297644,-1.4004503453459785,1.2200421037296094,0.609092067563452,-2.6755118760668073,0.6336658466514746,0.9300038752354216,1.3044851754888402,1.0413176800369963,-0.387193892665513,-0.361276679396097,0.38503462731182436,1.103668402883417,0.49031354112047426,-3.2077677410318635,0.20980464731512286,-0.05156654692620989,0.4548618578874998,-0.28081765560387134,0.011772750841938939,-0.3274067294413862,-0.5962238831091922,-1.4992843996535743,-0.6814237192311466,-0.36870526912415374,-0.1047288555309101,2.1506056914516782,-0.9839862105924292,1.092333878962264,0.11894918611924253,-0.4015425020670459,1.1142914730518803,-0.2967379401748048],\"type\":\"scatter\"}],                        {\"legend\":{\"bgcolor\":\"#F5F6F9\",\"font\":{\"color\":\"#4D5663\"}},\"paper_bgcolor\":\"#F5F6F9\",\"plot_bgcolor\":\"#F5F6F9\",\"template\":{\"data\":{\"barpolar\":[{\"marker\":{\"line\":{\"color\":\"#E5ECF6\",\"width\":0.5},\"pattern\":{\"fillmode\":\"overlay\",\"size\":10,\"solidity\":0.2}},\"type\":\"barpolar\"}],\"bar\":[{\"error_x\":{\"color\":\"#2a3f5f\"},\"error_y\":{\"color\":\"#2a3f5f\"},\"marker\":{\"line\":{\"color\":\"#E5ECF6\",\"width\":0.5},\"pattern\":{\"fillmode\":\"overlay\",\"size\":10,\"solidity\":0.2}},\"type\":\"bar\"}],\"carpet\":[{\"aaxis\":{\"endlinecolor\":\"#2a3f5f\",\"gridcolor\":\"white\",\"linecolor\":\"white\",\"minorgridcolor\":\"white\",\"startlinecolor\":\"#2a3f5f\"},\"baxis\":{\"endlinecolor\":\"#2a3f5f\",\"gridcolor\":\"white\",\"linecolor\":\"white\",\"minorgridcolor\":\"white\",\"startlinecolor\":\"#2a3f5f\"},\"type\":\"carpet\"}],\"choropleth\":[{\"colorbar\":{\"outlinewidth\":0,\"ticks\":\"\"},\"type\":\"choropleth\"}],\"contourcarpet\":[{\"colorbar\":{\"outlinewidth\":0,\"ticks\":\"\"},\"type\":\"contourcarpet\"}],\"contour\":[{\"colorbar\":{\"outlinewidth\":0,\"ticks\":\"\"},\"colorscale\":[[0.0,\"#0d0887\"],[0.1111111111111111,\"#46039f\"],[0.2222222222222222,\"#7201a8\"],[0.3333333333333333,\"#9c179e\"],[0.4444444444444444,\"#bd3786\"],[0.5555555555555556,\"#d8576b\"],[0.6666666666666666,\"#ed7953\"],[0.7777777777777778,\"#fb9f3a\"],[0.8888888888888888,\"#fdca26\"],[1.0,\"#f0f921\"]],\"type\":\"contour\"}],\"heatmapgl\":[{\"colorbar\":{\"outlinewidth\":0,\"ticks\":\"\"},\"colorscale\":[[0.0,\"#0d0887\"],[0.1111111111111111,\"#46039f\"],[0.2222222222222222,\"#7201a8\"],[0.3333333333333333,\"#9c179e\"],[0.4444444444444444,\"#bd3786\"],[0.5555555555555556,\"#d8576b\"],[0.6666666666666666,\"#ed7953\"],[0.7777777777777778,\"#fb9f3a\"],[0.8888888888888888,\"#fdca26\"],[1.0,\"#f0f921\"]],\"type\":\"heatmapgl\"}],\"heatmap\":[{\"colorbar\":{\"outlinewidth\":0,\"ticks\":\"\"},\"colorscale\":[[0.0,\"#0d0887\"],[0.1111111111111111,\"#46039f\"],[0.2222222222222222,\"#7201a8\"],[0.3333333333333333,\"#9c179e\"],[0.4444444444444444,\"#bd3786\"],[0.5555555555555556,\"#d8576b\"],[0.6666666666666666,\"#ed7953\"],[0.7777777777777778,\"#fb9f3a\"],[0.8888888888888888,\"#fdca26\"],[1.0,\"#f0f921\"]],\"type\":\"heatmap\"}],\"histogram2dcontour\":[{\"colorbar\":{\"outlinewidth\":0,\"ticks\":\"\"},\"colorscale\":[[0.0,\"#0d0887\"],[0.1111111111111111,\"#46039f\"],[0.2222222222222222,\"#7201a8\"],[0.3333333333333333,\"#9c179e\"],[0.4444444444444444,\"#bd3786\"],[0.5555555555555556,\"#d8576b\"],[0.6666666666666666,\"#ed7953\"],[0.7777777777777778,\"#fb9f3a\"],[0.8888888888888888,\"#fdca26\"],[1.0,\"#f0f921\"]],\"type\":\"histogram2dcontour\"}],\"histogram2d\":[{\"colorbar\":{\"outlinewidth\":0,\"ticks\":\"\"},\"colorscale\":[[0.0,\"#0d0887\"],[0.1111111111111111,\"#46039f\"],[0.2222222222222222,\"#7201a8\"],[0.3333333333333333,\"#9c179e\"],[0.4444444444444444,\"#bd3786\"],[0.5555555555555556,\"#d8576b\"],[0.6666666666666666,\"#ed7953\"],[0.7777777777777778,\"#fb9f3a\"],[0.8888888888888888,\"#fdca26\"],[1.0,\"#f0f921\"]],\"type\":\"histogram2d\"}],\"histogram\":[{\"marker\":{\"pattern\":{\"fillmode\":\"overlay\",\"size\":10,\"solidity\":0.2}},\"type\":\"histogram\"}],\"mesh3d\":[{\"colorbar\":{\"outlinewidth\":0,\"ticks\":\"\"},\"type\":\"mesh3d\"}],\"parcoords\":[{\"line\":{\"colorbar\":{\"outlinewidth\":0,\"ticks\":\"\"}},\"type\":\"parcoords\"}],\"pie\":[{\"automargin\":true,\"type\":\"pie\"}],\"scatter3d\":[{\"line\":{\"colorbar\":{\"outlinewidth\":0,\"ticks\":\"\"}},\"marker\":{\"colorbar\":{\"outlinewidth\":0,\"ticks\":\"\"}},\"type\":\"scatter3d\"}],\"scattercarpet\":[{\"marker\":{\"colorbar\":{\"outlinewidth\":0,\"ticks\":\"\"}},\"type\":\"scattercarpet\"}],\"scattergeo\":[{\"marker\":{\"colorbar\":{\"outlinewidth\":0,\"ticks\":\"\"}},\"type\":\"scattergeo\"}],\"scattergl\":[{\"marker\":{\"colorbar\":{\"outlinewidth\":0,\"ticks\":\"\"}},\"type\":\"scattergl\"}],\"scattermapbox\":[{\"marker\":{\"colorbar\":{\"outlinewidth\":0,\"ticks\":\"\"}},\"type\":\"scattermapbox\"}],\"scatterpolargl\":[{\"marker\":{\"colorbar\":{\"outlinewidth\":0,\"ticks\":\"\"}},\"type\":\"scatterpolargl\"}],\"scatterpolar\":[{\"marker\":{\"colorbar\":{\"outlinewidth\":0,\"ticks\":\"\"}},\"type\":\"scatterpolar\"}],\"scatter\":[{\"marker\":{\"colorbar\":{\"outlinewidth\":0,\"ticks\":\"\"}},\"type\":\"scatter\"}],\"scatterternary\":[{\"marker\":{\"colorbar\":{\"outlinewidth\":0,\"ticks\":\"\"}},\"type\":\"scatterternary\"}],\"surface\":[{\"colorbar\":{\"outlinewidth\":0,\"ticks\":\"\"},\"colorscale\":[[0.0,\"#0d0887\"],[0.1111111111111111,\"#46039f\"],[0.2222222222222222,\"#7201a8\"],[0.3333333333333333,\"#9c179e\"],[0.4444444444444444,\"#bd3786\"],[0.5555555555555556,\"#d8576b\"],[0.6666666666666666,\"#ed7953\"],[0.7777777777777778,\"#fb9f3a\"],[0.8888888888888888,\"#fdca26\"],[1.0,\"#f0f921\"]],\"type\":\"surface\"}],\"table\":[{\"cells\":{\"fill\":{\"color\":\"#EBF0F8\"},\"line\":{\"color\":\"white\"}},\"header\":{\"fill\":{\"color\":\"#C8D4E3\"},\"line\":{\"color\":\"white\"}},\"type\":\"table\"}]},\"layout\":{\"annotationdefaults\":{\"arrowcolor\":\"#2a3f5f\",\"arrowhead\":0,\"arrowwidth\":1},\"autotypenumbers\":\"strict\",\"coloraxis\":{\"colorbar\":{\"outlinewidth\":0,\"ticks\":\"\"}},\"colorscale\":{\"diverging\":[[0,\"#8e0152\"],[0.1,\"#c51b7d\"],[0.2,\"#de77ae\"],[0.3,\"#f1b6da\"],[0.4,\"#fde0ef\"],[0.5,\"#f7f7f7\"],[0.6,\"#e6f5d0\"],[0.7,\"#b8e186\"],[0.8,\"#7fbc41\"],[0.9,\"#4d9221\"],[1,\"#276419\"]],\"sequential\":[[0.0,\"#0d0887\"],[0.1111111111111111,\"#46039f\"],[0.2222222222222222,\"#7201a8\"],[0.3333333333333333,\"#9c179e\"],[0.4444444444444444,\"#bd3786\"],[0.5555555555555556,\"#d8576b\"],[0.6666666666666666,\"#ed7953\"],[0.7777777777777778,\"#fb9f3a\"],[0.8888888888888888,\"#fdca26\"],[1.0,\"#f0f921\"]],\"sequentialminus\":[[0.0,\"#0d0887\"],[0.1111111111111111,\"#46039f\"],[0.2222222222222222,\"#7201a8\"],[0.3333333333333333,\"#9c179e\"],[0.4444444444444444,\"#bd3786\"],[0.5555555555555556,\"#d8576b\"],[0.6666666666666666,\"#ed7953\"],[0.7777777777777778,\"#fb9f3a\"],[0.8888888888888888,\"#fdca26\"],[1.0,\"#f0f921\"]]},\"colorway\":[\"#636efa\",\"#EF553B\",\"#00cc96\",\"#ab63fa\",\"#FFA15A\",\"#19d3f3\",\"#FF6692\",\"#B6E880\",\"#FF97FF\",\"#FECB52\"],\"font\":{\"color\":\"#2a3f5f\"},\"geo\":{\"bgcolor\":\"white\",\"lakecolor\":\"white\",\"landcolor\":\"#E5ECF6\",\"showlakes\":true,\"showland\":true,\"subunitcolor\":\"white\"},\"hoverlabel\":{\"align\":\"left\"},\"hovermode\":\"closest\",\"mapbox\":{\"style\":\"light\"},\"paper_bgcolor\":\"white\",\"plot_bgcolor\":\"#E5ECF6\",\"polar\":{\"angularaxis\":{\"gridcolor\":\"white\",\"linecolor\":\"white\",\"ticks\":\"\"},\"bgcolor\":\"#E5ECF6\",\"radialaxis\":{\"gridcolor\":\"white\",\"linecolor\":\"white\",\"ticks\":\"\"}},\"scene\":{\"xaxis\":{\"backgroundcolor\":\"#E5ECF6\",\"gridcolor\":\"white\",\"gridwidth\":2,\"linecolor\":\"white\",\"showbackground\":true,\"ticks\":\"\",\"zerolinecolor\":\"white\"},\"yaxis\":{\"backgroundcolor\":\"#E5ECF6\",\"gridcolor\":\"white\",\"gridwidth\":2,\"linecolor\":\"white\",\"showbackground\":true,\"ticks\":\"\",\"zerolinecolor\":\"white\"},\"zaxis\":{\"backgroundcolor\":\"#E5ECF6\",\"gridcolor\":\"white\",\"gridwidth\":2,\"linecolor\":\"white\",\"showbackground\":true,\"ticks\":\"\",\"zerolinecolor\":\"white\"}},\"shapedefaults\":{\"line\":{\"color\":\"#2a3f5f\"}},\"ternary\":{\"aaxis\":{\"gridcolor\":\"white\",\"linecolor\":\"white\",\"ticks\":\"\"},\"baxis\":{\"gridcolor\":\"white\",\"linecolor\":\"white\",\"ticks\":\"\"},\"bgcolor\":\"#E5ECF6\",\"caxis\":{\"gridcolor\":\"white\",\"linecolor\":\"white\",\"ticks\":\"\"}},\"title\":{\"x\":0.05},\"xaxis\":{\"automargin\":true,\"gridcolor\":\"white\",\"linecolor\":\"white\",\"ticks\":\"\",\"title\":{\"standoff\":15},\"zerolinecolor\":\"white\",\"zerolinewidth\":2},\"yaxis\":{\"automargin\":true,\"gridcolor\":\"white\",\"linecolor\":\"white\",\"ticks\":\"\",\"title\":{\"standoff\":15},\"zerolinecolor\":\"white\",\"zerolinewidth\":2}}},\"title\":{\"font\":{\"color\":\"#4D5663\"}},\"xaxis\":{\"gridcolor\":\"#E1E5ED\",\"showgrid\":true,\"tickfont\":{\"color\":\"#4D5663\"},\"title\":{\"font\":{\"color\":\"#4D5663\"},\"text\":\"\"},\"zerolinecolor\":\"#E1E5ED\"},\"yaxis\":{\"gridcolor\":\"#E1E5ED\",\"showgrid\":true,\"tickfont\":{\"color\":\"#4D5663\"},\"title\":{\"font\":{\"color\":\"#4D5663\"},\"text\":\"\"},\"zerolinecolor\":\"#E1E5ED\"}},                        {\"showLink\": true, \"linkText\": \"Export to plot.ly\", \"plotlyServerURL\": \"https://plot.ly\", \"responsive\": true}                    ).then(function(){\n",
       "                            \n",
       "var gd = document.getElementById('81b0c319-9699-4b03-8e84-941f7eea5168');\n",
       "var x = new MutationObserver(function (mutations, observer) {{\n",
       "        var display = window.getComputedStyle(gd).display;\n",
       "        if (!display || display === 'none') {{\n",
       "            console.log([gd, 'removed!']);\n",
       "            Plotly.purge(gd);\n",
       "            observer.disconnect();\n",
       "        }}\n",
       "}});\n",
       "\n",
       "// Listen for the removal of the full notebook cells\n",
       "var notebookContainer = gd.closest('#notebook-container');\n",
       "if (notebookContainer) {{\n",
       "    x.observe(notebookContainer, {childList: true});\n",
       "}}\n",
       "\n",
       "// Listen for the clearing of the current output cell\n",
       "var outputEl = gd.closest('.output');\n",
       "if (outputEl) {{\n",
       "    x.observe(outputEl, {childList: true});\n",
       "}}\n",
       "\n",
       "                        })                };                });            </script>        </div>"
      ]
     },
     "metadata": {},
     "output_type": "display_data"
    }
   ],
   "source": [
    "df.iplot(kind='scatter',x='A',y='B',mode='markers',size=10)"
   ]
  },
  {
   "cell_type": "markdown",
   "metadata": {},
   "source": [
    "## Bar Plots"
   ]
  },
  {
   "cell_type": "code",
   "execution_count": 11,
   "metadata": {},
   "outputs": [
    {
     "data": {
      "application/vnd.plotly.v1+json": {
       "config": {
        "linkText": "Export to plot.ly",
        "plotlyServerURL": "https://plot.ly",
        "showLink": true
       },
       "data": [
        {
         "marker": {
          "color": "rgba(255, 153, 51, 0.6)",
          "line": {
           "color": "rgba(255, 153, 51, 1.0)",
           "width": 1
          }
         },
         "name": "Values",
         "orientation": "v",
         "text": "",
         "type": "bar",
         "x": [
          "A",
          "B",
          "C"
         ],
         "y": [
          32,
          43,
          50
         ]
        }
       ],
       "layout": {
        "legend": {
         "bgcolor": "#F5F6F9",
         "font": {
          "color": "#4D5663"
         }
        },
        "paper_bgcolor": "#F5F6F9",
        "plot_bgcolor": "#F5F6F9",
        "template": {
         "data": {
          "bar": [
           {
            "error_x": {
             "color": "#2a3f5f"
            },
            "error_y": {
             "color": "#2a3f5f"
            },
            "marker": {
             "line": {
              "color": "#E5ECF6",
              "width": 0.5
             },
             "pattern": {
              "fillmode": "overlay",
              "size": 10,
              "solidity": 0.2
             }
            },
            "type": "bar"
           }
          ],
          "barpolar": [
           {
            "marker": {
             "line": {
              "color": "#E5ECF6",
              "width": 0.5
             },
             "pattern": {
              "fillmode": "overlay",
              "size": 10,
              "solidity": 0.2
             }
            },
            "type": "barpolar"
           }
          ],
          "carpet": [
           {
            "aaxis": {
             "endlinecolor": "#2a3f5f",
             "gridcolor": "white",
             "linecolor": "white",
             "minorgridcolor": "white",
             "startlinecolor": "#2a3f5f"
            },
            "baxis": {
             "endlinecolor": "#2a3f5f",
             "gridcolor": "white",
             "linecolor": "white",
             "minorgridcolor": "white",
             "startlinecolor": "#2a3f5f"
            },
            "type": "carpet"
           }
          ],
          "choropleth": [
           {
            "colorbar": {
             "outlinewidth": 0,
             "ticks": ""
            },
            "type": "choropleth"
           }
          ],
          "contour": [
           {
            "colorbar": {
             "outlinewidth": 0,
             "ticks": ""
            },
            "colorscale": [
             [
              0,
              "#0d0887"
             ],
             [
              0.1111111111111111,
              "#46039f"
             ],
             [
              0.2222222222222222,
              "#7201a8"
             ],
             [
              0.3333333333333333,
              "#9c179e"
             ],
             [
              0.4444444444444444,
              "#bd3786"
             ],
             [
              0.5555555555555556,
              "#d8576b"
             ],
             [
              0.6666666666666666,
              "#ed7953"
             ],
             [
              0.7777777777777778,
              "#fb9f3a"
             ],
             [
              0.8888888888888888,
              "#fdca26"
             ],
             [
              1,
              "#f0f921"
             ]
            ],
            "type": "contour"
           }
          ],
          "contourcarpet": [
           {
            "colorbar": {
             "outlinewidth": 0,
             "ticks": ""
            },
            "type": "contourcarpet"
           }
          ],
          "heatmap": [
           {
            "colorbar": {
             "outlinewidth": 0,
             "ticks": ""
            },
            "colorscale": [
             [
              0,
              "#0d0887"
             ],
             [
              0.1111111111111111,
              "#46039f"
             ],
             [
              0.2222222222222222,
              "#7201a8"
             ],
             [
              0.3333333333333333,
              "#9c179e"
             ],
             [
              0.4444444444444444,
              "#bd3786"
             ],
             [
              0.5555555555555556,
              "#d8576b"
             ],
             [
              0.6666666666666666,
              "#ed7953"
             ],
             [
              0.7777777777777778,
              "#fb9f3a"
             ],
             [
              0.8888888888888888,
              "#fdca26"
             ],
             [
              1,
              "#f0f921"
             ]
            ],
            "type": "heatmap"
           }
          ],
          "heatmapgl": [
           {
            "colorbar": {
             "outlinewidth": 0,
             "ticks": ""
            },
            "colorscale": [
             [
              0,
              "#0d0887"
             ],
             [
              0.1111111111111111,
              "#46039f"
             ],
             [
              0.2222222222222222,
              "#7201a8"
             ],
             [
              0.3333333333333333,
              "#9c179e"
             ],
             [
              0.4444444444444444,
              "#bd3786"
             ],
             [
              0.5555555555555556,
              "#d8576b"
             ],
             [
              0.6666666666666666,
              "#ed7953"
             ],
             [
              0.7777777777777778,
              "#fb9f3a"
             ],
             [
              0.8888888888888888,
              "#fdca26"
             ],
             [
              1,
              "#f0f921"
             ]
            ],
            "type": "heatmapgl"
           }
          ],
          "histogram": [
           {
            "marker": {
             "pattern": {
              "fillmode": "overlay",
              "size": 10,
              "solidity": 0.2
             }
            },
            "type": "histogram"
           }
          ],
          "histogram2d": [
           {
            "colorbar": {
             "outlinewidth": 0,
             "ticks": ""
            },
            "colorscale": [
             [
              0,
              "#0d0887"
             ],
             [
              0.1111111111111111,
              "#46039f"
             ],
             [
              0.2222222222222222,
              "#7201a8"
             ],
             [
              0.3333333333333333,
              "#9c179e"
             ],
             [
              0.4444444444444444,
              "#bd3786"
             ],
             [
              0.5555555555555556,
              "#d8576b"
             ],
             [
              0.6666666666666666,
              "#ed7953"
             ],
             [
              0.7777777777777778,
              "#fb9f3a"
             ],
             [
              0.8888888888888888,
              "#fdca26"
             ],
             [
              1,
              "#f0f921"
             ]
            ],
            "type": "histogram2d"
           }
          ],
          "histogram2dcontour": [
           {
            "colorbar": {
             "outlinewidth": 0,
             "ticks": ""
            },
            "colorscale": [
             [
              0,
              "#0d0887"
             ],
             [
              0.1111111111111111,
              "#46039f"
             ],
             [
              0.2222222222222222,
              "#7201a8"
             ],
             [
              0.3333333333333333,
              "#9c179e"
             ],
             [
              0.4444444444444444,
              "#bd3786"
             ],
             [
              0.5555555555555556,
              "#d8576b"
             ],
             [
              0.6666666666666666,
              "#ed7953"
             ],
             [
              0.7777777777777778,
              "#fb9f3a"
             ],
             [
              0.8888888888888888,
              "#fdca26"
             ],
             [
              1,
              "#f0f921"
             ]
            ],
            "type": "histogram2dcontour"
           }
          ],
          "mesh3d": [
           {
            "colorbar": {
             "outlinewidth": 0,
             "ticks": ""
            },
            "type": "mesh3d"
           }
          ],
          "parcoords": [
           {
            "line": {
             "colorbar": {
              "outlinewidth": 0,
              "ticks": ""
             }
            },
            "type": "parcoords"
           }
          ],
          "pie": [
           {
            "automargin": true,
            "type": "pie"
           }
          ],
          "scatter": [
           {
            "marker": {
             "colorbar": {
              "outlinewidth": 0,
              "ticks": ""
             }
            },
            "type": "scatter"
           }
          ],
          "scatter3d": [
           {
            "line": {
             "colorbar": {
              "outlinewidth": 0,
              "ticks": ""
             }
            },
            "marker": {
             "colorbar": {
              "outlinewidth": 0,
              "ticks": ""
             }
            },
            "type": "scatter3d"
           }
          ],
          "scattercarpet": [
           {
            "marker": {
             "colorbar": {
              "outlinewidth": 0,
              "ticks": ""
             }
            },
            "type": "scattercarpet"
           }
          ],
          "scattergeo": [
           {
            "marker": {
             "colorbar": {
              "outlinewidth": 0,
              "ticks": ""
             }
            },
            "type": "scattergeo"
           }
          ],
          "scattergl": [
           {
            "marker": {
             "colorbar": {
              "outlinewidth": 0,
              "ticks": ""
             }
            },
            "type": "scattergl"
           }
          ],
          "scattermapbox": [
           {
            "marker": {
             "colorbar": {
              "outlinewidth": 0,
              "ticks": ""
             }
            },
            "type": "scattermapbox"
           }
          ],
          "scatterpolar": [
           {
            "marker": {
             "colorbar": {
              "outlinewidth": 0,
              "ticks": ""
             }
            },
            "type": "scatterpolar"
           }
          ],
          "scatterpolargl": [
           {
            "marker": {
             "colorbar": {
              "outlinewidth": 0,
              "ticks": ""
             }
            },
            "type": "scatterpolargl"
           }
          ],
          "scatterternary": [
           {
            "marker": {
             "colorbar": {
              "outlinewidth": 0,
              "ticks": ""
             }
            },
            "type": "scatterternary"
           }
          ],
          "surface": [
           {
            "colorbar": {
             "outlinewidth": 0,
             "ticks": ""
            },
            "colorscale": [
             [
              0,
              "#0d0887"
             ],
             [
              0.1111111111111111,
              "#46039f"
             ],
             [
              0.2222222222222222,
              "#7201a8"
             ],
             [
              0.3333333333333333,
              "#9c179e"
             ],
             [
              0.4444444444444444,
              "#bd3786"
             ],
             [
              0.5555555555555556,
              "#d8576b"
             ],
             [
              0.6666666666666666,
              "#ed7953"
             ],
             [
              0.7777777777777778,
              "#fb9f3a"
             ],
             [
              0.8888888888888888,
              "#fdca26"
             ],
             [
              1,
              "#f0f921"
             ]
            ],
            "type": "surface"
           }
          ],
          "table": [
           {
            "cells": {
             "fill": {
              "color": "#EBF0F8"
             },
             "line": {
              "color": "white"
             }
            },
            "header": {
             "fill": {
              "color": "#C8D4E3"
             },
             "line": {
              "color": "white"
             }
            },
            "type": "table"
           }
          ]
         },
         "layout": {
          "annotationdefaults": {
           "arrowcolor": "#2a3f5f",
           "arrowhead": 0,
           "arrowwidth": 1
          },
          "autotypenumbers": "strict",
          "coloraxis": {
           "colorbar": {
            "outlinewidth": 0,
            "ticks": ""
           }
          },
          "colorscale": {
           "diverging": [
            [
             0,
             "#8e0152"
            ],
            [
             0.1,
             "#c51b7d"
            ],
            [
             0.2,
             "#de77ae"
            ],
            [
             0.3,
             "#f1b6da"
            ],
            [
             0.4,
             "#fde0ef"
            ],
            [
             0.5,
             "#f7f7f7"
            ],
            [
             0.6,
             "#e6f5d0"
            ],
            [
             0.7,
             "#b8e186"
            ],
            [
             0.8,
             "#7fbc41"
            ],
            [
             0.9,
             "#4d9221"
            ],
            [
             1,
             "#276419"
            ]
           ],
           "sequential": [
            [
             0,
             "#0d0887"
            ],
            [
             0.1111111111111111,
             "#46039f"
            ],
            [
             0.2222222222222222,
             "#7201a8"
            ],
            [
             0.3333333333333333,
             "#9c179e"
            ],
            [
             0.4444444444444444,
             "#bd3786"
            ],
            [
             0.5555555555555556,
             "#d8576b"
            ],
            [
             0.6666666666666666,
             "#ed7953"
            ],
            [
             0.7777777777777778,
             "#fb9f3a"
            ],
            [
             0.8888888888888888,
             "#fdca26"
            ],
            [
             1,
             "#f0f921"
            ]
           ],
           "sequentialminus": [
            [
             0,
             "#0d0887"
            ],
            [
             0.1111111111111111,
             "#46039f"
            ],
            [
             0.2222222222222222,
             "#7201a8"
            ],
            [
             0.3333333333333333,
             "#9c179e"
            ],
            [
             0.4444444444444444,
             "#bd3786"
            ],
            [
             0.5555555555555556,
             "#d8576b"
            ],
            [
             0.6666666666666666,
             "#ed7953"
            ],
            [
             0.7777777777777778,
             "#fb9f3a"
            ],
            [
             0.8888888888888888,
             "#fdca26"
            ],
            [
             1,
             "#f0f921"
            ]
           ]
          },
          "colorway": [
           "#636efa",
           "#EF553B",
           "#00cc96",
           "#ab63fa",
           "#FFA15A",
           "#19d3f3",
           "#FF6692",
           "#B6E880",
           "#FF97FF",
           "#FECB52"
          ],
          "font": {
           "color": "#2a3f5f"
          },
          "geo": {
           "bgcolor": "white",
           "lakecolor": "white",
           "landcolor": "#E5ECF6",
           "showlakes": true,
           "showland": true,
           "subunitcolor": "white"
          },
          "hoverlabel": {
           "align": "left"
          },
          "hovermode": "closest",
          "mapbox": {
           "style": "light"
          },
          "paper_bgcolor": "white",
          "plot_bgcolor": "#E5ECF6",
          "polar": {
           "angularaxis": {
            "gridcolor": "white",
            "linecolor": "white",
            "ticks": ""
           },
           "bgcolor": "#E5ECF6",
           "radialaxis": {
            "gridcolor": "white",
            "linecolor": "white",
            "ticks": ""
           }
          },
          "scene": {
           "xaxis": {
            "backgroundcolor": "#E5ECF6",
            "gridcolor": "white",
            "gridwidth": 2,
            "linecolor": "white",
            "showbackground": true,
            "ticks": "",
            "zerolinecolor": "white"
           },
           "yaxis": {
            "backgroundcolor": "#E5ECF6",
            "gridcolor": "white",
            "gridwidth": 2,
            "linecolor": "white",
            "showbackground": true,
            "ticks": "",
            "zerolinecolor": "white"
           },
           "zaxis": {
            "backgroundcolor": "#E5ECF6",
            "gridcolor": "white",
            "gridwidth": 2,
            "linecolor": "white",
            "showbackground": true,
            "ticks": "",
            "zerolinecolor": "white"
           }
          },
          "shapedefaults": {
           "line": {
            "color": "#2a3f5f"
           }
          },
          "ternary": {
           "aaxis": {
            "gridcolor": "white",
            "linecolor": "white",
            "ticks": ""
           },
           "baxis": {
            "gridcolor": "white",
            "linecolor": "white",
            "ticks": ""
           },
           "bgcolor": "#E5ECF6",
           "caxis": {
            "gridcolor": "white",
            "linecolor": "white",
            "ticks": ""
           }
          },
          "title": {
           "x": 0.05
          },
          "xaxis": {
           "automargin": true,
           "gridcolor": "white",
           "linecolor": "white",
           "ticks": "",
           "title": {
            "standoff": 15
           },
           "zerolinecolor": "white",
           "zerolinewidth": 2
          },
          "yaxis": {
           "automargin": true,
           "gridcolor": "white",
           "linecolor": "white",
           "ticks": "",
           "title": {
            "standoff": 15
           },
           "zerolinecolor": "white",
           "zerolinewidth": 2
          }
         }
        },
        "title": {
         "font": {
          "color": "#4D5663"
         }
        },
        "xaxis": {
         "gridcolor": "#E1E5ED",
         "showgrid": true,
         "tickfont": {
          "color": "#4D5663"
         },
         "title": {
          "font": {
           "color": "#4D5663"
          },
          "text": ""
         },
         "zerolinecolor": "#E1E5ED"
        },
        "yaxis": {
         "gridcolor": "#E1E5ED",
         "showgrid": true,
         "tickfont": {
          "color": "#4D5663"
         },
         "title": {
          "font": {
           "color": "#4D5663"
          },
          "text": ""
         },
         "zerolinecolor": "#E1E5ED"
        }
       }
      },
      "text/html": [
       "<div>                            <div id=\"b2186169-23ed-4dcb-9bfa-c06581a1d7f1\" class=\"plotly-graph-div\" style=\"height:525px; width:100%;\"></div>            <script type=\"text/javascript\">                require([\"plotly\"], function(Plotly) {                    window.PLOTLYENV=window.PLOTLYENV || {};\n",
       "                    window.PLOTLYENV.BASE_URL='https://plot.ly';                                    if (document.getElementById(\"b2186169-23ed-4dcb-9bfa-c06581a1d7f1\")) {                    Plotly.newPlot(                        \"b2186169-23ed-4dcb-9bfa-c06581a1d7f1\",                        [{\"marker\":{\"color\":\"rgba(255, 153, 51, 0.6)\",\"line\":{\"color\":\"rgba(255, 153, 51, 1.0)\",\"width\":1}},\"name\":\"Values\",\"orientation\":\"v\",\"text\":\"\",\"x\":[\"A\",\"B\",\"C\"],\"y\":[32,43,50],\"type\":\"bar\"}],                        {\"legend\":{\"bgcolor\":\"#F5F6F9\",\"font\":{\"color\":\"#4D5663\"}},\"paper_bgcolor\":\"#F5F6F9\",\"plot_bgcolor\":\"#F5F6F9\",\"template\":{\"data\":{\"barpolar\":[{\"marker\":{\"line\":{\"color\":\"#E5ECF6\",\"width\":0.5},\"pattern\":{\"fillmode\":\"overlay\",\"size\":10,\"solidity\":0.2}},\"type\":\"barpolar\"}],\"bar\":[{\"error_x\":{\"color\":\"#2a3f5f\"},\"error_y\":{\"color\":\"#2a3f5f\"},\"marker\":{\"line\":{\"color\":\"#E5ECF6\",\"width\":0.5},\"pattern\":{\"fillmode\":\"overlay\",\"size\":10,\"solidity\":0.2}},\"type\":\"bar\"}],\"carpet\":[{\"aaxis\":{\"endlinecolor\":\"#2a3f5f\",\"gridcolor\":\"white\",\"linecolor\":\"white\",\"minorgridcolor\":\"white\",\"startlinecolor\":\"#2a3f5f\"},\"baxis\":{\"endlinecolor\":\"#2a3f5f\",\"gridcolor\":\"white\",\"linecolor\":\"white\",\"minorgridcolor\":\"white\",\"startlinecolor\":\"#2a3f5f\"},\"type\":\"carpet\"}],\"choropleth\":[{\"colorbar\":{\"outlinewidth\":0,\"ticks\":\"\"},\"type\":\"choropleth\"}],\"contourcarpet\":[{\"colorbar\":{\"outlinewidth\":0,\"ticks\":\"\"},\"type\":\"contourcarpet\"}],\"contour\":[{\"colorbar\":{\"outlinewidth\":0,\"ticks\":\"\"},\"colorscale\":[[0.0,\"#0d0887\"],[0.1111111111111111,\"#46039f\"],[0.2222222222222222,\"#7201a8\"],[0.3333333333333333,\"#9c179e\"],[0.4444444444444444,\"#bd3786\"],[0.5555555555555556,\"#d8576b\"],[0.6666666666666666,\"#ed7953\"],[0.7777777777777778,\"#fb9f3a\"],[0.8888888888888888,\"#fdca26\"],[1.0,\"#f0f921\"]],\"type\":\"contour\"}],\"heatmapgl\":[{\"colorbar\":{\"outlinewidth\":0,\"ticks\":\"\"},\"colorscale\":[[0.0,\"#0d0887\"],[0.1111111111111111,\"#46039f\"],[0.2222222222222222,\"#7201a8\"],[0.3333333333333333,\"#9c179e\"],[0.4444444444444444,\"#bd3786\"],[0.5555555555555556,\"#d8576b\"],[0.6666666666666666,\"#ed7953\"],[0.7777777777777778,\"#fb9f3a\"],[0.8888888888888888,\"#fdca26\"],[1.0,\"#f0f921\"]],\"type\":\"heatmapgl\"}],\"heatmap\":[{\"colorbar\":{\"outlinewidth\":0,\"ticks\":\"\"},\"colorscale\":[[0.0,\"#0d0887\"],[0.1111111111111111,\"#46039f\"],[0.2222222222222222,\"#7201a8\"],[0.3333333333333333,\"#9c179e\"],[0.4444444444444444,\"#bd3786\"],[0.5555555555555556,\"#d8576b\"],[0.6666666666666666,\"#ed7953\"],[0.7777777777777778,\"#fb9f3a\"],[0.8888888888888888,\"#fdca26\"],[1.0,\"#f0f921\"]],\"type\":\"heatmap\"}],\"histogram2dcontour\":[{\"colorbar\":{\"outlinewidth\":0,\"ticks\":\"\"},\"colorscale\":[[0.0,\"#0d0887\"],[0.1111111111111111,\"#46039f\"],[0.2222222222222222,\"#7201a8\"],[0.3333333333333333,\"#9c179e\"],[0.4444444444444444,\"#bd3786\"],[0.5555555555555556,\"#d8576b\"],[0.6666666666666666,\"#ed7953\"],[0.7777777777777778,\"#fb9f3a\"],[0.8888888888888888,\"#fdca26\"],[1.0,\"#f0f921\"]],\"type\":\"histogram2dcontour\"}],\"histogram2d\":[{\"colorbar\":{\"outlinewidth\":0,\"ticks\":\"\"},\"colorscale\":[[0.0,\"#0d0887\"],[0.1111111111111111,\"#46039f\"],[0.2222222222222222,\"#7201a8\"],[0.3333333333333333,\"#9c179e\"],[0.4444444444444444,\"#bd3786\"],[0.5555555555555556,\"#d8576b\"],[0.6666666666666666,\"#ed7953\"],[0.7777777777777778,\"#fb9f3a\"],[0.8888888888888888,\"#fdca26\"],[1.0,\"#f0f921\"]],\"type\":\"histogram2d\"}],\"histogram\":[{\"marker\":{\"pattern\":{\"fillmode\":\"overlay\",\"size\":10,\"solidity\":0.2}},\"type\":\"histogram\"}],\"mesh3d\":[{\"colorbar\":{\"outlinewidth\":0,\"ticks\":\"\"},\"type\":\"mesh3d\"}],\"parcoords\":[{\"line\":{\"colorbar\":{\"outlinewidth\":0,\"ticks\":\"\"}},\"type\":\"parcoords\"}],\"pie\":[{\"automargin\":true,\"type\":\"pie\"}],\"scatter3d\":[{\"line\":{\"colorbar\":{\"outlinewidth\":0,\"ticks\":\"\"}},\"marker\":{\"colorbar\":{\"outlinewidth\":0,\"ticks\":\"\"}},\"type\":\"scatter3d\"}],\"scattercarpet\":[{\"marker\":{\"colorbar\":{\"outlinewidth\":0,\"ticks\":\"\"}},\"type\":\"scattercarpet\"}],\"scattergeo\":[{\"marker\":{\"colorbar\":{\"outlinewidth\":0,\"ticks\":\"\"}},\"type\":\"scattergeo\"}],\"scattergl\":[{\"marker\":{\"colorbar\":{\"outlinewidth\":0,\"ticks\":\"\"}},\"type\":\"scattergl\"}],\"scattermapbox\":[{\"marker\":{\"colorbar\":{\"outlinewidth\":0,\"ticks\":\"\"}},\"type\":\"scattermapbox\"}],\"scatterpolargl\":[{\"marker\":{\"colorbar\":{\"outlinewidth\":0,\"ticks\":\"\"}},\"type\":\"scatterpolargl\"}],\"scatterpolar\":[{\"marker\":{\"colorbar\":{\"outlinewidth\":0,\"ticks\":\"\"}},\"type\":\"scatterpolar\"}],\"scatter\":[{\"marker\":{\"colorbar\":{\"outlinewidth\":0,\"ticks\":\"\"}},\"type\":\"scatter\"}],\"scatterternary\":[{\"marker\":{\"colorbar\":{\"outlinewidth\":0,\"ticks\":\"\"}},\"type\":\"scatterternary\"}],\"surface\":[{\"colorbar\":{\"outlinewidth\":0,\"ticks\":\"\"},\"colorscale\":[[0.0,\"#0d0887\"],[0.1111111111111111,\"#46039f\"],[0.2222222222222222,\"#7201a8\"],[0.3333333333333333,\"#9c179e\"],[0.4444444444444444,\"#bd3786\"],[0.5555555555555556,\"#d8576b\"],[0.6666666666666666,\"#ed7953\"],[0.7777777777777778,\"#fb9f3a\"],[0.8888888888888888,\"#fdca26\"],[1.0,\"#f0f921\"]],\"type\":\"surface\"}],\"table\":[{\"cells\":{\"fill\":{\"color\":\"#EBF0F8\"},\"line\":{\"color\":\"white\"}},\"header\":{\"fill\":{\"color\":\"#C8D4E3\"},\"line\":{\"color\":\"white\"}},\"type\":\"table\"}]},\"layout\":{\"annotationdefaults\":{\"arrowcolor\":\"#2a3f5f\",\"arrowhead\":0,\"arrowwidth\":1},\"autotypenumbers\":\"strict\",\"coloraxis\":{\"colorbar\":{\"outlinewidth\":0,\"ticks\":\"\"}},\"colorscale\":{\"diverging\":[[0,\"#8e0152\"],[0.1,\"#c51b7d\"],[0.2,\"#de77ae\"],[0.3,\"#f1b6da\"],[0.4,\"#fde0ef\"],[0.5,\"#f7f7f7\"],[0.6,\"#e6f5d0\"],[0.7,\"#b8e186\"],[0.8,\"#7fbc41\"],[0.9,\"#4d9221\"],[1,\"#276419\"]],\"sequential\":[[0.0,\"#0d0887\"],[0.1111111111111111,\"#46039f\"],[0.2222222222222222,\"#7201a8\"],[0.3333333333333333,\"#9c179e\"],[0.4444444444444444,\"#bd3786\"],[0.5555555555555556,\"#d8576b\"],[0.6666666666666666,\"#ed7953\"],[0.7777777777777778,\"#fb9f3a\"],[0.8888888888888888,\"#fdca26\"],[1.0,\"#f0f921\"]],\"sequentialminus\":[[0.0,\"#0d0887\"],[0.1111111111111111,\"#46039f\"],[0.2222222222222222,\"#7201a8\"],[0.3333333333333333,\"#9c179e\"],[0.4444444444444444,\"#bd3786\"],[0.5555555555555556,\"#d8576b\"],[0.6666666666666666,\"#ed7953\"],[0.7777777777777778,\"#fb9f3a\"],[0.8888888888888888,\"#fdca26\"],[1.0,\"#f0f921\"]]},\"colorway\":[\"#636efa\",\"#EF553B\",\"#00cc96\",\"#ab63fa\",\"#FFA15A\",\"#19d3f3\",\"#FF6692\",\"#B6E880\",\"#FF97FF\",\"#FECB52\"],\"font\":{\"color\":\"#2a3f5f\"},\"geo\":{\"bgcolor\":\"white\",\"lakecolor\":\"white\",\"landcolor\":\"#E5ECF6\",\"showlakes\":true,\"showland\":true,\"subunitcolor\":\"white\"},\"hoverlabel\":{\"align\":\"left\"},\"hovermode\":\"closest\",\"mapbox\":{\"style\":\"light\"},\"paper_bgcolor\":\"white\",\"plot_bgcolor\":\"#E5ECF6\",\"polar\":{\"angularaxis\":{\"gridcolor\":\"white\",\"linecolor\":\"white\",\"ticks\":\"\"},\"bgcolor\":\"#E5ECF6\",\"radialaxis\":{\"gridcolor\":\"white\",\"linecolor\":\"white\",\"ticks\":\"\"}},\"scene\":{\"xaxis\":{\"backgroundcolor\":\"#E5ECF6\",\"gridcolor\":\"white\",\"gridwidth\":2,\"linecolor\":\"white\",\"showbackground\":true,\"ticks\":\"\",\"zerolinecolor\":\"white\"},\"yaxis\":{\"backgroundcolor\":\"#E5ECF6\",\"gridcolor\":\"white\",\"gridwidth\":2,\"linecolor\":\"white\",\"showbackground\":true,\"ticks\":\"\",\"zerolinecolor\":\"white\"},\"zaxis\":{\"backgroundcolor\":\"#E5ECF6\",\"gridcolor\":\"white\",\"gridwidth\":2,\"linecolor\":\"white\",\"showbackground\":true,\"ticks\":\"\",\"zerolinecolor\":\"white\"}},\"shapedefaults\":{\"line\":{\"color\":\"#2a3f5f\"}},\"ternary\":{\"aaxis\":{\"gridcolor\":\"white\",\"linecolor\":\"white\",\"ticks\":\"\"},\"baxis\":{\"gridcolor\":\"white\",\"linecolor\":\"white\",\"ticks\":\"\"},\"bgcolor\":\"#E5ECF6\",\"caxis\":{\"gridcolor\":\"white\",\"linecolor\":\"white\",\"ticks\":\"\"}},\"title\":{\"x\":0.05},\"xaxis\":{\"automargin\":true,\"gridcolor\":\"white\",\"linecolor\":\"white\",\"ticks\":\"\",\"title\":{\"standoff\":15},\"zerolinecolor\":\"white\",\"zerolinewidth\":2},\"yaxis\":{\"automargin\":true,\"gridcolor\":\"white\",\"linecolor\":\"white\",\"ticks\":\"\",\"title\":{\"standoff\":15},\"zerolinecolor\":\"white\",\"zerolinewidth\":2}}},\"title\":{\"font\":{\"color\":\"#4D5663\"}},\"xaxis\":{\"gridcolor\":\"#E1E5ED\",\"showgrid\":true,\"tickfont\":{\"color\":\"#4D5663\"},\"title\":{\"font\":{\"color\":\"#4D5663\"},\"text\":\"\"},\"zerolinecolor\":\"#E1E5ED\"},\"yaxis\":{\"gridcolor\":\"#E1E5ED\",\"showgrid\":true,\"tickfont\":{\"color\":\"#4D5663\"},\"title\":{\"font\":{\"color\":\"#4D5663\"},\"text\":\"\"},\"zerolinecolor\":\"#E1E5ED\"}},                        {\"showLink\": true, \"linkText\": \"Export to plot.ly\", \"plotlyServerURL\": \"https://plot.ly\", \"responsive\": true}                    ).then(function(){\n",
       "                            \n",
       "var gd = document.getElementById('b2186169-23ed-4dcb-9bfa-c06581a1d7f1');\n",
       "var x = new MutationObserver(function (mutations, observer) {{\n",
       "        var display = window.getComputedStyle(gd).display;\n",
       "        if (!display || display === 'none') {{\n",
       "            console.log([gd, 'removed!']);\n",
       "            Plotly.purge(gd);\n",
       "            observer.disconnect();\n",
       "        }}\n",
       "}});\n",
       "\n",
       "// Listen for the removal of the full notebook cells\n",
       "var notebookContainer = gd.closest('#notebook-container');\n",
       "if (notebookContainer) {{\n",
       "    x.observe(notebookContainer, {childList: true});\n",
       "}}\n",
       "\n",
       "// Listen for the clearing of the current output cell\n",
       "var outputEl = gd.closest('.output');\n",
       "if (outputEl) {{\n",
       "    x.observe(outputEl, {childList: true});\n",
       "}}\n",
       "\n",
       "                        })                };                });            </script>        </div>"
      ]
     },
     "metadata": {},
     "output_type": "display_data"
    }
   ],
   "source": [
    "df2.iplot(kind='bar',x='Category',y='Values')"
   ]
  },
  {
   "cell_type": "code",
   "execution_count": 12,
   "metadata": {},
   "outputs": [
    {
     "data": {
      "application/vnd.plotly.v1+json": {
       "config": {
        "linkText": "Export to plot.ly",
        "plotlyServerURL": "https://plot.ly",
        "showLink": true
       },
       "data": [
        {
         "marker": {
          "color": "rgba(255, 153, 51, 0.6)",
          "line": {
           "color": "rgba(255, 153, 51, 1.0)",
           "width": 1
          }
         },
         "name": "None",
         "orientation": "v",
         "text": "",
         "type": "bar",
         "x": [
          "A",
          "B",
          "C",
          "D"
         ],
         "y": [
          100,
          100,
          100,
          100
         ]
        }
       ],
       "layout": {
        "legend": {
         "bgcolor": "#F5F6F9",
         "font": {
          "color": "#4D5663"
         }
        },
        "paper_bgcolor": "#F5F6F9",
        "plot_bgcolor": "#F5F6F9",
        "template": {
         "data": {
          "bar": [
           {
            "error_x": {
             "color": "#2a3f5f"
            },
            "error_y": {
             "color": "#2a3f5f"
            },
            "marker": {
             "line": {
              "color": "#E5ECF6",
              "width": 0.5
             },
             "pattern": {
              "fillmode": "overlay",
              "size": 10,
              "solidity": 0.2
             }
            },
            "type": "bar"
           }
          ],
          "barpolar": [
           {
            "marker": {
             "line": {
              "color": "#E5ECF6",
              "width": 0.5
             },
             "pattern": {
              "fillmode": "overlay",
              "size": 10,
              "solidity": 0.2
             }
            },
            "type": "barpolar"
           }
          ],
          "carpet": [
           {
            "aaxis": {
             "endlinecolor": "#2a3f5f",
             "gridcolor": "white",
             "linecolor": "white",
             "minorgridcolor": "white",
             "startlinecolor": "#2a3f5f"
            },
            "baxis": {
             "endlinecolor": "#2a3f5f",
             "gridcolor": "white",
             "linecolor": "white",
             "minorgridcolor": "white",
             "startlinecolor": "#2a3f5f"
            },
            "type": "carpet"
           }
          ],
          "choropleth": [
           {
            "colorbar": {
             "outlinewidth": 0,
             "ticks": ""
            },
            "type": "choropleth"
           }
          ],
          "contour": [
           {
            "colorbar": {
             "outlinewidth": 0,
             "ticks": ""
            },
            "colorscale": [
             [
              0,
              "#0d0887"
             ],
             [
              0.1111111111111111,
              "#46039f"
             ],
             [
              0.2222222222222222,
              "#7201a8"
             ],
             [
              0.3333333333333333,
              "#9c179e"
             ],
             [
              0.4444444444444444,
              "#bd3786"
             ],
             [
              0.5555555555555556,
              "#d8576b"
             ],
             [
              0.6666666666666666,
              "#ed7953"
             ],
             [
              0.7777777777777778,
              "#fb9f3a"
             ],
             [
              0.8888888888888888,
              "#fdca26"
             ],
             [
              1,
              "#f0f921"
             ]
            ],
            "type": "contour"
           }
          ],
          "contourcarpet": [
           {
            "colorbar": {
             "outlinewidth": 0,
             "ticks": ""
            },
            "type": "contourcarpet"
           }
          ],
          "heatmap": [
           {
            "colorbar": {
             "outlinewidth": 0,
             "ticks": ""
            },
            "colorscale": [
             [
              0,
              "#0d0887"
             ],
             [
              0.1111111111111111,
              "#46039f"
             ],
             [
              0.2222222222222222,
              "#7201a8"
             ],
             [
              0.3333333333333333,
              "#9c179e"
             ],
             [
              0.4444444444444444,
              "#bd3786"
             ],
             [
              0.5555555555555556,
              "#d8576b"
             ],
             [
              0.6666666666666666,
              "#ed7953"
             ],
             [
              0.7777777777777778,
              "#fb9f3a"
             ],
             [
              0.8888888888888888,
              "#fdca26"
             ],
             [
              1,
              "#f0f921"
             ]
            ],
            "type": "heatmap"
           }
          ],
          "heatmapgl": [
           {
            "colorbar": {
             "outlinewidth": 0,
             "ticks": ""
            },
            "colorscale": [
             [
              0,
              "#0d0887"
             ],
             [
              0.1111111111111111,
              "#46039f"
             ],
             [
              0.2222222222222222,
              "#7201a8"
             ],
             [
              0.3333333333333333,
              "#9c179e"
             ],
             [
              0.4444444444444444,
              "#bd3786"
             ],
             [
              0.5555555555555556,
              "#d8576b"
             ],
             [
              0.6666666666666666,
              "#ed7953"
             ],
             [
              0.7777777777777778,
              "#fb9f3a"
             ],
             [
              0.8888888888888888,
              "#fdca26"
             ],
             [
              1,
              "#f0f921"
             ]
            ],
            "type": "heatmapgl"
           }
          ],
          "histogram": [
           {
            "marker": {
             "pattern": {
              "fillmode": "overlay",
              "size": 10,
              "solidity": 0.2
             }
            },
            "type": "histogram"
           }
          ],
          "histogram2d": [
           {
            "colorbar": {
             "outlinewidth": 0,
             "ticks": ""
            },
            "colorscale": [
             [
              0,
              "#0d0887"
             ],
             [
              0.1111111111111111,
              "#46039f"
             ],
             [
              0.2222222222222222,
              "#7201a8"
             ],
             [
              0.3333333333333333,
              "#9c179e"
             ],
             [
              0.4444444444444444,
              "#bd3786"
             ],
             [
              0.5555555555555556,
              "#d8576b"
             ],
             [
              0.6666666666666666,
              "#ed7953"
             ],
             [
              0.7777777777777778,
              "#fb9f3a"
             ],
             [
              0.8888888888888888,
              "#fdca26"
             ],
             [
              1,
              "#f0f921"
             ]
            ],
            "type": "histogram2d"
           }
          ],
          "histogram2dcontour": [
           {
            "colorbar": {
             "outlinewidth": 0,
             "ticks": ""
            },
            "colorscale": [
             [
              0,
              "#0d0887"
             ],
             [
              0.1111111111111111,
              "#46039f"
             ],
             [
              0.2222222222222222,
              "#7201a8"
             ],
             [
              0.3333333333333333,
              "#9c179e"
             ],
             [
              0.4444444444444444,
              "#bd3786"
             ],
             [
              0.5555555555555556,
              "#d8576b"
             ],
             [
              0.6666666666666666,
              "#ed7953"
             ],
             [
              0.7777777777777778,
              "#fb9f3a"
             ],
             [
              0.8888888888888888,
              "#fdca26"
             ],
             [
              1,
              "#f0f921"
             ]
            ],
            "type": "histogram2dcontour"
           }
          ],
          "mesh3d": [
           {
            "colorbar": {
             "outlinewidth": 0,
             "ticks": ""
            },
            "type": "mesh3d"
           }
          ],
          "parcoords": [
           {
            "line": {
             "colorbar": {
              "outlinewidth": 0,
              "ticks": ""
             }
            },
            "type": "parcoords"
           }
          ],
          "pie": [
           {
            "automargin": true,
            "type": "pie"
           }
          ],
          "scatter": [
           {
            "marker": {
             "colorbar": {
              "outlinewidth": 0,
              "ticks": ""
             }
            },
            "type": "scatter"
           }
          ],
          "scatter3d": [
           {
            "line": {
             "colorbar": {
              "outlinewidth": 0,
              "ticks": ""
             }
            },
            "marker": {
             "colorbar": {
              "outlinewidth": 0,
              "ticks": ""
             }
            },
            "type": "scatter3d"
           }
          ],
          "scattercarpet": [
           {
            "marker": {
             "colorbar": {
              "outlinewidth": 0,
              "ticks": ""
             }
            },
            "type": "scattercarpet"
           }
          ],
          "scattergeo": [
           {
            "marker": {
             "colorbar": {
              "outlinewidth": 0,
              "ticks": ""
             }
            },
            "type": "scattergeo"
           }
          ],
          "scattergl": [
           {
            "marker": {
             "colorbar": {
              "outlinewidth": 0,
              "ticks": ""
             }
            },
            "type": "scattergl"
           }
          ],
          "scattermapbox": [
           {
            "marker": {
             "colorbar": {
              "outlinewidth": 0,
              "ticks": ""
             }
            },
            "type": "scattermapbox"
           }
          ],
          "scatterpolar": [
           {
            "marker": {
             "colorbar": {
              "outlinewidth": 0,
              "ticks": ""
             }
            },
            "type": "scatterpolar"
           }
          ],
          "scatterpolargl": [
           {
            "marker": {
             "colorbar": {
              "outlinewidth": 0,
              "ticks": ""
             }
            },
            "type": "scatterpolargl"
           }
          ],
          "scatterternary": [
           {
            "marker": {
             "colorbar": {
              "outlinewidth": 0,
              "ticks": ""
             }
            },
            "type": "scatterternary"
           }
          ],
          "surface": [
           {
            "colorbar": {
             "outlinewidth": 0,
             "ticks": ""
            },
            "colorscale": [
             [
              0,
              "#0d0887"
             ],
             [
              0.1111111111111111,
              "#46039f"
             ],
             [
              0.2222222222222222,
              "#7201a8"
             ],
             [
              0.3333333333333333,
              "#9c179e"
             ],
             [
              0.4444444444444444,
              "#bd3786"
             ],
             [
              0.5555555555555556,
              "#d8576b"
             ],
             [
              0.6666666666666666,
              "#ed7953"
             ],
             [
              0.7777777777777778,
              "#fb9f3a"
             ],
             [
              0.8888888888888888,
              "#fdca26"
             ],
             [
              1,
              "#f0f921"
             ]
            ],
            "type": "surface"
           }
          ],
          "table": [
           {
            "cells": {
             "fill": {
              "color": "#EBF0F8"
             },
             "line": {
              "color": "white"
             }
            },
            "header": {
             "fill": {
              "color": "#C8D4E3"
             },
             "line": {
              "color": "white"
             }
            },
            "type": "table"
           }
          ]
         },
         "layout": {
          "annotationdefaults": {
           "arrowcolor": "#2a3f5f",
           "arrowhead": 0,
           "arrowwidth": 1
          },
          "autotypenumbers": "strict",
          "coloraxis": {
           "colorbar": {
            "outlinewidth": 0,
            "ticks": ""
           }
          },
          "colorscale": {
           "diverging": [
            [
             0,
             "#8e0152"
            ],
            [
             0.1,
             "#c51b7d"
            ],
            [
             0.2,
             "#de77ae"
            ],
            [
             0.3,
             "#f1b6da"
            ],
            [
             0.4,
             "#fde0ef"
            ],
            [
             0.5,
             "#f7f7f7"
            ],
            [
             0.6,
             "#e6f5d0"
            ],
            [
             0.7,
             "#b8e186"
            ],
            [
             0.8,
             "#7fbc41"
            ],
            [
             0.9,
             "#4d9221"
            ],
            [
             1,
             "#276419"
            ]
           ],
           "sequential": [
            [
             0,
             "#0d0887"
            ],
            [
             0.1111111111111111,
             "#46039f"
            ],
            [
             0.2222222222222222,
             "#7201a8"
            ],
            [
             0.3333333333333333,
             "#9c179e"
            ],
            [
             0.4444444444444444,
             "#bd3786"
            ],
            [
             0.5555555555555556,
             "#d8576b"
            ],
            [
             0.6666666666666666,
             "#ed7953"
            ],
            [
             0.7777777777777778,
             "#fb9f3a"
            ],
            [
             0.8888888888888888,
             "#fdca26"
            ],
            [
             1,
             "#f0f921"
            ]
           ],
           "sequentialminus": [
            [
             0,
             "#0d0887"
            ],
            [
             0.1111111111111111,
             "#46039f"
            ],
            [
             0.2222222222222222,
             "#7201a8"
            ],
            [
             0.3333333333333333,
             "#9c179e"
            ],
            [
             0.4444444444444444,
             "#bd3786"
            ],
            [
             0.5555555555555556,
             "#d8576b"
            ],
            [
             0.6666666666666666,
             "#ed7953"
            ],
            [
             0.7777777777777778,
             "#fb9f3a"
            ],
            [
             0.8888888888888888,
             "#fdca26"
            ],
            [
             1,
             "#f0f921"
            ]
           ]
          },
          "colorway": [
           "#636efa",
           "#EF553B",
           "#00cc96",
           "#ab63fa",
           "#FFA15A",
           "#19d3f3",
           "#FF6692",
           "#B6E880",
           "#FF97FF",
           "#FECB52"
          ],
          "font": {
           "color": "#2a3f5f"
          },
          "geo": {
           "bgcolor": "white",
           "lakecolor": "white",
           "landcolor": "#E5ECF6",
           "showlakes": true,
           "showland": true,
           "subunitcolor": "white"
          },
          "hoverlabel": {
           "align": "left"
          },
          "hovermode": "closest",
          "mapbox": {
           "style": "light"
          },
          "paper_bgcolor": "white",
          "plot_bgcolor": "#E5ECF6",
          "polar": {
           "angularaxis": {
            "gridcolor": "white",
            "linecolor": "white",
            "ticks": ""
           },
           "bgcolor": "#E5ECF6",
           "radialaxis": {
            "gridcolor": "white",
            "linecolor": "white",
            "ticks": ""
           }
          },
          "scene": {
           "xaxis": {
            "backgroundcolor": "#E5ECF6",
            "gridcolor": "white",
            "gridwidth": 2,
            "linecolor": "white",
            "showbackground": true,
            "ticks": "",
            "zerolinecolor": "white"
           },
           "yaxis": {
            "backgroundcolor": "#E5ECF6",
            "gridcolor": "white",
            "gridwidth": 2,
            "linecolor": "white",
            "showbackground": true,
            "ticks": "",
            "zerolinecolor": "white"
           },
           "zaxis": {
            "backgroundcolor": "#E5ECF6",
            "gridcolor": "white",
            "gridwidth": 2,
            "linecolor": "white",
            "showbackground": true,
            "ticks": "",
            "zerolinecolor": "white"
           }
          },
          "shapedefaults": {
           "line": {
            "color": "#2a3f5f"
           }
          },
          "ternary": {
           "aaxis": {
            "gridcolor": "white",
            "linecolor": "white",
            "ticks": ""
           },
           "baxis": {
            "gridcolor": "white",
            "linecolor": "white",
            "ticks": ""
           },
           "bgcolor": "#E5ECF6",
           "caxis": {
            "gridcolor": "white",
            "linecolor": "white",
            "ticks": ""
           }
          },
          "title": {
           "x": 0.05
          },
          "xaxis": {
           "automargin": true,
           "gridcolor": "white",
           "linecolor": "white",
           "ticks": "",
           "title": {
            "standoff": 15
           },
           "zerolinecolor": "white",
           "zerolinewidth": 2
          },
          "yaxis": {
           "automargin": true,
           "gridcolor": "white",
           "linecolor": "white",
           "ticks": "",
           "title": {
            "standoff": 15
           },
           "zerolinecolor": "white",
           "zerolinewidth": 2
          }
         }
        },
        "title": {
         "font": {
          "color": "#4D5663"
         }
        },
        "xaxis": {
         "gridcolor": "#E1E5ED",
         "showgrid": true,
         "tickfont": {
          "color": "#4D5663"
         },
         "title": {
          "font": {
           "color": "#4D5663"
          },
          "text": ""
         },
         "zerolinecolor": "#E1E5ED"
        },
        "yaxis": {
         "gridcolor": "#E1E5ED",
         "showgrid": true,
         "tickfont": {
          "color": "#4D5663"
         },
         "title": {
          "font": {
           "color": "#4D5663"
          },
          "text": ""
         },
         "zerolinecolor": "#E1E5ED"
        }
       }
      },
      "text/html": [
       "<div>                            <div id=\"e565394d-61db-405c-b549-6328683dd20b\" class=\"plotly-graph-div\" style=\"height:525px; width:100%;\"></div>            <script type=\"text/javascript\">                require([\"plotly\"], function(Plotly) {                    window.PLOTLYENV=window.PLOTLYENV || {};\n",
       "                    window.PLOTLYENV.BASE_URL='https://plot.ly';                                    if (document.getElementById(\"e565394d-61db-405c-b549-6328683dd20b\")) {                    Plotly.newPlot(                        \"e565394d-61db-405c-b549-6328683dd20b\",                        [{\"marker\":{\"color\":\"rgba(255, 153, 51, 0.6)\",\"line\":{\"color\":\"rgba(255, 153, 51, 1.0)\",\"width\":1}},\"name\":\"None\",\"orientation\":\"v\",\"text\":\"\",\"x\":[\"A\",\"B\",\"C\",\"D\"],\"y\":[100,100,100,100],\"type\":\"bar\"}],                        {\"legend\":{\"bgcolor\":\"#F5F6F9\",\"font\":{\"color\":\"#4D5663\"}},\"paper_bgcolor\":\"#F5F6F9\",\"plot_bgcolor\":\"#F5F6F9\",\"template\":{\"data\":{\"barpolar\":[{\"marker\":{\"line\":{\"color\":\"#E5ECF6\",\"width\":0.5},\"pattern\":{\"fillmode\":\"overlay\",\"size\":10,\"solidity\":0.2}},\"type\":\"barpolar\"}],\"bar\":[{\"error_x\":{\"color\":\"#2a3f5f\"},\"error_y\":{\"color\":\"#2a3f5f\"},\"marker\":{\"line\":{\"color\":\"#E5ECF6\",\"width\":0.5},\"pattern\":{\"fillmode\":\"overlay\",\"size\":10,\"solidity\":0.2}},\"type\":\"bar\"}],\"carpet\":[{\"aaxis\":{\"endlinecolor\":\"#2a3f5f\",\"gridcolor\":\"white\",\"linecolor\":\"white\",\"minorgridcolor\":\"white\",\"startlinecolor\":\"#2a3f5f\"},\"baxis\":{\"endlinecolor\":\"#2a3f5f\",\"gridcolor\":\"white\",\"linecolor\":\"white\",\"minorgridcolor\":\"white\",\"startlinecolor\":\"#2a3f5f\"},\"type\":\"carpet\"}],\"choropleth\":[{\"colorbar\":{\"outlinewidth\":0,\"ticks\":\"\"},\"type\":\"choropleth\"}],\"contourcarpet\":[{\"colorbar\":{\"outlinewidth\":0,\"ticks\":\"\"},\"type\":\"contourcarpet\"}],\"contour\":[{\"colorbar\":{\"outlinewidth\":0,\"ticks\":\"\"},\"colorscale\":[[0.0,\"#0d0887\"],[0.1111111111111111,\"#46039f\"],[0.2222222222222222,\"#7201a8\"],[0.3333333333333333,\"#9c179e\"],[0.4444444444444444,\"#bd3786\"],[0.5555555555555556,\"#d8576b\"],[0.6666666666666666,\"#ed7953\"],[0.7777777777777778,\"#fb9f3a\"],[0.8888888888888888,\"#fdca26\"],[1.0,\"#f0f921\"]],\"type\":\"contour\"}],\"heatmapgl\":[{\"colorbar\":{\"outlinewidth\":0,\"ticks\":\"\"},\"colorscale\":[[0.0,\"#0d0887\"],[0.1111111111111111,\"#46039f\"],[0.2222222222222222,\"#7201a8\"],[0.3333333333333333,\"#9c179e\"],[0.4444444444444444,\"#bd3786\"],[0.5555555555555556,\"#d8576b\"],[0.6666666666666666,\"#ed7953\"],[0.7777777777777778,\"#fb9f3a\"],[0.8888888888888888,\"#fdca26\"],[1.0,\"#f0f921\"]],\"type\":\"heatmapgl\"}],\"heatmap\":[{\"colorbar\":{\"outlinewidth\":0,\"ticks\":\"\"},\"colorscale\":[[0.0,\"#0d0887\"],[0.1111111111111111,\"#46039f\"],[0.2222222222222222,\"#7201a8\"],[0.3333333333333333,\"#9c179e\"],[0.4444444444444444,\"#bd3786\"],[0.5555555555555556,\"#d8576b\"],[0.6666666666666666,\"#ed7953\"],[0.7777777777777778,\"#fb9f3a\"],[0.8888888888888888,\"#fdca26\"],[1.0,\"#f0f921\"]],\"type\":\"heatmap\"}],\"histogram2dcontour\":[{\"colorbar\":{\"outlinewidth\":0,\"ticks\":\"\"},\"colorscale\":[[0.0,\"#0d0887\"],[0.1111111111111111,\"#46039f\"],[0.2222222222222222,\"#7201a8\"],[0.3333333333333333,\"#9c179e\"],[0.4444444444444444,\"#bd3786\"],[0.5555555555555556,\"#d8576b\"],[0.6666666666666666,\"#ed7953\"],[0.7777777777777778,\"#fb9f3a\"],[0.8888888888888888,\"#fdca26\"],[1.0,\"#f0f921\"]],\"type\":\"histogram2dcontour\"}],\"histogram2d\":[{\"colorbar\":{\"outlinewidth\":0,\"ticks\":\"\"},\"colorscale\":[[0.0,\"#0d0887\"],[0.1111111111111111,\"#46039f\"],[0.2222222222222222,\"#7201a8\"],[0.3333333333333333,\"#9c179e\"],[0.4444444444444444,\"#bd3786\"],[0.5555555555555556,\"#d8576b\"],[0.6666666666666666,\"#ed7953\"],[0.7777777777777778,\"#fb9f3a\"],[0.8888888888888888,\"#fdca26\"],[1.0,\"#f0f921\"]],\"type\":\"histogram2d\"}],\"histogram\":[{\"marker\":{\"pattern\":{\"fillmode\":\"overlay\",\"size\":10,\"solidity\":0.2}},\"type\":\"histogram\"}],\"mesh3d\":[{\"colorbar\":{\"outlinewidth\":0,\"ticks\":\"\"},\"type\":\"mesh3d\"}],\"parcoords\":[{\"line\":{\"colorbar\":{\"outlinewidth\":0,\"ticks\":\"\"}},\"type\":\"parcoords\"}],\"pie\":[{\"automargin\":true,\"type\":\"pie\"}],\"scatter3d\":[{\"line\":{\"colorbar\":{\"outlinewidth\":0,\"ticks\":\"\"}},\"marker\":{\"colorbar\":{\"outlinewidth\":0,\"ticks\":\"\"}},\"type\":\"scatter3d\"}],\"scattercarpet\":[{\"marker\":{\"colorbar\":{\"outlinewidth\":0,\"ticks\":\"\"}},\"type\":\"scattercarpet\"}],\"scattergeo\":[{\"marker\":{\"colorbar\":{\"outlinewidth\":0,\"ticks\":\"\"}},\"type\":\"scattergeo\"}],\"scattergl\":[{\"marker\":{\"colorbar\":{\"outlinewidth\":0,\"ticks\":\"\"}},\"type\":\"scattergl\"}],\"scattermapbox\":[{\"marker\":{\"colorbar\":{\"outlinewidth\":0,\"ticks\":\"\"}},\"type\":\"scattermapbox\"}],\"scatterpolargl\":[{\"marker\":{\"colorbar\":{\"outlinewidth\":0,\"ticks\":\"\"}},\"type\":\"scatterpolargl\"}],\"scatterpolar\":[{\"marker\":{\"colorbar\":{\"outlinewidth\":0,\"ticks\":\"\"}},\"type\":\"scatterpolar\"}],\"scatter\":[{\"marker\":{\"colorbar\":{\"outlinewidth\":0,\"ticks\":\"\"}},\"type\":\"scatter\"}],\"scatterternary\":[{\"marker\":{\"colorbar\":{\"outlinewidth\":0,\"ticks\":\"\"}},\"type\":\"scatterternary\"}],\"surface\":[{\"colorbar\":{\"outlinewidth\":0,\"ticks\":\"\"},\"colorscale\":[[0.0,\"#0d0887\"],[0.1111111111111111,\"#46039f\"],[0.2222222222222222,\"#7201a8\"],[0.3333333333333333,\"#9c179e\"],[0.4444444444444444,\"#bd3786\"],[0.5555555555555556,\"#d8576b\"],[0.6666666666666666,\"#ed7953\"],[0.7777777777777778,\"#fb9f3a\"],[0.8888888888888888,\"#fdca26\"],[1.0,\"#f0f921\"]],\"type\":\"surface\"}],\"table\":[{\"cells\":{\"fill\":{\"color\":\"#EBF0F8\"},\"line\":{\"color\":\"white\"}},\"header\":{\"fill\":{\"color\":\"#C8D4E3\"},\"line\":{\"color\":\"white\"}},\"type\":\"table\"}]},\"layout\":{\"annotationdefaults\":{\"arrowcolor\":\"#2a3f5f\",\"arrowhead\":0,\"arrowwidth\":1},\"autotypenumbers\":\"strict\",\"coloraxis\":{\"colorbar\":{\"outlinewidth\":0,\"ticks\":\"\"}},\"colorscale\":{\"diverging\":[[0,\"#8e0152\"],[0.1,\"#c51b7d\"],[0.2,\"#de77ae\"],[0.3,\"#f1b6da\"],[0.4,\"#fde0ef\"],[0.5,\"#f7f7f7\"],[0.6,\"#e6f5d0\"],[0.7,\"#b8e186\"],[0.8,\"#7fbc41\"],[0.9,\"#4d9221\"],[1,\"#276419\"]],\"sequential\":[[0.0,\"#0d0887\"],[0.1111111111111111,\"#46039f\"],[0.2222222222222222,\"#7201a8\"],[0.3333333333333333,\"#9c179e\"],[0.4444444444444444,\"#bd3786\"],[0.5555555555555556,\"#d8576b\"],[0.6666666666666666,\"#ed7953\"],[0.7777777777777778,\"#fb9f3a\"],[0.8888888888888888,\"#fdca26\"],[1.0,\"#f0f921\"]],\"sequentialminus\":[[0.0,\"#0d0887\"],[0.1111111111111111,\"#46039f\"],[0.2222222222222222,\"#7201a8\"],[0.3333333333333333,\"#9c179e\"],[0.4444444444444444,\"#bd3786\"],[0.5555555555555556,\"#d8576b\"],[0.6666666666666666,\"#ed7953\"],[0.7777777777777778,\"#fb9f3a\"],[0.8888888888888888,\"#fdca26\"],[1.0,\"#f0f921\"]]},\"colorway\":[\"#636efa\",\"#EF553B\",\"#00cc96\",\"#ab63fa\",\"#FFA15A\",\"#19d3f3\",\"#FF6692\",\"#B6E880\",\"#FF97FF\",\"#FECB52\"],\"font\":{\"color\":\"#2a3f5f\"},\"geo\":{\"bgcolor\":\"white\",\"lakecolor\":\"white\",\"landcolor\":\"#E5ECF6\",\"showlakes\":true,\"showland\":true,\"subunitcolor\":\"white\"},\"hoverlabel\":{\"align\":\"left\"},\"hovermode\":\"closest\",\"mapbox\":{\"style\":\"light\"},\"paper_bgcolor\":\"white\",\"plot_bgcolor\":\"#E5ECF6\",\"polar\":{\"angularaxis\":{\"gridcolor\":\"white\",\"linecolor\":\"white\",\"ticks\":\"\"},\"bgcolor\":\"#E5ECF6\",\"radialaxis\":{\"gridcolor\":\"white\",\"linecolor\":\"white\",\"ticks\":\"\"}},\"scene\":{\"xaxis\":{\"backgroundcolor\":\"#E5ECF6\",\"gridcolor\":\"white\",\"gridwidth\":2,\"linecolor\":\"white\",\"showbackground\":true,\"ticks\":\"\",\"zerolinecolor\":\"white\"},\"yaxis\":{\"backgroundcolor\":\"#E5ECF6\",\"gridcolor\":\"white\",\"gridwidth\":2,\"linecolor\":\"white\",\"showbackground\":true,\"ticks\":\"\",\"zerolinecolor\":\"white\"},\"zaxis\":{\"backgroundcolor\":\"#E5ECF6\",\"gridcolor\":\"white\",\"gridwidth\":2,\"linecolor\":\"white\",\"showbackground\":true,\"ticks\":\"\",\"zerolinecolor\":\"white\"}},\"shapedefaults\":{\"line\":{\"color\":\"#2a3f5f\"}},\"ternary\":{\"aaxis\":{\"gridcolor\":\"white\",\"linecolor\":\"white\",\"ticks\":\"\"},\"baxis\":{\"gridcolor\":\"white\",\"linecolor\":\"white\",\"ticks\":\"\"},\"bgcolor\":\"#E5ECF6\",\"caxis\":{\"gridcolor\":\"white\",\"linecolor\":\"white\",\"ticks\":\"\"}},\"title\":{\"x\":0.05},\"xaxis\":{\"automargin\":true,\"gridcolor\":\"white\",\"linecolor\":\"white\",\"ticks\":\"\",\"title\":{\"standoff\":15},\"zerolinecolor\":\"white\",\"zerolinewidth\":2},\"yaxis\":{\"automargin\":true,\"gridcolor\":\"white\",\"linecolor\":\"white\",\"ticks\":\"\",\"title\":{\"standoff\":15},\"zerolinecolor\":\"white\",\"zerolinewidth\":2}}},\"title\":{\"font\":{\"color\":\"#4D5663\"}},\"xaxis\":{\"gridcolor\":\"#E1E5ED\",\"showgrid\":true,\"tickfont\":{\"color\":\"#4D5663\"},\"title\":{\"font\":{\"color\":\"#4D5663\"},\"text\":\"\"},\"zerolinecolor\":\"#E1E5ED\"},\"yaxis\":{\"gridcolor\":\"#E1E5ED\",\"showgrid\":true,\"tickfont\":{\"color\":\"#4D5663\"},\"title\":{\"font\":{\"color\":\"#4D5663\"},\"text\":\"\"},\"zerolinecolor\":\"#E1E5ED\"}},                        {\"showLink\": true, \"linkText\": \"Export to plot.ly\", \"plotlyServerURL\": \"https://plot.ly\", \"responsive\": true}                    ).then(function(){\n",
       "                            \n",
       "var gd = document.getElementById('e565394d-61db-405c-b549-6328683dd20b');\n",
       "var x = new MutationObserver(function (mutations, observer) {{\n",
       "        var display = window.getComputedStyle(gd).display;\n",
       "        if (!display || display === 'none') {{\n",
       "            console.log([gd, 'removed!']);\n",
       "            Plotly.purge(gd);\n",
       "            observer.disconnect();\n",
       "        }}\n",
       "}});\n",
       "\n",
       "// Listen for the removal of the full notebook cells\n",
       "var notebookContainer = gd.closest('#notebook-container');\n",
       "if (notebookContainer) {{\n",
       "    x.observe(notebookContainer, {childList: true});\n",
       "}}\n",
       "\n",
       "// Listen for the clearing of the current output cell\n",
       "var outputEl = gd.closest('.output');\n",
       "if (outputEl) {{\n",
       "    x.observe(outputEl, {childList: true});\n",
       "}}\n",
       "\n",
       "                        })                };                });            </script>        </div>"
      ]
     },
     "metadata": {},
     "output_type": "display_data"
    }
   ],
   "source": [
    "df.count().iplot(kind='bar')"
   ]
  },
  {
   "cell_type": "markdown",
   "metadata": {},
   "source": [
    "## Boxplots"
   ]
  },
  {
   "cell_type": "code",
   "execution_count": 13,
   "metadata": {},
   "outputs": [
    {
     "data": {
      "application/vnd.plotly.v1+json": {
       "config": {
        "linkText": "Export to plot.ly",
        "plotlyServerURL": "https://plot.ly",
        "showLink": true
       },
       "data": [
        {
         "boxpoints": false,
         "line": {
          "width": 1.3
         },
         "marker": {
          "color": "rgba(255, 153, 51, 1.0)"
         },
         "name": "A",
         "orientation": "v",
         "type": "box",
         "y": [
          -1.2369250000725207,
          0.6473596835857014,
          -0.4576338812403941,
          1.3516406754529127,
          0.7400490122585802,
          0.25510972366488843,
          -1.0651127106807845,
          2.3917146406957177,
          -1.4679389463105594,
          0.8391765739801815,
          0.4275400882654248,
          0.16019668981205584,
          -0.6546600458002377,
          0.25412542709008795,
          0.5812567887503652,
          2.824949855418005,
          -0.31753914966873975,
          -1.1188413124275982,
          -1.4841744546525169,
          -0.6865651933187513,
          -0.42853193432899855,
          -0.12083131295141886,
          -1.221878323795664,
          -0.21561458823488314,
          -0.6307860927928218,
          -2.7228708574986076,
          -0.14450177790649302,
          -0.13376997897710408,
          -2.1398184114432217,
          -0.27717423900572963,
          0.32303226145341607,
          0.3196944117300218,
          0.18597203059934792,
          -0.3799543016021088,
          -1.0570470176616962,
          -1.0437146318646817,
          1.244589105638801,
          -0.04337519472915891,
          0.30445962279555866,
          -1.8154741203814067,
          -0.8887990983280419,
          -1.5770320135643106,
          -0.6197241790299651,
          0.7644478130818563,
          -0.029785981514331553,
          0.23798873536899082,
          0.9446448368549804,
          0.7613448633925672,
          0.14087615944824644,
          0.6789662147155467,
          -1.6009293240998381,
          -0.2598721191100311,
          -2.7010390549845638,
          -0.26171844799409383,
          -0.9532264629107607,
          -0.03094940289085503,
          2.221027207346979,
          -0.24580105092785837,
          0.8183072372593397,
          0.5713252247110742,
          -0.31740801327057744,
          -1.0604555041989718,
          2.0615159143161503,
          -0.1092063059271307,
          -1.183761123674222,
          0.8302419529454999,
          -0.7770729098525189,
          1.9288790251622796,
          -1.6447440687176327,
          2.2441800141523807,
          -1.0906365477452125,
          -0.5183838762682667,
          -0.7108962314761669,
          -1.150536488305488,
          1.175992686063915,
          2.032896845776216,
          0.35408398135278496,
          0.8631735515015497,
          -0.3051640736411098,
          1.3060739739788678,
          1.4258657965350854,
          1.5277233446501692,
          1.6820603839835706,
          2.143177075085741,
          -0.47631071552440274,
          -0.9258348620953202,
          -1.3563642994337253,
          0.4804089287943433,
          -0.37248548367288253,
          0.7844780851728226,
          0.8658452629035026,
          1.1774201175308285,
          2.3582276533948496,
          1.577825382866515,
          0.7451127400443657,
          0.5417536639361865,
          0.5538339949773834,
          -0.8830866917087877,
          0.3986237791716136,
          1.4054611931446328
         ]
        },
        {
         "boxpoints": false,
         "line": {
          "width": 1.3
         },
         "marker": {
          "color": "rgba(55, 128, 191, 1.0)"
         },
         "name": "B",
         "orientation": "v",
         "type": "box",
         "y": [
          -0.7698420862193472,
          -0.01761344336614215,
          -0.3686509050757071,
          -1.8714428775453267,
          1.988312377332831,
          -1.3694925212446596,
          -2.401861046922229,
          2.189063518367414,
          -0.6621720424869381,
          1.524830199372334,
          1.4325678710439211,
          0.2550436856316146,
          0.8589892106314515,
          1.8432136918947117,
          -1.1688456826211293,
          -1.515607620680818,
          -1.980287684188495,
          0.25328966866584374,
          -1.7739046333305717,
          0.8556947038213887,
          -0.5140998417635303,
          0.7223069066597191,
          0.39218572055196327,
          -0.18528948274597204,
          -0.04737676014181813,
          -0.11184810713112321,
          -0.06878806172071653,
          2.1147752527686583,
          0.03454371723819343,
          0.41196652639701076,
          -0.1281605512730255,
          1.9780250375126323,
          0.4491786287378268,
          0.5802485955833719,
          1.8130977866814353,
          1.1581563719854284,
          0.13656895481419654,
          -0.05096485569692876,
          0.3975911275865297,
          -2.407100495423285,
          -0.511101815832546,
          0.04656885644815061,
          -0.9653852690988891,
          1.0783208346025044,
          0.7551442633864494,
          -1.067561156982996,
          -1.6379049071327247,
          -0.4722769241659087,
          0.3479744630317592,
          0.5534559533175919,
          0.14931895908285625,
          -0.853566511765684,
          -0.6789447430531352,
          -0.14248196175510502,
          0.4066834180661509,
          -0.6562879392179125,
          0.34913669973456174,
          0.9022011491435852,
          -0.5713150913939063,
          1.5092160997551691,
          -0.7751297096205931,
          -0.2913856688677858,
          -0.3104074903415344,
          1.4033441419701584,
          0.7210651941738934,
          -1.9081400958723442,
          0.6467291739360184,
          0.42314805386297644,
          -1.4004503453459785,
          1.2200421037296094,
          0.609092067563452,
          -2.6755118760668073,
          0.6336658466514746,
          0.9300038752354216,
          1.3044851754888402,
          1.0413176800369963,
          -0.387193892665513,
          -0.361276679396097,
          0.38503462731182436,
          1.103668402883417,
          0.49031354112047426,
          -3.2077677410318635,
          0.20980464731512286,
          -0.05156654692620989,
          0.4548618578874998,
          -0.28081765560387134,
          0.011772750841938939,
          -0.3274067294413862,
          -0.5962238831091922,
          -1.4992843996535743,
          -0.6814237192311466,
          -0.36870526912415374,
          -0.1047288555309101,
          2.1506056914516782,
          -0.9839862105924292,
          1.092333878962264,
          0.11894918611924253,
          -0.4015425020670459,
          1.1142914730518803,
          -0.2967379401748048
         ]
        },
        {
         "boxpoints": false,
         "line": {
          "width": 1.3
         },
         "marker": {
          "color": "rgba(50, 171, 96, 1.0)"
         },
         "name": "C",
         "orientation": "v",
         "type": "box",
         "y": [
          -0.1495873057280749,
          -0.07389591067093795,
          -0.05424649164552918,
          -1.6191328516391368,
          0.7861292420726962,
          0.16458728004590947,
          -0.35703492113350604,
          -0.426685266299582,
          -0.5991789583388359,
          -0.5157204112982977,
          2.0866639925261543,
          -0.5666538139387771,
          -0.06077987911208819,
          0.9342259947988482,
          -1.5656911043341355,
          0.23638393339599628,
          1.305690926120735,
          0.3364837228418128,
          -0.18388526011911294,
          0.15078765384007473,
          2.045359078996665,
          0.09084688188139022,
          0.3029885321000563,
          0.005640127992127931,
          -0.0288675855409102,
          -0.6590044580518759,
          -0.13485543846494127,
          -0.1040084699023544,
          0.17252887049950819,
          0.33909536489731035,
          -0.2052930632831629,
          -2.194007734071559,
          0.9629620636859435,
          -0.043561965406199166,
          -0.011560900492798187,
          -0.8296747581876137,
          0.4191127311567892,
          -0.959807329683778,
          -0.5119346931534932,
          0.3620624310508169,
          -1.7160067167617838,
          1.1219263615376818,
          -0.39370877508301655,
          -0.8152053080517907,
          -0.10681052700243587,
          -2.239088167020022,
          0.948146099933787,
          -1.1000314549095331,
          2.5824163517615704,
          0.7728368219352023,
          -0.7186359746916166,
          0.5346466089342827,
          -0.46273206501167197,
          0.3768178637237596,
          0.11073571289215428,
          0.05404378650617628,
          0.9085527002673297,
          -0.38897941329748437,
          -0.016248019293256716,
          -0.7084129337671787,
          -0.23605047435667145,
          0.06762523361193007,
          -1.4937661057807585,
          -1.581577590958831,
          0.3165428702605645,
          1.0760245337795067,
          -0.165931841927548,
          0.3154464529938777,
          -2.265401528517308,
          -0.08929231953168348,
          1.9655966095288562,
          -0.5129665800009727,
          -1.002299233471418,
          -1.4380855637946208,
          0.37146983475571843,
          -0.3572176570685798,
          0.04175933964522382,
          1.8119801603216394,
          0.5974935753797596,
          -0.021122586085694794,
          -0.7779900785671291,
          0.5052488953158533,
          -1.19892167597399,
          0.7838373918020359,
          -0.7537141655547988,
          -0.8397930665970642,
          -0.13089359355861377,
          -0.8109683538257121,
          -0.2229580367999272,
          0.18010591937992163,
          1.0895343297602935,
          1.045718270652688,
          -0.2921818454145917,
          0.10335561209896946,
          0.7811411658955167,
          1.4008410540732736,
          -1.2922640723674863,
          -1.0903101250379186,
          -1.7689312036931846,
          -0.5197017824849333
         ]
        },
        {
         "boxpoints": false,
         "line": {
          "width": 1.3
         },
         "marker": {
          "color": "rgba(128, 0, 128, 1.0)"
         },
         "name": "D",
         "orientation": "v",
         "type": "box",
         "y": [
          0.5293665006458524,
          -0.7748805540604703,
          1.0041063702226753,
          -0.5014685711589817,
          -0.7990699114298004,
          1.3526012472409807,
          2.7069625745810697,
          0.9418765685204512,
          0.6646196140664915,
          -0.37622698308513036,
          1.872907234974121,
          0.23098970425502563,
          -0.6696393977467702,
          -0.5532576114227775,
          -0.580975686840012,
          0.5118352419450641,
          -0.39594423600474965,
          0.4073970490229041,
          0.8542214083712736,
          -0.004834655193624482,
          -0.9723765849277642,
          -0.7463364737419851,
          2.4549819401427,
          -3.517635691987328,
          0.5738766909002905,
          -1.5345633051352354,
          -1.3059813594634928,
          -0.10684477373060267,
          -0.8959571576646118,
          0.24851463316831024,
          -0.5373821928201002,
          -0.5638124807760423,
          -1.5830907703026236,
          -0.48455664782929425,
          0.39416057604739785,
          -0.6521202111561265,
          0.3833858295349967,
          -0.026974854734215244,
          -1.718310627697159,
          0.43789618970833816,
          -0.03480276384231127,
          -1.994803828383732,
          1.2992884271258542,
          -1.8596734442133096,
          0.21485077510458403,
          -0.8593747521691765,
          0.38525141505965566,
          1.0585660632805256,
          -1.3105395488930291,
          -0.39074347238128293,
          -0.6900930041310154,
          0.23208264972938333,
          0.4826854483567595,
          -0.7767312911036357,
          0.22491136388331373,
          0.5814384893304747,
          0.5078618747203191,
          0.02912004819766613,
          -1.5408572234277373,
          0.8275475626338956,
          -1.2347380782919617,
          1.0454485217526956,
          2.000591036660255,
          0.3420397889762249,
          0.8305548583982847,
          -2.680051380624589,
          1.2106173604330084,
          -0.03491584896631556,
          0.20415674953273252,
          -0.7278868952741584,
          -0.4066709643380715,
          -0.6913941307546945,
          -0.7078265041387234,
          -0.24780906832072142,
          -0.9546900723223362,
          -0.25004170195760256,
          -0.5578099813542368,
          -2.0985699375508955,
          1.1967765947042563,
          -1.0484578443537154,
          0.5224002539238172,
          -0.9046286734930047,
          0.8504712301101417,
          -0.34440141948439057,
          1.1525486552216617,
          0.21879756283661364,
          -0.19225249825170607,
          0.2717283496788176,
          0.167357830092262,
          0.2092226485472227,
          -0.8147360118198178,
          0.24502094240023395,
          0.6221445409198278,
          0.5875180132353891,
          0.8504584167568766,
          1.8804820110000087,
          -1.2799977832826221,
          -1.5283676504453465,
          1.5140637923583105,
          -0.9247953154379341
         ]
        }
       ],
       "layout": {
        "legend": {
         "bgcolor": "#F5F6F9",
         "font": {
          "color": "#4D5663"
         }
        },
        "paper_bgcolor": "#F5F6F9",
        "plot_bgcolor": "#F5F6F9",
        "template": {
         "data": {
          "bar": [
           {
            "error_x": {
             "color": "#2a3f5f"
            },
            "error_y": {
             "color": "#2a3f5f"
            },
            "marker": {
             "line": {
              "color": "#E5ECF6",
              "width": 0.5
             },
             "pattern": {
              "fillmode": "overlay",
              "size": 10,
              "solidity": 0.2
             }
            },
            "type": "bar"
           }
          ],
          "barpolar": [
           {
            "marker": {
             "line": {
              "color": "#E5ECF6",
              "width": 0.5
             },
             "pattern": {
              "fillmode": "overlay",
              "size": 10,
              "solidity": 0.2
             }
            },
            "type": "barpolar"
           }
          ],
          "carpet": [
           {
            "aaxis": {
             "endlinecolor": "#2a3f5f",
             "gridcolor": "white",
             "linecolor": "white",
             "minorgridcolor": "white",
             "startlinecolor": "#2a3f5f"
            },
            "baxis": {
             "endlinecolor": "#2a3f5f",
             "gridcolor": "white",
             "linecolor": "white",
             "minorgridcolor": "white",
             "startlinecolor": "#2a3f5f"
            },
            "type": "carpet"
           }
          ],
          "choropleth": [
           {
            "colorbar": {
             "outlinewidth": 0,
             "ticks": ""
            },
            "type": "choropleth"
           }
          ],
          "contour": [
           {
            "colorbar": {
             "outlinewidth": 0,
             "ticks": ""
            },
            "colorscale": [
             [
              0,
              "#0d0887"
             ],
             [
              0.1111111111111111,
              "#46039f"
             ],
             [
              0.2222222222222222,
              "#7201a8"
             ],
             [
              0.3333333333333333,
              "#9c179e"
             ],
             [
              0.4444444444444444,
              "#bd3786"
             ],
             [
              0.5555555555555556,
              "#d8576b"
             ],
             [
              0.6666666666666666,
              "#ed7953"
             ],
             [
              0.7777777777777778,
              "#fb9f3a"
             ],
             [
              0.8888888888888888,
              "#fdca26"
             ],
             [
              1,
              "#f0f921"
             ]
            ],
            "type": "contour"
           }
          ],
          "contourcarpet": [
           {
            "colorbar": {
             "outlinewidth": 0,
             "ticks": ""
            },
            "type": "contourcarpet"
           }
          ],
          "heatmap": [
           {
            "colorbar": {
             "outlinewidth": 0,
             "ticks": ""
            },
            "colorscale": [
             [
              0,
              "#0d0887"
             ],
             [
              0.1111111111111111,
              "#46039f"
             ],
             [
              0.2222222222222222,
              "#7201a8"
             ],
             [
              0.3333333333333333,
              "#9c179e"
             ],
             [
              0.4444444444444444,
              "#bd3786"
             ],
             [
              0.5555555555555556,
              "#d8576b"
             ],
             [
              0.6666666666666666,
              "#ed7953"
             ],
             [
              0.7777777777777778,
              "#fb9f3a"
             ],
             [
              0.8888888888888888,
              "#fdca26"
             ],
             [
              1,
              "#f0f921"
             ]
            ],
            "type": "heatmap"
           }
          ],
          "heatmapgl": [
           {
            "colorbar": {
             "outlinewidth": 0,
             "ticks": ""
            },
            "colorscale": [
             [
              0,
              "#0d0887"
             ],
             [
              0.1111111111111111,
              "#46039f"
             ],
             [
              0.2222222222222222,
              "#7201a8"
             ],
             [
              0.3333333333333333,
              "#9c179e"
             ],
             [
              0.4444444444444444,
              "#bd3786"
             ],
             [
              0.5555555555555556,
              "#d8576b"
             ],
             [
              0.6666666666666666,
              "#ed7953"
             ],
             [
              0.7777777777777778,
              "#fb9f3a"
             ],
             [
              0.8888888888888888,
              "#fdca26"
             ],
             [
              1,
              "#f0f921"
             ]
            ],
            "type": "heatmapgl"
           }
          ],
          "histogram": [
           {
            "marker": {
             "pattern": {
              "fillmode": "overlay",
              "size": 10,
              "solidity": 0.2
             }
            },
            "type": "histogram"
           }
          ],
          "histogram2d": [
           {
            "colorbar": {
             "outlinewidth": 0,
             "ticks": ""
            },
            "colorscale": [
             [
              0,
              "#0d0887"
             ],
             [
              0.1111111111111111,
              "#46039f"
             ],
             [
              0.2222222222222222,
              "#7201a8"
             ],
             [
              0.3333333333333333,
              "#9c179e"
             ],
             [
              0.4444444444444444,
              "#bd3786"
             ],
             [
              0.5555555555555556,
              "#d8576b"
             ],
             [
              0.6666666666666666,
              "#ed7953"
             ],
             [
              0.7777777777777778,
              "#fb9f3a"
             ],
             [
              0.8888888888888888,
              "#fdca26"
             ],
             [
              1,
              "#f0f921"
             ]
            ],
            "type": "histogram2d"
           }
          ],
          "histogram2dcontour": [
           {
            "colorbar": {
             "outlinewidth": 0,
             "ticks": ""
            },
            "colorscale": [
             [
              0,
              "#0d0887"
             ],
             [
              0.1111111111111111,
              "#46039f"
             ],
             [
              0.2222222222222222,
              "#7201a8"
             ],
             [
              0.3333333333333333,
              "#9c179e"
             ],
             [
              0.4444444444444444,
              "#bd3786"
             ],
             [
              0.5555555555555556,
              "#d8576b"
             ],
             [
              0.6666666666666666,
              "#ed7953"
             ],
             [
              0.7777777777777778,
              "#fb9f3a"
             ],
             [
              0.8888888888888888,
              "#fdca26"
             ],
             [
              1,
              "#f0f921"
             ]
            ],
            "type": "histogram2dcontour"
           }
          ],
          "mesh3d": [
           {
            "colorbar": {
             "outlinewidth": 0,
             "ticks": ""
            },
            "type": "mesh3d"
           }
          ],
          "parcoords": [
           {
            "line": {
             "colorbar": {
              "outlinewidth": 0,
              "ticks": ""
             }
            },
            "type": "parcoords"
           }
          ],
          "pie": [
           {
            "automargin": true,
            "type": "pie"
           }
          ],
          "scatter": [
           {
            "marker": {
             "colorbar": {
              "outlinewidth": 0,
              "ticks": ""
             }
            },
            "type": "scatter"
           }
          ],
          "scatter3d": [
           {
            "line": {
             "colorbar": {
              "outlinewidth": 0,
              "ticks": ""
             }
            },
            "marker": {
             "colorbar": {
              "outlinewidth": 0,
              "ticks": ""
             }
            },
            "type": "scatter3d"
           }
          ],
          "scattercarpet": [
           {
            "marker": {
             "colorbar": {
              "outlinewidth": 0,
              "ticks": ""
             }
            },
            "type": "scattercarpet"
           }
          ],
          "scattergeo": [
           {
            "marker": {
             "colorbar": {
              "outlinewidth": 0,
              "ticks": ""
             }
            },
            "type": "scattergeo"
           }
          ],
          "scattergl": [
           {
            "marker": {
             "colorbar": {
              "outlinewidth": 0,
              "ticks": ""
             }
            },
            "type": "scattergl"
           }
          ],
          "scattermapbox": [
           {
            "marker": {
             "colorbar": {
              "outlinewidth": 0,
              "ticks": ""
             }
            },
            "type": "scattermapbox"
           }
          ],
          "scatterpolar": [
           {
            "marker": {
             "colorbar": {
              "outlinewidth": 0,
              "ticks": ""
             }
            },
            "type": "scatterpolar"
           }
          ],
          "scatterpolargl": [
           {
            "marker": {
             "colorbar": {
              "outlinewidth": 0,
              "ticks": ""
             }
            },
            "type": "scatterpolargl"
           }
          ],
          "scatterternary": [
           {
            "marker": {
             "colorbar": {
              "outlinewidth": 0,
              "ticks": ""
             }
            },
            "type": "scatterternary"
           }
          ],
          "surface": [
           {
            "colorbar": {
             "outlinewidth": 0,
             "ticks": ""
            },
            "colorscale": [
             [
              0,
              "#0d0887"
             ],
             [
              0.1111111111111111,
              "#46039f"
             ],
             [
              0.2222222222222222,
              "#7201a8"
             ],
             [
              0.3333333333333333,
              "#9c179e"
             ],
             [
              0.4444444444444444,
              "#bd3786"
             ],
             [
              0.5555555555555556,
              "#d8576b"
             ],
             [
              0.6666666666666666,
              "#ed7953"
             ],
             [
              0.7777777777777778,
              "#fb9f3a"
             ],
             [
              0.8888888888888888,
              "#fdca26"
             ],
             [
              1,
              "#f0f921"
             ]
            ],
            "type": "surface"
           }
          ],
          "table": [
           {
            "cells": {
             "fill": {
              "color": "#EBF0F8"
             },
             "line": {
              "color": "white"
             }
            },
            "header": {
             "fill": {
              "color": "#C8D4E3"
             },
             "line": {
              "color": "white"
             }
            },
            "type": "table"
           }
          ]
         },
         "layout": {
          "annotationdefaults": {
           "arrowcolor": "#2a3f5f",
           "arrowhead": 0,
           "arrowwidth": 1
          },
          "autotypenumbers": "strict",
          "coloraxis": {
           "colorbar": {
            "outlinewidth": 0,
            "ticks": ""
           }
          },
          "colorscale": {
           "diverging": [
            [
             0,
             "#8e0152"
            ],
            [
             0.1,
             "#c51b7d"
            ],
            [
             0.2,
             "#de77ae"
            ],
            [
             0.3,
             "#f1b6da"
            ],
            [
             0.4,
             "#fde0ef"
            ],
            [
             0.5,
             "#f7f7f7"
            ],
            [
             0.6,
             "#e6f5d0"
            ],
            [
             0.7,
             "#b8e186"
            ],
            [
             0.8,
             "#7fbc41"
            ],
            [
             0.9,
             "#4d9221"
            ],
            [
             1,
             "#276419"
            ]
           ],
           "sequential": [
            [
             0,
             "#0d0887"
            ],
            [
             0.1111111111111111,
             "#46039f"
            ],
            [
             0.2222222222222222,
             "#7201a8"
            ],
            [
             0.3333333333333333,
             "#9c179e"
            ],
            [
             0.4444444444444444,
             "#bd3786"
            ],
            [
             0.5555555555555556,
             "#d8576b"
            ],
            [
             0.6666666666666666,
             "#ed7953"
            ],
            [
             0.7777777777777778,
             "#fb9f3a"
            ],
            [
             0.8888888888888888,
             "#fdca26"
            ],
            [
             1,
             "#f0f921"
            ]
           ],
           "sequentialminus": [
            [
             0,
             "#0d0887"
            ],
            [
             0.1111111111111111,
             "#46039f"
            ],
            [
             0.2222222222222222,
             "#7201a8"
            ],
            [
             0.3333333333333333,
             "#9c179e"
            ],
            [
             0.4444444444444444,
             "#bd3786"
            ],
            [
             0.5555555555555556,
             "#d8576b"
            ],
            [
             0.6666666666666666,
             "#ed7953"
            ],
            [
             0.7777777777777778,
             "#fb9f3a"
            ],
            [
             0.8888888888888888,
             "#fdca26"
            ],
            [
             1,
             "#f0f921"
            ]
           ]
          },
          "colorway": [
           "#636efa",
           "#EF553B",
           "#00cc96",
           "#ab63fa",
           "#FFA15A",
           "#19d3f3",
           "#FF6692",
           "#B6E880",
           "#FF97FF",
           "#FECB52"
          ],
          "font": {
           "color": "#2a3f5f"
          },
          "geo": {
           "bgcolor": "white",
           "lakecolor": "white",
           "landcolor": "#E5ECF6",
           "showlakes": true,
           "showland": true,
           "subunitcolor": "white"
          },
          "hoverlabel": {
           "align": "left"
          },
          "hovermode": "closest",
          "mapbox": {
           "style": "light"
          },
          "paper_bgcolor": "white",
          "plot_bgcolor": "#E5ECF6",
          "polar": {
           "angularaxis": {
            "gridcolor": "white",
            "linecolor": "white",
            "ticks": ""
           },
           "bgcolor": "#E5ECF6",
           "radialaxis": {
            "gridcolor": "white",
            "linecolor": "white",
            "ticks": ""
           }
          },
          "scene": {
           "xaxis": {
            "backgroundcolor": "#E5ECF6",
            "gridcolor": "white",
            "gridwidth": 2,
            "linecolor": "white",
            "showbackground": true,
            "ticks": "",
            "zerolinecolor": "white"
           },
           "yaxis": {
            "backgroundcolor": "#E5ECF6",
            "gridcolor": "white",
            "gridwidth": 2,
            "linecolor": "white",
            "showbackground": true,
            "ticks": "",
            "zerolinecolor": "white"
           },
           "zaxis": {
            "backgroundcolor": "#E5ECF6",
            "gridcolor": "white",
            "gridwidth": 2,
            "linecolor": "white",
            "showbackground": true,
            "ticks": "",
            "zerolinecolor": "white"
           }
          },
          "shapedefaults": {
           "line": {
            "color": "#2a3f5f"
           }
          },
          "ternary": {
           "aaxis": {
            "gridcolor": "white",
            "linecolor": "white",
            "ticks": ""
           },
           "baxis": {
            "gridcolor": "white",
            "linecolor": "white",
            "ticks": ""
           },
           "bgcolor": "#E5ECF6",
           "caxis": {
            "gridcolor": "white",
            "linecolor": "white",
            "ticks": ""
           }
          },
          "title": {
           "x": 0.05
          },
          "xaxis": {
           "automargin": true,
           "gridcolor": "white",
           "linecolor": "white",
           "ticks": "",
           "title": {
            "standoff": 15
           },
           "zerolinecolor": "white",
           "zerolinewidth": 2
          },
          "yaxis": {
           "automargin": true,
           "gridcolor": "white",
           "linecolor": "white",
           "ticks": "",
           "title": {
            "standoff": 15
           },
           "zerolinecolor": "white",
           "zerolinewidth": 2
          }
         }
        },
        "title": {
         "font": {
          "color": "#4D5663"
         }
        },
        "xaxis": {
         "gridcolor": "#E1E5ED",
         "showgrid": true,
         "tickfont": {
          "color": "#4D5663"
         },
         "title": {
          "font": {
           "color": "#4D5663"
          },
          "text": ""
         },
         "zerolinecolor": "#E1E5ED"
        },
        "yaxis": {
         "gridcolor": "#E1E5ED",
         "showgrid": true,
         "tickfont": {
          "color": "#4D5663"
         },
         "title": {
          "font": {
           "color": "#4D5663"
          },
          "text": ""
         },
         "zerolinecolor": "#E1E5ED"
        }
       }
      },
      "text/html": [
       "<div>                            <div id=\"acc94206-0192-40e9-923b-138fd168bca4\" class=\"plotly-graph-div\" style=\"height:525px; width:100%;\"></div>            <script type=\"text/javascript\">                require([\"plotly\"], function(Plotly) {                    window.PLOTLYENV=window.PLOTLYENV || {};\n",
       "                    window.PLOTLYENV.BASE_URL='https://plot.ly';                                    if (document.getElementById(\"acc94206-0192-40e9-923b-138fd168bca4\")) {                    Plotly.newPlot(                        \"acc94206-0192-40e9-923b-138fd168bca4\",                        [{\"boxpoints\":false,\"line\":{\"width\":1.3},\"marker\":{\"color\":\"rgba(255, 153, 51, 1.0)\"},\"name\":\"A\",\"orientation\":\"v\",\"y\":[-1.2369250000725207,0.6473596835857014,-0.4576338812403941,1.3516406754529127,0.7400490122585802,0.25510972366488843,-1.0651127106807845,2.3917146406957177,-1.4679389463105594,0.8391765739801815,0.4275400882654248,0.16019668981205584,-0.6546600458002377,0.25412542709008795,0.5812567887503652,2.824949855418005,-0.31753914966873975,-1.1188413124275982,-1.4841744546525169,-0.6865651933187513,-0.42853193432899855,-0.12083131295141886,-1.221878323795664,-0.21561458823488314,-0.6307860927928218,-2.7228708574986076,-0.14450177790649302,-0.13376997897710408,-2.1398184114432217,-0.27717423900572963,0.32303226145341607,0.3196944117300218,0.18597203059934792,-0.3799543016021088,-1.0570470176616962,-1.0437146318646817,1.244589105638801,-0.04337519472915891,0.30445962279555866,-1.8154741203814067,-0.8887990983280419,-1.5770320135643106,-0.6197241790299651,0.7644478130818563,-0.029785981514331553,0.23798873536899082,0.9446448368549804,0.7613448633925672,0.14087615944824644,0.6789662147155467,-1.6009293240998381,-0.2598721191100311,-2.7010390549845638,-0.26171844799409383,-0.9532264629107607,-0.03094940289085503,2.221027207346979,-0.24580105092785837,0.8183072372593397,0.5713252247110742,-0.31740801327057744,-1.0604555041989718,2.0615159143161503,-0.1092063059271307,-1.183761123674222,0.8302419529454999,-0.7770729098525189,1.9288790251622796,-1.6447440687176327,2.2441800141523807,-1.0906365477452125,-0.5183838762682667,-0.7108962314761669,-1.150536488305488,1.175992686063915,2.032896845776216,0.35408398135278496,0.8631735515015497,-0.3051640736411098,1.3060739739788678,1.4258657965350854,1.5277233446501692,1.6820603839835706,2.143177075085741,-0.47631071552440274,-0.9258348620953202,-1.3563642994337253,0.4804089287943433,-0.37248548367288253,0.7844780851728226,0.8658452629035026,1.1774201175308285,2.3582276533948496,1.577825382866515,0.7451127400443657,0.5417536639361865,0.5538339949773834,-0.8830866917087877,0.3986237791716136,1.4054611931446328],\"type\":\"box\"},{\"boxpoints\":false,\"line\":{\"width\":1.3},\"marker\":{\"color\":\"rgba(55, 128, 191, 1.0)\"},\"name\":\"B\",\"orientation\":\"v\",\"y\":[-0.7698420862193472,-0.01761344336614215,-0.3686509050757071,-1.8714428775453267,1.988312377332831,-1.3694925212446596,-2.401861046922229,2.189063518367414,-0.6621720424869381,1.524830199372334,1.4325678710439211,0.2550436856316146,0.8589892106314515,1.8432136918947117,-1.1688456826211293,-1.515607620680818,-1.980287684188495,0.25328966866584374,-1.7739046333305717,0.8556947038213887,-0.5140998417635303,0.7223069066597191,0.39218572055196327,-0.18528948274597204,-0.04737676014181813,-0.11184810713112321,-0.06878806172071653,2.1147752527686583,0.03454371723819343,0.41196652639701076,-0.1281605512730255,1.9780250375126323,0.4491786287378268,0.5802485955833719,1.8130977866814353,1.1581563719854284,0.13656895481419654,-0.05096485569692876,0.3975911275865297,-2.407100495423285,-0.511101815832546,0.04656885644815061,-0.9653852690988891,1.0783208346025044,0.7551442633864494,-1.067561156982996,-1.6379049071327247,-0.4722769241659087,0.3479744630317592,0.5534559533175919,0.14931895908285625,-0.853566511765684,-0.6789447430531352,-0.14248196175510502,0.4066834180661509,-0.6562879392179125,0.34913669973456174,0.9022011491435852,-0.5713150913939063,1.5092160997551691,-0.7751297096205931,-0.2913856688677858,-0.3104074903415344,1.4033441419701584,0.7210651941738934,-1.9081400958723442,0.6467291739360184,0.42314805386297644,-1.4004503453459785,1.2200421037296094,0.609092067563452,-2.6755118760668073,0.6336658466514746,0.9300038752354216,1.3044851754888402,1.0413176800369963,-0.387193892665513,-0.361276679396097,0.38503462731182436,1.103668402883417,0.49031354112047426,-3.2077677410318635,0.20980464731512286,-0.05156654692620989,0.4548618578874998,-0.28081765560387134,0.011772750841938939,-0.3274067294413862,-0.5962238831091922,-1.4992843996535743,-0.6814237192311466,-0.36870526912415374,-0.1047288555309101,2.1506056914516782,-0.9839862105924292,1.092333878962264,0.11894918611924253,-0.4015425020670459,1.1142914730518803,-0.2967379401748048],\"type\":\"box\"},{\"boxpoints\":false,\"line\":{\"width\":1.3},\"marker\":{\"color\":\"rgba(50, 171, 96, 1.0)\"},\"name\":\"C\",\"orientation\":\"v\",\"y\":[-0.1495873057280749,-0.07389591067093795,-0.05424649164552918,-1.6191328516391368,0.7861292420726962,0.16458728004590947,-0.35703492113350604,-0.426685266299582,-0.5991789583388359,-0.5157204112982977,2.0866639925261543,-0.5666538139387771,-0.06077987911208819,0.9342259947988482,-1.5656911043341355,0.23638393339599628,1.305690926120735,0.3364837228418128,-0.18388526011911294,0.15078765384007473,2.045359078996665,0.09084688188139022,0.3029885321000563,0.005640127992127931,-0.0288675855409102,-0.6590044580518759,-0.13485543846494127,-0.1040084699023544,0.17252887049950819,0.33909536489731035,-0.2052930632831629,-2.194007734071559,0.9629620636859435,-0.043561965406199166,-0.011560900492798187,-0.8296747581876137,0.4191127311567892,-0.959807329683778,-0.5119346931534932,0.3620624310508169,-1.7160067167617838,1.1219263615376818,-0.39370877508301655,-0.8152053080517907,-0.10681052700243587,-2.239088167020022,0.948146099933787,-1.1000314549095331,2.5824163517615704,0.7728368219352023,-0.7186359746916166,0.5346466089342827,-0.46273206501167197,0.3768178637237596,0.11073571289215428,0.05404378650617628,0.9085527002673297,-0.38897941329748437,-0.016248019293256716,-0.7084129337671787,-0.23605047435667145,0.06762523361193007,-1.4937661057807585,-1.581577590958831,0.3165428702605645,1.0760245337795067,-0.165931841927548,0.3154464529938777,-2.265401528517308,-0.08929231953168348,1.9655966095288562,-0.5129665800009727,-1.002299233471418,-1.4380855637946208,0.37146983475571843,-0.3572176570685798,0.04175933964522382,1.8119801603216394,0.5974935753797596,-0.021122586085694794,-0.7779900785671291,0.5052488953158533,-1.19892167597399,0.7838373918020359,-0.7537141655547988,-0.8397930665970642,-0.13089359355861377,-0.8109683538257121,-0.2229580367999272,0.18010591937992163,1.0895343297602935,1.045718270652688,-0.2921818454145917,0.10335561209896946,0.7811411658955167,1.4008410540732736,-1.2922640723674863,-1.0903101250379186,-1.7689312036931846,-0.5197017824849333],\"type\":\"box\"},{\"boxpoints\":false,\"line\":{\"width\":1.3},\"marker\":{\"color\":\"rgba(128, 0, 128, 1.0)\"},\"name\":\"D\",\"orientation\":\"v\",\"y\":[0.5293665006458524,-0.7748805540604703,1.0041063702226753,-0.5014685711589817,-0.7990699114298004,1.3526012472409807,2.7069625745810697,0.9418765685204512,0.6646196140664915,-0.37622698308513036,1.872907234974121,0.23098970425502563,-0.6696393977467702,-0.5532576114227775,-0.580975686840012,0.5118352419450641,-0.39594423600474965,0.4073970490229041,0.8542214083712736,-0.004834655193624482,-0.9723765849277642,-0.7463364737419851,2.4549819401427,-3.517635691987328,0.5738766909002905,-1.5345633051352354,-1.3059813594634928,-0.10684477373060267,-0.8959571576646118,0.24851463316831024,-0.5373821928201002,-0.5638124807760423,-1.5830907703026236,-0.48455664782929425,0.39416057604739785,-0.6521202111561265,0.3833858295349967,-0.026974854734215244,-1.718310627697159,0.43789618970833816,-0.03480276384231127,-1.994803828383732,1.2992884271258542,-1.8596734442133096,0.21485077510458403,-0.8593747521691765,0.38525141505965566,1.0585660632805256,-1.3105395488930291,-0.39074347238128293,-0.6900930041310154,0.23208264972938333,0.4826854483567595,-0.7767312911036357,0.22491136388331373,0.5814384893304747,0.5078618747203191,0.02912004819766613,-1.5408572234277373,0.8275475626338956,-1.2347380782919617,1.0454485217526956,2.000591036660255,0.3420397889762249,0.8305548583982847,-2.680051380624589,1.2106173604330084,-0.03491584896631556,0.20415674953273252,-0.7278868952741584,-0.4066709643380715,-0.6913941307546945,-0.7078265041387234,-0.24780906832072142,-0.9546900723223362,-0.25004170195760256,-0.5578099813542368,-2.0985699375508955,1.1967765947042563,-1.0484578443537154,0.5224002539238172,-0.9046286734930047,0.8504712301101417,-0.34440141948439057,1.1525486552216617,0.21879756283661364,-0.19225249825170607,0.2717283496788176,0.167357830092262,0.2092226485472227,-0.8147360118198178,0.24502094240023395,0.6221445409198278,0.5875180132353891,0.8504584167568766,1.8804820110000087,-1.2799977832826221,-1.5283676504453465,1.5140637923583105,-0.9247953154379341],\"type\":\"box\"}],                        {\"legend\":{\"bgcolor\":\"#F5F6F9\",\"font\":{\"color\":\"#4D5663\"}},\"paper_bgcolor\":\"#F5F6F9\",\"plot_bgcolor\":\"#F5F6F9\",\"template\":{\"data\":{\"barpolar\":[{\"marker\":{\"line\":{\"color\":\"#E5ECF6\",\"width\":0.5},\"pattern\":{\"fillmode\":\"overlay\",\"size\":10,\"solidity\":0.2}},\"type\":\"barpolar\"}],\"bar\":[{\"error_x\":{\"color\":\"#2a3f5f\"},\"error_y\":{\"color\":\"#2a3f5f\"},\"marker\":{\"line\":{\"color\":\"#E5ECF6\",\"width\":0.5},\"pattern\":{\"fillmode\":\"overlay\",\"size\":10,\"solidity\":0.2}},\"type\":\"bar\"}],\"carpet\":[{\"aaxis\":{\"endlinecolor\":\"#2a3f5f\",\"gridcolor\":\"white\",\"linecolor\":\"white\",\"minorgridcolor\":\"white\",\"startlinecolor\":\"#2a3f5f\"},\"baxis\":{\"endlinecolor\":\"#2a3f5f\",\"gridcolor\":\"white\",\"linecolor\":\"white\",\"minorgridcolor\":\"white\",\"startlinecolor\":\"#2a3f5f\"},\"type\":\"carpet\"}],\"choropleth\":[{\"colorbar\":{\"outlinewidth\":0,\"ticks\":\"\"},\"type\":\"choropleth\"}],\"contourcarpet\":[{\"colorbar\":{\"outlinewidth\":0,\"ticks\":\"\"},\"type\":\"contourcarpet\"}],\"contour\":[{\"colorbar\":{\"outlinewidth\":0,\"ticks\":\"\"},\"colorscale\":[[0.0,\"#0d0887\"],[0.1111111111111111,\"#46039f\"],[0.2222222222222222,\"#7201a8\"],[0.3333333333333333,\"#9c179e\"],[0.4444444444444444,\"#bd3786\"],[0.5555555555555556,\"#d8576b\"],[0.6666666666666666,\"#ed7953\"],[0.7777777777777778,\"#fb9f3a\"],[0.8888888888888888,\"#fdca26\"],[1.0,\"#f0f921\"]],\"type\":\"contour\"}],\"heatmapgl\":[{\"colorbar\":{\"outlinewidth\":0,\"ticks\":\"\"},\"colorscale\":[[0.0,\"#0d0887\"],[0.1111111111111111,\"#46039f\"],[0.2222222222222222,\"#7201a8\"],[0.3333333333333333,\"#9c179e\"],[0.4444444444444444,\"#bd3786\"],[0.5555555555555556,\"#d8576b\"],[0.6666666666666666,\"#ed7953\"],[0.7777777777777778,\"#fb9f3a\"],[0.8888888888888888,\"#fdca26\"],[1.0,\"#f0f921\"]],\"type\":\"heatmapgl\"}],\"heatmap\":[{\"colorbar\":{\"outlinewidth\":0,\"ticks\":\"\"},\"colorscale\":[[0.0,\"#0d0887\"],[0.1111111111111111,\"#46039f\"],[0.2222222222222222,\"#7201a8\"],[0.3333333333333333,\"#9c179e\"],[0.4444444444444444,\"#bd3786\"],[0.5555555555555556,\"#d8576b\"],[0.6666666666666666,\"#ed7953\"],[0.7777777777777778,\"#fb9f3a\"],[0.8888888888888888,\"#fdca26\"],[1.0,\"#f0f921\"]],\"type\":\"heatmap\"}],\"histogram2dcontour\":[{\"colorbar\":{\"outlinewidth\":0,\"ticks\":\"\"},\"colorscale\":[[0.0,\"#0d0887\"],[0.1111111111111111,\"#46039f\"],[0.2222222222222222,\"#7201a8\"],[0.3333333333333333,\"#9c179e\"],[0.4444444444444444,\"#bd3786\"],[0.5555555555555556,\"#d8576b\"],[0.6666666666666666,\"#ed7953\"],[0.7777777777777778,\"#fb9f3a\"],[0.8888888888888888,\"#fdca26\"],[1.0,\"#f0f921\"]],\"type\":\"histogram2dcontour\"}],\"histogram2d\":[{\"colorbar\":{\"outlinewidth\":0,\"ticks\":\"\"},\"colorscale\":[[0.0,\"#0d0887\"],[0.1111111111111111,\"#46039f\"],[0.2222222222222222,\"#7201a8\"],[0.3333333333333333,\"#9c179e\"],[0.4444444444444444,\"#bd3786\"],[0.5555555555555556,\"#d8576b\"],[0.6666666666666666,\"#ed7953\"],[0.7777777777777778,\"#fb9f3a\"],[0.8888888888888888,\"#fdca26\"],[1.0,\"#f0f921\"]],\"type\":\"histogram2d\"}],\"histogram\":[{\"marker\":{\"pattern\":{\"fillmode\":\"overlay\",\"size\":10,\"solidity\":0.2}},\"type\":\"histogram\"}],\"mesh3d\":[{\"colorbar\":{\"outlinewidth\":0,\"ticks\":\"\"},\"type\":\"mesh3d\"}],\"parcoords\":[{\"line\":{\"colorbar\":{\"outlinewidth\":0,\"ticks\":\"\"}},\"type\":\"parcoords\"}],\"pie\":[{\"automargin\":true,\"type\":\"pie\"}],\"scatter3d\":[{\"line\":{\"colorbar\":{\"outlinewidth\":0,\"ticks\":\"\"}},\"marker\":{\"colorbar\":{\"outlinewidth\":0,\"ticks\":\"\"}},\"type\":\"scatter3d\"}],\"scattercarpet\":[{\"marker\":{\"colorbar\":{\"outlinewidth\":0,\"ticks\":\"\"}},\"type\":\"scattercarpet\"}],\"scattergeo\":[{\"marker\":{\"colorbar\":{\"outlinewidth\":0,\"ticks\":\"\"}},\"type\":\"scattergeo\"}],\"scattergl\":[{\"marker\":{\"colorbar\":{\"outlinewidth\":0,\"ticks\":\"\"}},\"type\":\"scattergl\"}],\"scattermapbox\":[{\"marker\":{\"colorbar\":{\"outlinewidth\":0,\"ticks\":\"\"}},\"type\":\"scattermapbox\"}],\"scatterpolargl\":[{\"marker\":{\"colorbar\":{\"outlinewidth\":0,\"ticks\":\"\"}},\"type\":\"scatterpolargl\"}],\"scatterpolar\":[{\"marker\":{\"colorbar\":{\"outlinewidth\":0,\"ticks\":\"\"}},\"type\":\"scatterpolar\"}],\"scatter\":[{\"marker\":{\"colorbar\":{\"outlinewidth\":0,\"ticks\":\"\"}},\"type\":\"scatter\"}],\"scatterternary\":[{\"marker\":{\"colorbar\":{\"outlinewidth\":0,\"ticks\":\"\"}},\"type\":\"scatterternary\"}],\"surface\":[{\"colorbar\":{\"outlinewidth\":0,\"ticks\":\"\"},\"colorscale\":[[0.0,\"#0d0887\"],[0.1111111111111111,\"#46039f\"],[0.2222222222222222,\"#7201a8\"],[0.3333333333333333,\"#9c179e\"],[0.4444444444444444,\"#bd3786\"],[0.5555555555555556,\"#d8576b\"],[0.6666666666666666,\"#ed7953\"],[0.7777777777777778,\"#fb9f3a\"],[0.8888888888888888,\"#fdca26\"],[1.0,\"#f0f921\"]],\"type\":\"surface\"}],\"table\":[{\"cells\":{\"fill\":{\"color\":\"#EBF0F8\"},\"line\":{\"color\":\"white\"}},\"header\":{\"fill\":{\"color\":\"#C8D4E3\"},\"line\":{\"color\":\"white\"}},\"type\":\"table\"}]},\"layout\":{\"annotationdefaults\":{\"arrowcolor\":\"#2a3f5f\",\"arrowhead\":0,\"arrowwidth\":1},\"autotypenumbers\":\"strict\",\"coloraxis\":{\"colorbar\":{\"outlinewidth\":0,\"ticks\":\"\"}},\"colorscale\":{\"diverging\":[[0,\"#8e0152\"],[0.1,\"#c51b7d\"],[0.2,\"#de77ae\"],[0.3,\"#f1b6da\"],[0.4,\"#fde0ef\"],[0.5,\"#f7f7f7\"],[0.6,\"#e6f5d0\"],[0.7,\"#b8e186\"],[0.8,\"#7fbc41\"],[0.9,\"#4d9221\"],[1,\"#276419\"]],\"sequential\":[[0.0,\"#0d0887\"],[0.1111111111111111,\"#46039f\"],[0.2222222222222222,\"#7201a8\"],[0.3333333333333333,\"#9c179e\"],[0.4444444444444444,\"#bd3786\"],[0.5555555555555556,\"#d8576b\"],[0.6666666666666666,\"#ed7953\"],[0.7777777777777778,\"#fb9f3a\"],[0.8888888888888888,\"#fdca26\"],[1.0,\"#f0f921\"]],\"sequentialminus\":[[0.0,\"#0d0887\"],[0.1111111111111111,\"#46039f\"],[0.2222222222222222,\"#7201a8\"],[0.3333333333333333,\"#9c179e\"],[0.4444444444444444,\"#bd3786\"],[0.5555555555555556,\"#d8576b\"],[0.6666666666666666,\"#ed7953\"],[0.7777777777777778,\"#fb9f3a\"],[0.8888888888888888,\"#fdca26\"],[1.0,\"#f0f921\"]]},\"colorway\":[\"#636efa\",\"#EF553B\",\"#00cc96\",\"#ab63fa\",\"#FFA15A\",\"#19d3f3\",\"#FF6692\",\"#B6E880\",\"#FF97FF\",\"#FECB52\"],\"font\":{\"color\":\"#2a3f5f\"},\"geo\":{\"bgcolor\":\"white\",\"lakecolor\":\"white\",\"landcolor\":\"#E5ECF6\",\"showlakes\":true,\"showland\":true,\"subunitcolor\":\"white\"},\"hoverlabel\":{\"align\":\"left\"},\"hovermode\":\"closest\",\"mapbox\":{\"style\":\"light\"},\"paper_bgcolor\":\"white\",\"plot_bgcolor\":\"#E5ECF6\",\"polar\":{\"angularaxis\":{\"gridcolor\":\"white\",\"linecolor\":\"white\",\"ticks\":\"\"},\"bgcolor\":\"#E5ECF6\",\"radialaxis\":{\"gridcolor\":\"white\",\"linecolor\":\"white\",\"ticks\":\"\"}},\"scene\":{\"xaxis\":{\"backgroundcolor\":\"#E5ECF6\",\"gridcolor\":\"white\",\"gridwidth\":2,\"linecolor\":\"white\",\"showbackground\":true,\"ticks\":\"\",\"zerolinecolor\":\"white\"},\"yaxis\":{\"backgroundcolor\":\"#E5ECF6\",\"gridcolor\":\"white\",\"gridwidth\":2,\"linecolor\":\"white\",\"showbackground\":true,\"ticks\":\"\",\"zerolinecolor\":\"white\"},\"zaxis\":{\"backgroundcolor\":\"#E5ECF6\",\"gridcolor\":\"white\",\"gridwidth\":2,\"linecolor\":\"white\",\"showbackground\":true,\"ticks\":\"\",\"zerolinecolor\":\"white\"}},\"shapedefaults\":{\"line\":{\"color\":\"#2a3f5f\"}},\"ternary\":{\"aaxis\":{\"gridcolor\":\"white\",\"linecolor\":\"white\",\"ticks\":\"\"},\"baxis\":{\"gridcolor\":\"white\",\"linecolor\":\"white\",\"ticks\":\"\"},\"bgcolor\":\"#E5ECF6\",\"caxis\":{\"gridcolor\":\"white\",\"linecolor\":\"white\",\"ticks\":\"\"}},\"title\":{\"x\":0.05},\"xaxis\":{\"automargin\":true,\"gridcolor\":\"white\",\"linecolor\":\"white\",\"ticks\":\"\",\"title\":{\"standoff\":15},\"zerolinecolor\":\"white\",\"zerolinewidth\":2},\"yaxis\":{\"automargin\":true,\"gridcolor\":\"white\",\"linecolor\":\"white\",\"ticks\":\"\",\"title\":{\"standoff\":15},\"zerolinecolor\":\"white\",\"zerolinewidth\":2}}},\"title\":{\"font\":{\"color\":\"#4D5663\"}},\"xaxis\":{\"gridcolor\":\"#E1E5ED\",\"showgrid\":true,\"tickfont\":{\"color\":\"#4D5663\"},\"title\":{\"font\":{\"color\":\"#4D5663\"},\"text\":\"\"},\"zerolinecolor\":\"#E1E5ED\"},\"yaxis\":{\"gridcolor\":\"#E1E5ED\",\"showgrid\":true,\"tickfont\":{\"color\":\"#4D5663\"},\"title\":{\"font\":{\"color\":\"#4D5663\"},\"text\":\"\"},\"zerolinecolor\":\"#E1E5ED\"}},                        {\"showLink\": true, \"linkText\": \"Export to plot.ly\", \"plotlyServerURL\": \"https://plot.ly\", \"responsive\": true}                    ).then(function(){\n",
       "                            \n",
       "var gd = document.getElementById('acc94206-0192-40e9-923b-138fd168bca4');\n",
       "var x = new MutationObserver(function (mutations, observer) {{\n",
       "        var display = window.getComputedStyle(gd).display;\n",
       "        if (!display || display === 'none') {{\n",
       "            console.log([gd, 'removed!']);\n",
       "            Plotly.purge(gd);\n",
       "            observer.disconnect();\n",
       "        }}\n",
       "}});\n",
       "\n",
       "// Listen for the removal of the full notebook cells\n",
       "var notebookContainer = gd.closest('#notebook-container');\n",
       "if (notebookContainer) {{\n",
       "    x.observe(notebookContainer, {childList: true});\n",
       "}}\n",
       "\n",
       "// Listen for the clearing of the current output cell\n",
       "var outputEl = gd.closest('.output');\n",
       "if (outputEl) {{\n",
       "    x.observe(outputEl, {childList: true});\n",
       "}}\n",
       "\n",
       "                        })                };                });            </script>        </div>"
      ]
     },
     "metadata": {},
     "output_type": "display_data"
    }
   ],
   "source": [
    "df.iplot(kind='box')"
   ]
  },
  {
   "cell_type": "markdown",
   "metadata": {},
   "source": [
    "## 3d Surface"
   ]
  },
  {
   "cell_type": "code",
   "execution_count": 14,
   "metadata": {},
   "outputs": [
    {
     "data": {
      "application/vnd.plotly.v1+json": {
       "config": {
        "linkText": "Export to plot.ly",
        "plotlyServerURL": "https://plot.ly",
        "showLink": true
       },
       "data": [
        {
         "colorscale": [
          [
           0,
           "rgb(165,0,38)"
          ],
          [
           0.1,
           "rgb(215,48,39)"
          ],
          [
           0.2,
           "rgb(244,109,67)"
          ],
          [
           0.3,
           "rgb(253,174,97)"
          ],
          [
           0.4,
           "rgb(254,224,144)"
          ],
          [
           0.5,
           "rgb(255,255,191)"
          ],
          [
           0.6,
           "rgb(224,243,248)"
          ],
          [
           0.7,
           "rgb(171,217,233)"
          ],
          [
           0.8,
           "rgb(116,173,209)"
          ],
          [
           0.9,
           "rgb(69,117,180)"
          ],
          [
           1,
           "rgb(49,54,149)"
          ]
         ],
         "type": "surface",
         "x": [
          0,
          1,
          2,
          3,
          4
         ],
         "y": [
          "x",
          "y",
          "z"
         ],
         "z": [
          [
           1,
           2,
           3,
           4,
           5
          ],
          [
           10,
           20,
           30,
           20,
           10
          ],
          [
           5,
           4,
           3,
           2,
           1
          ]
         ]
        }
       ],
       "layout": {
        "legend": {
         "bgcolor": "#F5F6F9",
         "font": {
          "color": "#4D5663"
         }
        },
        "paper_bgcolor": "#F5F6F9",
        "plot_bgcolor": "#F5F6F9",
        "template": {
         "data": {
          "bar": [
           {
            "error_x": {
             "color": "#2a3f5f"
            },
            "error_y": {
             "color": "#2a3f5f"
            },
            "marker": {
             "line": {
              "color": "#E5ECF6",
              "width": 0.5
             },
             "pattern": {
              "fillmode": "overlay",
              "size": 10,
              "solidity": 0.2
             }
            },
            "type": "bar"
           }
          ],
          "barpolar": [
           {
            "marker": {
             "line": {
              "color": "#E5ECF6",
              "width": 0.5
             },
             "pattern": {
              "fillmode": "overlay",
              "size": 10,
              "solidity": 0.2
             }
            },
            "type": "barpolar"
           }
          ],
          "carpet": [
           {
            "aaxis": {
             "endlinecolor": "#2a3f5f",
             "gridcolor": "white",
             "linecolor": "white",
             "minorgridcolor": "white",
             "startlinecolor": "#2a3f5f"
            },
            "baxis": {
             "endlinecolor": "#2a3f5f",
             "gridcolor": "white",
             "linecolor": "white",
             "minorgridcolor": "white",
             "startlinecolor": "#2a3f5f"
            },
            "type": "carpet"
           }
          ],
          "choropleth": [
           {
            "colorbar": {
             "outlinewidth": 0,
             "ticks": ""
            },
            "type": "choropleth"
           }
          ],
          "contour": [
           {
            "colorbar": {
             "outlinewidth": 0,
             "ticks": ""
            },
            "colorscale": [
             [
              0,
              "#0d0887"
             ],
             [
              0.1111111111111111,
              "#46039f"
             ],
             [
              0.2222222222222222,
              "#7201a8"
             ],
             [
              0.3333333333333333,
              "#9c179e"
             ],
             [
              0.4444444444444444,
              "#bd3786"
             ],
             [
              0.5555555555555556,
              "#d8576b"
             ],
             [
              0.6666666666666666,
              "#ed7953"
             ],
             [
              0.7777777777777778,
              "#fb9f3a"
             ],
             [
              0.8888888888888888,
              "#fdca26"
             ],
             [
              1,
              "#f0f921"
             ]
            ],
            "type": "contour"
           }
          ],
          "contourcarpet": [
           {
            "colorbar": {
             "outlinewidth": 0,
             "ticks": ""
            },
            "type": "contourcarpet"
           }
          ],
          "heatmap": [
           {
            "colorbar": {
             "outlinewidth": 0,
             "ticks": ""
            },
            "colorscale": [
             [
              0,
              "#0d0887"
             ],
             [
              0.1111111111111111,
              "#46039f"
             ],
             [
              0.2222222222222222,
              "#7201a8"
             ],
             [
              0.3333333333333333,
              "#9c179e"
             ],
             [
              0.4444444444444444,
              "#bd3786"
             ],
             [
              0.5555555555555556,
              "#d8576b"
             ],
             [
              0.6666666666666666,
              "#ed7953"
             ],
             [
              0.7777777777777778,
              "#fb9f3a"
             ],
             [
              0.8888888888888888,
              "#fdca26"
             ],
             [
              1,
              "#f0f921"
             ]
            ],
            "type": "heatmap"
           }
          ],
          "heatmapgl": [
           {
            "colorbar": {
             "outlinewidth": 0,
             "ticks": ""
            },
            "colorscale": [
             [
              0,
              "#0d0887"
             ],
             [
              0.1111111111111111,
              "#46039f"
             ],
             [
              0.2222222222222222,
              "#7201a8"
             ],
             [
              0.3333333333333333,
              "#9c179e"
             ],
             [
              0.4444444444444444,
              "#bd3786"
             ],
             [
              0.5555555555555556,
              "#d8576b"
             ],
             [
              0.6666666666666666,
              "#ed7953"
             ],
             [
              0.7777777777777778,
              "#fb9f3a"
             ],
             [
              0.8888888888888888,
              "#fdca26"
             ],
             [
              1,
              "#f0f921"
             ]
            ],
            "type": "heatmapgl"
           }
          ],
          "histogram": [
           {
            "marker": {
             "pattern": {
              "fillmode": "overlay",
              "size": 10,
              "solidity": 0.2
             }
            },
            "type": "histogram"
           }
          ],
          "histogram2d": [
           {
            "colorbar": {
             "outlinewidth": 0,
             "ticks": ""
            },
            "colorscale": [
             [
              0,
              "#0d0887"
             ],
             [
              0.1111111111111111,
              "#46039f"
             ],
             [
              0.2222222222222222,
              "#7201a8"
             ],
             [
              0.3333333333333333,
              "#9c179e"
             ],
             [
              0.4444444444444444,
              "#bd3786"
             ],
             [
              0.5555555555555556,
              "#d8576b"
             ],
             [
              0.6666666666666666,
              "#ed7953"
             ],
             [
              0.7777777777777778,
              "#fb9f3a"
             ],
             [
              0.8888888888888888,
              "#fdca26"
             ],
             [
              1,
              "#f0f921"
             ]
            ],
            "type": "histogram2d"
           }
          ],
          "histogram2dcontour": [
           {
            "colorbar": {
             "outlinewidth": 0,
             "ticks": ""
            },
            "colorscale": [
             [
              0,
              "#0d0887"
             ],
             [
              0.1111111111111111,
              "#46039f"
             ],
             [
              0.2222222222222222,
              "#7201a8"
             ],
             [
              0.3333333333333333,
              "#9c179e"
             ],
             [
              0.4444444444444444,
              "#bd3786"
             ],
             [
              0.5555555555555556,
              "#d8576b"
             ],
             [
              0.6666666666666666,
              "#ed7953"
             ],
             [
              0.7777777777777778,
              "#fb9f3a"
             ],
             [
              0.8888888888888888,
              "#fdca26"
             ],
             [
              1,
              "#f0f921"
             ]
            ],
            "type": "histogram2dcontour"
           }
          ],
          "mesh3d": [
           {
            "colorbar": {
             "outlinewidth": 0,
             "ticks": ""
            },
            "type": "mesh3d"
           }
          ],
          "parcoords": [
           {
            "line": {
             "colorbar": {
              "outlinewidth": 0,
              "ticks": ""
             }
            },
            "type": "parcoords"
           }
          ],
          "pie": [
           {
            "automargin": true,
            "type": "pie"
           }
          ],
          "scatter": [
           {
            "marker": {
             "colorbar": {
              "outlinewidth": 0,
              "ticks": ""
             }
            },
            "type": "scatter"
           }
          ],
          "scatter3d": [
           {
            "line": {
             "colorbar": {
              "outlinewidth": 0,
              "ticks": ""
             }
            },
            "marker": {
             "colorbar": {
              "outlinewidth": 0,
              "ticks": ""
             }
            },
            "type": "scatter3d"
           }
          ],
          "scattercarpet": [
           {
            "marker": {
             "colorbar": {
              "outlinewidth": 0,
              "ticks": ""
             }
            },
            "type": "scattercarpet"
           }
          ],
          "scattergeo": [
           {
            "marker": {
             "colorbar": {
              "outlinewidth": 0,
              "ticks": ""
             }
            },
            "type": "scattergeo"
           }
          ],
          "scattergl": [
           {
            "marker": {
             "colorbar": {
              "outlinewidth": 0,
              "ticks": ""
             }
            },
            "type": "scattergl"
           }
          ],
          "scattermapbox": [
           {
            "marker": {
             "colorbar": {
              "outlinewidth": 0,
              "ticks": ""
             }
            },
            "type": "scattermapbox"
           }
          ],
          "scatterpolar": [
           {
            "marker": {
             "colorbar": {
              "outlinewidth": 0,
              "ticks": ""
             }
            },
            "type": "scatterpolar"
           }
          ],
          "scatterpolargl": [
           {
            "marker": {
             "colorbar": {
              "outlinewidth": 0,
              "ticks": ""
             }
            },
            "type": "scatterpolargl"
           }
          ],
          "scatterternary": [
           {
            "marker": {
             "colorbar": {
              "outlinewidth": 0,
              "ticks": ""
             }
            },
            "type": "scatterternary"
           }
          ],
          "surface": [
           {
            "colorbar": {
             "outlinewidth": 0,
             "ticks": ""
            },
            "colorscale": [
             [
              0,
              "#0d0887"
             ],
             [
              0.1111111111111111,
              "#46039f"
             ],
             [
              0.2222222222222222,
              "#7201a8"
             ],
             [
              0.3333333333333333,
              "#9c179e"
             ],
             [
              0.4444444444444444,
              "#bd3786"
             ],
             [
              0.5555555555555556,
              "#d8576b"
             ],
             [
              0.6666666666666666,
              "#ed7953"
             ],
             [
              0.7777777777777778,
              "#fb9f3a"
             ],
             [
              0.8888888888888888,
              "#fdca26"
             ],
             [
              1,
              "#f0f921"
             ]
            ],
            "type": "surface"
           }
          ],
          "table": [
           {
            "cells": {
             "fill": {
              "color": "#EBF0F8"
             },
             "line": {
              "color": "white"
             }
            },
            "header": {
             "fill": {
              "color": "#C8D4E3"
             },
             "line": {
              "color": "white"
             }
            },
            "type": "table"
           }
          ]
         },
         "layout": {
          "annotationdefaults": {
           "arrowcolor": "#2a3f5f",
           "arrowhead": 0,
           "arrowwidth": 1
          },
          "autotypenumbers": "strict",
          "coloraxis": {
           "colorbar": {
            "outlinewidth": 0,
            "ticks": ""
           }
          },
          "colorscale": {
           "diverging": [
            [
             0,
             "#8e0152"
            ],
            [
             0.1,
             "#c51b7d"
            ],
            [
             0.2,
             "#de77ae"
            ],
            [
             0.3,
             "#f1b6da"
            ],
            [
             0.4,
             "#fde0ef"
            ],
            [
             0.5,
             "#f7f7f7"
            ],
            [
             0.6,
             "#e6f5d0"
            ],
            [
             0.7,
             "#b8e186"
            ],
            [
             0.8,
             "#7fbc41"
            ],
            [
             0.9,
             "#4d9221"
            ],
            [
             1,
             "#276419"
            ]
           ],
           "sequential": [
            [
             0,
             "#0d0887"
            ],
            [
             0.1111111111111111,
             "#46039f"
            ],
            [
             0.2222222222222222,
             "#7201a8"
            ],
            [
             0.3333333333333333,
             "#9c179e"
            ],
            [
             0.4444444444444444,
             "#bd3786"
            ],
            [
             0.5555555555555556,
             "#d8576b"
            ],
            [
             0.6666666666666666,
             "#ed7953"
            ],
            [
             0.7777777777777778,
             "#fb9f3a"
            ],
            [
             0.8888888888888888,
             "#fdca26"
            ],
            [
             1,
             "#f0f921"
            ]
           ],
           "sequentialminus": [
            [
             0,
             "#0d0887"
            ],
            [
             0.1111111111111111,
             "#46039f"
            ],
            [
             0.2222222222222222,
             "#7201a8"
            ],
            [
             0.3333333333333333,
             "#9c179e"
            ],
            [
             0.4444444444444444,
             "#bd3786"
            ],
            [
             0.5555555555555556,
             "#d8576b"
            ],
            [
             0.6666666666666666,
             "#ed7953"
            ],
            [
             0.7777777777777778,
             "#fb9f3a"
            ],
            [
             0.8888888888888888,
             "#fdca26"
            ],
            [
             1,
             "#f0f921"
            ]
           ]
          },
          "colorway": [
           "#636efa",
           "#EF553B",
           "#00cc96",
           "#ab63fa",
           "#FFA15A",
           "#19d3f3",
           "#FF6692",
           "#B6E880",
           "#FF97FF",
           "#FECB52"
          ],
          "font": {
           "color": "#2a3f5f"
          },
          "geo": {
           "bgcolor": "white",
           "lakecolor": "white",
           "landcolor": "#E5ECF6",
           "showlakes": true,
           "showland": true,
           "subunitcolor": "white"
          },
          "hoverlabel": {
           "align": "left"
          },
          "hovermode": "closest",
          "mapbox": {
           "style": "light"
          },
          "paper_bgcolor": "white",
          "plot_bgcolor": "#E5ECF6",
          "polar": {
           "angularaxis": {
            "gridcolor": "white",
            "linecolor": "white",
            "ticks": ""
           },
           "bgcolor": "#E5ECF6",
           "radialaxis": {
            "gridcolor": "white",
            "linecolor": "white",
            "ticks": ""
           }
          },
          "scene": {
           "xaxis": {
            "backgroundcolor": "#E5ECF6",
            "gridcolor": "white",
            "gridwidth": 2,
            "linecolor": "white",
            "showbackground": true,
            "ticks": "",
            "zerolinecolor": "white"
           },
           "yaxis": {
            "backgroundcolor": "#E5ECF6",
            "gridcolor": "white",
            "gridwidth": 2,
            "linecolor": "white",
            "showbackground": true,
            "ticks": "",
            "zerolinecolor": "white"
           },
           "zaxis": {
            "backgroundcolor": "#E5ECF6",
            "gridcolor": "white",
            "gridwidth": 2,
            "linecolor": "white",
            "showbackground": true,
            "ticks": "",
            "zerolinecolor": "white"
           }
          },
          "shapedefaults": {
           "line": {
            "color": "#2a3f5f"
           }
          },
          "ternary": {
           "aaxis": {
            "gridcolor": "white",
            "linecolor": "white",
            "ticks": ""
           },
           "baxis": {
            "gridcolor": "white",
            "linecolor": "white",
            "ticks": ""
           },
           "bgcolor": "#E5ECF6",
           "caxis": {
            "gridcolor": "white",
            "linecolor": "white",
            "ticks": ""
           }
          },
          "title": {
           "x": 0.05
          },
          "xaxis": {
           "automargin": true,
           "gridcolor": "white",
           "linecolor": "white",
           "ticks": "",
           "title": {
            "standoff": 15
           },
           "zerolinecolor": "white",
           "zerolinewidth": 2
          },
          "yaxis": {
           "automargin": true,
           "gridcolor": "white",
           "linecolor": "white",
           "ticks": "",
           "title": {
            "standoff": 15
           },
           "zerolinecolor": "white",
           "zerolinewidth": 2
          }
         }
        },
        "title": {
         "font": {
          "color": "#4D5663"
         }
        },
        "xaxis": {
         "gridcolor": "#E1E5ED",
         "showgrid": true,
         "tickfont": {
          "color": "#4D5663"
         },
         "title": {
          "font": {
           "color": "#4D5663"
          },
          "text": ""
         },
         "zerolinecolor": "#E1E5ED"
        },
        "yaxis": {
         "gridcolor": "#E1E5ED",
         "showgrid": true,
         "tickfont": {
          "color": "#4D5663"
         },
         "title": {
          "font": {
           "color": "#4D5663"
          },
          "text": ""
         },
         "zerolinecolor": "#E1E5ED"
        }
       }
      },
      "text/html": [
       "<div>                            <div id=\"ddb08210-e35b-4d67-aabe-c71e456ae1c2\" class=\"plotly-graph-div\" style=\"height:525px; width:100%;\"></div>            <script type=\"text/javascript\">                require([\"plotly\"], function(Plotly) {                    window.PLOTLYENV=window.PLOTLYENV || {};\n",
       "                    window.PLOTLYENV.BASE_URL='https://plot.ly';                                    if (document.getElementById(\"ddb08210-e35b-4d67-aabe-c71e456ae1c2\")) {                    Plotly.newPlot(                        \"ddb08210-e35b-4d67-aabe-c71e456ae1c2\",                        [{\"colorscale\":[[0.0,\"rgb(165,0,38)\"],[0.1,\"rgb(215,48,39)\"],[0.2,\"rgb(244,109,67)\"],[0.3,\"rgb(253,174,97)\"],[0.4,\"rgb(254,224,144)\"],[0.5,\"rgb(255,255,191)\"],[0.6,\"rgb(224,243,248)\"],[0.7,\"rgb(171,217,233)\"],[0.8,\"rgb(116,173,209)\"],[0.9,\"rgb(69,117,180)\"],[1.0,\"rgb(49,54,149)\"]],\"x\":[0,1,2,3,4],\"y\":[\"x\",\"y\",\"z\"],\"z\":[[1,2,3,4,5],[10,20,30,20,10],[5,4,3,2,1]],\"type\":\"surface\"}],                        {\"legend\":{\"bgcolor\":\"#F5F6F9\",\"font\":{\"color\":\"#4D5663\"}},\"paper_bgcolor\":\"#F5F6F9\",\"plot_bgcolor\":\"#F5F6F9\",\"template\":{\"data\":{\"barpolar\":[{\"marker\":{\"line\":{\"color\":\"#E5ECF6\",\"width\":0.5},\"pattern\":{\"fillmode\":\"overlay\",\"size\":10,\"solidity\":0.2}},\"type\":\"barpolar\"}],\"bar\":[{\"error_x\":{\"color\":\"#2a3f5f\"},\"error_y\":{\"color\":\"#2a3f5f\"},\"marker\":{\"line\":{\"color\":\"#E5ECF6\",\"width\":0.5},\"pattern\":{\"fillmode\":\"overlay\",\"size\":10,\"solidity\":0.2}},\"type\":\"bar\"}],\"carpet\":[{\"aaxis\":{\"endlinecolor\":\"#2a3f5f\",\"gridcolor\":\"white\",\"linecolor\":\"white\",\"minorgridcolor\":\"white\",\"startlinecolor\":\"#2a3f5f\"},\"baxis\":{\"endlinecolor\":\"#2a3f5f\",\"gridcolor\":\"white\",\"linecolor\":\"white\",\"minorgridcolor\":\"white\",\"startlinecolor\":\"#2a3f5f\"},\"type\":\"carpet\"}],\"choropleth\":[{\"colorbar\":{\"outlinewidth\":0,\"ticks\":\"\"},\"type\":\"choropleth\"}],\"contourcarpet\":[{\"colorbar\":{\"outlinewidth\":0,\"ticks\":\"\"},\"type\":\"contourcarpet\"}],\"contour\":[{\"colorbar\":{\"outlinewidth\":0,\"ticks\":\"\"},\"colorscale\":[[0.0,\"#0d0887\"],[0.1111111111111111,\"#46039f\"],[0.2222222222222222,\"#7201a8\"],[0.3333333333333333,\"#9c179e\"],[0.4444444444444444,\"#bd3786\"],[0.5555555555555556,\"#d8576b\"],[0.6666666666666666,\"#ed7953\"],[0.7777777777777778,\"#fb9f3a\"],[0.8888888888888888,\"#fdca26\"],[1.0,\"#f0f921\"]],\"type\":\"contour\"}],\"heatmapgl\":[{\"colorbar\":{\"outlinewidth\":0,\"ticks\":\"\"},\"colorscale\":[[0.0,\"#0d0887\"],[0.1111111111111111,\"#46039f\"],[0.2222222222222222,\"#7201a8\"],[0.3333333333333333,\"#9c179e\"],[0.4444444444444444,\"#bd3786\"],[0.5555555555555556,\"#d8576b\"],[0.6666666666666666,\"#ed7953\"],[0.7777777777777778,\"#fb9f3a\"],[0.8888888888888888,\"#fdca26\"],[1.0,\"#f0f921\"]],\"type\":\"heatmapgl\"}],\"heatmap\":[{\"colorbar\":{\"outlinewidth\":0,\"ticks\":\"\"},\"colorscale\":[[0.0,\"#0d0887\"],[0.1111111111111111,\"#46039f\"],[0.2222222222222222,\"#7201a8\"],[0.3333333333333333,\"#9c179e\"],[0.4444444444444444,\"#bd3786\"],[0.5555555555555556,\"#d8576b\"],[0.6666666666666666,\"#ed7953\"],[0.7777777777777778,\"#fb9f3a\"],[0.8888888888888888,\"#fdca26\"],[1.0,\"#f0f921\"]],\"type\":\"heatmap\"}],\"histogram2dcontour\":[{\"colorbar\":{\"outlinewidth\":0,\"ticks\":\"\"},\"colorscale\":[[0.0,\"#0d0887\"],[0.1111111111111111,\"#46039f\"],[0.2222222222222222,\"#7201a8\"],[0.3333333333333333,\"#9c179e\"],[0.4444444444444444,\"#bd3786\"],[0.5555555555555556,\"#d8576b\"],[0.6666666666666666,\"#ed7953\"],[0.7777777777777778,\"#fb9f3a\"],[0.8888888888888888,\"#fdca26\"],[1.0,\"#f0f921\"]],\"type\":\"histogram2dcontour\"}],\"histogram2d\":[{\"colorbar\":{\"outlinewidth\":0,\"ticks\":\"\"},\"colorscale\":[[0.0,\"#0d0887\"],[0.1111111111111111,\"#46039f\"],[0.2222222222222222,\"#7201a8\"],[0.3333333333333333,\"#9c179e\"],[0.4444444444444444,\"#bd3786\"],[0.5555555555555556,\"#d8576b\"],[0.6666666666666666,\"#ed7953\"],[0.7777777777777778,\"#fb9f3a\"],[0.8888888888888888,\"#fdca26\"],[1.0,\"#f0f921\"]],\"type\":\"histogram2d\"}],\"histogram\":[{\"marker\":{\"pattern\":{\"fillmode\":\"overlay\",\"size\":10,\"solidity\":0.2}},\"type\":\"histogram\"}],\"mesh3d\":[{\"colorbar\":{\"outlinewidth\":0,\"ticks\":\"\"},\"type\":\"mesh3d\"}],\"parcoords\":[{\"line\":{\"colorbar\":{\"outlinewidth\":0,\"ticks\":\"\"}},\"type\":\"parcoords\"}],\"pie\":[{\"automargin\":true,\"type\":\"pie\"}],\"scatter3d\":[{\"line\":{\"colorbar\":{\"outlinewidth\":0,\"ticks\":\"\"}},\"marker\":{\"colorbar\":{\"outlinewidth\":0,\"ticks\":\"\"}},\"type\":\"scatter3d\"}],\"scattercarpet\":[{\"marker\":{\"colorbar\":{\"outlinewidth\":0,\"ticks\":\"\"}},\"type\":\"scattercarpet\"}],\"scattergeo\":[{\"marker\":{\"colorbar\":{\"outlinewidth\":0,\"ticks\":\"\"}},\"type\":\"scattergeo\"}],\"scattergl\":[{\"marker\":{\"colorbar\":{\"outlinewidth\":0,\"ticks\":\"\"}},\"type\":\"scattergl\"}],\"scattermapbox\":[{\"marker\":{\"colorbar\":{\"outlinewidth\":0,\"ticks\":\"\"}},\"type\":\"scattermapbox\"}],\"scatterpolargl\":[{\"marker\":{\"colorbar\":{\"outlinewidth\":0,\"ticks\":\"\"}},\"type\":\"scatterpolargl\"}],\"scatterpolar\":[{\"marker\":{\"colorbar\":{\"outlinewidth\":0,\"ticks\":\"\"}},\"type\":\"scatterpolar\"}],\"scatter\":[{\"marker\":{\"colorbar\":{\"outlinewidth\":0,\"ticks\":\"\"}},\"type\":\"scatter\"}],\"scatterternary\":[{\"marker\":{\"colorbar\":{\"outlinewidth\":0,\"ticks\":\"\"}},\"type\":\"scatterternary\"}],\"surface\":[{\"colorbar\":{\"outlinewidth\":0,\"ticks\":\"\"},\"colorscale\":[[0.0,\"#0d0887\"],[0.1111111111111111,\"#46039f\"],[0.2222222222222222,\"#7201a8\"],[0.3333333333333333,\"#9c179e\"],[0.4444444444444444,\"#bd3786\"],[0.5555555555555556,\"#d8576b\"],[0.6666666666666666,\"#ed7953\"],[0.7777777777777778,\"#fb9f3a\"],[0.8888888888888888,\"#fdca26\"],[1.0,\"#f0f921\"]],\"type\":\"surface\"}],\"table\":[{\"cells\":{\"fill\":{\"color\":\"#EBF0F8\"},\"line\":{\"color\":\"white\"}},\"header\":{\"fill\":{\"color\":\"#C8D4E3\"},\"line\":{\"color\":\"white\"}},\"type\":\"table\"}]},\"layout\":{\"annotationdefaults\":{\"arrowcolor\":\"#2a3f5f\",\"arrowhead\":0,\"arrowwidth\":1},\"autotypenumbers\":\"strict\",\"coloraxis\":{\"colorbar\":{\"outlinewidth\":0,\"ticks\":\"\"}},\"colorscale\":{\"diverging\":[[0,\"#8e0152\"],[0.1,\"#c51b7d\"],[0.2,\"#de77ae\"],[0.3,\"#f1b6da\"],[0.4,\"#fde0ef\"],[0.5,\"#f7f7f7\"],[0.6,\"#e6f5d0\"],[0.7,\"#b8e186\"],[0.8,\"#7fbc41\"],[0.9,\"#4d9221\"],[1,\"#276419\"]],\"sequential\":[[0.0,\"#0d0887\"],[0.1111111111111111,\"#46039f\"],[0.2222222222222222,\"#7201a8\"],[0.3333333333333333,\"#9c179e\"],[0.4444444444444444,\"#bd3786\"],[0.5555555555555556,\"#d8576b\"],[0.6666666666666666,\"#ed7953\"],[0.7777777777777778,\"#fb9f3a\"],[0.8888888888888888,\"#fdca26\"],[1.0,\"#f0f921\"]],\"sequentialminus\":[[0.0,\"#0d0887\"],[0.1111111111111111,\"#46039f\"],[0.2222222222222222,\"#7201a8\"],[0.3333333333333333,\"#9c179e\"],[0.4444444444444444,\"#bd3786\"],[0.5555555555555556,\"#d8576b\"],[0.6666666666666666,\"#ed7953\"],[0.7777777777777778,\"#fb9f3a\"],[0.8888888888888888,\"#fdca26\"],[1.0,\"#f0f921\"]]},\"colorway\":[\"#636efa\",\"#EF553B\",\"#00cc96\",\"#ab63fa\",\"#FFA15A\",\"#19d3f3\",\"#FF6692\",\"#B6E880\",\"#FF97FF\",\"#FECB52\"],\"font\":{\"color\":\"#2a3f5f\"},\"geo\":{\"bgcolor\":\"white\",\"lakecolor\":\"white\",\"landcolor\":\"#E5ECF6\",\"showlakes\":true,\"showland\":true,\"subunitcolor\":\"white\"},\"hoverlabel\":{\"align\":\"left\"},\"hovermode\":\"closest\",\"mapbox\":{\"style\":\"light\"},\"paper_bgcolor\":\"white\",\"plot_bgcolor\":\"#E5ECF6\",\"polar\":{\"angularaxis\":{\"gridcolor\":\"white\",\"linecolor\":\"white\",\"ticks\":\"\"},\"bgcolor\":\"#E5ECF6\",\"radialaxis\":{\"gridcolor\":\"white\",\"linecolor\":\"white\",\"ticks\":\"\"}},\"scene\":{\"xaxis\":{\"backgroundcolor\":\"#E5ECF6\",\"gridcolor\":\"white\",\"gridwidth\":2,\"linecolor\":\"white\",\"showbackground\":true,\"ticks\":\"\",\"zerolinecolor\":\"white\"},\"yaxis\":{\"backgroundcolor\":\"#E5ECF6\",\"gridcolor\":\"white\",\"gridwidth\":2,\"linecolor\":\"white\",\"showbackground\":true,\"ticks\":\"\",\"zerolinecolor\":\"white\"},\"zaxis\":{\"backgroundcolor\":\"#E5ECF6\",\"gridcolor\":\"white\",\"gridwidth\":2,\"linecolor\":\"white\",\"showbackground\":true,\"ticks\":\"\",\"zerolinecolor\":\"white\"}},\"shapedefaults\":{\"line\":{\"color\":\"#2a3f5f\"}},\"ternary\":{\"aaxis\":{\"gridcolor\":\"white\",\"linecolor\":\"white\",\"ticks\":\"\"},\"baxis\":{\"gridcolor\":\"white\",\"linecolor\":\"white\",\"ticks\":\"\"},\"bgcolor\":\"#E5ECF6\",\"caxis\":{\"gridcolor\":\"white\",\"linecolor\":\"white\",\"ticks\":\"\"}},\"title\":{\"x\":0.05},\"xaxis\":{\"automargin\":true,\"gridcolor\":\"white\",\"linecolor\":\"white\",\"ticks\":\"\",\"title\":{\"standoff\":15},\"zerolinecolor\":\"white\",\"zerolinewidth\":2},\"yaxis\":{\"automargin\":true,\"gridcolor\":\"white\",\"linecolor\":\"white\",\"ticks\":\"\",\"title\":{\"standoff\":15},\"zerolinecolor\":\"white\",\"zerolinewidth\":2}}},\"title\":{\"font\":{\"color\":\"#4D5663\"}},\"xaxis\":{\"gridcolor\":\"#E1E5ED\",\"showgrid\":true,\"tickfont\":{\"color\":\"#4D5663\"},\"title\":{\"font\":{\"color\":\"#4D5663\"},\"text\":\"\"},\"zerolinecolor\":\"#E1E5ED\"},\"yaxis\":{\"gridcolor\":\"#E1E5ED\",\"showgrid\":true,\"tickfont\":{\"color\":\"#4D5663\"},\"title\":{\"font\":{\"color\":\"#4D5663\"},\"text\":\"\"},\"zerolinecolor\":\"#E1E5ED\"}},                        {\"showLink\": true, \"linkText\": \"Export to plot.ly\", \"plotlyServerURL\": \"https://plot.ly\", \"responsive\": true}                    ).then(function(){\n",
       "                            \n",
       "var gd = document.getElementById('ddb08210-e35b-4d67-aabe-c71e456ae1c2');\n",
       "var x = new MutationObserver(function (mutations, observer) {{\n",
       "        var display = window.getComputedStyle(gd).display;\n",
       "        if (!display || display === 'none') {{\n",
       "            console.log([gd, 'removed!']);\n",
       "            Plotly.purge(gd);\n",
       "            observer.disconnect();\n",
       "        }}\n",
       "}});\n",
       "\n",
       "// Listen for the removal of the full notebook cells\n",
       "var notebookContainer = gd.closest('#notebook-container');\n",
       "if (notebookContainer) {{\n",
       "    x.observe(notebookContainer, {childList: true});\n",
       "}}\n",
       "\n",
       "// Listen for the clearing of the current output cell\n",
       "var outputEl = gd.closest('.output');\n",
       "if (outputEl) {{\n",
       "    x.observe(outputEl, {childList: true});\n",
       "}}\n",
       "\n",
       "                        })                };                });            </script>        </div>"
      ]
     },
     "metadata": {},
     "output_type": "display_data"
    }
   ],
   "source": [
    "df3 = pd.DataFrame({'x':[1,2,3,4,5],'y':[10,20,30,20,10],'z':[5,4,3,2,1]})\n",
    "df3.iplot(kind='surface',colorscale='rdylbu')"
   ]
  },
  {
   "cell_type": "markdown",
   "metadata": {},
   "source": [
    "## Spread"
   ]
  },
  {
   "cell_type": "code",
   "execution_count": 15,
   "metadata": {},
   "outputs": [
    {
     "name": "stderr",
     "output_type": "stream",
     "text": [
      "C:\\Users\\user\\anaconda3\\lib\\site-packages\\cufflinks\\plotlytools.py:849: FutureWarning:\n",
      "\n",
      "The pandas.np module is deprecated and will be removed from pandas in a future version. Import numpy directly instead\n",
      "\n",
      "C:\\Users\\user\\anaconda3\\lib\\site-packages\\cufflinks\\plotlytools.py:850: FutureWarning:\n",
      "\n",
      "The pandas.np module is deprecated and will be removed from pandas in a future version. Import numpy directly instead\n",
      "\n"
     ]
    },
    {
     "data": {
      "application/vnd.plotly.v1+json": {
       "config": {
        "linkText": "Export to plot.ly",
        "plotlyServerURL": "https://plot.ly",
        "showLink": true
       },
       "data": [
        {
         "line": {
          "color": "rgba(255, 153, 51, 1.0)",
          "dash": "solid",
          "shape": "linear",
          "width": 1.3
         },
         "mode": "lines",
         "name": "A",
         "text": "",
         "type": "scatter",
         "x": [
          0,
          1,
          2,
          3,
          4,
          5,
          6,
          7,
          8,
          9,
          10,
          11,
          12,
          13,
          14,
          15,
          16,
          17,
          18,
          19,
          20,
          21,
          22,
          23,
          24,
          25,
          26,
          27,
          28,
          29,
          30,
          31,
          32,
          33,
          34,
          35,
          36,
          37,
          38,
          39,
          40,
          41,
          42,
          43,
          44,
          45,
          46,
          47,
          48,
          49,
          50,
          51,
          52,
          53,
          54,
          55,
          56,
          57,
          58,
          59,
          60,
          61,
          62,
          63,
          64,
          65,
          66,
          67,
          68,
          69,
          70,
          71,
          72,
          73,
          74,
          75,
          76,
          77,
          78,
          79,
          80,
          81,
          82,
          83,
          84,
          85,
          86,
          87,
          88,
          89,
          90,
          91,
          92,
          93,
          94,
          95,
          96,
          97,
          98,
          99
         ],
         "y": [
          -1.2369250000725207,
          0.6473596835857014,
          -0.4576338812403941,
          1.3516406754529127,
          0.7400490122585802,
          0.25510972366488843,
          -1.0651127106807845,
          2.3917146406957177,
          -1.4679389463105594,
          0.8391765739801815,
          0.4275400882654248,
          0.16019668981205584,
          -0.6546600458002377,
          0.25412542709008795,
          0.5812567887503652,
          2.824949855418005,
          -0.31753914966873975,
          -1.1188413124275982,
          -1.4841744546525169,
          -0.6865651933187513,
          -0.42853193432899855,
          -0.12083131295141886,
          -1.221878323795664,
          -0.21561458823488314,
          -0.6307860927928218,
          -2.7228708574986076,
          -0.14450177790649302,
          -0.13376997897710408,
          -2.1398184114432217,
          -0.27717423900572963,
          0.32303226145341607,
          0.3196944117300218,
          0.18597203059934792,
          -0.3799543016021088,
          -1.0570470176616962,
          -1.0437146318646817,
          1.244589105638801,
          -0.04337519472915891,
          0.30445962279555866,
          -1.8154741203814067,
          -0.8887990983280419,
          -1.5770320135643106,
          -0.6197241790299651,
          0.7644478130818563,
          -0.029785981514331553,
          0.23798873536899082,
          0.9446448368549804,
          0.7613448633925672,
          0.14087615944824644,
          0.6789662147155467,
          -1.6009293240998381,
          -0.2598721191100311,
          -2.7010390549845638,
          -0.26171844799409383,
          -0.9532264629107607,
          -0.03094940289085503,
          2.221027207346979,
          -0.24580105092785837,
          0.8183072372593397,
          0.5713252247110742,
          -0.31740801327057744,
          -1.0604555041989718,
          2.0615159143161503,
          -0.1092063059271307,
          -1.183761123674222,
          0.8302419529454999,
          -0.7770729098525189,
          1.9288790251622796,
          -1.6447440687176327,
          2.2441800141523807,
          -1.0906365477452125,
          -0.5183838762682667,
          -0.7108962314761669,
          -1.150536488305488,
          1.175992686063915,
          2.032896845776216,
          0.35408398135278496,
          0.8631735515015497,
          -0.3051640736411098,
          1.3060739739788678,
          1.4258657965350854,
          1.5277233446501692,
          1.6820603839835706,
          2.143177075085741,
          -0.47631071552440274,
          -0.9258348620953202,
          -1.3563642994337253,
          0.4804089287943433,
          -0.37248548367288253,
          0.7844780851728226,
          0.8658452629035026,
          1.1774201175308285,
          2.3582276533948496,
          1.577825382866515,
          0.7451127400443657,
          0.5417536639361865,
          0.5538339949773834,
          -0.8830866917087877,
          0.3986237791716136,
          1.4054611931446328
         ]
        },
        {
         "line": {
          "color": "rgba(55, 128, 191, 1.0)",
          "dash": "solid",
          "shape": "linear",
          "width": 1.3
         },
         "mode": "lines",
         "name": "B",
         "text": "",
         "type": "scatter",
         "x": [
          0,
          1,
          2,
          3,
          4,
          5,
          6,
          7,
          8,
          9,
          10,
          11,
          12,
          13,
          14,
          15,
          16,
          17,
          18,
          19,
          20,
          21,
          22,
          23,
          24,
          25,
          26,
          27,
          28,
          29,
          30,
          31,
          32,
          33,
          34,
          35,
          36,
          37,
          38,
          39,
          40,
          41,
          42,
          43,
          44,
          45,
          46,
          47,
          48,
          49,
          50,
          51,
          52,
          53,
          54,
          55,
          56,
          57,
          58,
          59,
          60,
          61,
          62,
          63,
          64,
          65,
          66,
          67,
          68,
          69,
          70,
          71,
          72,
          73,
          74,
          75,
          76,
          77,
          78,
          79,
          80,
          81,
          82,
          83,
          84,
          85,
          86,
          87,
          88,
          89,
          90,
          91,
          92,
          93,
          94,
          95,
          96,
          97,
          98,
          99
         ],
         "y": [
          -0.7698420862193472,
          -0.01761344336614215,
          -0.3686509050757071,
          -1.8714428775453267,
          1.988312377332831,
          -1.3694925212446596,
          -2.401861046922229,
          2.189063518367414,
          -0.6621720424869381,
          1.524830199372334,
          1.4325678710439211,
          0.2550436856316146,
          0.8589892106314515,
          1.8432136918947117,
          -1.1688456826211293,
          -1.515607620680818,
          -1.980287684188495,
          0.25328966866584374,
          -1.7739046333305717,
          0.8556947038213887,
          -0.5140998417635303,
          0.7223069066597191,
          0.39218572055196327,
          -0.18528948274597204,
          -0.04737676014181813,
          -0.11184810713112321,
          -0.06878806172071653,
          2.1147752527686583,
          0.03454371723819343,
          0.41196652639701076,
          -0.1281605512730255,
          1.9780250375126323,
          0.4491786287378268,
          0.5802485955833719,
          1.8130977866814353,
          1.1581563719854284,
          0.13656895481419654,
          -0.05096485569692876,
          0.3975911275865297,
          -2.407100495423285,
          -0.511101815832546,
          0.04656885644815061,
          -0.9653852690988891,
          1.0783208346025044,
          0.7551442633864494,
          -1.067561156982996,
          -1.6379049071327247,
          -0.4722769241659087,
          0.3479744630317592,
          0.5534559533175919,
          0.14931895908285625,
          -0.853566511765684,
          -0.6789447430531352,
          -0.14248196175510502,
          0.4066834180661509,
          -0.6562879392179125,
          0.34913669973456174,
          0.9022011491435852,
          -0.5713150913939063,
          1.5092160997551691,
          -0.7751297096205931,
          -0.2913856688677858,
          -0.3104074903415344,
          1.4033441419701584,
          0.7210651941738934,
          -1.9081400958723442,
          0.6467291739360184,
          0.42314805386297644,
          -1.4004503453459785,
          1.2200421037296094,
          0.609092067563452,
          -2.6755118760668073,
          0.6336658466514746,
          0.9300038752354216,
          1.3044851754888402,
          1.0413176800369963,
          -0.387193892665513,
          -0.361276679396097,
          0.38503462731182436,
          1.103668402883417,
          0.49031354112047426,
          -3.2077677410318635,
          0.20980464731512286,
          -0.05156654692620989,
          0.4548618578874998,
          -0.28081765560387134,
          0.011772750841938939,
          -0.3274067294413862,
          -0.5962238831091922,
          -1.4992843996535743,
          -0.6814237192311466,
          -0.36870526912415374,
          -0.1047288555309101,
          2.1506056914516782,
          -0.9839862105924292,
          1.092333878962264,
          0.11894918611924253,
          -0.4015425020670459,
          1.1142914730518803,
          -0.2967379401748048
         ]
        },
        {
         "connectgaps": false,
         "fill": "tozeroy",
         "line": {
          "color": "green",
          "dash": "solid",
          "shape": "linear",
          "width": 0.5
         },
         "mode": "lines",
         "name": "Spread",
         "showlegend": false,
         "type": "scatter",
         "x": [
          0,
          1,
          2,
          3,
          4,
          5,
          6,
          7,
          8,
          9,
          10,
          11,
          12,
          13,
          14,
          15,
          16,
          17,
          18,
          19,
          20,
          21,
          22,
          23,
          24,
          25,
          26,
          27,
          28,
          29,
          30,
          31,
          32,
          33,
          34,
          35,
          36,
          37,
          38,
          39,
          40,
          41,
          42,
          43,
          44,
          45,
          46,
          47,
          48,
          49,
          50,
          51,
          52,
          53,
          54,
          55,
          56,
          57,
          58,
          59,
          60,
          61,
          62,
          63,
          64,
          65,
          66,
          67,
          68,
          69,
          70,
          71,
          72,
          73,
          74,
          75,
          76,
          77,
          78,
          79,
          80,
          81,
          82,
          83,
          84,
          85,
          86,
          87,
          88,
          89,
          90,
          91,
          92,
          93,
          94,
          95,
          96,
          97,
          98,
          99
         ],
         "xaxis": "x2",
         "y": [
          "",
          0.6649731269518435,
          "",
          3.223083552998239,
          "",
          1.624602244909548,
          1.3367483362414445,
          0.20265112232830385,
          "",
          "",
          "",
          "",
          "",
          "",
          1.7501024713714946,
          4.340557476098823,
          1.6627485345197552,
          "",
          0.28973017867805484,
          "",
          0.08556790743453174,
          "",
          "",
          "",
          "",
          "",
          "",
          "",
          "",
          "",
          0.45119281272644157,
          "",
          "",
          "",
          "",
          "",
          1.1080201508246044,
          0.0075896609677698484,
          "",
          0.5916263750418782,
          "",
          "",
          0.345661090068924,
          "",
          "",
          1.3055498923519868,
          2.582549743987705,
          1.233621787558476,
          "",
          0.12551026139795485,
          "",
          0.5936943926556528,
          "",
          "",
          "",
          0.6253385363270575,
          1.8718905076124173,
          "",
          1.389622328653246,
          "",
          0.4577216963500157,
          "",
          2.371923404657685,
          "",
          "",
          2.738382048817844,
          "",
          1.5057309712993032,
          "",
          1.0241379104227712,
          "",
          2.157127999798541,
          "",
          "",
          "",
          0.9915791657392199,
          0.7412778740182979,
          1.2244502308976468,
          "",
          0.20240557109545088,
          0.9355522554146112,
          4.735491085682033,
          1.4722557366684477,
          2.1947436220119507,
          "",
          "",
          "",
          0.8078156582357295,
          0.22373839943630963,
          2.283762484826397,
          1.5472689821346493,
          1.5461253866549822,
          2.46295650892576,
          "",
          1.7290989506367949,
          "",
          0.43488480885814085,
          "",
          "",
          1.7021991333194375
         ],
         "yaxis": "y2"
        },
        {
         "connectgaps": false,
         "fill": "tozeroy",
         "line": {
          "color": "red",
          "dash": "solid",
          "shape": "linear",
          "width": 0.5
         },
         "mode": "lines",
         "name": "Spread",
         "showlegend": false,
         "type": "scatter",
         "x": [
          0,
          1,
          2,
          3,
          4,
          5,
          6,
          7,
          8,
          9,
          10,
          11,
          12,
          13,
          14,
          15,
          16,
          17,
          18,
          19,
          20,
          21,
          22,
          23,
          24,
          25,
          26,
          27,
          28,
          29,
          30,
          31,
          32,
          33,
          34,
          35,
          36,
          37,
          38,
          39,
          40,
          41,
          42,
          43,
          44,
          45,
          46,
          47,
          48,
          49,
          50,
          51,
          52,
          53,
          54,
          55,
          56,
          57,
          58,
          59,
          60,
          61,
          62,
          63,
          64,
          65,
          66,
          67,
          68,
          69,
          70,
          71,
          72,
          73,
          74,
          75,
          76,
          77,
          78,
          79,
          80,
          81,
          82,
          83,
          84,
          85,
          86,
          87,
          88,
          89,
          90,
          91,
          92,
          93,
          94,
          95,
          96,
          97,
          98,
          99
         ],
         "xaxis": "x2",
         "y": [
          -0.46708291385317346,
          "",
          -0.08898297616468703,
          "",
          -1.248263365074251,
          "",
          "",
          "",
          -0.8057669038236214,
          -0.6856536253921526,
          -1.0050277827784964,
          -0.09484699581955877,
          -1.5136492564316892,
          -1.5890882648046238,
          "",
          "",
          "",
          -1.372130981093442,
          "",
          -1.54225989714014,
          "",
          -0.8431382196111379,
          -1.6140640443476273,
          -0.030325105488911097,
          -0.5834093326510037,
          -2.6110227503674843,
          -0.07571371618577649,
          -2.248545231745762,
          -2.174362128681415,
          -0.6891407654027404,
          "",
          -1.6583306257826105,
          -0.2632065981384789,
          -0.9602028971854808,
          -2.8701448043431315,
          -2.20187100385011,
          "",
          "",
          -0.09313150479097104,
          "",
          -0.37769728249549595,
          -1.6236008700124611,
          "",
          -0.3138730215206481,
          -0.7849302449007809,
          "",
          "",
          "",
          -0.20709830358351278,
          "",
          -1.7502482831826944,
          "",
          -2.0220943119314283,
          -0.1192364862389888,
          -1.3599098809769117,
          "",
          "",
          -1.1480022000714436,
          "",
          -0.937890875044095,
          "",
          -0.769069835331186,
          "",
          -1.512550447897289,
          -1.9048263178481153,
          "",
          -1.4238020837885372,
          "",
          -0.24429372337165423,
          "",
          -1.6997286153086644,
          "",
          -1.3445620781276415,
          -2.0805403635409094,
          -0.1284924894249253,
          "",
          "",
          "",
          -0.6901987009529342,
          "",
          "",
          "",
          "",
          "",
          -0.9311725734119025,
          -0.6450172064914488,
          -1.3681370502756642,
          "",
          "",
          "",
          "",
          "",
          "",
          -0.5727803085851633,
          "",
          -0.5505802150260776,
          "",
          -0.48154418964174184,
          -0.7156676938802666,
          ""
         ],
         "yaxis": "y2"
        }
       ],
       "layout": {
        "hovermode": "x",
        "legend": {
         "bgcolor": "#F5F6F9",
         "font": {
          "color": "#4D5663"
         }
        },
        "paper_bgcolor": "#F5F6F9",
        "plot_bgcolor": "#F5F6F9",
        "template": {
         "data": {
          "bar": [
           {
            "error_x": {
             "color": "#2a3f5f"
            },
            "error_y": {
             "color": "#2a3f5f"
            },
            "marker": {
             "line": {
              "color": "#E5ECF6",
              "width": 0.5
             },
             "pattern": {
              "fillmode": "overlay",
              "size": 10,
              "solidity": 0.2
             }
            },
            "type": "bar"
           }
          ],
          "barpolar": [
           {
            "marker": {
             "line": {
              "color": "#E5ECF6",
              "width": 0.5
             },
             "pattern": {
              "fillmode": "overlay",
              "size": 10,
              "solidity": 0.2
             }
            },
            "type": "barpolar"
           }
          ],
          "carpet": [
           {
            "aaxis": {
             "endlinecolor": "#2a3f5f",
             "gridcolor": "white",
             "linecolor": "white",
             "minorgridcolor": "white",
             "startlinecolor": "#2a3f5f"
            },
            "baxis": {
             "endlinecolor": "#2a3f5f",
             "gridcolor": "white",
             "linecolor": "white",
             "minorgridcolor": "white",
             "startlinecolor": "#2a3f5f"
            },
            "type": "carpet"
           }
          ],
          "choropleth": [
           {
            "colorbar": {
             "outlinewidth": 0,
             "ticks": ""
            },
            "type": "choropleth"
           }
          ],
          "contour": [
           {
            "colorbar": {
             "outlinewidth": 0,
             "ticks": ""
            },
            "colorscale": [
             [
              0,
              "#0d0887"
             ],
             [
              0.1111111111111111,
              "#46039f"
             ],
             [
              0.2222222222222222,
              "#7201a8"
             ],
             [
              0.3333333333333333,
              "#9c179e"
             ],
             [
              0.4444444444444444,
              "#bd3786"
             ],
             [
              0.5555555555555556,
              "#d8576b"
             ],
             [
              0.6666666666666666,
              "#ed7953"
             ],
             [
              0.7777777777777778,
              "#fb9f3a"
             ],
             [
              0.8888888888888888,
              "#fdca26"
             ],
             [
              1,
              "#f0f921"
             ]
            ],
            "type": "contour"
           }
          ],
          "contourcarpet": [
           {
            "colorbar": {
             "outlinewidth": 0,
             "ticks": ""
            },
            "type": "contourcarpet"
           }
          ],
          "heatmap": [
           {
            "colorbar": {
             "outlinewidth": 0,
             "ticks": ""
            },
            "colorscale": [
             [
              0,
              "#0d0887"
             ],
             [
              0.1111111111111111,
              "#46039f"
             ],
             [
              0.2222222222222222,
              "#7201a8"
             ],
             [
              0.3333333333333333,
              "#9c179e"
             ],
             [
              0.4444444444444444,
              "#bd3786"
             ],
             [
              0.5555555555555556,
              "#d8576b"
             ],
             [
              0.6666666666666666,
              "#ed7953"
             ],
             [
              0.7777777777777778,
              "#fb9f3a"
             ],
             [
              0.8888888888888888,
              "#fdca26"
             ],
             [
              1,
              "#f0f921"
             ]
            ],
            "type": "heatmap"
           }
          ],
          "heatmapgl": [
           {
            "colorbar": {
             "outlinewidth": 0,
             "ticks": ""
            },
            "colorscale": [
             [
              0,
              "#0d0887"
             ],
             [
              0.1111111111111111,
              "#46039f"
             ],
             [
              0.2222222222222222,
              "#7201a8"
             ],
             [
              0.3333333333333333,
              "#9c179e"
             ],
             [
              0.4444444444444444,
              "#bd3786"
             ],
             [
              0.5555555555555556,
              "#d8576b"
             ],
             [
              0.6666666666666666,
              "#ed7953"
             ],
             [
              0.7777777777777778,
              "#fb9f3a"
             ],
             [
              0.8888888888888888,
              "#fdca26"
             ],
             [
              1,
              "#f0f921"
             ]
            ],
            "type": "heatmapgl"
           }
          ],
          "histogram": [
           {
            "marker": {
             "pattern": {
              "fillmode": "overlay",
              "size": 10,
              "solidity": 0.2
             }
            },
            "type": "histogram"
           }
          ],
          "histogram2d": [
           {
            "colorbar": {
             "outlinewidth": 0,
             "ticks": ""
            },
            "colorscale": [
             [
              0,
              "#0d0887"
             ],
             [
              0.1111111111111111,
              "#46039f"
             ],
             [
              0.2222222222222222,
              "#7201a8"
             ],
             [
              0.3333333333333333,
              "#9c179e"
             ],
             [
              0.4444444444444444,
              "#bd3786"
             ],
             [
              0.5555555555555556,
              "#d8576b"
             ],
             [
              0.6666666666666666,
              "#ed7953"
             ],
             [
              0.7777777777777778,
              "#fb9f3a"
             ],
             [
              0.8888888888888888,
              "#fdca26"
             ],
             [
              1,
              "#f0f921"
             ]
            ],
            "type": "histogram2d"
           }
          ],
          "histogram2dcontour": [
           {
            "colorbar": {
             "outlinewidth": 0,
             "ticks": ""
            },
            "colorscale": [
             [
              0,
              "#0d0887"
             ],
             [
              0.1111111111111111,
              "#46039f"
             ],
             [
              0.2222222222222222,
              "#7201a8"
             ],
             [
              0.3333333333333333,
              "#9c179e"
             ],
             [
              0.4444444444444444,
              "#bd3786"
             ],
             [
              0.5555555555555556,
              "#d8576b"
             ],
             [
              0.6666666666666666,
              "#ed7953"
             ],
             [
              0.7777777777777778,
              "#fb9f3a"
             ],
             [
              0.8888888888888888,
              "#fdca26"
             ],
             [
              1,
              "#f0f921"
             ]
            ],
            "type": "histogram2dcontour"
           }
          ],
          "mesh3d": [
           {
            "colorbar": {
             "outlinewidth": 0,
             "ticks": ""
            },
            "type": "mesh3d"
           }
          ],
          "parcoords": [
           {
            "line": {
             "colorbar": {
              "outlinewidth": 0,
              "ticks": ""
             }
            },
            "type": "parcoords"
           }
          ],
          "pie": [
           {
            "automargin": true,
            "type": "pie"
           }
          ],
          "scatter": [
           {
            "marker": {
             "colorbar": {
              "outlinewidth": 0,
              "ticks": ""
             }
            },
            "type": "scatter"
           }
          ],
          "scatter3d": [
           {
            "line": {
             "colorbar": {
              "outlinewidth": 0,
              "ticks": ""
             }
            },
            "marker": {
             "colorbar": {
              "outlinewidth": 0,
              "ticks": ""
             }
            },
            "type": "scatter3d"
           }
          ],
          "scattercarpet": [
           {
            "marker": {
             "colorbar": {
              "outlinewidth": 0,
              "ticks": ""
             }
            },
            "type": "scattercarpet"
           }
          ],
          "scattergeo": [
           {
            "marker": {
             "colorbar": {
              "outlinewidth": 0,
              "ticks": ""
             }
            },
            "type": "scattergeo"
           }
          ],
          "scattergl": [
           {
            "marker": {
             "colorbar": {
              "outlinewidth": 0,
              "ticks": ""
             }
            },
            "type": "scattergl"
           }
          ],
          "scattermapbox": [
           {
            "marker": {
             "colorbar": {
              "outlinewidth": 0,
              "ticks": ""
             }
            },
            "type": "scattermapbox"
           }
          ],
          "scatterpolar": [
           {
            "marker": {
             "colorbar": {
              "outlinewidth": 0,
              "ticks": ""
             }
            },
            "type": "scatterpolar"
           }
          ],
          "scatterpolargl": [
           {
            "marker": {
             "colorbar": {
              "outlinewidth": 0,
              "ticks": ""
             }
            },
            "type": "scatterpolargl"
           }
          ],
          "scatterternary": [
           {
            "marker": {
             "colorbar": {
              "outlinewidth": 0,
              "ticks": ""
             }
            },
            "type": "scatterternary"
           }
          ],
          "surface": [
           {
            "colorbar": {
             "outlinewidth": 0,
             "ticks": ""
            },
            "colorscale": [
             [
              0,
              "#0d0887"
             ],
             [
              0.1111111111111111,
              "#46039f"
             ],
             [
              0.2222222222222222,
              "#7201a8"
             ],
             [
              0.3333333333333333,
              "#9c179e"
             ],
             [
              0.4444444444444444,
              "#bd3786"
             ],
             [
              0.5555555555555556,
              "#d8576b"
             ],
             [
              0.6666666666666666,
              "#ed7953"
             ],
             [
              0.7777777777777778,
              "#fb9f3a"
             ],
             [
              0.8888888888888888,
              "#fdca26"
             ],
             [
              1,
              "#f0f921"
             ]
            ],
            "type": "surface"
           }
          ],
          "table": [
           {
            "cells": {
             "fill": {
              "color": "#EBF0F8"
             },
             "line": {
              "color": "white"
             }
            },
            "header": {
             "fill": {
              "color": "#C8D4E3"
             },
             "line": {
              "color": "white"
             }
            },
            "type": "table"
           }
          ]
         },
         "layout": {
          "annotationdefaults": {
           "arrowcolor": "#2a3f5f",
           "arrowhead": 0,
           "arrowwidth": 1
          },
          "autotypenumbers": "strict",
          "coloraxis": {
           "colorbar": {
            "outlinewidth": 0,
            "ticks": ""
           }
          },
          "colorscale": {
           "diverging": [
            [
             0,
             "#8e0152"
            ],
            [
             0.1,
             "#c51b7d"
            ],
            [
             0.2,
             "#de77ae"
            ],
            [
             0.3,
             "#f1b6da"
            ],
            [
             0.4,
             "#fde0ef"
            ],
            [
             0.5,
             "#f7f7f7"
            ],
            [
             0.6,
             "#e6f5d0"
            ],
            [
             0.7,
             "#b8e186"
            ],
            [
             0.8,
             "#7fbc41"
            ],
            [
             0.9,
             "#4d9221"
            ],
            [
             1,
             "#276419"
            ]
           ],
           "sequential": [
            [
             0,
             "#0d0887"
            ],
            [
             0.1111111111111111,
             "#46039f"
            ],
            [
             0.2222222222222222,
             "#7201a8"
            ],
            [
             0.3333333333333333,
             "#9c179e"
            ],
            [
             0.4444444444444444,
             "#bd3786"
            ],
            [
             0.5555555555555556,
             "#d8576b"
            ],
            [
             0.6666666666666666,
             "#ed7953"
            ],
            [
             0.7777777777777778,
             "#fb9f3a"
            ],
            [
             0.8888888888888888,
             "#fdca26"
            ],
            [
             1,
             "#f0f921"
            ]
           ],
           "sequentialminus": [
            [
             0,
             "#0d0887"
            ],
            [
             0.1111111111111111,
             "#46039f"
            ],
            [
             0.2222222222222222,
             "#7201a8"
            ],
            [
             0.3333333333333333,
             "#9c179e"
            ],
            [
             0.4444444444444444,
             "#bd3786"
            ],
            [
             0.5555555555555556,
             "#d8576b"
            ],
            [
             0.6666666666666666,
             "#ed7953"
            ],
            [
             0.7777777777777778,
             "#fb9f3a"
            ],
            [
             0.8888888888888888,
             "#fdca26"
            ],
            [
             1,
             "#f0f921"
            ]
           ]
          },
          "colorway": [
           "#636efa",
           "#EF553B",
           "#00cc96",
           "#ab63fa",
           "#FFA15A",
           "#19d3f3",
           "#FF6692",
           "#B6E880",
           "#FF97FF",
           "#FECB52"
          ],
          "font": {
           "color": "#2a3f5f"
          },
          "geo": {
           "bgcolor": "white",
           "lakecolor": "white",
           "landcolor": "#E5ECF6",
           "showlakes": true,
           "showland": true,
           "subunitcolor": "white"
          },
          "hoverlabel": {
           "align": "left"
          },
          "hovermode": "closest",
          "mapbox": {
           "style": "light"
          },
          "paper_bgcolor": "white",
          "plot_bgcolor": "#E5ECF6",
          "polar": {
           "angularaxis": {
            "gridcolor": "white",
            "linecolor": "white",
            "ticks": ""
           },
           "bgcolor": "#E5ECF6",
           "radialaxis": {
            "gridcolor": "white",
            "linecolor": "white",
            "ticks": ""
           }
          },
          "scene": {
           "xaxis": {
            "backgroundcolor": "#E5ECF6",
            "gridcolor": "white",
            "gridwidth": 2,
            "linecolor": "white",
            "showbackground": true,
            "ticks": "",
            "zerolinecolor": "white"
           },
           "yaxis": {
            "backgroundcolor": "#E5ECF6",
            "gridcolor": "white",
            "gridwidth": 2,
            "linecolor": "white",
            "showbackground": true,
            "ticks": "",
            "zerolinecolor": "white"
           },
           "zaxis": {
            "backgroundcolor": "#E5ECF6",
            "gridcolor": "white",
            "gridwidth": 2,
            "linecolor": "white",
            "showbackground": true,
            "ticks": "",
            "zerolinecolor": "white"
           }
          },
          "shapedefaults": {
           "line": {
            "color": "#2a3f5f"
           }
          },
          "ternary": {
           "aaxis": {
            "gridcolor": "white",
            "linecolor": "white",
            "ticks": ""
           },
           "baxis": {
            "gridcolor": "white",
            "linecolor": "white",
            "ticks": ""
           },
           "bgcolor": "#E5ECF6",
           "caxis": {
            "gridcolor": "white",
            "linecolor": "white",
            "ticks": ""
           }
          },
          "title": {
           "x": 0.05
          },
          "xaxis": {
           "automargin": true,
           "gridcolor": "white",
           "linecolor": "white",
           "ticks": "",
           "title": {
            "standoff": 15
           },
           "zerolinecolor": "white",
           "zerolinewidth": 2
          },
          "yaxis": {
           "automargin": true,
           "gridcolor": "white",
           "linecolor": "white",
           "ticks": "",
           "title": {
            "standoff": 15
           },
           "zerolinecolor": "white",
           "zerolinewidth": 2
          }
         }
        },
        "title": {
         "font": {
          "color": "#4D5663"
         }
        },
        "xaxis": {
         "gridcolor": "#E1E5ED",
         "showgrid": true,
         "tickfont": {
          "color": "#4D5663"
         },
         "title": {
          "font": {
           "color": "#4D5663"
          },
          "text": ""
         },
         "zerolinecolor": "#E1E5ED"
        },
        "xaxis2": {
         "anchor": "y2",
         "gridcolor": "#E1E5ED",
         "showgrid": true,
         "showticklabels": false,
         "tickfont": {
          "color": "#4D5663"
         },
         "title": {
          "font": {
           "color": "#4D5663"
          },
          "text": ""
         },
         "zerolinecolor": "#E1E5ED"
        },
        "yaxis": {
         "domain": [
          0.3,
          1
         ],
         "gridcolor": "#E1E5ED",
         "showgrid": true,
         "tickfont": {
          "color": "#4D5663"
         },
         "title": {
          "font": {
           "color": "#4D5663"
          },
          "text": ""
         },
         "zerolinecolor": "#E1E5ED"
        },
        "yaxis2": {
         "domain": [
          0,
          0.25
         ],
         "gridcolor": "#E1E5ED",
         "showgrid": true,
         "tickfont": {
          "color": "#4D5663"
         },
         "title": {
          "font": {
           "color": "#4D5663"
          },
          "text": "Spread"
         },
         "zerolinecolor": "#E1E5ED"
        }
       }
      },
      "text/html": [
       "<div>                            <div id=\"02742036-37f0-42c8-b686-c11f9a661100\" class=\"plotly-graph-div\" style=\"height:525px; width:100%;\"></div>            <script type=\"text/javascript\">                require([\"plotly\"], function(Plotly) {                    window.PLOTLYENV=window.PLOTLYENV || {};\n",
       "                    window.PLOTLYENV.BASE_URL='https://plot.ly';                                    if (document.getElementById(\"02742036-37f0-42c8-b686-c11f9a661100\")) {                    Plotly.newPlot(                        \"02742036-37f0-42c8-b686-c11f9a661100\",                        [{\"line\":{\"color\":\"rgba(255, 153, 51, 1.0)\",\"dash\":\"solid\",\"shape\":\"linear\",\"width\":1.3},\"mode\":\"lines\",\"name\":\"A\",\"text\":\"\",\"x\":[0,1,2,3,4,5,6,7,8,9,10,11,12,13,14,15,16,17,18,19,20,21,22,23,24,25,26,27,28,29,30,31,32,33,34,35,36,37,38,39,40,41,42,43,44,45,46,47,48,49,50,51,52,53,54,55,56,57,58,59,60,61,62,63,64,65,66,67,68,69,70,71,72,73,74,75,76,77,78,79,80,81,82,83,84,85,86,87,88,89,90,91,92,93,94,95,96,97,98,99],\"y\":[-1.2369250000725207,0.6473596835857014,-0.4576338812403941,1.3516406754529127,0.7400490122585802,0.25510972366488843,-1.0651127106807845,2.3917146406957177,-1.4679389463105594,0.8391765739801815,0.4275400882654248,0.16019668981205584,-0.6546600458002377,0.25412542709008795,0.5812567887503652,2.824949855418005,-0.31753914966873975,-1.1188413124275982,-1.4841744546525169,-0.6865651933187513,-0.42853193432899855,-0.12083131295141886,-1.221878323795664,-0.21561458823488314,-0.6307860927928218,-2.7228708574986076,-0.14450177790649302,-0.13376997897710408,-2.1398184114432217,-0.27717423900572963,0.32303226145341607,0.3196944117300218,0.18597203059934792,-0.3799543016021088,-1.0570470176616962,-1.0437146318646817,1.244589105638801,-0.04337519472915891,0.30445962279555866,-1.8154741203814067,-0.8887990983280419,-1.5770320135643106,-0.6197241790299651,0.7644478130818563,-0.029785981514331553,0.23798873536899082,0.9446448368549804,0.7613448633925672,0.14087615944824644,0.6789662147155467,-1.6009293240998381,-0.2598721191100311,-2.7010390549845638,-0.26171844799409383,-0.9532264629107607,-0.03094940289085503,2.221027207346979,-0.24580105092785837,0.8183072372593397,0.5713252247110742,-0.31740801327057744,-1.0604555041989718,2.0615159143161503,-0.1092063059271307,-1.183761123674222,0.8302419529454999,-0.7770729098525189,1.9288790251622796,-1.6447440687176327,2.2441800141523807,-1.0906365477452125,-0.5183838762682667,-0.7108962314761669,-1.150536488305488,1.175992686063915,2.032896845776216,0.35408398135278496,0.8631735515015497,-0.3051640736411098,1.3060739739788678,1.4258657965350854,1.5277233446501692,1.6820603839835706,2.143177075085741,-0.47631071552440274,-0.9258348620953202,-1.3563642994337253,0.4804089287943433,-0.37248548367288253,0.7844780851728226,0.8658452629035026,1.1774201175308285,2.3582276533948496,1.577825382866515,0.7451127400443657,0.5417536639361865,0.5538339949773834,-0.8830866917087877,0.3986237791716136,1.4054611931446328],\"type\":\"scatter\"},{\"line\":{\"color\":\"rgba(55, 128, 191, 1.0)\",\"dash\":\"solid\",\"shape\":\"linear\",\"width\":1.3},\"mode\":\"lines\",\"name\":\"B\",\"text\":\"\",\"x\":[0,1,2,3,4,5,6,7,8,9,10,11,12,13,14,15,16,17,18,19,20,21,22,23,24,25,26,27,28,29,30,31,32,33,34,35,36,37,38,39,40,41,42,43,44,45,46,47,48,49,50,51,52,53,54,55,56,57,58,59,60,61,62,63,64,65,66,67,68,69,70,71,72,73,74,75,76,77,78,79,80,81,82,83,84,85,86,87,88,89,90,91,92,93,94,95,96,97,98,99],\"y\":[-0.7698420862193472,-0.01761344336614215,-0.3686509050757071,-1.8714428775453267,1.988312377332831,-1.3694925212446596,-2.401861046922229,2.189063518367414,-0.6621720424869381,1.524830199372334,1.4325678710439211,0.2550436856316146,0.8589892106314515,1.8432136918947117,-1.1688456826211293,-1.515607620680818,-1.980287684188495,0.25328966866584374,-1.7739046333305717,0.8556947038213887,-0.5140998417635303,0.7223069066597191,0.39218572055196327,-0.18528948274597204,-0.04737676014181813,-0.11184810713112321,-0.06878806172071653,2.1147752527686583,0.03454371723819343,0.41196652639701076,-0.1281605512730255,1.9780250375126323,0.4491786287378268,0.5802485955833719,1.8130977866814353,1.1581563719854284,0.13656895481419654,-0.05096485569692876,0.3975911275865297,-2.407100495423285,-0.511101815832546,0.04656885644815061,-0.9653852690988891,1.0783208346025044,0.7551442633864494,-1.067561156982996,-1.6379049071327247,-0.4722769241659087,0.3479744630317592,0.5534559533175919,0.14931895908285625,-0.853566511765684,-0.6789447430531352,-0.14248196175510502,0.4066834180661509,-0.6562879392179125,0.34913669973456174,0.9022011491435852,-0.5713150913939063,1.5092160997551691,-0.7751297096205931,-0.2913856688677858,-0.3104074903415344,1.4033441419701584,0.7210651941738934,-1.9081400958723442,0.6467291739360184,0.42314805386297644,-1.4004503453459785,1.2200421037296094,0.609092067563452,-2.6755118760668073,0.6336658466514746,0.9300038752354216,1.3044851754888402,1.0413176800369963,-0.387193892665513,-0.361276679396097,0.38503462731182436,1.103668402883417,0.49031354112047426,-3.2077677410318635,0.20980464731512286,-0.05156654692620989,0.4548618578874998,-0.28081765560387134,0.011772750841938939,-0.3274067294413862,-0.5962238831091922,-1.4992843996535743,-0.6814237192311466,-0.36870526912415374,-0.1047288555309101,2.1506056914516782,-0.9839862105924292,1.092333878962264,0.11894918611924253,-0.4015425020670459,1.1142914730518803,-0.2967379401748048],\"type\":\"scatter\"},{\"connectgaps\":false,\"fill\":\"tozeroy\",\"line\":{\"color\":\"green\",\"dash\":\"solid\",\"shape\":\"linear\",\"width\":0.5},\"mode\":\"lines\",\"name\":\"Spread\",\"showlegend\":false,\"x\":[0,1,2,3,4,5,6,7,8,9,10,11,12,13,14,15,16,17,18,19,20,21,22,23,24,25,26,27,28,29,30,31,32,33,34,35,36,37,38,39,40,41,42,43,44,45,46,47,48,49,50,51,52,53,54,55,56,57,58,59,60,61,62,63,64,65,66,67,68,69,70,71,72,73,74,75,76,77,78,79,80,81,82,83,84,85,86,87,88,89,90,91,92,93,94,95,96,97,98,99],\"xaxis\":\"x2\",\"y\":[\"\",0.6649731269518435,\"\",3.223083552998239,\"\",1.624602244909548,1.3367483362414445,0.20265112232830385,\"\",\"\",\"\",\"\",\"\",\"\",1.7501024713714946,4.340557476098823,1.6627485345197552,\"\",0.28973017867805484,\"\",0.08556790743453174,\"\",\"\",\"\",\"\",\"\",\"\",\"\",\"\",\"\",0.45119281272644157,\"\",\"\",\"\",\"\",\"\",1.1080201508246044,0.0075896609677698484,\"\",0.5916263750418782,\"\",\"\",0.345661090068924,\"\",\"\",1.3055498923519868,2.582549743987705,1.233621787558476,\"\",0.12551026139795485,\"\",0.5936943926556528,\"\",\"\",\"\",0.6253385363270575,1.8718905076124173,\"\",1.389622328653246,\"\",0.4577216963500157,\"\",2.371923404657685,\"\",\"\",2.738382048817844,\"\",1.5057309712993032,\"\",1.0241379104227712,\"\",2.157127999798541,\"\",\"\",\"\",0.9915791657392199,0.7412778740182979,1.2244502308976468,\"\",0.20240557109545088,0.9355522554146112,4.735491085682033,1.4722557366684477,2.1947436220119507,\"\",\"\",\"\",0.8078156582357295,0.22373839943630963,2.283762484826397,1.5472689821346493,1.5461253866549822,2.46295650892576,\"\",1.7290989506367949,\"\",0.43488480885814085,\"\",\"\",1.7021991333194375],\"yaxis\":\"y2\",\"type\":\"scatter\"},{\"connectgaps\":false,\"fill\":\"tozeroy\",\"line\":{\"color\":\"red\",\"dash\":\"solid\",\"shape\":\"linear\",\"width\":0.5},\"mode\":\"lines\",\"name\":\"Spread\",\"showlegend\":false,\"x\":[0,1,2,3,4,5,6,7,8,9,10,11,12,13,14,15,16,17,18,19,20,21,22,23,24,25,26,27,28,29,30,31,32,33,34,35,36,37,38,39,40,41,42,43,44,45,46,47,48,49,50,51,52,53,54,55,56,57,58,59,60,61,62,63,64,65,66,67,68,69,70,71,72,73,74,75,76,77,78,79,80,81,82,83,84,85,86,87,88,89,90,91,92,93,94,95,96,97,98,99],\"xaxis\":\"x2\",\"y\":[-0.46708291385317346,\"\",-0.08898297616468703,\"\",-1.248263365074251,\"\",\"\",\"\",-0.8057669038236214,-0.6856536253921526,-1.0050277827784964,-0.09484699581955877,-1.5136492564316892,-1.5890882648046238,\"\",\"\",\"\",-1.372130981093442,\"\",-1.54225989714014,\"\",-0.8431382196111379,-1.6140640443476273,-0.030325105488911097,-0.5834093326510037,-2.6110227503674843,-0.07571371618577649,-2.248545231745762,-2.174362128681415,-0.6891407654027404,\"\",-1.6583306257826105,-0.2632065981384789,-0.9602028971854808,-2.8701448043431315,-2.20187100385011,\"\",\"\",-0.09313150479097104,\"\",-0.37769728249549595,-1.6236008700124611,\"\",-0.3138730215206481,-0.7849302449007809,\"\",\"\",\"\",-0.20709830358351278,\"\",-1.7502482831826944,\"\",-2.0220943119314283,-0.1192364862389888,-1.3599098809769117,\"\",\"\",-1.1480022000714436,\"\",-0.937890875044095,\"\",-0.769069835331186,\"\",-1.512550447897289,-1.9048263178481153,\"\",-1.4238020837885372,\"\",-0.24429372337165423,\"\",-1.6997286153086644,\"\",-1.3445620781276415,-2.0805403635409094,-0.1284924894249253,\"\",\"\",\"\",-0.6901987009529342,\"\",\"\",\"\",\"\",\"\",-0.9311725734119025,-0.6450172064914488,-1.3681370502756642,\"\",\"\",\"\",\"\",\"\",\"\",-0.5727803085851633,\"\",-0.5505802150260776,\"\",-0.48154418964174184,-0.7156676938802666,\"\"],\"yaxis\":\"y2\",\"type\":\"scatter\"}],                        {\"hovermode\":\"x\",\"legend\":{\"bgcolor\":\"#F5F6F9\",\"font\":{\"color\":\"#4D5663\"}},\"paper_bgcolor\":\"#F5F6F9\",\"plot_bgcolor\":\"#F5F6F9\",\"template\":{\"data\":{\"barpolar\":[{\"marker\":{\"line\":{\"color\":\"#E5ECF6\",\"width\":0.5},\"pattern\":{\"fillmode\":\"overlay\",\"size\":10,\"solidity\":0.2}},\"type\":\"barpolar\"}],\"bar\":[{\"error_x\":{\"color\":\"#2a3f5f\"},\"error_y\":{\"color\":\"#2a3f5f\"},\"marker\":{\"line\":{\"color\":\"#E5ECF6\",\"width\":0.5},\"pattern\":{\"fillmode\":\"overlay\",\"size\":10,\"solidity\":0.2}},\"type\":\"bar\"}],\"carpet\":[{\"aaxis\":{\"endlinecolor\":\"#2a3f5f\",\"gridcolor\":\"white\",\"linecolor\":\"white\",\"minorgridcolor\":\"white\",\"startlinecolor\":\"#2a3f5f\"},\"baxis\":{\"endlinecolor\":\"#2a3f5f\",\"gridcolor\":\"white\",\"linecolor\":\"white\",\"minorgridcolor\":\"white\",\"startlinecolor\":\"#2a3f5f\"},\"type\":\"carpet\"}],\"choropleth\":[{\"colorbar\":{\"outlinewidth\":0,\"ticks\":\"\"},\"type\":\"choropleth\"}],\"contourcarpet\":[{\"colorbar\":{\"outlinewidth\":0,\"ticks\":\"\"},\"type\":\"contourcarpet\"}],\"contour\":[{\"colorbar\":{\"outlinewidth\":0,\"ticks\":\"\"},\"colorscale\":[[0.0,\"#0d0887\"],[0.1111111111111111,\"#46039f\"],[0.2222222222222222,\"#7201a8\"],[0.3333333333333333,\"#9c179e\"],[0.4444444444444444,\"#bd3786\"],[0.5555555555555556,\"#d8576b\"],[0.6666666666666666,\"#ed7953\"],[0.7777777777777778,\"#fb9f3a\"],[0.8888888888888888,\"#fdca26\"],[1.0,\"#f0f921\"]],\"type\":\"contour\"}],\"heatmapgl\":[{\"colorbar\":{\"outlinewidth\":0,\"ticks\":\"\"},\"colorscale\":[[0.0,\"#0d0887\"],[0.1111111111111111,\"#46039f\"],[0.2222222222222222,\"#7201a8\"],[0.3333333333333333,\"#9c179e\"],[0.4444444444444444,\"#bd3786\"],[0.5555555555555556,\"#d8576b\"],[0.6666666666666666,\"#ed7953\"],[0.7777777777777778,\"#fb9f3a\"],[0.8888888888888888,\"#fdca26\"],[1.0,\"#f0f921\"]],\"type\":\"heatmapgl\"}],\"heatmap\":[{\"colorbar\":{\"outlinewidth\":0,\"ticks\":\"\"},\"colorscale\":[[0.0,\"#0d0887\"],[0.1111111111111111,\"#46039f\"],[0.2222222222222222,\"#7201a8\"],[0.3333333333333333,\"#9c179e\"],[0.4444444444444444,\"#bd3786\"],[0.5555555555555556,\"#d8576b\"],[0.6666666666666666,\"#ed7953\"],[0.7777777777777778,\"#fb9f3a\"],[0.8888888888888888,\"#fdca26\"],[1.0,\"#f0f921\"]],\"type\":\"heatmap\"}],\"histogram2dcontour\":[{\"colorbar\":{\"outlinewidth\":0,\"ticks\":\"\"},\"colorscale\":[[0.0,\"#0d0887\"],[0.1111111111111111,\"#46039f\"],[0.2222222222222222,\"#7201a8\"],[0.3333333333333333,\"#9c179e\"],[0.4444444444444444,\"#bd3786\"],[0.5555555555555556,\"#d8576b\"],[0.6666666666666666,\"#ed7953\"],[0.7777777777777778,\"#fb9f3a\"],[0.8888888888888888,\"#fdca26\"],[1.0,\"#f0f921\"]],\"type\":\"histogram2dcontour\"}],\"histogram2d\":[{\"colorbar\":{\"outlinewidth\":0,\"ticks\":\"\"},\"colorscale\":[[0.0,\"#0d0887\"],[0.1111111111111111,\"#46039f\"],[0.2222222222222222,\"#7201a8\"],[0.3333333333333333,\"#9c179e\"],[0.4444444444444444,\"#bd3786\"],[0.5555555555555556,\"#d8576b\"],[0.6666666666666666,\"#ed7953\"],[0.7777777777777778,\"#fb9f3a\"],[0.8888888888888888,\"#fdca26\"],[1.0,\"#f0f921\"]],\"type\":\"histogram2d\"}],\"histogram\":[{\"marker\":{\"pattern\":{\"fillmode\":\"overlay\",\"size\":10,\"solidity\":0.2}},\"type\":\"histogram\"}],\"mesh3d\":[{\"colorbar\":{\"outlinewidth\":0,\"ticks\":\"\"},\"type\":\"mesh3d\"}],\"parcoords\":[{\"line\":{\"colorbar\":{\"outlinewidth\":0,\"ticks\":\"\"}},\"type\":\"parcoords\"}],\"pie\":[{\"automargin\":true,\"type\":\"pie\"}],\"scatter3d\":[{\"line\":{\"colorbar\":{\"outlinewidth\":0,\"ticks\":\"\"}},\"marker\":{\"colorbar\":{\"outlinewidth\":0,\"ticks\":\"\"}},\"type\":\"scatter3d\"}],\"scattercarpet\":[{\"marker\":{\"colorbar\":{\"outlinewidth\":0,\"ticks\":\"\"}},\"type\":\"scattercarpet\"}],\"scattergeo\":[{\"marker\":{\"colorbar\":{\"outlinewidth\":0,\"ticks\":\"\"}},\"type\":\"scattergeo\"}],\"scattergl\":[{\"marker\":{\"colorbar\":{\"outlinewidth\":0,\"ticks\":\"\"}},\"type\":\"scattergl\"}],\"scattermapbox\":[{\"marker\":{\"colorbar\":{\"outlinewidth\":0,\"ticks\":\"\"}},\"type\":\"scattermapbox\"}],\"scatterpolargl\":[{\"marker\":{\"colorbar\":{\"outlinewidth\":0,\"ticks\":\"\"}},\"type\":\"scatterpolargl\"}],\"scatterpolar\":[{\"marker\":{\"colorbar\":{\"outlinewidth\":0,\"ticks\":\"\"}},\"type\":\"scatterpolar\"}],\"scatter\":[{\"marker\":{\"colorbar\":{\"outlinewidth\":0,\"ticks\":\"\"}},\"type\":\"scatter\"}],\"scatterternary\":[{\"marker\":{\"colorbar\":{\"outlinewidth\":0,\"ticks\":\"\"}},\"type\":\"scatterternary\"}],\"surface\":[{\"colorbar\":{\"outlinewidth\":0,\"ticks\":\"\"},\"colorscale\":[[0.0,\"#0d0887\"],[0.1111111111111111,\"#46039f\"],[0.2222222222222222,\"#7201a8\"],[0.3333333333333333,\"#9c179e\"],[0.4444444444444444,\"#bd3786\"],[0.5555555555555556,\"#d8576b\"],[0.6666666666666666,\"#ed7953\"],[0.7777777777777778,\"#fb9f3a\"],[0.8888888888888888,\"#fdca26\"],[1.0,\"#f0f921\"]],\"type\":\"surface\"}],\"table\":[{\"cells\":{\"fill\":{\"color\":\"#EBF0F8\"},\"line\":{\"color\":\"white\"}},\"header\":{\"fill\":{\"color\":\"#C8D4E3\"},\"line\":{\"color\":\"white\"}},\"type\":\"table\"}]},\"layout\":{\"annotationdefaults\":{\"arrowcolor\":\"#2a3f5f\",\"arrowhead\":0,\"arrowwidth\":1},\"autotypenumbers\":\"strict\",\"coloraxis\":{\"colorbar\":{\"outlinewidth\":0,\"ticks\":\"\"}},\"colorscale\":{\"diverging\":[[0,\"#8e0152\"],[0.1,\"#c51b7d\"],[0.2,\"#de77ae\"],[0.3,\"#f1b6da\"],[0.4,\"#fde0ef\"],[0.5,\"#f7f7f7\"],[0.6,\"#e6f5d0\"],[0.7,\"#b8e186\"],[0.8,\"#7fbc41\"],[0.9,\"#4d9221\"],[1,\"#276419\"]],\"sequential\":[[0.0,\"#0d0887\"],[0.1111111111111111,\"#46039f\"],[0.2222222222222222,\"#7201a8\"],[0.3333333333333333,\"#9c179e\"],[0.4444444444444444,\"#bd3786\"],[0.5555555555555556,\"#d8576b\"],[0.6666666666666666,\"#ed7953\"],[0.7777777777777778,\"#fb9f3a\"],[0.8888888888888888,\"#fdca26\"],[1.0,\"#f0f921\"]],\"sequentialminus\":[[0.0,\"#0d0887\"],[0.1111111111111111,\"#46039f\"],[0.2222222222222222,\"#7201a8\"],[0.3333333333333333,\"#9c179e\"],[0.4444444444444444,\"#bd3786\"],[0.5555555555555556,\"#d8576b\"],[0.6666666666666666,\"#ed7953\"],[0.7777777777777778,\"#fb9f3a\"],[0.8888888888888888,\"#fdca26\"],[1.0,\"#f0f921\"]]},\"colorway\":[\"#636efa\",\"#EF553B\",\"#00cc96\",\"#ab63fa\",\"#FFA15A\",\"#19d3f3\",\"#FF6692\",\"#B6E880\",\"#FF97FF\",\"#FECB52\"],\"font\":{\"color\":\"#2a3f5f\"},\"geo\":{\"bgcolor\":\"white\",\"lakecolor\":\"white\",\"landcolor\":\"#E5ECF6\",\"showlakes\":true,\"showland\":true,\"subunitcolor\":\"white\"},\"hoverlabel\":{\"align\":\"left\"},\"hovermode\":\"closest\",\"mapbox\":{\"style\":\"light\"},\"paper_bgcolor\":\"white\",\"plot_bgcolor\":\"#E5ECF6\",\"polar\":{\"angularaxis\":{\"gridcolor\":\"white\",\"linecolor\":\"white\",\"ticks\":\"\"},\"bgcolor\":\"#E5ECF6\",\"radialaxis\":{\"gridcolor\":\"white\",\"linecolor\":\"white\",\"ticks\":\"\"}},\"scene\":{\"xaxis\":{\"backgroundcolor\":\"#E5ECF6\",\"gridcolor\":\"white\",\"gridwidth\":2,\"linecolor\":\"white\",\"showbackground\":true,\"ticks\":\"\",\"zerolinecolor\":\"white\"},\"yaxis\":{\"backgroundcolor\":\"#E5ECF6\",\"gridcolor\":\"white\",\"gridwidth\":2,\"linecolor\":\"white\",\"showbackground\":true,\"ticks\":\"\",\"zerolinecolor\":\"white\"},\"zaxis\":{\"backgroundcolor\":\"#E5ECF6\",\"gridcolor\":\"white\",\"gridwidth\":2,\"linecolor\":\"white\",\"showbackground\":true,\"ticks\":\"\",\"zerolinecolor\":\"white\"}},\"shapedefaults\":{\"line\":{\"color\":\"#2a3f5f\"}},\"ternary\":{\"aaxis\":{\"gridcolor\":\"white\",\"linecolor\":\"white\",\"ticks\":\"\"},\"baxis\":{\"gridcolor\":\"white\",\"linecolor\":\"white\",\"ticks\":\"\"},\"bgcolor\":\"#E5ECF6\",\"caxis\":{\"gridcolor\":\"white\",\"linecolor\":\"white\",\"ticks\":\"\"}},\"title\":{\"x\":0.05},\"xaxis\":{\"automargin\":true,\"gridcolor\":\"white\",\"linecolor\":\"white\",\"ticks\":\"\",\"title\":{\"standoff\":15},\"zerolinecolor\":\"white\",\"zerolinewidth\":2},\"yaxis\":{\"automargin\":true,\"gridcolor\":\"white\",\"linecolor\":\"white\",\"ticks\":\"\",\"title\":{\"standoff\":15},\"zerolinecolor\":\"white\",\"zerolinewidth\":2}}},\"title\":{\"font\":{\"color\":\"#4D5663\"}},\"xaxis\":{\"gridcolor\":\"#E1E5ED\",\"showgrid\":true,\"tickfont\":{\"color\":\"#4D5663\"},\"title\":{\"font\":{\"color\":\"#4D5663\"},\"text\":\"\"},\"zerolinecolor\":\"#E1E5ED\"},\"yaxis\":{\"domain\":[0.3,1],\"gridcolor\":\"#E1E5ED\",\"showgrid\":true,\"tickfont\":{\"color\":\"#4D5663\"},\"title\":{\"font\":{\"color\":\"#4D5663\"},\"text\":\"\"},\"zerolinecolor\":\"#E1E5ED\"},\"yaxis2\":{\"domain\":[0,0.25],\"gridcolor\":\"#E1E5ED\",\"showgrid\":true,\"tickfont\":{\"color\":\"#4D5663\"},\"title\":{\"font\":{\"color\":\"#4D5663\"},\"text\":\"Spread\"},\"zerolinecolor\":\"#E1E5ED\"},\"xaxis2\":{\"anchor\":\"y2\",\"gridcolor\":\"#E1E5ED\",\"showgrid\":true,\"showticklabels\":false,\"tickfont\":{\"color\":\"#4D5663\"},\"title\":{\"font\":{\"color\":\"#4D5663\"},\"text\":\"\"},\"zerolinecolor\":\"#E1E5ED\"}},                        {\"showLink\": true, \"linkText\": \"Export to plot.ly\", \"plotlyServerURL\": \"https://plot.ly\", \"responsive\": true}                    ).then(function(){\n",
       "                            \n",
       "var gd = document.getElementById('02742036-37f0-42c8-b686-c11f9a661100');\n",
       "var x = new MutationObserver(function (mutations, observer) {{\n",
       "        var display = window.getComputedStyle(gd).display;\n",
       "        if (!display || display === 'none') {{\n",
       "            console.log([gd, 'removed!']);\n",
       "            Plotly.purge(gd);\n",
       "            observer.disconnect();\n",
       "        }}\n",
       "}});\n",
       "\n",
       "// Listen for the removal of the full notebook cells\n",
       "var notebookContainer = gd.closest('#notebook-container');\n",
       "if (notebookContainer) {{\n",
       "    x.observe(notebookContainer, {childList: true});\n",
       "}}\n",
       "\n",
       "// Listen for the clearing of the current output cell\n",
       "var outputEl = gd.closest('.output');\n",
       "if (outputEl) {{\n",
       "    x.observe(outputEl, {childList: true});\n",
       "}}\n",
       "\n",
       "                        })                };                });            </script>        </div>"
      ]
     },
     "metadata": {},
     "output_type": "display_data"
    }
   ],
   "source": [
    "df[['A','B']].iplot(kind='spread')"
   ]
  },
  {
   "cell_type": "markdown",
   "metadata": {},
   "source": [
    "## histogram"
   ]
  },
  {
   "cell_type": "code",
   "execution_count": 16,
   "metadata": {},
   "outputs": [
    {
     "data": {
      "application/vnd.plotly.v1+json": {
       "config": {
        "linkText": "Export to plot.ly",
        "plotlyServerURL": "https://plot.ly",
        "showLink": true
       },
       "data": [
        {
         "histfunc": "count",
         "histnorm": "",
         "marker": {
          "color": "rgba(255, 153, 51, 1.0)",
          "line": {
           "color": "#4D5663",
           "width": 1.3
          }
         },
         "name": "A",
         "nbinsx": 25,
         "opacity": 0.8,
         "orientation": "v",
         "type": "histogram",
         "x": [
          -1.2369250000725207,
          0.6473596835857014,
          -0.4576338812403941,
          1.3516406754529127,
          0.7400490122585802,
          0.25510972366488843,
          -1.0651127106807845,
          2.3917146406957177,
          -1.4679389463105594,
          0.8391765739801815,
          0.4275400882654248,
          0.16019668981205584,
          -0.6546600458002377,
          0.25412542709008795,
          0.5812567887503652,
          2.824949855418005,
          -0.31753914966873975,
          -1.1188413124275982,
          -1.4841744546525169,
          -0.6865651933187513,
          -0.42853193432899855,
          -0.12083131295141886,
          -1.221878323795664,
          -0.21561458823488314,
          -0.6307860927928218,
          -2.7228708574986076,
          -0.14450177790649302,
          -0.13376997897710408,
          -2.1398184114432217,
          -0.27717423900572963,
          0.32303226145341607,
          0.3196944117300218,
          0.18597203059934792,
          -0.3799543016021088,
          -1.0570470176616962,
          -1.0437146318646817,
          1.244589105638801,
          -0.04337519472915891,
          0.30445962279555866,
          -1.8154741203814067,
          -0.8887990983280419,
          -1.5770320135643106,
          -0.6197241790299651,
          0.7644478130818563,
          -0.029785981514331553,
          0.23798873536899082,
          0.9446448368549804,
          0.7613448633925672,
          0.14087615944824644,
          0.6789662147155467,
          -1.6009293240998381,
          -0.2598721191100311,
          -2.7010390549845638,
          -0.26171844799409383,
          -0.9532264629107607,
          -0.03094940289085503,
          2.221027207346979,
          -0.24580105092785837,
          0.8183072372593397,
          0.5713252247110742,
          -0.31740801327057744,
          -1.0604555041989718,
          2.0615159143161503,
          -0.1092063059271307,
          -1.183761123674222,
          0.8302419529454999,
          -0.7770729098525189,
          1.9288790251622796,
          -1.6447440687176327,
          2.2441800141523807,
          -1.0906365477452125,
          -0.5183838762682667,
          -0.7108962314761669,
          -1.150536488305488,
          1.175992686063915,
          2.032896845776216,
          0.35408398135278496,
          0.8631735515015497,
          -0.3051640736411098,
          1.3060739739788678,
          1.4258657965350854,
          1.5277233446501692,
          1.6820603839835706,
          2.143177075085741,
          -0.47631071552440274,
          -0.9258348620953202,
          -1.3563642994337253,
          0.4804089287943433,
          -0.37248548367288253,
          0.7844780851728226,
          0.8658452629035026,
          1.1774201175308285,
          2.3582276533948496,
          1.577825382866515,
          0.7451127400443657,
          0.5417536639361865,
          0.5538339949773834,
          -0.8830866917087877,
          0.3986237791716136,
          1.4054611931446328
         ]
        }
       ],
       "layout": {
        "barmode": "overlay",
        "legend": {
         "bgcolor": "#F5F6F9",
         "font": {
          "color": "#4D5663"
         }
        },
        "paper_bgcolor": "#F5F6F9",
        "plot_bgcolor": "#F5F6F9",
        "template": {
         "data": {
          "bar": [
           {
            "error_x": {
             "color": "#2a3f5f"
            },
            "error_y": {
             "color": "#2a3f5f"
            },
            "marker": {
             "line": {
              "color": "#E5ECF6",
              "width": 0.5
             },
             "pattern": {
              "fillmode": "overlay",
              "size": 10,
              "solidity": 0.2
             }
            },
            "type": "bar"
           }
          ],
          "barpolar": [
           {
            "marker": {
             "line": {
              "color": "#E5ECF6",
              "width": 0.5
             },
             "pattern": {
              "fillmode": "overlay",
              "size": 10,
              "solidity": 0.2
             }
            },
            "type": "barpolar"
           }
          ],
          "carpet": [
           {
            "aaxis": {
             "endlinecolor": "#2a3f5f",
             "gridcolor": "white",
             "linecolor": "white",
             "minorgridcolor": "white",
             "startlinecolor": "#2a3f5f"
            },
            "baxis": {
             "endlinecolor": "#2a3f5f",
             "gridcolor": "white",
             "linecolor": "white",
             "minorgridcolor": "white",
             "startlinecolor": "#2a3f5f"
            },
            "type": "carpet"
           }
          ],
          "choropleth": [
           {
            "colorbar": {
             "outlinewidth": 0,
             "ticks": ""
            },
            "type": "choropleth"
           }
          ],
          "contour": [
           {
            "colorbar": {
             "outlinewidth": 0,
             "ticks": ""
            },
            "colorscale": [
             [
              0,
              "#0d0887"
             ],
             [
              0.1111111111111111,
              "#46039f"
             ],
             [
              0.2222222222222222,
              "#7201a8"
             ],
             [
              0.3333333333333333,
              "#9c179e"
             ],
             [
              0.4444444444444444,
              "#bd3786"
             ],
             [
              0.5555555555555556,
              "#d8576b"
             ],
             [
              0.6666666666666666,
              "#ed7953"
             ],
             [
              0.7777777777777778,
              "#fb9f3a"
             ],
             [
              0.8888888888888888,
              "#fdca26"
             ],
             [
              1,
              "#f0f921"
             ]
            ],
            "type": "contour"
           }
          ],
          "contourcarpet": [
           {
            "colorbar": {
             "outlinewidth": 0,
             "ticks": ""
            },
            "type": "contourcarpet"
           }
          ],
          "heatmap": [
           {
            "colorbar": {
             "outlinewidth": 0,
             "ticks": ""
            },
            "colorscale": [
             [
              0,
              "#0d0887"
             ],
             [
              0.1111111111111111,
              "#46039f"
             ],
             [
              0.2222222222222222,
              "#7201a8"
             ],
             [
              0.3333333333333333,
              "#9c179e"
             ],
             [
              0.4444444444444444,
              "#bd3786"
             ],
             [
              0.5555555555555556,
              "#d8576b"
             ],
             [
              0.6666666666666666,
              "#ed7953"
             ],
             [
              0.7777777777777778,
              "#fb9f3a"
             ],
             [
              0.8888888888888888,
              "#fdca26"
             ],
             [
              1,
              "#f0f921"
             ]
            ],
            "type": "heatmap"
           }
          ],
          "heatmapgl": [
           {
            "colorbar": {
             "outlinewidth": 0,
             "ticks": ""
            },
            "colorscale": [
             [
              0,
              "#0d0887"
             ],
             [
              0.1111111111111111,
              "#46039f"
             ],
             [
              0.2222222222222222,
              "#7201a8"
             ],
             [
              0.3333333333333333,
              "#9c179e"
             ],
             [
              0.4444444444444444,
              "#bd3786"
             ],
             [
              0.5555555555555556,
              "#d8576b"
             ],
             [
              0.6666666666666666,
              "#ed7953"
             ],
             [
              0.7777777777777778,
              "#fb9f3a"
             ],
             [
              0.8888888888888888,
              "#fdca26"
             ],
             [
              1,
              "#f0f921"
             ]
            ],
            "type": "heatmapgl"
           }
          ],
          "histogram": [
           {
            "marker": {
             "pattern": {
              "fillmode": "overlay",
              "size": 10,
              "solidity": 0.2
             }
            },
            "type": "histogram"
           }
          ],
          "histogram2d": [
           {
            "colorbar": {
             "outlinewidth": 0,
             "ticks": ""
            },
            "colorscale": [
             [
              0,
              "#0d0887"
             ],
             [
              0.1111111111111111,
              "#46039f"
             ],
             [
              0.2222222222222222,
              "#7201a8"
             ],
             [
              0.3333333333333333,
              "#9c179e"
             ],
             [
              0.4444444444444444,
              "#bd3786"
             ],
             [
              0.5555555555555556,
              "#d8576b"
             ],
             [
              0.6666666666666666,
              "#ed7953"
             ],
             [
              0.7777777777777778,
              "#fb9f3a"
             ],
             [
              0.8888888888888888,
              "#fdca26"
             ],
             [
              1,
              "#f0f921"
             ]
            ],
            "type": "histogram2d"
           }
          ],
          "histogram2dcontour": [
           {
            "colorbar": {
             "outlinewidth": 0,
             "ticks": ""
            },
            "colorscale": [
             [
              0,
              "#0d0887"
             ],
             [
              0.1111111111111111,
              "#46039f"
             ],
             [
              0.2222222222222222,
              "#7201a8"
             ],
             [
              0.3333333333333333,
              "#9c179e"
             ],
             [
              0.4444444444444444,
              "#bd3786"
             ],
             [
              0.5555555555555556,
              "#d8576b"
             ],
             [
              0.6666666666666666,
              "#ed7953"
             ],
             [
              0.7777777777777778,
              "#fb9f3a"
             ],
             [
              0.8888888888888888,
              "#fdca26"
             ],
             [
              1,
              "#f0f921"
             ]
            ],
            "type": "histogram2dcontour"
           }
          ],
          "mesh3d": [
           {
            "colorbar": {
             "outlinewidth": 0,
             "ticks": ""
            },
            "type": "mesh3d"
           }
          ],
          "parcoords": [
           {
            "line": {
             "colorbar": {
              "outlinewidth": 0,
              "ticks": ""
             }
            },
            "type": "parcoords"
           }
          ],
          "pie": [
           {
            "automargin": true,
            "type": "pie"
           }
          ],
          "scatter": [
           {
            "marker": {
             "colorbar": {
              "outlinewidth": 0,
              "ticks": ""
             }
            },
            "type": "scatter"
           }
          ],
          "scatter3d": [
           {
            "line": {
             "colorbar": {
              "outlinewidth": 0,
              "ticks": ""
             }
            },
            "marker": {
             "colorbar": {
              "outlinewidth": 0,
              "ticks": ""
             }
            },
            "type": "scatter3d"
           }
          ],
          "scattercarpet": [
           {
            "marker": {
             "colorbar": {
              "outlinewidth": 0,
              "ticks": ""
             }
            },
            "type": "scattercarpet"
           }
          ],
          "scattergeo": [
           {
            "marker": {
             "colorbar": {
              "outlinewidth": 0,
              "ticks": ""
             }
            },
            "type": "scattergeo"
           }
          ],
          "scattergl": [
           {
            "marker": {
             "colorbar": {
              "outlinewidth": 0,
              "ticks": ""
             }
            },
            "type": "scattergl"
           }
          ],
          "scattermapbox": [
           {
            "marker": {
             "colorbar": {
              "outlinewidth": 0,
              "ticks": ""
             }
            },
            "type": "scattermapbox"
           }
          ],
          "scatterpolar": [
           {
            "marker": {
             "colorbar": {
              "outlinewidth": 0,
              "ticks": ""
             }
            },
            "type": "scatterpolar"
           }
          ],
          "scatterpolargl": [
           {
            "marker": {
             "colorbar": {
              "outlinewidth": 0,
              "ticks": ""
             }
            },
            "type": "scatterpolargl"
           }
          ],
          "scatterternary": [
           {
            "marker": {
             "colorbar": {
              "outlinewidth": 0,
              "ticks": ""
             }
            },
            "type": "scatterternary"
           }
          ],
          "surface": [
           {
            "colorbar": {
             "outlinewidth": 0,
             "ticks": ""
            },
            "colorscale": [
             [
              0,
              "#0d0887"
             ],
             [
              0.1111111111111111,
              "#46039f"
             ],
             [
              0.2222222222222222,
              "#7201a8"
             ],
             [
              0.3333333333333333,
              "#9c179e"
             ],
             [
              0.4444444444444444,
              "#bd3786"
             ],
             [
              0.5555555555555556,
              "#d8576b"
             ],
             [
              0.6666666666666666,
              "#ed7953"
             ],
             [
              0.7777777777777778,
              "#fb9f3a"
             ],
             [
              0.8888888888888888,
              "#fdca26"
             ],
             [
              1,
              "#f0f921"
             ]
            ],
            "type": "surface"
           }
          ],
          "table": [
           {
            "cells": {
             "fill": {
              "color": "#EBF0F8"
             },
             "line": {
              "color": "white"
             }
            },
            "header": {
             "fill": {
              "color": "#C8D4E3"
             },
             "line": {
              "color": "white"
             }
            },
            "type": "table"
           }
          ]
         },
         "layout": {
          "annotationdefaults": {
           "arrowcolor": "#2a3f5f",
           "arrowhead": 0,
           "arrowwidth": 1
          },
          "autotypenumbers": "strict",
          "coloraxis": {
           "colorbar": {
            "outlinewidth": 0,
            "ticks": ""
           }
          },
          "colorscale": {
           "diverging": [
            [
             0,
             "#8e0152"
            ],
            [
             0.1,
             "#c51b7d"
            ],
            [
             0.2,
             "#de77ae"
            ],
            [
             0.3,
             "#f1b6da"
            ],
            [
             0.4,
             "#fde0ef"
            ],
            [
             0.5,
             "#f7f7f7"
            ],
            [
             0.6,
             "#e6f5d0"
            ],
            [
             0.7,
             "#b8e186"
            ],
            [
             0.8,
             "#7fbc41"
            ],
            [
             0.9,
             "#4d9221"
            ],
            [
             1,
             "#276419"
            ]
           ],
           "sequential": [
            [
             0,
             "#0d0887"
            ],
            [
             0.1111111111111111,
             "#46039f"
            ],
            [
             0.2222222222222222,
             "#7201a8"
            ],
            [
             0.3333333333333333,
             "#9c179e"
            ],
            [
             0.4444444444444444,
             "#bd3786"
            ],
            [
             0.5555555555555556,
             "#d8576b"
            ],
            [
             0.6666666666666666,
             "#ed7953"
            ],
            [
             0.7777777777777778,
             "#fb9f3a"
            ],
            [
             0.8888888888888888,
             "#fdca26"
            ],
            [
             1,
             "#f0f921"
            ]
           ],
           "sequentialminus": [
            [
             0,
             "#0d0887"
            ],
            [
             0.1111111111111111,
             "#46039f"
            ],
            [
             0.2222222222222222,
             "#7201a8"
            ],
            [
             0.3333333333333333,
             "#9c179e"
            ],
            [
             0.4444444444444444,
             "#bd3786"
            ],
            [
             0.5555555555555556,
             "#d8576b"
            ],
            [
             0.6666666666666666,
             "#ed7953"
            ],
            [
             0.7777777777777778,
             "#fb9f3a"
            ],
            [
             0.8888888888888888,
             "#fdca26"
            ],
            [
             1,
             "#f0f921"
            ]
           ]
          },
          "colorway": [
           "#636efa",
           "#EF553B",
           "#00cc96",
           "#ab63fa",
           "#FFA15A",
           "#19d3f3",
           "#FF6692",
           "#B6E880",
           "#FF97FF",
           "#FECB52"
          ],
          "font": {
           "color": "#2a3f5f"
          },
          "geo": {
           "bgcolor": "white",
           "lakecolor": "white",
           "landcolor": "#E5ECF6",
           "showlakes": true,
           "showland": true,
           "subunitcolor": "white"
          },
          "hoverlabel": {
           "align": "left"
          },
          "hovermode": "closest",
          "mapbox": {
           "style": "light"
          },
          "paper_bgcolor": "white",
          "plot_bgcolor": "#E5ECF6",
          "polar": {
           "angularaxis": {
            "gridcolor": "white",
            "linecolor": "white",
            "ticks": ""
           },
           "bgcolor": "#E5ECF6",
           "radialaxis": {
            "gridcolor": "white",
            "linecolor": "white",
            "ticks": ""
           }
          },
          "scene": {
           "xaxis": {
            "backgroundcolor": "#E5ECF6",
            "gridcolor": "white",
            "gridwidth": 2,
            "linecolor": "white",
            "showbackground": true,
            "ticks": "",
            "zerolinecolor": "white"
           },
           "yaxis": {
            "backgroundcolor": "#E5ECF6",
            "gridcolor": "white",
            "gridwidth": 2,
            "linecolor": "white",
            "showbackground": true,
            "ticks": "",
            "zerolinecolor": "white"
           },
           "zaxis": {
            "backgroundcolor": "#E5ECF6",
            "gridcolor": "white",
            "gridwidth": 2,
            "linecolor": "white",
            "showbackground": true,
            "ticks": "",
            "zerolinecolor": "white"
           }
          },
          "shapedefaults": {
           "line": {
            "color": "#2a3f5f"
           }
          },
          "ternary": {
           "aaxis": {
            "gridcolor": "white",
            "linecolor": "white",
            "ticks": ""
           },
           "baxis": {
            "gridcolor": "white",
            "linecolor": "white",
            "ticks": ""
           },
           "bgcolor": "#E5ECF6",
           "caxis": {
            "gridcolor": "white",
            "linecolor": "white",
            "ticks": ""
           }
          },
          "title": {
           "x": 0.05
          },
          "xaxis": {
           "automargin": true,
           "gridcolor": "white",
           "linecolor": "white",
           "ticks": "",
           "title": {
            "standoff": 15
           },
           "zerolinecolor": "white",
           "zerolinewidth": 2
          },
          "yaxis": {
           "automargin": true,
           "gridcolor": "white",
           "linecolor": "white",
           "ticks": "",
           "title": {
            "standoff": 15
           },
           "zerolinecolor": "white",
           "zerolinewidth": 2
          }
         }
        },
        "title": {
         "font": {
          "color": "#4D5663"
         }
        },
        "xaxis": {
         "gridcolor": "#E1E5ED",
         "showgrid": true,
         "tickfont": {
          "color": "#4D5663"
         },
         "title": {
          "font": {
           "color": "#4D5663"
          },
          "text": ""
         },
         "zerolinecolor": "#E1E5ED"
        },
        "yaxis": {
         "gridcolor": "#E1E5ED",
         "showgrid": true,
         "tickfont": {
          "color": "#4D5663"
         },
         "title": {
          "font": {
           "color": "#4D5663"
          },
          "text": ""
         },
         "zerolinecolor": "#E1E5ED"
        }
       }
      },
      "text/html": [
       "<div>                            <div id=\"e72de1f9-c26b-41e7-bdb3-09bca4b92945\" class=\"plotly-graph-div\" style=\"height:525px; width:100%;\"></div>            <script type=\"text/javascript\">                require([\"plotly\"], function(Plotly) {                    window.PLOTLYENV=window.PLOTLYENV || {};\n",
       "                    window.PLOTLYENV.BASE_URL='https://plot.ly';                                    if (document.getElementById(\"e72de1f9-c26b-41e7-bdb3-09bca4b92945\")) {                    Plotly.newPlot(                        \"e72de1f9-c26b-41e7-bdb3-09bca4b92945\",                        [{\"histfunc\":\"count\",\"histnorm\":\"\",\"marker\":{\"color\":\"rgba(255, 153, 51, 1.0)\",\"line\":{\"color\":\"#4D5663\",\"width\":1.3}},\"name\":\"A\",\"nbinsx\":25,\"opacity\":0.8,\"orientation\":\"v\",\"x\":[-1.2369250000725207,0.6473596835857014,-0.4576338812403941,1.3516406754529127,0.7400490122585802,0.25510972366488843,-1.0651127106807845,2.3917146406957177,-1.4679389463105594,0.8391765739801815,0.4275400882654248,0.16019668981205584,-0.6546600458002377,0.25412542709008795,0.5812567887503652,2.824949855418005,-0.31753914966873975,-1.1188413124275982,-1.4841744546525169,-0.6865651933187513,-0.42853193432899855,-0.12083131295141886,-1.221878323795664,-0.21561458823488314,-0.6307860927928218,-2.7228708574986076,-0.14450177790649302,-0.13376997897710408,-2.1398184114432217,-0.27717423900572963,0.32303226145341607,0.3196944117300218,0.18597203059934792,-0.3799543016021088,-1.0570470176616962,-1.0437146318646817,1.244589105638801,-0.04337519472915891,0.30445962279555866,-1.8154741203814067,-0.8887990983280419,-1.5770320135643106,-0.6197241790299651,0.7644478130818563,-0.029785981514331553,0.23798873536899082,0.9446448368549804,0.7613448633925672,0.14087615944824644,0.6789662147155467,-1.6009293240998381,-0.2598721191100311,-2.7010390549845638,-0.26171844799409383,-0.9532264629107607,-0.03094940289085503,2.221027207346979,-0.24580105092785837,0.8183072372593397,0.5713252247110742,-0.31740801327057744,-1.0604555041989718,2.0615159143161503,-0.1092063059271307,-1.183761123674222,0.8302419529454999,-0.7770729098525189,1.9288790251622796,-1.6447440687176327,2.2441800141523807,-1.0906365477452125,-0.5183838762682667,-0.7108962314761669,-1.150536488305488,1.175992686063915,2.032896845776216,0.35408398135278496,0.8631735515015497,-0.3051640736411098,1.3060739739788678,1.4258657965350854,1.5277233446501692,1.6820603839835706,2.143177075085741,-0.47631071552440274,-0.9258348620953202,-1.3563642994337253,0.4804089287943433,-0.37248548367288253,0.7844780851728226,0.8658452629035026,1.1774201175308285,2.3582276533948496,1.577825382866515,0.7451127400443657,0.5417536639361865,0.5538339949773834,-0.8830866917087877,0.3986237791716136,1.4054611931446328],\"type\":\"histogram\"}],                        {\"barmode\":\"overlay\",\"legend\":{\"bgcolor\":\"#F5F6F9\",\"font\":{\"color\":\"#4D5663\"}},\"paper_bgcolor\":\"#F5F6F9\",\"plot_bgcolor\":\"#F5F6F9\",\"template\":{\"data\":{\"barpolar\":[{\"marker\":{\"line\":{\"color\":\"#E5ECF6\",\"width\":0.5},\"pattern\":{\"fillmode\":\"overlay\",\"size\":10,\"solidity\":0.2}},\"type\":\"barpolar\"}],\"bar\":[{\"error_x\":{\"color\":\"#2a3f5f\"},\"error_y\":{\"color\":\"#2a3f5f\"},\"marker\":{\"line\":{\"color\":\"#E5ECF6\",\"width\":0.5},\"pattern\":{\"fillmode\":\"overlay\",\"size\":10,\"solidity\":0.2}},\"type\":\"bar\"}],\"carpet\":[{\"aaxis\":{\"endlinecolor\":\"#2a3f5f\",\"gridcolor\":\"white\",\"linecolor\":\"white\",\"minorgridcolor\":\"white\",\"startlinecolor\":\"#2a3f5f\"},\"baxis\":{\"endlinecolor\":\"#2a3f5f\",\"gridcolor\":\"white\",\"linecolor\":\"white\",\"minorgridcolor\":\"white\",\"startlinecolor\":\"#2a3f5f\"},\"type\":\"carpet\"}],\"choropleth\":[{\"colorbar\":{\"outlinewidth\":0,\"ticks\":\"\"},\"type\":\"choropleth\"}],\"contourcarpet\":[{\"colorbar\":{\"outlinewidth\":0,\"ticks\":\"\"},\"type\":\"contourcarpet\"}],\"contour\":[{\"colorbar\":{\"outlinewidth\":0,\"ticks\":\"\"},\"colorscale\":[[0.0,\"#0d0887\"],[0.1111111111111111,\"#46039f\"],[0.2222222222222222,\"#7201a8\"],[0.3333333333333333,\"#9c179e\"],[0.4444444444444444,\"#bd3786\"],[0.5555555555555556,\"#d8576b\"],[0.6666666666666666,\"#ed7953\"],[0.7777777777777778,\"#fb9f3a\"],[0.8888888888888888,\"#fdca26\"],[1.0,\"#f0f921\"]],\"type\":\"contour\"}],\"heatmapgl\":[{\"colorbar\":{\"outlinewidth\":0,\"ticks\":\"\"},\"colorscale\":[[0.0,\"#0d0887\"],[0.1111111111111111,\"#46039f\"],[0.2222222222222222,\"#7201a8\"],[0.3333333333333333,\"#9c179e\"],[0.4444444444444444,\"#bd3786\"],[0.5555555555555556,\"#d8576b\"],[0.6666666666666666,\"#ed7953\"],[0.7777777777777778,\"#fb9f3a\"],[0.8888888888888888,\"#fdca26\"],[1.0,\"#f0f921\"]],\"type\":\"heatmapgl\"}],\"heatmap\":[{\"colorbar\":{\"outlinewidth\":0,\"ticks\":\"\"},\"colorscale\":[[0.0,\"#0d0887\"],[0.1111111111111111,\"#46039f\"],[0.2222222222222222,\"#7201a8\"],[0.3333333333333333,\"#9c179e\"],[0.4444444444444444,\"#bd3786\"],[0.5555555555555556,\"#d8576b\"],[0.6666666666666666,\"#ed7953\"],[0.7777777777777778,\"#fb9f3a\"],[0.8888888888888888,\"#fdca26\"],[1.0,\"#f0f921\"]],\"type\":\"heatmap\"}],\"histogram2dcontour\":[{\"colorbar\":{\"outlinewidth\":0,\"ticks\":\"\"},\"colorscale\":[[0.0,\"#0d0887\"],[0.1111111111111111,\"#46039f\"],[0.2222222222222222,\"#7201a8\"],[0.3333333333333333,\"#9c179e\"],[0.4444444444444444,\"#bd3786\"],[0.5555555555555556,\"#d8576b\"],[0.6666666666666666,\"#ed7953\"],[0.7777777777777778,\"#fb9f3a\"],[0.8888888888888888,\"#fdca26\"],[1.0,\"#f0f921\"]],\"type\":\"histogram2dcontour\"}],\"histogram2d\":[{\"colorbar\":{\"outlinewidth\":0,\"ticks\":\"\"},\"colorscale\":[[0.0,\"#0d0887\"],[0.1111111111111111,\"#46039f\"],[0.2222222222222222,\"#7201a8\"],[0.3333333333333333,\"#9c179e\"],[0.4444444444444444,\"#bd3786\"],[0.5555555555555556,\"#d8576b\"],[0.6666666666666666,\"#ed7953\"],[0.7777777777777778,\"#fb9f3a\"],[0.8888888888888888,\"#fdca26\"],[1.0,\"#f0f921\"]],\"type\":\"histogram2d\"}],\"histogram\":[{\"marker\":{\"pattern\":{\"fillmode\":\"overlay\",\"size\":10,\"solidity\":0.2}},\"type\":\"histogram\"}],\"mesh3d\":[{\"colorbar\":{\"outlinewidth\":0,\"ticks\":\"\"},\"type\":\"mesh3d\"}],\"parcoords\":[{\"line\":{\"colorbar\":{\"outlinewidth\":0,\"ticks\":\"\"}},\"type\":\"parcoords\"}],\"pie\":[{\"automargin\":true,\"type\":\"pie\"}],\"scatter3d\":[{\"line\":{\"colorbar\":{\"outlinewidth\":0,\"ticks\":\"\"}},\"marker\":{\"colorbar\":{\"outlinewidth\":0,\"ticks\":\"\"}},\"type\":\"scatter3d\"}],\"scattercarpet\":[{\"marker\":{\"colorbar\":{\"outlinewidth\":0,\"ticks\":\"\"}},\"type\":\"scattercarpet\"}],\"scattergeo\":[{\"marker\":{\"colorbar\":{\"outlinewidth\":0,\"ticks\":\"\"}},\"type\":\"scattergeo\"}],\"scattergl\":[{\"marker\":{\"colorbar\":{\"outlinewidth\":0,\"ticks\":\"\"}},\"type\":\"scattergl\"}],\"scattermapbox\":[{\"marker\":{\"colorbar\":{\"outlinewidth\":0,\"ticks\":\"\"}},\"type\":\"scattermapbox\"}],\"scatterpolargl\":[{\"marker\":{\"colorbar\":{\"outlinewidth\":0,\"ticks\":\"\"}},\"type\":\"scatterpolargl\"}],\"scatterpolar\":[{\"marker\":{\"colorbar\":{\"outlinewidth\":0,\"ticks\":\"\"}},\"type\":\"scatterpolar\"}],\"scatter\":[{\"marker\":{\"colorbar\":{\"outlinewidth\":0,\"ticks\":\"\"}},\"type\":\"scatter\"}],\"scatterternary\":[{\"marker\":{\"colorbar\":{\"outlinewidth\":0,\"ticks\":\"\"}},\"type\":\"scatterternary\"}],\"surface\":[{\"colorbar\":{\"outlinewidth\":0,\"ticks\":\"\"},\"colorscale\":[[0.0,\"#0d0887\"],[0.1111111111111111,\"#46039f\"],[0.2222222222222222,\"#7201a8\"],[0.3333333333333333,\"#9c179e\"],[0.4444444444444444,\"#bd3786\"],[0.5555555555555556,\"#d8576b\"],[0.6666666666666666,\"#ed7953\"],[0.7777777777777778,\"#fb9f3a\"],[0.8888888888888888,\"#fdca26\"],[1.0,\"#f0f921\"]],\"type\":\"surface\"}],\"table\":[{\"cells\":{\"fill\":{\"color\":\"#EBF0F8\"},\"line\":{\"color\":\"white\"}},\"header\":{\"fill\":{\"color\":\"#C8D4E3\"},\"line\":{\"color\":\"white\"}},\"type\":\"table\"}]},\"layout\":{\"annotationdefaults\":{\"arrowcolor\":\"#2a3f5f\",\"arrowhead\":0,\"arrowwidth\":1},\"autotypenumbers\":\"strict\",\"coloraxis\":{\"colorbar\":{\"outlinewidth\":0,\"ticks\":\"\"}},\"colorscale\":{\"diverging\":[[0,\"#8e0152\"],[0.1,\"#c51b7d\"],[0.2,\"#de77ae\"],[0.3,\"#f1b6da\"],[0.4,\"#fde0ef\"],[0.5,\"#f7f7f7\"],[0.6,\"#e6f5d0\"],[0.7,\"#b8e186\"],[0.8,\"#7fbc41\"],[0.9,\"#4d9221\"],[1,\"#276419\"]],\"sequential\":[[0.0,\"#0d0887\"],[0.1111111111111111,\"#46039f\"],[0.2222222222222222,\"#7201a8\"],[0.3333333333333333,\"#9c179e\"],[0.4444444444444444,\"#bd3786\"],[0.5555555555555556,\"#d8576b\"],[0.6666666666666666,\"#ed7953\"],[0.7777777777777778,\"#fb9f3a\"],[0.8888888888888888,\"#fdca26\"],[1.0,\"#f0f921\"]],\"sequentialminus\":[[0.0,\"#0d0887\"],[0.1111111111111111,\"#46039f\"],[0.2222222222222222,\"#7201a8\"],[0.3333333333333333,\"#9c179e\"],[0.4444444444444444,\"#bd3786\"],[0.5555555555555556,\"#d8576b\"],[0.6666666666666666,\"#ed7953\"],[0.7777777777777778,\"#fb9f3a\"],[0.8888888888888888,\"#fdca26\"],[1.0,\"#f0f921\"]]},\"colorway\":[\"#636efa\",\"#EF553B\",\"#00cc96\",\"#ab63fa\",\"#FFA15A\",\"#19d3f3\",\"#FF6692\",\"#B6E880\",\"#FF97FF\",\"#FECB52\"],\"font\":{\"color\":\"#2a3f5f\"},\"geo\":{\"bgcolor\":\"white\",\"lakecolor\":\"white\",\"landcolor\":\"#E5ECF6\",\"showlakes\":true,\"showland\":true,\"subunitcolor\":\"white\"},\"hoverlabel\":{\"align\":\"left\"},\"hovermode\":\"closest\",\"mapbox\":{\"style\":\"light\"},\"paper_bgcolor\":\"white\",\"plot_bgcolor\":\"#E5ECF6\",\"polar\":{\"angularaxis\":{\"gridcolor\":\"white\",\"linecolor\":\"white\",\"ticks\":\"\"},\"bgcolor\":\"#E5ECF6\",\"radialaxis\":{\"gridcolor\":\"white\",\"linecolor\":\"white\",\"ticks\":\"\"}},\"scene\":{\"xaxis\":{\"backgroundcolor\":\"#E5ECF6\",\"gridcolor\":\"white\",\"gridwidth\":2,\"linecolor\":\"white\",\"showbackground\":true,\"ticks\":\"\",\"zerolinecolor\":\"white\"},\"yaxis\":{\"backgroundcolor\":\"#E5ECF6\",\"gridcolor\":\"white\",\"gridwidth\":2,\"linecolor\":\"white\",\"showbackground\":true,\"ticks\":\"\",\"zerolinecolor\":\"white\"},\"zaxis\":{\"backgroundcolor\":\"#E5ECF6\",\"gridcolor\":\"white\",\"gridwidth\":2,\"linecolor\":\"white\",\"showbackground\":true,\"ticks\":\"\",\"zerolinecolor\":\"white\"}},\"shapedefaults\":{\"line\":{\"color\":\"#2a3f5f\"}},\"ternary\":{\"aaxis\":{\"gridcolor\":\"white\",\"linecolor\":\"white\",\"ticks\":\"\"},\"baxis\":{\"gridcolor\":\"white\",\"linecolor\":\"white\",\"ticks\":\"\"},\"bgcolor\":\"#E5ECF6\",\"caxis\":{\"gridcolor\":\"white\",\"linecolor\":\"white\",\"ticks\":\"\"}},\"title\":{\"x\":0.05},\"xaxis\":{\"automargin\":true,\"gridcolor\":\"white\",\"linecolor\":\"white\",\"ticks\":\"\",\"title\":{\"standoff\":15},\"zerolinecolor\":\"white\",\"zerolinewidth\":2},\"yaxis\":{\"automargin\":true,\"gridcolor\":\"white\",\"linecolor\":\"white\",\"ticks\":\"\",\"title\":{\"standoff\":15},\"zerolinecolor\":\"white\",\"zerolinewidth\":2}}},\"title\":{\"font\":{\"color\":\"#4D5663\"}},\"xaxis\":{\"gridcolor\":\"#E1E5ED\",\"showgrid\":true,\"tickfont\":{\"color\":\"#4D5663\"},\"title\":{\"font\":{\"color\":\"#4D5663\"},\"text\":\"\"},\"zerolinecolor\":\"#E1E5ED\"},\"yaxis\":{\"gridcolor\":\"#E1E5ED\",\"showgrid\":true,\"tickfont\":{\"color\":\"#4D5663\"},\"title\":{\"font\":{\"color\":\"#4D5663\"},\"text\":\"\"},\"zerolinecolor\":\"#E1E5ED\"}},                        {\"showLink\": true, \"linkText\": \"Export to plot.ly\", \"plotlyServerURL\": \"https://plot.ly\", \"responsive\": true}                    ).then(function(){\n",
       "                            \n",
       "var gd = document.getElementById('e72de1f9-c26b-41e7-bdb3-09bca4b92945');\n",
       "var x = new MutationObserver(function (mutations, observer) {{\n",
       "        var display = window.getComputedStyle(gd).display;\n",
       "        if (!display || display === 'none') {{\n",
       "            console.log([gd, 'removed!']);\n",
       "            Plotly.purge(gd);\n",
       "            observer.disconnect();\n",
       "        }}\n",
       "}});\n",
       "\n",
       "// Listen for the removal of the full notebook cells\n",
       "var notebookContainer = gd.closest('#notebook-container');\n",
       "if (notebookContainer) {{\n",
       "    x.observe(notebookContainer, {childList: true});\n",
       "}}\n",
       "\n",
       "// Listen for the clearing of the current output cell\n",
       "var outputEl = gd.closest('.output');\n",
       "if (outputEl) {{\n",
       "    x.observe(outputEl, {childList: true});\n",
       "}}\n",
       "\n",
       "                        })                };                });            </script>        </div>"
      ]
     },
     "metadata": {},
     "output_type": "display_data"
    }
   ],
   "source": [
    "df['A'].iplot(kind='hist',bins=25)"
   ]
  },
  {
   "cell_type": "code",
   "execution_count": 17,
   "metadata": {},
   "outputs": [
    {
     "data": {
      "application/vnd.plotly.v1+json": {
       "config": {
        "linkText": "Export to plot.ly",
        "plotlyServerURL": "https://plot.ly",
        "showLink": true
       },
       "data": [
        {
         "marker": {
          "color": [
           "rgb(255, 153, 51)",
           "rgb(55, 128, 191)",
           "rgb(50, 171, 96)",
           "rgb(128, 0, 128)",
           "rgb(219, 64, 82)",
           "rgb(0, 128, 128)",
           "rgb(255, 255, 51)",
           "rgb(128, 128, 0)",
           "rgb(251, 128, 114)",
           "rgb(128, 177, 211)"
          ],
          "line": {
           "width": 1.3
          },
          "size": [
           55,
           57,
           57,
           25,
           74,
           62,
           51,
           49,
           46,
           48,
           101,
           47,
           57,
           78,
           26,
           63,
           85,
           65,
           54,
           61,
           100,
           60,
           64,
           58,
           58,
           45,
           55,
           56,
           62,
           65,
           54,
           13,
           78,
           57,
           58,
           41,
           67,
           38,
           48,
           66,
           23,
           81,
           50,
           41,
           56,
           12,
           78,
           36,
           112,
           74,
           43,
           69,
           49,
           66,
           61,
           59,
           77,
           50,
           58,
           44,
           53,
           60,
           27,
           26,
           65,
           80,
           55,
           65,
           12,
           56,
           99,
           48,
           38,
           29,
           66,
           51,
           59,
           96,
           71,
           58,
           42,
           69,
           33,
           74,
           43,
           41,
           56,
           42,
           54,
           62,
           81,
           80,
           52,
           60,
           74,
           87,
           32,
           36,
           22,
           48
          ],
          "symbol": "circle"
         },
         "mode": "markers",
         "text": "",
         "type": "scatter",
         "x": [
          -1.2369250000725207,
          0.6473596835857014,
          -0.4576338812403941,
          1.3516406754529127,
          0.7400490122585802,
          0.25510972366488843,
          -1.0651127106807845,
          2.3917146406957177,
          -1.4679389463105594,
          0.8391765739801815,
          0.4275400882654248,
          0.16019668981205584,
          -0.6546600458002377,
          0.25412542709008795,
          0.5812567887503652,
          2.824949855418005,
          -0.31753914966873975,
          -1.1188413124275982,
          -1.4841744546525169,
          -0.6865651933187513,
          -0.42853193432899855,
          -0.12083131295141886,
          -1.221878323795664,
          -0.21561458823488314,
          -0.6307860927928218,
          -2.7228708574986076,
          -0.14450177790649302,
          -0.13376997897710408,
          -2.1398184114432217,
          -0.27717423900572963,
          0.32303226145341607,
          0.3196944117300218,
          0.18597203059934792,
          -0.3799543016021088,
          -1.0570470176616962,
          -1.0437146318646817,
          1.244589105638801,
          -0.04337519472915891,
          0.30445962279555866,
          -1.8154741203814067,
          -0.8887990983280419,
          -1.5770320135643106,
          -0.6197241790299651,
          0.7644478130818563,
          -0.029785981514331553,
          0.23798873536899082,
          0.9446448368549804,
          0.7613448633925672,
          0.14087615944824644,
          0.6789662147155467,
          -1.6009293240998381,
          -0.2598721191100311,
          -2.7010390549845638,
          -0.26171844799409383,
          -0.9532264629107607,
          -0.03094940289085503,
          2.221027207346979,
          -0.24580105092785837,
          0.8183072372593397,
          0.5713252247110742,
          -0.31740801327057744,
          -1.0604555041989718,
          2.0615159143161503,
          -0.1092063059271307,
          -1.183761123674222,
          0.8302419529454999,
          -0.7770729098525189,
          1.9288790251622796,
          -1.6447440687176327,
          2.2441800141523807,
          -1.0906365477452125,
          -0.5183838762682667,
          -0.7108962314761669,
          -1.150536488305488,
          1.175992686063915,
          2.032896845776216,
          0.35408398135278496,
          0.8631735515015497,
          -0.3051640736411098,
          1.3060739739788678,
          1.4258657965350854,
          1.5277233446501692,
          1.6820603839835706,
          2.143177075085741,
          -0.47631071552440274,
          -0.9258348620953202,
          -1.3563642994337253,
          0.4804089287943433,
          -0.37248548367288253,
          0.7844780851728226,
          0.8658452629035026,
          1.1774201175308285,
          2.3582276533948496,
          1.577825382866515,
          0.7451127400443657,
          0.5417536639361865,
          0.5538339949773834,
          -0.8830866917087877,
          0.3986237791716136,
          1.4054611931446328
         ],
         "y": [
          -0.7698420862193472,
          -0.01761344336614215,
          -0.3686509050757071,
          -1.8714428775453267,
          1.988312377332831,
          -1.3694925212446596,
          -2.401861046922229,
          2.189063518367414,
          -0.6621720424869381,
          1.524830199372334,
          1.4325678710439211,
          0.2550436856316146,
          0.8589892106314515,
          1.8432136918947117,
          -1.1688456826211293,
          -1.515607620680818,
          -1.980287684188495,
          0.25328966866584374,
          -1.7739046333305717,
          0.8556947038213887,
          -0.5140998417635303,
          0.7223069066597191,
          0.39218572055196327,
          -0.18528948274597204,
          -0.04737676014181813,
          -0.11184810713112321,
          -0.06878806172071653,
          2.1147752527686583,
          0.03454371723819343,
          0.41196652639701076,
          -0.1281605512730255,
          1.9780250375126323,
          0.4491786287378268,
          0.5802485955833719,
          1.8130977866814353,
          1.1581563719854284,
          0.13656895481419654,
          -0.05096485569692876,
          0.3975911275865297,
          -2.407100495423285,
          -0.511101815832546,
          0.04656885644815061,
          -0.9653852690988891,
          1.0783208346025044,
          0.7551442633864494,
          -1.067561156982996,
          -1.6379049071327247,
          -0.4722769241659087,
          0.3479744630317592,
          0.5534559533175919,
          0.14931895908285625,
          -0.853566511765684,
          -0.6789447430531352,
          -0.14248196175510502,
          0.4066834180661509,
          -0.6562879392179125,
          0.34913669973456174,
          0.9022011491435852,
          -0.5713150913939063,
          1.5092160997551691,
          -0.7751297096205931,
          -0.2913856688677858,
          -0.3104074903415344,
          1.4033441419701584,
          0.7210651941738934,
          -1.9081400958723442,
          0.6467291739360184,
          0.42314805386297644,
          -1.4004503453459785,
          1.2200421037296094,
          0.609092067563452,
          -2.6755118760668073,
          0.6336658466514746,
          0.9300038752354216,
          1.3044851754888402,
          1.0413176800369963,
          -0.387193892665513,
          -0.361276679396097,
          0.38503462731182436,
          1.103668402883417,
          0.49031354112047426,
          -3.2077677410318635,
          0.20980464731512286,
          -0.05156654692620989,
          0.4548618578874998,
          -0.28081765560387134,
          0.011772750841938939,
          -0.3274067294413862,
          -0.5962238831091922,
          -1.4992843996535743,
          -0.6814237192311466,
          -0.36870526912415374,
          -0.1047288555309101,
          2.1506056914516782,
          -0.9839862105924292,
          1.092333878962264,
          0.11894918611924253,
          -0.4015425020670459,
          1.1142914730518803,
          -0.2967379401748048
         ]
        }
       ],
       "layout": {
        "legend": {
         "bgcolor": "#F5F6F9",
         "font": {
          "color": "#4D5663"
         }
        },
        "paper_bgcolor": "#F5F6F9",
        "plot_bgcolor": "#F5F6F9",
        "template": {
         "data": {
          "bar": [
           {
            "error_x": {
             "color": "#2a3f5f"
            },
            "error_y": {
             "color": "#2a3f5f"
            },
            "marker": {
             "line": {
              "color": "#E5ECF6",
              "width": 0.5
             },
             "pattern": {
              "fillmode": "overlay",
              "size": 10,
              "solidity": 0.2
             }
            },
            "type": "bar"
           }
          ],
          "barpolar": [
           {
            "marker": {
             "line": {
              "color": "#E5ECF6",
              "width": 0.5
             },
             "pattern": {
              "fillmode": "overlay",
              "size": 10,
              "solidity": 0.2
             }
            },
            "type": "barpolar"
           }
          ],
          "carpet": [
           {
            "aaxis": {
             "endlinecolor": "#2a3f5f",
             "gridcolor": "white",
             "linecolor": "white",
             "minorgridcolor": "white",
             "startlinecolor": "#2a3f5f"
            },
            "baxis": {
             "endlinecolor": "#2a3f5f",
             "gridcolor": "white",
             "linecolor": "white",
             "minorgridcolor": "white",
             "startlinecolor": "#2a3f5f"
            },
            "type": "carpet"
           }
          ],
          "choropleth": [
           {
            "colorbar": {
             "outlinewidth": 0,
             "ticks": ""
            },
            "type": "choropleth"
           }
          ],
          "contour": [
           {
            "colorbar": {
             "outlinewidth": 0,
             "ticks": ""
            },
            "colorscale": [
             [
              0,
              "#0d0887"
             ],
             [
              0.1111111111111111,
              "#46039f"
             ],
             [
              0.2222222222222222,
              "#7201a8"
             ],
             [
              0.3333333333333333,
              "#9c179e"
             ],
             [
              0.4444444444444444,
              "#bd3786"
             ],
             [
              0.5555555555555556,
              "#d8576b"
             ],
             [
              0.6666666666666666,
              "#ed7953"
             ],
             [
              0.7777777777777778,
              "#fb9f3a"
             ],
             [
              0.8888888888888888,
              "#fdca26"
             ],
             [
              1,
              "#f0f921"
             ]
            ],
            "type": "contour"
           }
          ],
          "contourcarpet": [
           {
            "colorbar": {
             "outlinewidth": 0,
             "ticks": ""
            },
            "type": "contourcarpet"
           }
          ],
          "heatmap": [
           {
            "colorbar": {
             "outlinewidth": 0,
             "ticks": ""
            },
            "colorscale": [
             [
              0,
              "#0d0887"
             ],
             [
              0.1111111111111111,
              "#46039f"
             ],
             [
              0.2222222222222222,
              "#7201a8"
             ],
             [
              0.3333333333333333,
              "#9c179e"
             ],
             [
              0.4444444444444444,
              "#bd3786"
             ],
             [
              0.5555555555555556,
              "#d8576b"
             ],
             [
              0.6666666666666666,
              "#ed7953"
             ],
             [
              0.7777777777777778,
              "#fb9f3a"
             ],
             [
              0.8888888888888888,
              "#fdca26"
             ],
             [
              1,
              "#f0f921"
             ]
            ],
            "type": "heatmap"
           }
          ],
          "heatmapgl": [
           {
            "colorbar": {
             "outlinewidth": 0,
             "ticks": ""
            },
            "colorscale": [
             [
              0,
              "#0d0887"
             ],
             [
              0.1111111111111111,
              "#46039f"
             ],
             [
              0.2222222222222222,
              "#7201a8"
             ],
             [
              0.3333333333333333,
              "#9c179e"
             ],
             [
              0.4444444444444444,
              "#bd3786"
             ],
             [
              0.5555555555555556,
              "#d8576b"
             ],
             [
              0.6666666666666666,
              "#ed7953"
             ],
             [
              0.7777777777777778,
              "#fb9f3a"
             ],
             [
              0.8888888888888888,
              "#fdca26"
             ],
             [
              1,
              "#f0f921"
             ]
            ],
            "type": "heatmapgl"
           }
          ],
          "histogram": [
           {
            "marker": {
             "pattern": {
              "fillmode": "overlay",
              "size": 10,
              "solidity": 0.2
             }
            },
            "type": "histogram"
           }
          ],
          "histogram2d": [
           {
            "colorbar": {
             "outlinewidth": 0,
             "ticks": ""
            },
            "colorscale": [
             [
              0,
              "#0d0887"
             ],
             [
              0.1111111111111111,
              "#46039f"
             ],
             [
              0.2222222222222222,
              "#7201a8"
             ],
             [
              0.3333333333333333,
              "#9c179e"
             ],
             [
              0.4444444444444444,
              "#bd3786"
             ],
             [
              0.5555555555555556,
              "#d8576b"
             ],
             [
              0.6666666666666666,
              "#ed7953"
             ],
             [
              0.7777777777777778,
              "#fb9f3a"
             ],
             [
              0.8888888888888888,
              "#fdca26"
             ],
             [
              1,
              "#f0f921"
             ]
            ],
            "type": "histogram2d"
           }
          ],
          "histogram2dcontour": [
           {
            "colorbar": {
             "outlinewidth": 0,
             "ticks": ""
            },
            "colorscale": [
             [
              0,
              "#0d0887"
             ],
             [
              0.1111111111111111,
              "#46039f"
             ],
             [
              0.2222222222222222,
              "#7201a8"
             ],
             [
              0.3333333333333333,
              "#9c179e"
             ],
             [
              0.4444444444444444,
              "#bd3786"
             ],
             [
              0.5555555555555556,
              "#d8576b"
             ],
             [
              0.6666666666666666,
              "#ed7953"
             ],
             [
              0.7777777777777778,
              "#fb9f3a"
             ],
             [
              0.8888888888888888,
              "#fdca26"
             ],
             [
              1,
              "#f0f921"
             ]
            ],
            "type": "histogram2dcontour"
           }
          ],
          "mesh3d": [
           {
            "colorbar": {
             "outlinewidth": 0,
             "ticks": ""
            },
            "type": "mesh3d"
           }
          ],
          "parcoords": [
           {
            "line": {
             "colorbar": {
              "outlinewidth": 0,
              "ticks": ""
             }
            },
            "type": "parcoords"
           }
          ],
          "pie": [
           {
            "automargin": true,
            "type": "pie"
           }
          ],
          "scatter": [
           {
            "marker": {
             "colorbar": {
              "outlinewidth": 0,
              "ticks": ""
             }
            },
            "type": "scatter"
           }
          ],
          "scatter3d": [
           {
            "line": {
             "colorbar": {
              "outlinewidth": 0,
              "ticks": ""
             }
            },
            "marker": {
             "colorbar": {
              "outlinewidth": 0,
              "ticks": ""
             }
            },
            "type": "scatter3d"
           }
          ],
          "scattercarpet": [
           {
            "marker": {
             "colorbar": {
              "outlinewidth": 0,
              "ticks": ""
             }
            },
            "type": "scattercarpet"
           }
          ],
          "scattergeo": [
           {
            "marker": {
             "colorbar": {
              "outlinewidth": 0,
              "ticks": ""
             }
            },
            "type": "scattergeo"
           }
          ],
          "scattergl": [
           {
            "marker": {
             "colorbar": {
              "outlinewidth": 0,
              "ticks": ""
             }
            },
            "type": "scattergl"
           }
          ],
          "scattermapbox": [
           {
            "marker": {
             "colorbar": {
              "outlinewidth": 0,
              "ticks": ""
             }
            },
            "type": "scattermapbox"
           }
          ],
          "scatterpolar": [
           {
            "marker": {
             "colorbar": {
              "outlinewidth": 0,
              "ticks": ""
             }
            },
            "type": "scatterpolar"
           }
          ],
          "scatterpolargl": [
           {
            "marker": {
             "colorbar": {
              "outlinewidth": 0,
              "ticks": ""
             }
            },
            "type": "scatterpolargl"
           }
          ],
          "scatterternary": [
           {
            "marker": {
             "colorbar": {
              "outlinewidth": 0,
              "ticks": ""
             }
            },
            "type": "scatterternary"
           }
          ],
          "surface": [
           {
            "colorbar": {
             "outlinewidth": 0,
             "ticks": ""
            },
            "colorscale": [
             [
              0,
              "#0d0887"
             ],
             [
              0.1111111111111111,
              "#46039f"
             ],
             [
              0.2222222222222222,
              "#7201a8"
             ],
             [
              0.3333333333333333,
              "#9c179e"
             ],
             [
              0.4444444444444444,
              "#bd3786"
             ],
             [
              0.5555555555555556,
              "#d8576b"
             ],
             [
              0.6666666666666666,
              "#ed7953"
             ],
             [
              0.7777777777777778,
              "#fb9f3a"
             ],
             [
              0.8888888888888888,
              "#fdca26"
             ],
             [
              1,
              "#f0f921"
             ]
            ],
            "type": "surface"
           }
          ],
          "table": [
           {
            "cells": {
             "fill": {
              "color": "#EBF0F8"
             },
             "line": {
              "color": "white"
             }
            },
            "header": {
             "fill": {
              "color": "#C8D4E3"
             },
             "line": {
              "color": "white"
             }
            },
            "type": "table"
           }
          ]
         },
         "layout": {
          "annotationdefaults": {
           "arrowcolor": "#2a3f5f",
           "arrowhead": 0,
           "arrowwidth": 1
          },
          "autotypenumbers": "strict",
          "coloraxis": {
           "colorbar": {
            "outlinewidth": 0,
            "ticks": ""
           }
          },
          "colorscale": {
           "diverging": [
            [
             0,
             "#8e0152"
            ],
            [
             0.1,
             "#c51b7d"
            ],
            [
             0.2,
             "#de77ae"
            ],
            [
             0.3,
             "#f1b6da"
            ],
            [
             0.4,
             "#fde0ef"
            ],
            [
             0.5,
             "#f7f7f7"
            ],
            [
             0.6,
             "#e6f5d0"
            ],
            [
             0.7,
             "#b8e186"
            ],
            [
             0.8,
             "#7fbc41"
            ],
            [
             0.9,
             "#4d9221"
            ],
            [
             1,
             "#276419"
            ]
           ],
           "sequential": [
            [
             0,
             "#0d0887"
            ],
            [
             0.1111111111111111,
             "#46039f"
            ],
            [
             0.2222222222222222,
             "#7201a8"
            ],
            [
             0.3333333333333333,
             "#9c179e"
            ],
            [
             0.4444444444444444,
             "#bd3786"
            ],
            [
             0.5555555555555556,
             "#d8576b"
            ],
            [
             0.6666666666666666,
             "#ed7953"
            ],
            [
             0.7777777777777778,
             "#fb9f3a"
            ],
            [
             0.8888888888888888,
             "#fdca26"
            ],
            [
             1,
             "#f0f921"
            ]
           ],
           "sequentialminus": [
            [
             0,
             "#0d0887"
            ],
            [
             0.1111111111111111,
             "#46039f"
            ],
            [
             0.2222222222222222,
             "#7201a8"
            ],
            [
             0.3333333333333333,
             "#9c179e"
            ],
            [
             0.4444444444444444,
             "#bd3786"
            ],
            [
             0.5555555555555556,
             "#d8576b"
            ],
            [
             0.6666666666666666,
             "#ed7953"
            ],
            [
             0.7777777777777778,
             "#fb9f3a"
            ],
            [
             0.8888888888888888,
             "#fdca26"
            ],
            [
             1,
             "#f0f921"
            ]
           ]
          },
          "colorway": [
           "#636efa",
           "#EF553B",
           "#00cc96",
           "#ab63fa",
           "#FFA15A",
           "#19d3f3",
           "#FF6692",
           "#B6E880",
           "#FF97FF",
           "#FECB52"
          ],
          "font": {
           "color": "#2a3f5f"
          },
          "geo": {
           "bgcolor": "white",
           "lakecolor": "white",
           "landcolor": "#E5ECF6",
           "showlakes": true,
           "showland": true,
           "subunitcolor": "white"
          },
          "hoverlabel": {
           "align": "left"
          },
          "hovermode": "closest",
          "mapbox": {
           "style": "light"
          },
          "paper_bgcolor": "white",
          "plot_bgcolor": "#E5ECF6",
          "polar": {
           "angularaxis": {
            "gridcolor": "white",
            "linecolor": "white",
            "ticks": ""
           },
           "bgcolor": "#E5ECF6",
           "radialaxis": {
            "gridcolor": "white",
            "linecolor": "white",
            "ticks": ""
           }
          },
          "scene": {
           "xaxis": {
            "backgroundcolor": "#E5ECF6",
            "gridcolor": "white",
            "gridwidth": 2,
            "linecolor": "white",
            "showbackground": true,
            "ticks": "",
            "zerolinecolor": "white"
           },
           "yaxis": {
            "backgroundcolor": "#E5ECF6",
            "gridcolor": "white",
            "gridwidth": 2,
            "linecolor": "white",
            "showbackground": true,
            "ticks": "",
            "zerolinecolor": "white"
           },
           "zaxis": {
            "backgroundcolor": "#E5ECF6",
            "gridcolor": "white",
            "gridwidth": 2,
            "linecolor": "white",
            "showbackground": true,
            "ticks": "",
            "zerolinecolor": "white"
           }
          },
          "shapedefaults": {
           "line": {
            "color": "#2a3f5f"
           }
          },
          "ternary": {
           "aaxis": {
            "gridcolor": "white",
            "linecolor": "white",
            "ticks": ""
           },
           "baxis": {
            "gridcolor": "white",
            "linecolor": "white",
            "ticks": ""
           },
           "bgcolor": "#E5ECF6",
           "caxis": {
            "gridcolor": "white",
            "linecolor": "white",
            "ticks": ""
           }
          },
          "title": {
           "x": 0.05
          },
          "xaxis": {
           "automargin": true,
           "gridcolor": "white",
           "linecolor": "white",
           "ticks": "",
           "title": {
            "standoff": 15
           },
           "zerolinecolor": "white",
           "zerolinewidth": 2
          },
          "yaxis": {
           "automargin": true,
           "gridcolor": "white",
           "linecolor": "white",
           "ticks": "",
           "title": {
            "standoff": 15
           },
           "zerolinecolor": "white",
           "zerolinewidth": 2
          }
         }
        },
        "title": {
         "font": {
          "color": "#4D5663"
         }
        },
        "xaxis": {
         "gridcolor": "#E1E5ED",
         "showgrid": true,
         "tickfont": {
          "color": "#4D5663"
         },
         "title": {
          "font": {
           "color": "#4D5663"
          },
          "text": ""
         },
         "zerolinecolor": "#E1E5ED"
        },
        "yaxis": {
         "gridcolor": "#E1E5ED",
         "showgrid": true,
         "tickfont": {
          "color": "#4D5663"
         },
         "title": {
          "font": {
           "color": "#4D5663"
          },
          "text": ""
         },
         "zerolinecolor": "#E1E5ED"
        }
       }
      },
      "text/html": [
       "<div>                            <div id=\"2d874388-e558-472e-9e24-1237e670a35d\" class=\"plotly-graph-div\" style=\"height:525px; width:100%;\"></div>            <script type=\"text/javascript\">                require([\"plotly\"], function(Plotly) {                    window.PLOTLYENV=window.PLOTLYENV || {};\n",
       "                    window.PLOTLYENV.BASE_URL='https://plot.ly';                                    if (document.getElementById(\"2d874388-e558-472e-9e24-1237e670a35d\")) {                    Plotly.newPlot(                        \"2d874388-e558-472e-9e24-1237e670a35d\",                        [{\"marker\":{\"color\":[\"rgb(255, 153, 51)\",\"rgb(55, 128, 191)\",\"rgb(50, 171, 96)\",\"rgb(128, 0, 128)\",\"rgb(219, 64, 82)\",\"rgb(0, 128, 128)\",\"rgb(255, 255, 51)\",\"rgb(128, 128, 0)\",\"rgb(251, 128, 114)\",\"rgb(128, 177, 211)\"],\"line\":{\"width\":1.3},\"size\":[55,57,57,25,74,62,51,49,46,48,101,47,57,78,26,63,85,65,54,61,100,60,64,58,58,45,55,56,62,65,54,13,78,57,58,41,67,38,48,66,23,81,50,41,56,12,78,36,112,74,43,69,49,66,61,59,77,50,58,44,53,60,27,26,65,80,55,65,12,56,99,48,38,29,66,51,59,96,71,58,42,69,33,74,43,41,56,42,54,62,81,80,52,60,74,87,32,36,22,48],\"symbol\":\"circle\"},\"mode\":\"markers\",\"text\":\"\",\"x\":[-1.2369250000725207,0.6473596835857014,-0.4576338812403941,1.3516406754529127,0.7400490122585802,0.25510972366488843,-1.0651127106807845,2.3917146406957177,-1.4679389463105594,0.8391765739801815,0.4275400882654248,0.16019668981205584,-0.6546600458002377,0.25412542709008795,0.5812567887503652,2.824949855418005,-0.31753914966873975,-1.1188413124275982,-1.4841744546525169,-0.6865651933187513,-0.42853193432899855,-0.12083131295141886,-1.221878323795664,-0.21561458823488314,-0.6307860927928218,-2.7228708574986076,-0.14450177790649302,-0.13376997897710408,-2.1398184114432217,-0.27717423900572963,0.32303226145341607,0.3196944117300218,0.18597203059934792,-0.3799543016021088,-1.0570470176616962,-1.0437146318646817,1.244589105638801,-0.04337519472915891,0.30445962279555866,-1.8154741203814067,-0.8887990983280419,-1.5770320135643106,-0.6197241790299651,0.7644478130818563,-0.029785981514331553,0.23798873536899082,0.9446448368549804,0.7613448633925672,0.14087615944824644,0.6789662147155467,-1.6009293240998381,-0.2598721191100311,-2.7010390549845638,-0.26171844799409383,-0.9532264629107607,-0.03094940289085503,2.221027207346979,-0.24580105092785837,0.8183072372593397,0.5713252247110742,-0.31740801327057744,-1.0604555041989718,2.0615159143161503,-0.1092063059271307,-1.183761123674222,0.8302419529454999,-0.7770729098525189,1.9288790251622796,-1.6447440687176327,2.2441800141523807,-1.0906365477452125,-0.5183838762682667,-0.7108962314761669,-1.150536488305488,1.175992686063915,2.032896845776216,0.35408398135278496,0.8631735515015497,-0.3051640736411098,1.3060739739788678,1.4258657965350854,1.5277233446501692,1.6820603839835706,2.143177075085741,-0.47631071552440274,-0.9258348620953202,-1.3563642994337253,0.4804089287943433,-0.37248548367288253,0.7844780851728226,0.8658452629035026,1.1774201175308285,2.3582276533948496,1.577825382866515,0.7451127400443657,0.5417536639361865,0.5538339949773834,-0.8830866917087877,0.3986237791716136,1.4054611931446328],\"y\":[-0.7698420862193472,-0.01761344336614215,-0.3686509050757071,-1.8714428775453267,1.988312377332831,-1.3694925212446596,-2.401861046922229,2.189063518367414,-0.6621720424869381,1.524830199372334,1.4325678710439211,0.2550436856316146,0.8589892106314515,1.8432136918947117,-1.1688456826211293,-1.515607620680818,-1.980287684188495,0.25328966866584374,-1.7739046333305717,0.8556947038213887,-0.5140998417635303,0.7223069066597191,0.39218572055196327,-0.18528948274597204,-0.04737676014181813,-0.11184810713112321,-0.06878806172071653,2.1147752527686583,0.03454371723819343,0.41196652639701076,-0.1281605512730255,1.9780250375126323,0.4491786287378268,0.5802485955833719,1.8130977866814353,1.1581563719854284,0.13656895481419654,-0.05096485569692876,0.3975911275865297,-2.407100495423285,-0.511101815832546,0.04656885644815061,-0.9653852690988891,1.0783208346025044,0.7551442633864494,-1.067561156982996,-1.6379049071327247,-0.4722769241659087,0.3479744630317592,0.5534559533175919,0.14931895908285625,-0.853566511765684,-0.6789447430531352,-0.14248196175510502,0.4066834180661509,-0.6562879392179125,0.34913669973456174,0.9022011491435852,-0.5713150913939063,1.5092160997551691,-0.7751297096205931,-0.2913856688677858,-0.3104074903415344,1.4033441419701584,0.7210651941738934,-1.9081400958723442,0.6467291739360184,0.42314805386297644,-1.4004503453459785,1.2200421037296094,0.609092067563452,-2.6755118760668073,0.6336658466514746,0.9300038752354216,1.3044851754888402,1.0413176800369963,-0.387193892665513,-0.361276679396097,0.38503462731182436,1.103668402883417,0.49031354112047426,-3.2077677410318635,0.20980464731512286,-0.05156654692620989,0.4548618578874998,-0.28081765560387134,0.011772750841938939,-0.3274067294413862,-0.5962238831091922,-1.4992843996535743,-0.6814237192311466,-0.36870526912415374,-0.1047288555309101,2.1506056914516782,-0.9839862105924292,1.092333878962264,0.11894918611924253,-0.4015425020670459,1.1142914730518803,-0.2967379401748048],\"type\":\"scatter\"}],                        {\"legend\":{\"bgcolor\":\"#F5F6F9\",\"font\":{\"color\":\"#4D5663\"}},\"paper_bgcolor\":\"#F5F6F9\",\"plot_bgcolor\":\"#F5F6F9\",\"template\":{\"data\":{\"barpolar\":[{\"marker\":{\"line\":{\"color\":\"#E5ECF6\",\"width\":0.5},\"pattern\":{\"fillmode\":\"overlay\",\"size\":10,\"solidity\":0.2}},\"type\":\"barpolar\"}],\"bar\":[{\"error_x\":{\"color\":\"#2a3f5f\"},\"error_y\":{\"color\":\"#2a3f5f\"},\"marker\":{\"line\":{\"color\":\"#E5ECF6\",\"width\":0.5},\"pattern\":{\"fillmode\":\"overlay\",\"size\":10,\"solidity\":0.2}},\"type\":\"bar\"}],\"carpet\":[{\"aaxis\":{\"endlinecolor\":\"#2a3f5f\",\"gridcolor\":\"white\",\"linecolor\":\"white\",\"minorgridcolor\":\"white\",\"startlinecolor\":\"#2a3f5f\"},\"baxis\":{\"endlinecolor\":\"#2a3f5f\",\"gridcolor\":\"white\",\"linecolor\":\"white\",\"minorgridcolor\":\"white\",\"startlinecolor\":\"#2a3f5f\"},\"type\":\"carpet\"}],\"choropleth\":[{\"colorbar\":{\"outlinewidth\":0,\"ticks\":\"\"},\"type\":\"choropleth\"}],\"contourcarpet\":[{\"colorbar\":{\"outlinewidth\":0,\"ticks\":\"\"},\"type\":\"contourcarpet\"}],\"contour\":[{\"colorbar\":{\"outlinewidth\":0,\"ticks\":\"\"},\"colorscale\":[[0.0,\"#0d0887\"],[0.1111111111111111,\"#46039f\"],[0.2222222222222222,\"#7201a8\"],[0.3333333333333333,\"#9c179e\"],[0.4444444444444444,\"#bd3786\"],[0.5555555555555556,\"#d8576b\"],[0.6666666666666666,\"#ed7953\"],[0.7777777777777778,\"#fb9f3a\"],[0.8888888888888888,\"#fdca26\"],[1.0,\"#f0f921\"]],\"type\":\"contour\"}],\"heatmapgl\":[{\"colorbar\":{\"outlinewidth\":0,\"ticks\":\"\"},\"colorscale\":[[0.0,\"#0d0887\"],[0.1111111111111111,\"#46039f\"],[0.2222222222222222,\"#7201a8\"],[0.3333333333333333,\"#9c179e\"],[0.4444444444444444,\"#bd3786\"],[0.5555555555555556,\"#d8576b\"],[0.6666666666666666,\"#ed7953\"],[0.7777777777777778,\"#fb9f3a\"],[0.8888888888888888,\"#fdca26\"],[1.0,\"#f0f921\"]],\"type\":\"heatmapgl\"}],\"heatmap\":[{\"colorbar\":{\"outlinewidth\":0,\"ticks\":\"\"},\"colorscale\":[[0.0,\"#0d0887\"],[0.1111111111111111,\"#46039f\"],[0.2222222222222222,\"#7201a8\"],[0.3333333333333333,\"#9c179e\"],[0.4444444444444444,\"#bd3786\"],[0.5555555555555556,\"#d8576b\"],[0.6666666666666666,\"#ed7953\"],[0.7777777777777778,\"#fb9f3a\"],[0.8888888888888888,\"#fdca26\"],[1.0,\"#f0f921\"]],\"type\":\"heatmap\"}],\"histogram2dcontour\":[{\"colorbar\":{\"outlinewidth\":0,\"ticks\":\"\"},\"colorscale\":[[0.0,\"#0d0887\"],[0.1111111111111111,\"#46039f\"],[0.2222222222222222,\"#7201a8\"],[0.3333333333333333,\"#9c179e\"],[0.4444444444444444,\"#bd3786\"],[0.5555555555555556,\"#d8576b\"],[0.6666666666666666,\"#ed7953\"],[0.7777777777777778,\"#fb9f3a\"],[0.8888888888888888,\"#fdca26\"],[1.0,\"#f0f921\"]],\"type\":\"histogram2dcontour\"}],\"histogram2d\":[{\"colorbar\":{\"outlinewidth\":0,\"ticks\":\"\"},\"colorscale\":[[0.0,\"#0d0887\"],[0.1111111111111111,\"#46039f\"],[0.2222222222222222,\"#7201a8\"],[0.3333333333333333,\"#9c179e\"],[0.4444444444444444,\"#bd3786\"],[0.5555555555555556,\"#d8576b\"],[0.6666666666666666,\"#ed7953\"],[0.7777777777777778,\"#fb9f3a\"],[0.8888888888888888,\"#fdca26\"],[1.0,\"#f0f921\"]],\"type\":\"histogram2d\"}],\"histogram\":[{\"marker\":{\"pattern\":{\"fillmode\":\"overlay\",\"size\":10,\"solidity\":0.2}},\"type\":\"histogram\"}],\"mesh3d\":[{\"colorbar\":{\"outlinewidth\":0,\"ticks\":\"\"},\"type\":\"mesh3d\"}],\"parcoords\":[{\"line\":{\"colorbar\":{\"outlinewidth\":0,\"ticks\":\"\"}},\"type\":\"parcoords\"}],\"pie\":[{\"automargin\":true,\"type\":\"pie\"}],\"scatter3d\":[{\"line\":{\"colorbar\":{\"outlinewidth\":0,\"ticks\":\"\"}},\"marker\":{\"colorbar\":{\"outlinewidth\":0,\"ticks\":\"\"}},\"type\":\"scatter3d\"}],\"scattercarpet\":[{\"marker\":{\"colorbar\":{\"outlinewidth\":0,\"ticks\":\"\"}},\"type\":\"scattercarpet\"}],\"scattergeo\":[{\"marker\":{\"colorbar\":{\"outlinewidth\":0,\"ticks\":\"\"}},\"type\":\"scattergeo\"}],\"scattergl\":[{\"marker\":{\"colorbar\":{\"outlinewidth\":0,\"ticks\":\"\"}},\"type\":\"scattergl\"}],\"scattermapbox\":[{\"marker\":{\"colorbar\":{\"outlinewidth\":0,\"ticks\":\"\"}},\"type\":\"scattermapbox\"}],\"scatterpolargl\":[{\"marker\":{\"colorbar\":{\"outlinewidth\":0,\"ticks\":\"\"}},\"type\":\"scatterpolargl\"}],\"scatterpolar\":[{\"marker\":{\"colorbar\":{\"outlinewidth\":0,\"ticks\":\"\"}},\"type\":\"scatterpolar\"}],\"scatter\":[{\"marker\":{\"colorbar\":{\"outlinewidth\":0,\"ticks\":\"\"}},\"type\":\"scatter\"}],\"scatterternary\":[{\"marker\":{\"colorbar\":{\"outlinewidth\":0,\"ticks\":\"\"}},\"type\":\"scatterternary\"}],\"surface\":[{\"colorbar\":{\"outlinewidth\":0,\"ticks\":\"\"},\"colorscale\":[[0.0,\"#0d0887\"],[0.1111111111111111,\"#46039f\"],[0.2222222222222222,\"#7201a8\"],[0.3333333333333333,\"#9c179e\"],[0.4444444444444444,\"#bd3786\"],[0.5555555555555556,\"#d8576b\"],[0.6666666666666666,\"#ed7953\"],[0.7777777777777778,\"#fb9f3a\"],[0.8888888888888888,\"#fdca26\"],[1.0,\"#f0f921\"]],\"type\":\"surface\"}],\"table\":[{\"cells\":{\"fill\":{\"color\":\"#EBF0F8\"},\"line\":{\"color\":\"white\"}},\"header\":{\"fill\":{\"color\":\"#C8D4E3\"},\"line\":{\"color\":\"white\"}},\"type\":\"table\"}]},\"layout\":{\"annotationdefaults\":{\"arrowcolor\":\"#2a3f5f\",\"arrowhead\":0,\"arrowwidth\":1},\"autotypenumbers\":\"strict\",\"coloraxis\":{\"colorbar\":{\"outlinewidth\":0,\"ticks\":\"\"}},\"colorscale\":{\"diverging\":[[0,\"#8e0152\"],[0.1,\"#c51b7d\"],[0.2,\"#de77ae\"],[0.3,\"#f1b6da\"],[0.4,\"#fde0ef\"],[0.5,\"#f7f7f7\"],[0.6,\"#e6f5d0\"],[0.7,\"#b8e186\"],[0.8,\"#7fbc41\"],[0.9,\"#4d9221\"],[1,\"#276419\"]],\"sequential\":[[0.0,\"#0d0887\"],[0.1111111111111111,\"#46039f\"],[0.2222222222222222,\"#7201a8\"],[0.3333333333333333,\"#9c179e\"],[0.4444444444444444,\"#bd3786\"],[0.5555555555555556,\"#d8576b\"],[0.6666666666666666,\"#ed7953\"],[0.7777777777777778,\"#fb9f3a\"],[0.8888888888888888,\"#fdca26\"],[1.0,\"#f0f921\"]],\"sequentialminus\":[[0.0,\"#0d0887\"],[0.1111111111111111,\"#46039f\"],[0.2222222222222222,\"#7201a8\"],[0.3333333333333333,\"#9c179e\"],[0.4444444444444444,\"#bd3786\"],[0.5555555555555556,\"#d8576b\"],[0.6666666666666666,\"#ed7953\"],[0.7777777777777778,\"#fb9f3a\"],[0.8888888888888888,\"#fdca26\"],[1.0,\"#f0f921\"]]},\"colorway\":[\"#636efa\",\"#EF553B\",\"#00cc96\",\"#ab63fa\",\"#FFA15A\",\"#19d3f3\",\"#FF6692\",\"#B6E880\",\"#FF97FF\",\"#FECB52\"],\"font\":{\"color\":\"#2a3f5f\"},\"geo\":{\"bgcolor\":\"white\",\"lakecolor\":\"white\",\"landcolor\":\"#E5ECF6\",\"showlakes\":true,\"showland\":true,\"subunitcolor\":\"white\"},\"hoverlabel\":{\"align\":\"left\"},\"hovermode\":\"closest\",\"mapbox\":{\"style\":\"light\"},\"paper_bgcolor\":\"white\",\"plot_bgcolor\":\"#E5ECF6\",\"polar\":{\"angularaxis\":{\"gridcolor\":\"white\",\"linecolor\":\"white\",\"ticks\":\"\"},\"bgcolor\":\"#E5ECF6\",\"radialaxis\":{\"gridcolor\":\"white\",\"linecolor\":\"white\",\"ticks\":\"\"}},\"scene\":{\"xaxis\":{\"backgroundcolor\":\"#E5ECF6\",\"gridcolor\":\"white\",\"gridwidth\":2,\"linecolor\":\"white\",\"showbackground\":true,\"ticks\":\"\",\"zerolinecolor\":\"white\"},\"yaxis\":{\"backgroundcolor\":\"#E5ECF6\",\"gridcolor\":\"white\",\"gridwidth\":2,\"linecolor\":\"white\",\"showbackground\":true,\"ticks\":\"\",\"zerolinecolor\":\"white\"},\"zaxis\":{\"backgroundcolor\":\"#E5ECF6\",\"gridcolor\":\"white\",\"gridwidth\":2,\"linecolor\":\"white\",\"showbackground\":true,\"ticks\":\"\",\"zerolinecolor\":\"white\"}},\"shapedefaults\":{\"line\":{\"color\":\"#2a3f5f\"}},\"ternary\":{\"aaxis\":{\"gridcolor\":\"white\",\"linecolor\":\"white\",\"ticks\":\"\"},\"baxis\":{\"gridcolor\":\"white\",\"linecolor\":\"white\",\"ticks\":\"\"},\"bgcolor\":\"#E5ECF6\",\"caxis\":{\"gridcolor\":\"white\",\"linecolor\":\"white\",\"ticks\":\"\"}},\"title\":{\"x\":0.05},\"xaxis\":{\"automargin\":true,\"gridcolor\":\"white\",\"linecolor\":\"white\",\"ticks\":\"\",\"title\":{\"standoff\":15},\"zerolinecolor\":\"white\",\"zerolinewidth\":2},\"yaxis\":{\"automargin\":true,\"gridcolor\":\"white\",\"linecolor\":\"white\",\"ticks\":\"\",\"title\":{\"standoff\":15},\"zerolinecolor\":\"white\",\"zerolinewidth\":2}}},\"title\":{\"font\":{\"color\":\"#4D5663\"}},\"xaxis\":{\"gridcolor\":\"#E1E5ED\",\"showgrid\":true,\"tickfont\":{\"color\":\"#4D5663\"},\"title\":{\"font\":{\"color\":\"#4D5663\"},\"text\":\"\"},\"zerolinecolor\":\"#E1E5ED\"},\"yaxis\":{\"gridcolor\":\"#E1E5ED\",\"showgrid\":true,\"tickfont\":{\"color\":\"#4D5663\"},\"title\":{\"font\":{\"color\":\"#4D5663\"},\"text\":\"\"},\"zerolinecolor\":\"#E1E5ED\"}},                        {\"showLink\": true, \"linkText\": \"Export to plot.ly\", \"plotlyServerURL\": \"https://plot.ly\", \"responsive\": true}                    ).then(function(){\n",
       "                            \n",
       "var gd = document.getElementById('2d874388-e558-472e-9e24-1237e670a35d');\n",
       "var x = new MutationObserver(function (mutations, observer) {{\n",
       "        var display = window.getComputedStyle(gd).display;\n",
       "        if (!display || display === 'none') {{\n",
       "            console.log([gd, 'removed!']);\n",
       "            Plotly.purge(gd);\n",
       "            observer.disconnect();\n",
       "        }}\n",
       "}});\n",
       "\n",
       "// Listen for the removal of the full notebook cells\n",
       "var notebookContainer = gd.closest('#notebook-container');\n",
       "if (notebookContainer) {{\n",
       "    x.observe(notebookContainer, {childList: true});\n",
       "}}\n",
       "\n",
       "// Listen for the clearing of the current output cell\n",
       "var outputEl = gd.closest('.output');\n",
       "if (outputEl) {{\n",
       "    x.observe(outputEl, {childList: true});\n",
       "}}\n",
       "\n",
       "                        })                };                });            </script>        </div>"
      ]
     },
     "metadata": {},
     "output_type": "display_data"
    }
   ],
   "source": [
    "df.iplot(kind='bubble',x='A',y='B',size='C')"
   ]
  },
  {
   "cell_type": "markdown",
   "metadata": {},
   "source": [
    "## scatter_matrix()\n",
    "\n",
    "Similar to sns.pairplot()"
   ]
  },
  {
   "cell_type": "code",
   "execution_count": 18,
   "metadata": {},
   "outputs": [
    {
     "data": {
      "application/vnd.plotly.v1+json": {
       "config": {
        "linkText": "Export to plot.ly",
        "plotlyServerURL": "https://plot.ly",
        "showLink": true
       },
       "data": [
        {
         "histfunc": "count",
         "histnorm": "",
         "marker": {
          "color": "rgba(255, 153, 51, 1.0)",
          "line": {
           "color": "#4D5663",
           "width": 1.3
          }
         },
         "name": "A",
         "nbinsx": 10,
         "opacity": 0.8,
         "orientation": "v",
         "type": "histogram",
         "x": [
          -1.2369250000725207,
          0.6473596835857014,
          -0.4576338812403941,
          1.3516406754529127,
          0.7400490122585802,
          0.25510972366488843,
          -1.0651127106807845,
          2.3917146406957177,
          -1.4679389463105594,
          0.8391765739801815,
          0.4275400882654248,
          0.16019668981205584,
          -0.6546600458002377,
          0.25412542709008795,
          0.5812567887503652,
          2.824949855418005,
          -0.31753914966873975,
          -1.1188413124275982,
          -1.4841744546525169,
          -0.6865651933187513,
          -0.42853193432899855,
          -0.12083131295141886,
          -1.221878323795664,
          -0.21561458823488314,
          -0.6307860927928218,
          -2.7228708574986076,
          -0.14450177790649302,
          -0.13376997897710408,
          -2.1398184114432217,
          -0.27717423900572963,
          0.32303226145341607,
          0.3196944117300218,
          0.18597203059934792,
          -0.3799543016021088,
          -1.0570470176616962,
          -1.0437146318646817,
          1.244589105638801,
          -0.04337519472915891,
          0.30445962279555866,
          -1.8154741203814067,
          -0.8887990983280419,
          -1.5770320135643106,
          -0.6197241790299651,
          0.7644478130818563,
          -0.029785981514331553,
          0.23798873536899082,
          0.9446448368549804,
          0.7613448633925672,
          0.14087615944824644,
          0.6789662147155467,
          -1.6009293240998381,
          -0.2598721191100311,
          -2.7010390549845638,
          -0.26171844799409383,
          -0.9532264629107607,
          -0.03094940289085503,
          2.221027207346979,
          -0.24580105092785837,
          0.8183072372593397,
          0.5713252247110742,
          -0.31740801327057744,
          -1.0604555041989718,
          2.0615159143161503,
          -0.1092063059271307,
          -1.183761123674222,
          0.8302419529454999,
          -0.7770729098525189,
          1.9288790251622796,
          -1.6447440687176327,
          2.2441800141523807,
          -1.0906365477452125,
          -0.5183838762682667,
          -0.7108962314761669,
          -1.150536488305488,
          1.175992686063915,
          2.032896845776216,
          0.35408398135278496,
          0.8631735515015497,
          -0.3051640736411098,
          1.3060739739788678,
          1.4258657965350854,
          1.5277233446501692,
          1.6820603839835706,
          2.143177075085741,
          -0.47631071552440274,
          -0.9258348620953202,
          -1.3563642994337253,
          0.4804089287943433,
          -0.37248548367288253,
          0.7844780851728226,
          0.8658452629035026,
          1.1774201175308285,
          2.3582276533948496,
          1.577825382866515,
          0.7451127400443657,
          0.5417536639361865,
          0.5538339949773834,
          -0.8830866917087877,
          0.3986237791716136,
          1.4054611931446328
         ],
         "xaxis": "x",
         "yaxis": "y"
        },
        {
         "line": {
          "color": "rgba(128, 128, 128, 1.0)",
          "dash": "solid",
          "shape": "linear",
          "width": 1.3
         },
         "marker": {
          "size": 2,
          "symbol": "circle"
         },
         "mode": "markers",
         "name": "A",
         "text": "",
         "type": "scatter",
         "x": [
          -0.7698420862193472,
          -0.01761344336614215,
          -0.3686509050757071,
          -1.8714428775453267,
          1.988312377332831,
          -1.3694925212446596,
          -2.401861046922229,
          2.189063518367414,
          -0.6621720424869381,
          1.524830199372334,
          1.4325678710439211,
          0.2550436856316146,
          0.8589892106314515,
          1.8432136918947117,
          -1.1688456826211293,
          -1.515607620680818,
          -1.980287684188495,
          0.25328966866584374,
          -1.7739046333305717,
          0.8556947038213887,
          -0.5140998417635303,
          0.7223069066597191,
          0.39218572055196327,
          -0.18528948274597204,
          -0.04737676014181813,
          -0.11184810713112321,
          -0.06878806172071653,
          2.1147752527686583,
          0.03454371723819343,
          0.41196652639701076,
          -0.1281605512730255,
          1.9780250375126323,
          0.4491786287378268,
          0.5802485955833719,
          1.8130977866814353,
          1.1581563719854284,
          0.13656895481419654,
          -0.05096485569692876,
          0.3975911275865297,
          -2.407100495423285,
          -0.511101815832546,
          0.04656885644815061,
          -0.9653852690988891,
          1.0783208346025044,
          0.7551442633864494,
          -1.067561156982996,
          -1.6379049071327247,
          -0.4722769241659087,
          0.3479744630317592,
          0.5534559533175919,
          0.14931895908285625,
          -0.853566511765684,
          -0.6789447430531352,
          -0.14248196175510502,
          0.4066834180661509,
          -0.6562879392179125,
          0.34913669973456174,
          0.9022011491435852,
          -0.5713150913939063,
          1.5092160997551691,
          -0.7751297096205931,
          -0.2913856688677858,
          -0.3104074903415344,
          1.4033441419701584,
          0.7210651941738934,
          -1.9081400958723442,
          0.6467291739360184,
          0.42314805386297644,
          -1.4004503453459785,
          1.2200421037296094,
          0.609092067563452,
          -2.6755118760668073,
          0.6336658466514746,
          0.9300038752354216,
          1.3044851754888402,
          1.0413176800369963,
          -0.387193892665513,
          -0.361276679396097,
          0.38503462731182436,
          1.103668402883417,
          0.49031354112047426,
          -3.2077677410318635,
          0.20980464731512286,
          -0.05156654692620989,
          0.4548618578874998,
          -0.28081765560387134,
          0.011772750841938939,
          -0.3274067294413862,
          -0.5962238831091922,
          -1.4992843996535743,
          -0.6814237192311466,
          -0.36870526912415374,
          -0.1047288555309101,
          2.1506056914516782,
          -0.9839862105924292,
          1.092333878962264,
          0.11894918611924253,
          -0.4015425020670459,
          1.1142914730518803,
          -0.2967379401748048
         ],
         "xaxis": "x2",
         "y": [
          -1.2369250000725207,
          0.6473596835857014,
          -0.4576338812403941,
          1.3516406754529127,
          0.7400490122585802,
          0.25510972366488843,
          -1.0651127106807845,
          2.3917146406957177,
          -1.4679389463105594,
          0.8391765739801815,
          0.4275400882654248,
          0.16019668981205584,
          -0.6546600458002377,
          0.25412542709008795,
          0.5812567887503652,
          2.824949855418005,
          -0.31753914966873975,
          -1.1188413124275982,
          -1.4841744546525169,
          -0.6865651933187513,
          -0.42853193432899855,
          -0.12083131295141886,
          -1.221878323795664,
          -0.21561458823488314,
          -0.6307860927928218,
          -2.7228708574986076,
          -0.14450177790649302,
          -0.13376997897710408,
          -2.1398184114432217,
          -0.27717423900572963,
          0.32303226145341607,
          0.3196944117300218,
          0.18597203059934792,
          -0.3799543016021088,
          -1.0570470176616962,
          -1.0437146318646817,
          1.244589105638801,
          -0.04337519472915891,
          0.30445962279555866,
          -1.8154741203814067,
          -0.8887990983280419,
          -1.5770320135643106,
          -0.6197241790299651,
          0.7644478130818563,
          -0.029785981514331553,
          0.23798873536899082,
          0.9446448368549804,
          0.7613448633925672,
          0.14087615944824644,
          0.6789662147155467,
          -1.6009293240998381,
          -0.2598721191100311,
          -2.7010390549845638,
          -0.26171844799409383,
          -0.9532264629107607,
          -0.03094940289085503,
          2.221027207346979,
          -0.24580105092785837,
          0.8183072372593397,
          0.5713252247110742,
          -0.31740801327057744,
          -1.0604555041989718,
          2.0615159143161503,
          -0.1092063059271307,
          -1.183761123674222,
          0.8302419529454999,
          -0.7770729098525189,
          1.9288790251622796,
          -1.6447440687176327,
          2.2441800141523807,
          -1.0906365477452125,
          -0.5183838762682667,
          -0.7108962314761669,
          -1.150536488305488,
          1.175992686063915,
          2.032896845776216,
          0.35408398135278496,
          0.8631735515015497,
          -0.3051640736411098,
          1.3060739739788678,
          1.4258657965350854,
          1.5277233446501692,
          1.6820603839835706,
          2.143177075085741,
          -0.47631071552440274,
          -0.9258348620953202,
          -1.3563642994337253,
          0.4804089287943433,
          -0.37248548367288253,
          0.7844780851728226,
          0.8658452629035026,
          1.1774201175308285,
          2.3582276533948496,
          1.577825382866515,
          0.7451127400443657,
          0.5417536639361865,
          0.5538339949773834,
          -0.8830866917087877,
          0.3986237791716136,
          1.4054611931446328
         ],
         "yaxis": "y2"
        },
        {
         "line": {
          "color": "rgba(128, 128, 128, 1.0)",
          "dash": "solid",
          "shape": "linear",
          "width": 1.3
         },
         "marker": {
          "size": 2,
          "symbol": "circle"
         },
         "mode": "markers",
         "name": "A",
         "text": "",
         "type": "scatter",
         "x": [
          -0.1495873057280749,
          -0.07389591067093795,
          -0.05424649164552918,
          -1.6191328516391368,
          0.7861292420726962,
          0.16458728004590947,
          -0.35703492113350604,
          -0.426685266299582,
          -0.5991789583388359,
          -0.5157204112982977,
          2.0866639925261543,
          -0.5666538139387771,
          -0.06077987911208819,
          0.9342259947988482,
          -1.5656911043341355,
          0.23638393339599628,
          1.305690926120735,
          0.3364837228418128,
          -0.18388526011911294,
          0.15078765384007473,
          2.045359078996665,
          0.09084688188139022,
          0.3029885321000563,
          0.005640127992127931,
          -0.0288675855409102,
          -0.6590044580518759,
          -0.13485543846494127,
          -0.1040084699023544,
          0.17252887049950819,
          0.33909536489731035,
          -0.2052930632831629,
          -2.194007734071559,
          0.9629620636859435,
          -0.043561965406199166,
          -0.011560900492798187,
          -0.8296747581876137,
          0.4191127311567892,
          -0.959807329683778,
          -0.5119346931534932,
          0.3620624310508169,
          -1.7160067167617838,
          1.1219263615376818,
          -0.39370877508301655,
          -0.8152053080517907,
          -0.10681052700243587,
          -2.239088167020022,
          0.948146099933787,
          -1.1000314549095331,
          2.5824163517615704,
          0.7728368219352023,
          -0.7186359746916166,
          0.5346466089342827,
          -0.46273206501167197,
          0.3768178637237596,
          0.11073571289215428,
          0.05404378650617628,
          0.9085527002673297,
          -0.38897941329748437,
          -0.016248019293256716,
          -0.7084129337671787,
          -0.23605047435667145,
          0.06762523361193007,
          -1.4937661057807585,
          -1.581577590958831,
          0.3165428702605645,
          1.0760245337795067,
          -0.165931841927548,
          0.3154464529938777,
          -2.265401528517308,
          -0.08929231953168348,
          1.9655966095288562,
          -0.5129665800009727,
          -1.002299233471418,
          -1.4380855637946208,
          0.37146983475571843,
          -0.3572176570685798,
          0.04175933964522382,
          1.8119801603216394,
          0.5974935753797596,
          -0.021122586085694794,
          -0.7779900785671291,
          0.5052488953158533,
          -1.19892167597399,
          0.7838373918020359,
          -0.7537141655547988,
          -0.8397930665970642,
          -0.13089359355861377,
          -0.8109683538257121,
          -0.2229580367999272,
          0.18010591937992163,
          1.0895343297602935,
          1.045718270652688,
          -0.2921818454145917,
          0.10335561209896946,
          0.7811411658955167,
          1.4008410540732736,
          -1.2922640723674863,
          -1.0903101250379186,
          -1.7689312036931846,
          -0.5197017824849333
         ],
         "xaxis": "x3",
         "y": [
          -1.2369250000725207,
          0.6473596835857014,
          -0.4576338812403941,
          1.3516406754529127,
          0.7400490122585802,
          0.25510972366488843,
          -1.0651127106807845,
          2.3917146406957177,
          -1.4679389463105594,
          0.8391765739801815,
          0.4275400882654248,
          0.16019668981205584,
          -0.6546600458002377,
          0.25412542709008795,
          0.5812567887503652,
          2.824949855418005,
          -0.31753914966873975,
          -1.1188413124275982,
          -1.4841744546525169,
          -0.6865651933187513,
          -0.42853193432899855,
          -0.12083131295141886,
          -1.221878323795664,
          -0.21561458823488314,
          -0.6307860927928218,
          -2.7228708574986076,
          -0.14450177790649302,
          -0.13376997897710408,
          -2.1398184114432217,
          -0.27717423900572963,
          0.32303226145341607,
          0.3196944117300218,
          0.18597203059934792,
          -0.3799543016021088,
          -1.0570470176616962,
          -1.0437146318646817,
          1.244589105638801,
          -0.04337519472915891,
          0.30445962279555866,
          -1.8154741203814067,
          -0.8887990983280419,
          -1.5770320135643106,
          -0.6197241790299651,
          0.7644478130818563,
          -0.029785981514331553,
          0.23798873536899082,
          0.9446448368549804,
          0.7613448633925672,
          0.14087615944824644,
          0.6789662147155467,
          -1.6009293240998381,
          -0.2598721191100311,
          -2.7010390549845638,
          -0.26171844799409383,
          -0.9532264629107607,
          -0.03094940289085503,
          2.221027207346979,
          -0.24580105092785837,
          0.8183072372593397,
          0.5713252247110742,
          -0.31740801327057744,
          -1.0604555041989718,
          2.0615159143161503,
          -0.1092063059271307,
          -1.183761123674222,
          0.8302419529454999,
          -0.7770729098525189,
          1.9288790251622796,
          -1.6447440687176327,
          2.2441800141523807,
          -1.0906365477452125,
          -0.5183838762682667,
          -0.7108962314761669,
          -1.150536488305488,
          1.175992686063915,
          2.032896845776216,
          0.35408398135278496,
          0.8631735515015497,
          -0.3051640736411098,
          1.3060739739788678,
          1.4258657965350854,
          1.5277233446501692,
          1.6820603839835706,
          2.143177075085741,
          -0.47631071552440274,
          -0.9258348620953202,
          -1.3563642994337253,
          0.4804089287943433,
          -0.37248548367288253,
          0.7844780851728226,
          0.8658452629035026,
          1.1774201175308285,
          2.3582276533948496,
          1.577825382866515,
          0.7451127400443657,
          0.5417536639361865,
          0.5538339949773834,
          -0.8830866917087877,
          0.3986237791716136,
          1.4054611931446328
         ],
         "yaxis": "y3"
        },
        {
         "line": {
          "color": "rgba(128, 128, 128, 1.0)",
          "dash": "solid",
          "shape": "linear",
          "width": 1.3
         },
         "marker": {
          "size": 2,
          "symbol": "circle"
         },
         "mode": "markers",
         "name": "A",
         "text": "",
         "type": "scatter",
         "x": [
          0.5293665006458524,
          -0.7748805540604703,
          1.0041063702226753,
          -0.5014685711589817,
          -0.7990699114298004,
          1.3526012472409807,
          2.7069625745810697,
          0.9418765685204512,
          0.6646196140664915,
          -0.37622698308513036,
          1.872907234974121,
          0.23098970425502563,
          -0.6696393977467702,
          -0.5532576114227775,
          -0.580975686840012,
          0.5118352419450641,
          -0.39594423600474965,
          0.4073970490229041,
          0.8542214083712736,
          -0.004834655193624482,
          -0.9723765849277642,
          -0.7463364737419851,
          2.4549819401427,
          -3.517635691987328,
          0.5738766909002905,
          -1.5345633051352354,
          -1.3059813594634928,
          -0.10684477373060267,
          -0.8959571576646118,
          0.24851463316831024,
          -0.5373821928201002,
          -0.5638124807760423,
          -1.5830907703026236,
          -0.48455664782929425,
          0.39416057604739785,
          -0.6521202111561265,
          0.3833858295349967,
          -0.026974854734215244,
          -1.718310627697159,
          0.43789618970833816,
          -0.03480276384231127,
          -1.994803828383732,
          1.2992884271258542,
          -1.8596734442133096,
          0.21485077510458403,
          -0.8593747521691765,
          0.38525141505965566,
          1.0585660632805256,
          -1.3105395488930291,
          -0.39074347238128293,
          -0.6900930041310154,
          0.23208264972938333,
          0.4826854483567595,
          -0.7767312911036357,
          0.22491136388331373,
          0.5814384893304747,
          0.5078618747203191,
          0.02912004819766613,
          -1.5408572234277373,
          0.8275475626338956,
          -1.2347380782919617,
          1.0454485217526956,
          2.000591036660255,
          0.3420397889762249,
          0.8305548583982847,
          -2.680051380624589,
          1.2106173604330084,
          -0.03491584896631556,
          0.20415674953273252,
          -0.7278868952741584,
          -0.4066709643380715,
          -0.6913941307546945,
          -0.7078265041387234,
          -0.24780906832072142,
          -0.9546900723223362,
          -0.25004170195760256,
          -0.5578099813542368,
          -2.0985699375508955,
          1.1967765947042563,
          -1.0484578443537154,
          0.5224002539238172,
          -0.9046286734930047,
          0.8504712301101417,
          -0.34440141948439057,
          1.1525486552216617,
          0.21879756283661364,
          -0.19225249825170607,
          0.2717283496788176,
          0.167357830092262,
          0.2092226485472227,
          -0.8147360118198178,
          0.24502094240023395,
          0.6221445409198278,
          0.5875180132353891,
          0.8504584167568766,
          1.8804820110000087,
          -1.2799977832826221,
          -1.5283676504453465,
          1.5140637923583105,
          -0.9247953154379341
         ],
         "xaxis": "x4",
         "y": [
          -1.2369250000725207,
          0.6473596835857014,
          -0.4576338812403941,
          1.3516406754529127,
          0.7400490122585802,
          0.25510972366488843,
          -1.0651127106807845,
          2.3917146406957177,
          -1.4679389463105594,
          0.8391765739801815,
          0.4275400882654248,
          0.16019668981205584,
          -0.6546600458002377,
          0.25412542709008795,
          0.5812567887503652,
          2.824949855418005,
          -0.31753914966873975,
          -1.1188413124275982,
          -1.4841744546525169,
          -0.6865651933187513,
          -0.42853193432899855,
          -0.12083131295141886,
          -1.221878323795664,
          -0.21561458823488314,
          -0.6307860927928218,
          -2.7228708574986076,
          -0.14450177790649302,
          -0.13376997897710408,
          -2.1398184114432217,
          -0.27717423900572963,
          0.32303226145341607,
          0.3196944117300218,
          0.18597203059934792,
          -0.3799543016021088,
          -1.0570470176616962,
          -1.0437146318646817,
          1.244589105638801,
          -0.04337519472915891,
          0.30445962279555866,
          -1.8154741203814067,
          -0.8887990983280419,
          -1.5770320135643106,
          -0.6197241790299651,
          0.7644478130818563,
          -0.029785981514331553,
          0.23798873536899082,
          0.9446448368549804,
          0.7613448633925672,
          0.14087615944824644,
          0.6789662147155467,
          -1.6009293240998381,
          -0.2598721191100311,
          -2.7010390549845638,
          -0.26171844799409383,
          -0.9532264629107607,
          -0.03094940289085503,
          2.221027207346979,
          -0.24580105092785837,
          0.8183072372593397,
          0.5713252247110742,
          -0.31740801327057744,
          -1.0604555041989718,
          2.0615159143161503,
          -0.1092063059271307,
          -1.183761123674222,
          0.8302419529454999,
          -0.7770729098525189,
          1.9288790251622796,
          -1.6447440687176327,
          2.2441800141523807,
          -1.0906365477452125,
          -0.5183838762682667,
          -0.7108962314761669,
          -1.150536488305488,
          1.175992686063915,
          2.032896845776216,
          0.35408398135278496,
          0.8631735515015497,
          -0.3051640736411098,
          1.3060739739788678,
          1.4258657965350854,
          1.5277233446501692,
          1.6820603839835706,
          2.143177075085741,
          -0.47631071552440274,
          -0.9258348620953202,
          -1.3563642994337253,
          0.4804089287943433,
          -0.37248548367288253,
          0.7844780851728226,
          0.8658452629035026,
          1.1774201175308285,
          2.3582276533948496,
          1.577825382866515,
          0.7451127400443657,
          0.5417536639361865,
          0.5538339949773834,
          -0.8830866917087877,
          0.3986237791716136,
          1.4054611931446328
         ],
         "yaxis": "y4"
        },
        {
         "line": {
          "color": "rgba(128, 128, 128, 1.0)",
          "dash": "solid",
          "shape": "linear",
          "width": 1.3
         },
         "marker": {
          "size": 2,
          "symbol": "circle"
         },
         "mode": "markers",
         "name": "B",
         "text": "",
         "type": "scatter",
         "x": [
          -1.2369250000725207,
          0.6473596835857014,
          -0.4576338812403941,
          1.3516406754529127,
          0.7400490122585802,
          0.25510972366488843,
          -1.0651127106807845,
          2.3917146406957177,
          -1.4679389463105594,
          0.8391765739801815,
          0.4275400882654248,
          0.16019668981205584,
          -0.6546600458002377,
          0.25412542709008795,
          0.5812567887503652,
          2.824949855418005,
          -0.31753914966873975,
          -1.1188413124275982,
          -1.4841744546525169,
          -0.6865651933187513,
          -0.42853193432899855,
          -0.12083131295141886,
          -1.221878323795664,
          -0.21561458823488314,
          -0.6307860927928218,
          -2.7228708574986076,
          -0.14450177790649302,
          -0.13376997897710408,
          -2.1398184114432217,
          -0.27717423900572963,
          0.32303226145341607,
          0.3196944117300218,
          0.18597203059934792,
          -0.3799543016021088,
          -1.0570470176616962,
          -1.0437146318646817,
          1.244589105638801,
          -0.04337519472915891,
          0.30445962279555866,
          -1.8154741203814067,
          -0.8887990983280419,
          -1.5770320135643106,
          -0.6197241790299651,
          0.7644478130818563,
          -0.029785981514331553,
          0.23798873536899082,
          0.9446448368549804,
          0.7613448633925672,
          0.14087615944824644,
          0.6789662147155467,
          -1.6009293240998381,
          -0.2598721191100311,
          -2.7010390549845638,
          -0.26171844799409383,
          -0.9532264629107607,
          -0.03094940289085503,
          2.221027207346979,
          -0.24580105092785837,
          0.8183072372593397,
          0.5713252247110742,
          -0.31740801327057744,
          -1.0604555041989718,
          2.0615159143161503,
          -0.1092063059271307,
          -1.183761123674222,
          0.8302419529454999,
          -0.7770729098525189,
          1.9288790251622796,
          -1.6447440687176327,
          2.2441800141523807,
          -1.0906365477452125,
          -0.5183838762682667,
          -0.7108962314761669,
          -1.150536488305488,
          1.175992686063915,
          2.032896845776216,
          0.35408398135278496,
          0.8631735515015497,
          -0.3051640736411098,
          1.3060739739788678,
          1.4258657965350854,
          1.5277233446501692,
          1.6820603839835706,
          2.143177075085741,
          -0.47631071552440274,
          -0.9258348620953202,
          -1.3563642994337253,
          0.4804089287943433,
          -0.37248548367288253,
          0.7844780851728226,
          0.8658452629035026,
          1.1774201175308285,
          2.3582276533948496,
          1.577825382866515,
          0.7451127400443657,
          0.5417536639361865,
          0.5538339949773834,
          -0.8830866917087877,
          0.3986237791716136,
          1.4054611931446328
         ],
         "xaxis": "x5",
         "y": [
          -0.7698420862193472,
          -0.01761344336614215,
          -0.3686509050757071,
          -1.8714428775453267,
          1.988312377332831,
          -1.3694925212446596,
          -2.401861046922229,
          2.189063518367414,
          -0.6621720424869381,
          1.524830199372334,
          1.4325678710439211,
          0.2550436856316146,
          0.8589892106314515,
          1.8432136918947117,
          -1.1688456826211293,
          -1.515607620680818,
          -1.980287684188495,
          0.25328966866584374,
          -1.7739046333305717,
          0.8556947038213887,
          -0.5140998417635303,
          0.7223069066597191,
          0.39218572055196327,
          -0.18528948274597204,
          -0.04737676014181813,
          -0.11184810713112321,
          -0.06878806172071653,
          2.1147752527686583,
          0.03454371723819343,
          0.41196652639701076,
          -0.1281605512730255,
          1.9780250375126323,
          0.4491786287378268,
          0.5802485955833719,
          1.8130977866814353,
          1.1581563719854284,
          0.13656895481419654,
          -0.05096485569692876,
          0.3975911275865297,
          -2.407100495423285,
          -0.511101815832546,
          0.04656885644815061,
          -0.9653852690988891,
          1.0783208346025044,
          0.7551442633864494,
          -1.067561156982996,
          -1.6379049071327247,
          -0.4722769241659087,
          0.3479744630317592,
          0.5534559533175919,
          0.14931895908285625,
          -0.853566511765684,
          -0.6789447430531352,
          -0.14248196175510502,
          0.4066834180661509,
          -0.6562879392179125,
          0.34913669973456174,
          0.9022011491435852,
          -0.5713150913939063,
          1.5092160997551691,
          -0.7751297096205931,
          -0.2913856688677858,
          -0.3104074903415344,
          1.4033441419701584,
          0.7210651941738934,
          -1.9081400958723442,
          0.6467291739360184,
          0.42314805386297644,
          -1.4004503453459785,
          1.2200421037296094,
          0.609092067563452,
          -2.6755118760668073,
          0.6336658466514746,
          0.9300038752354216,
          1.3044851754888402,
          1.0413176800369963,
          -0.387193892665513,
          -0.361276679396097,
          0.38503462731182436,
          1.103668402883417,
          0.49031354112047426,
          -3.2077677410318635,
          0.20980464731512286,
          -0.05156654692620989,
          0.4548618578874998,
          -0.28081765560387134,
          0.011772750841938939,
          -0.3274067294413862,
          -0.5962238831091922,
          -1.4992843996535743,
          -0.6814237192311466,
          -0.36870526912415374,
          -0.1047288555309101,
          2.1506056914516782,
          -0.9839862105924292,
          1.092333878962264,
          0.11894918611924253,
          -0.4015425020670459,
          1.1142914730518803,
          -0.2967379401748048
         ],
         "yaxis": "y5"
        },
        {
         "histfunc": "count",
         "histnorm": "",
         "marker": {
          "color": "rgba(55, 128, 191, 1.0)",
          "line": {
           "color": "#4D5663",
           "width": 1.3
          }
         },
         "name": "B",
         "nbinsx": 10,
         "opacity": 0.8,
         "orientation": "v",
         "type": "histogram",
         "x": [
          -0.7698420862193472,
          -0.01761344336614215,
          -0.3686509050757071,
          -1.8714428775453267,
          1.988312377332831,
          -1.3694925212446596,
          -2.401861046922229,
          2.189063518367414,
          -0.6621720424869381,
          1.524830199372334,
          1.4325678710439211,
          0.2550436856316146,
          0.8589892106314515,
          1.8432136918947117,
          -1.1688456826211293,
          -1.515607620680818,
          -1.980287684188495,
          0.25328966866584374,
          -1.7739046333305717,
          0.8556947038213887,
          -0.5140998417635303,
          0.7223069066597191,
          0.39218572055196327,
          -0.18528948274597204,
          -0.04737676014181813,
          -0.11184810713112321,
          -0.06878806172071653,
          2.1147752527686583,
          0.03454371723819343,
          0.41196652639701076,
          -0.1281605512730255,
          1.9780250375126323,
          0.4491786287378268,
          0.5802485955833719,
          1.8130977866814353,
          1.1581563719854284,
          0.13656895481419654,
          -0.05096485569692876,
          0.3975911275865297,
          -2.407100495423285,
          -0.511101815832546,
          0.04656885644815061,
          -0.9653852690988891,
          1.0783208346025044,
          0.7551442633864494,
          -1.067561156982996,
          -1.6379049071327247,
          -0.4722769241659087,
          0.3479744630317592,
          0.5534559533175919,
          0.14931895908285625,
          -0.853566511765684,
          -0.6789447430531352,
          -0.14248196175510502,
          0.4066834180661509,
          -0.6562879392179125,
          0.34913669973456174,
          0.9022011491435852,
          -0.5713150913939063,
          1.5092160997551691,
          -0.7751297096205931,
          -0.2913856688677858,
          -0.3104074903415344,
          1.4033441419701584,
          0.7210651941738934,
          -1.9081400958723442,
          0.6467291739360184,
          0.42314805386297644,
          -1.4004503453459785,
          1.2200421037296094,
          0.609092067563452,
          -2.6755118760668073,
          0.6336658466514746,
          0.9300038752354216,
          1.3044851754888402,
          1.0413176800369963,
          -0.387193892665513,
          -0.361276679396097,
          0.38503462731182436,
          1.103668402883417,
          0.49031354112047426,
          -3.2077677410318635,
          0.20980464731512286,
          -0.05156654692620989,
          0.4548618578874998,
          -0.28081765560387134,
          0.011772750841938939,
          -0.3274067294413862,
          -0.5962238831091922,
          -1.4992843996535743,
          -0.6814237192311466,
          -0.36870526912415374,
          -0.1047288555309101,
          2.1506056914516782,
          -0.9839862105924292,
          1.092333878962264,
          0.11894918611924253,
          -0.4015425020670459,
          1.1142914730518803,
          -0.2967379401748048
         ],
         "xaxis": "x6",
         "yaxis": "y6"
        },
        {
         "line": {
          "color": "rgba(128, 128, 128, 1.0)",
          "dash": "solid",
          "shape": "linear",
          "width": 1.3
         },
         "marker": {
          "size": 2,
          "symbol": "circle"
         },
         "mode": "markers",
         "name": "B",
         "text": "",
         "type": "scatter",
         "x": [
          -0.1495873057280749,
          -0.07389591067093795,
          -0.05424649164552918,
          -1.6191328516391368,
          0.7861292420726962,
          0.16458728004590947,
          -0.35703492113350604,
          -0.426685266299582,
          -0.5991789583388359,
          -0.5157204112982977,
          2.0866639925261543,
          -0.5666538139387771,
          -0.06077987911208819,
          0.9342259947988482,
          -1.5656911043341355,
          0.23638393339599628,
          1.305690926120735,
          0.3364837228418128,
          -0.18388526011911294,
          0.15078765384007473,
          2.045359078996665,
          0.09084688188139022,
          0.3029885321000563,
          0.005640127992127931,
          -0.0288675855409102,
          -0.6590044580518759,
          -0.13485543846494127,
          -0.1040084699023544,
          0.17252887049950819,
          0.33909536489731035,
          -0.2052930632831629,
          -2.194007734071559,
          0.9629620636859435,
          -0.043561965406199166,
          -0.011560900492798187,
          -0.8296747581876137,
          0.4191127311567892,
          -0.959807329683778,
          -0.5119346931534932,
          0.3620624310508169,
          -1.7160067167617838,
          1.1219263615376818,
          -0.39370877508301655,
          -0.8152053080517907,
          -0.10681052700243587,
          -2.239088167020022,
          0.948146099933787,
          -1.1000314549095331,
          2.5824163517615704,
          0.7728368219352023,
          -0.7186359746916166,
          0.5346466089342827,
          -0.46273206501167197,
          0.3768178637237596,
          0.11073571289215428,
          0.05404378650617628,
          0.9085527002673297,
          -0.38897941329748437,
          -0.016248019293256716,
          -0.7084129337671787,
          -0.23605047435667145,
          0.06762523361193007,
          -1.4937661057807585,
          -1.581577590958831,
          0.3165428702605645,
          1.0760245337795067,
          -0.165931841927548,
          0.3154464529938777,
          -2.265401528517308,
          -0.08929231953168348,
          1.9655966095288562,
          -0.5129665800009727,
          -1.002299233471418,
          -1.4380855637946208,
          0.37146983475571843,
          -0.3572176570685798,
          0.04175933964522382,
          1.8119801603216394,
          0.5974935753797596,
          -0.021122586085694794,
          -0.7779900785671291,
          0.5052488953158533,
          -1.19892167597399,
          0.7838373918020359,
          -0.7537141655547988,
          -0.8397930665970642,
          -0.13089359355861377,
          -0.8109683538257121,
          -0.2229580367999272,
          0.18010591937992163,
          1.0895343297602935,
          1.045718270652688,
          -0.2921818454145917,
          0.10335561209896946,
          0.7811411658955167,
          1.4008410540732736,
          -1.2922640723674863,
          -1.0903101250379186,
          -1.7689312036931846,
          -0.5197017824849333
         ],
         "xaxis": "x7",
         "y": [
          -0.7698420862193472,
          -0.01761344336614215,
          -0.3686509050757071,
          -1.8714428775453267,
          1.988312377332831,
          -1.3694925212446596,
          -2.401861046922229,
          2.189063518367414,
          -0.6621720424869381,
          1.524830199372334,
          1.4325678710439211,
          0.2550436856316146,
          0.8589892106314515,
          1.8432136918947117,
          -1.1688456826211293,
          -1.515607620680818,
          -1.980287684188495,
          0.25328966866584374,
          -1.7739046333305717,
          0.8556947038213887,
          -0.5140998417635303,
          0.7223069066597191,
          0.39218572055196327,
          -0.18528948274597204,
          -0.04737676014181813,
          -0.11184810713112321,
          -0.06878806172071653,
          2.1147752527686583,
          0.03454371723819343,
          0.41196652639701076,
          -0.1281605512730255,
          1.9780250375126323,
          0.4491786287378268,
          0.5802485955833719,
          1.8130977866814353,
          1.1581563719854284,
          0.13656895481419654,
          -0.05096485569692876,
          0.3975911275865297,
          -2.407100495423285,
          -0.511101815832546,
          0.04656885644815061,
          -0.9653852690988891,
          1.0783208346025044,
          0.7551442633864494,
          -1.067561156982996,
          -1.6379049071327247,
          -0.4722769241659087,
          0.3479744630317592,
          0.5534559533175919,
          0.14931895908285625,
          -0.853566511765684,
          -0.6789447430531352,
          -0.14248196175510502,
          0.4066834180661509,
          -0.6562879392179125,
          0.34913669973456174,
          0.9022011491435852,
          -0.5713150913939063,
          1.5092160997551691,
          -0.7751297096205931,
          -0.2913856688677858,
          -0.3104074903415344,
          1.4033441419701584,
          0.7210651941738934,
          -1.9081400958723442,
          0.6467291739360184,
          0.42314805386297644,
          -1.4004503453459785,
          1.2200421037296094,
          0.609092067563452,
          -2.6755118760668073,
          0.6336658466514746,
          0.9300038752354216,
          1.3044851754888402,
          1.0413176800369963,
          -0.387193892665513,
          -0.361276679396097,
          0.38503462731182436,
          1.103668402883417,
          0.49031354112047426,
          -3.2077677410318635,
          0.20980464731512286,
          -0.05156654692620989,
          0.4548618578874998,
          -0.28081765560387134,
          0.011772750841938939,
          -0.3274067294413862,
          -0.5962238831091922,
          -1.4992843996535743,
          -0.6814237192311466,
          -0.36870526912415374,
          -0.1047288555309101,
          2.1506056914516782,
          -0.9839862105924292,
          1.092333878962264,
          0.11894918611924253,
          -0.4015425020670459,
          1.1142914730518803,
          -0.2967379401748048
         ],
         "yaxis": "y7"
        },
        {
         "line": {
          "color": "rgba(128, 128, 128, 1.0)",
          "dash": "solid",
          "shape": "linear",
          "width": 1.3
         },
         "marker": {
          "size": 2,
          "symbol": "circle"
         },
         "mode": "markers",
         "name": "B",
         "text": "",
         "type": "scatter",
         "x": [
          0.5293665006458524,
          -0.7748805540604703,
          1.0041063702226753,
          -0.5014685711589817,
          -0.7990699114298004,
          1.3526012472409807,
          2.7069625745810697,
          0.9418765685204512,
          0.6646196140664915,
          -0.37622698308513036,
          1.872907234974121,
          0.23098970425502563,
          -0.6696393977467702,
          -0.5532576114227775,
          -0.580975686840012,
          0.5118352419450641,
          -0.39594423600474965,
          0.4073970490229041,
          0.8542214083712736,
          -0.004834655193624482,
          -0.9723765849277642,
          -0.7463364737419851,
          2.4549819401427,
          -3.517635691987328,
          0.5738766909002905,
          -1.5345633051352354,
          -1.3059813594634928,
          -0.10684477373060267,
          -0.8959571576646118,
          0.24851463316831024,
          -0.5373821928201002,
          -0.5638124807760423,
          -1.5830907703026236,
          -0.48455664782929425,
          0.39416057604739785,
          -0.6521202111561265,
          0.3833858295349967,
          -0.026974854734215244,
          -1.718310627697159,
          0.43789618970833816,
          -0.03480276384231127,
          -1.994803828383732,
          1.2992884271258542,
          -1.8596734442133096,
          0.21485077510458403,
          -0.8593747521691765,
          0.38525141505965566,
          1.0585660632805256,
          -1.3105395488930291,
          -0.39074347238128293,
          -0.6900930041310154,
          0.23208264972938333,
          0.4826854483567595,
          -0.7767312911036357,
          0.22491136388331373,
          0.5814384893304747,
          0.5078618747203191,
          0.02912004819766613,
          -1.5408572234277373,
          0.8275475626338956,
          -1.2347380782919617,
          1.0454485217526956,
          2.000591036660255,
          0.3420397889762249,
          0.8305548583982847,
          -2.680051380624589,
          1.2106173604330084,
          -0.03491584896631556,
          0.20415674953273252,
          -0.7278868952741584,
          -0.4066709643380715,
          -0.6913941307546945,
          -0.7078265041387234,
          -0.24780906832072142,
          -0.9546900723223362,
          -0.25004170195760256,
          -0.5578099813542368,
          -2.0985699375508955,
          1.1967765947042563,
          -1.0484578443537154,
          0.5224002539238172,
          -0.9046286734930047,
          0.8504712301101417,
          -0.34440141948439057,
          1.1525486552216617,
          0.21879756283661364,
          -0.19225249825170607,
          0.2717283496788176,
          0.167357830092262,
          0.2092226485472227,
          -0.8147360118198178,
          0.24502094240023395,
          0.6221445409198278,
          0.5875180132353891,
          0.8504584167568766,
          1.8804820110000087,
          -1.2799977832826221,
          -1.5283676504453465,
          1.5140637923583105,
          -0.9247953154379341
         ],
         "xaxis": "x8",
         "y": [
          -0.7698420862193472,
          -0.01761344336614215,
          -0.3686509050757071,
          -1.8714428775453267,
          1.988312377332831,
          -1.3694925212446596,
          -2.401861046922229,
          2.189063518367414,
          -0.6621720424869381,
          1.524830199372334,
          1.4325678710439211,
          0.2550436856316146,
          0.8589892106314515,
          1.8432136918947117,
          -1.1688456826211293,
          -1.515607620680818,
          -1.980287684188495,
          0.25328966866584374,
          -1.7739046333305717,
          0.8556947038213887,
          -0.5140998417635303,
          0.7223069066597191,
          0.39218572055196327,
          -0.18528948274597204,
          -0.04737676014181813,
          -0.11184810713112321,
          -0.06878806172071653,
          2.1147752527686583,
          0.03454371723819343,
          0.41196652639701076,
          -0.1281605512730255,
          1.9780250375126323,
          0.4491786287378268,
          0.5802485955833719,
          1.8130977866814353,
          1.1581563719854284,
          0.13656895481419654,
          -0.05096485569692876,
          0.3975911275865297,
          -2.407100495423285,
          -0.511101815832546,
          0.04656885644815061,
          -0.9653852690988891,
          1.0783208346025044,
          0.7551442633864494,
          -1.067561156982996,
          -1.6379049071327247,
          -0.4722769241659087,
          0.3479744630317592,
          0.5534559533175919,
          0.14931895908285625,
          -0.853566511765684,
          -0.6789447430531352,
          -0.14248196175510502,
          0.4066834180661509,
          -0.6562879392179125,
          0.34913669973456174,
          0.9022011491435852,
          -0.5713150913939063,
          1.5092160997551691,
          -0.7751297096205931,
          -0.2913856688677858,
          -0.3104074903415344,
          1.4033441419701584,
          0.7210651941738934,
          -1.9081400958723442,
          0.6467291739360184,
          0.42314805386297644,
          -1.4004503453459785,
          1.2200421037296094,
          0.609092067563452,
          -2.6755118760668073,
          0.6336658466514746,
          0.9300038752354216,
          1.3044851754888402,
          1.0413176800369963,
          -0.387193892665513,
          -0.361276679396097,
          0.38503462731182436,
          1.103668402883417,
          0.49031354112047426,
          -3.2077677410318635,
          0.20980464731512286,
          -0.05156654692620989,
          0.4548618578874998,
          -0.28081765560387134,
          0.011772750841938939,
          -0.3274067294413862,
          -0.5962238831091922,
          -1.4992843996535743,
          -0.6814237192311466,
          -0.36870526912415374,
          -0.1047288555309101,
          2.1506056914516782,
          -0.9839862105924292,
          1.092333878962264,
          0.11894918611924253,
          -0.4015425020670459,
          1.1142914730518803,
          -0.2967379401748048
         ],
         "yaxis": "y8"
        },
        {
         "line": {
          "color": "rgba(128, 128, 128, 1.0)",
          "dash": "solid",
          "shape": "linear",
          "width": 1.3
         },
         "marker": {
          "size": 2,
          "symbol": "circle"
         },
         "mode": "markers",
         "name": "C",
         "text": "",
         "type": "scatter",
         "x": [
          -1.2369250000725207,
          0.6473596835857014,
          -0.4576338812403941,
          1.3516406754529127,
          0.7400490122585802,
          0.25510972366488843,
          -1.0651127106807845,
          2.3917146406957177,
          -1.4679389463105594,
          0.8391765739801815,
          0.4275400882654248,
          0.16019668981205584,
          -0.6546600458002377,
          0.25412542709008795,
          0.5812567887503652,
          2.824949855418005,
          -0.31753914966873975,
          -1.1188413124275982,
          -1.4841744546525169,
          -0.6865651933187513,
          -0.42853193432899855,
          -0.12083131295141886,
          -1.221878323795664,
          -0.21561458823488314,
          -0.6307860927928218,
          -2.7228708574986076,
          -0.14450177790649302,
          -0.13376997897710408,
          -2.1398184114432217,
          -0.27717423900572963,
          0.32303226145341607,
          0.3196944117300218,
          0.18597203059934792,
          -0.3799543016021088,
          -1.0570470176616962,
          -1.0437146318646817,
          1.244589105638801,
          -0.04337519472915891,
          0.30445962279555866,
          -1.8154741203814067,
          -0.8887990983280419,
          -1.5770320135643106,
          -0.6197241790299651,
          0.7644478130818563,
          -0.029785981514331553,
          0.23798873536899082,
          0.9446448368549804,
          0.7613448633925672,
          0.14087615944824644,
          0.6789662147155467,
          -1.6009293240998381,
          -0.2598721191100311,
          -2.7010390549845638,
          -0.26171844799409383,
          -0.9532264629107607,
          -0.03094940289085503,
          2.221027207346979,
          -0.24580105092785837,
          0.8183072372593397,
          0.5713252247110742,
          -0.31740801327057744,
          -1.0604555041989718,
          2.0615159143161503,
          -0.1092063059271307,
          -1.183761123674222,
          0.8302419529454999,
          -0.7770729098525189,
          1.9288790251622796,
          -1.6447440687176327,
          2.2441800141523807,
          -1.0906365477452125,
          -0.5183838762682667,
          -0.7108962314761669,
          -1.150536488305488,
          1.175992686063915,
          2.032896845776216,
          0.35408398135278496,
          0.8631735515015497,
          -0.3051640736411098,
          1.3060739739788678,
          1.4258657965350854,
          1.5277233446501692,
          1.6820603839835706,
          2.143177075085741,
          -0.47631071552440274,
          -0.9258348620953202,
          -1.3563642994337253,
          0.4804089287943433,
          -0.37248548367288253,
          0.7844780851728226,
          0.8658452629035026,
          1.1774201175308285,
          2.3582276533948496,
          1.577825382866515,
          0.7451127400443657,
          0.5417536639361865,
          0.5538339949773834,
          -0.8830866917087877,
          0.3986237791716136,
          1.4054611931446328
         ],
         "xaxis": "x9",
         "y": [
          -0.1495873057280749,
          -0.07389591067093795,
          -0.05424649164552918,
          -1.6191328516391368,
          0.7861292420726962,
          0.16458728004590947,
          -0.35703492113350604,
          -0.426685266299582,
          -0.5991789583388359,
          -0.5157204112982977,
          2.0866639925261543,
          -0.5666538139387771,
          -0.06077987911208819,
          0.9342259947988482,
          -1.5656911043341355,
          0.23638393339599628,
          1.305690926120735,
          0.3364837228418128,
          -0.18388526011911294,
          0.15078765384007473,
          2.045359078996665,
          0.09084688188139022,
          0.3029885321000563,
          0.005640127992127931,
          -0.0288675855409102,
          -0.6590044580518759,
          -0.13485543846494127,
          -0.1040084699023544,
          0.17252887049950819,
          0.33909536489731035,
          -0.2052930632831629,
          -2.194007734071559,
          0.9629620636859435,
          -0.043561965406199166,
          -0.011560900492798187,
          -0.8296747581876137,
          0.4191127311567892,
          -0.959807329683778,
          -0.5119346931534932,
          0.3620624310508169,
          -1.7160067167617838,
          1.1219263615376818,
          -0.39370877508301655,
          -0.8152053080517907,
          -0.10681052700243587,
          -2.239088167020022,
          0.948146099933787,
          -1.1000314549095331,
          2.5824163517615704,
          0.7728368219352023,
          -0.7186359746916166,
          0.5346466089342827,
          -0.46273206501167197,
          0.3768178637237596,
          0.11073571289215428,
          0.05404378650617628,
          0.9085527002673297,
          -0.38897941329748437,
          -0.016248019293256716,
          -0.7084129337671787,
          -0.23605047435667145,
          0.06762523361193007,
          -1.4937661057807585,
          -1.581577590958831,
          0.3165428702605645,
          1.0760245337795067,
          -0.165931841927548,
          0.3154464529938777,
          -2.265401528517308,
          -0.08929231953168348,
          1.9655966095288562,
          -0.5129665800009727,
          -1.002299233471418,
          -1.4380855637946208,
          0.37146983475571843,
          -0.3572176570685798,
          0.04175933964522382,
          1.8119801603216394,
          0.5974935753797596,
          -0.021122586085694794,
          -0.7779900785671291,
          0.5052488953158533,
          -1.19892167597399,
          0.7838373918020359,
          -0.7537141655547988,
          -0.8397930665970642,
          -0.13089359355861377,
          -0.8109683538257121,
          -0.2229580367999272,
          0.18010591937992163,
          1.0895343297602935,
          1.045718270652688,
          -0.2921818454145917,
          0.10335561209896946,
          0.7811411658955167,
          1.4008410540732736,
          -1.2922640723674863,
          -1.0903101250379186,
          -1.7689312036931846,
          -0.5197017824849333
         ],
         "yaxis": "y9"
        },
        {
         "line": {
          "color": "rgba(128, 128, 128, 1.0)",
          "dash": "solid",
          "shape": "linear",
          "width": 1.3
         },
         "marker": {
          "size": 2,
          "symbol": "circle"
         },
         "mode": "markers",
         "name": "C",
         "text": "",
         "type": "scatter",
         "x": [
          -0.7698420862193472,
          -0.01761344336614215,
          -0.3686509050757071,
          -1.8714428775453267,
          1.988312377332831,
          -1.3694925212446596,
          -2.401861046922229,
          2.189063518367414,
          -0.6621720424869381,
          1.524830199372334,
          1.4325678710439211,
          0.2550436856316146,
          0.8589892106314515,
          1.8432136918947117,
          -1.1688456826211293,
          -1.515607620680818,
          -1.980287684188495,
          0.25328966866584374,
          -1.7739046333305717,
          0.8556947038213887,
          -0.5140998417635303,
          0.7223069066597191,
          0.39218572055196327,
          -0.18528948274597204,
          -0.04737676014181813,
          -0.11184810713112321,
          -0.06878806172071653,
          2.1147752527686583,
          0.03454371723819343,
          0.41196652639701076,
          -0.1281605512730255,
          1.9780250375126323,
          0.4491786287378268,
          0.5802485955833719,
          1.8130977866814353,
          1.1581563719854284,
          0.13656895481419654,
          -0.05096485569692876,
          0.3975911275865297,
          -2.407100495423285,
          -0.511101815832546,
          0.04656885644815061,
          -0.9653852690988891,
          1.0783208346025044,
          0.7551442633864494,
          -1.067561156982996,
          -1.6379049071327247,
          -0.4722769241659087,
          0.3479744630317592,
          0.5534559533175919,
          0.14931895908285625,
          -0.853566511765684,
          -0.6789447430531352,
          -0.14248196175510502,
          0.4066834180661509,
          -0.6562879392179125,
          0.34913669973456174,
          0.9022011491435852,
          -0.5713150913939063,
          1.5092160997551691,
          -0.7751297096205931,
          -0.2913856688677858,
          -0.3104074903415344,
          1.4033441419701584,
          0.7210651941738934,
          -1.9081400958723442,
          0.6467291739360184,
          0.42314805386297644,
          -1.4004503453459785,
          1.2200421037296094,
          0.609092067563452,
          -2.6755118760668073,
          0.6336658466514746,
          0.9300038752354216,
          1.3044851754888402,
          1.0413176800369963,
          -0.387193892665513,
          -0.361276679396097,
          0.38503462731182436,
          1.103668402883417,
          0.49031354112047426,
          -3.2077677410318635,
          0.20980464731512286,
          -0.05156654692620989,
          0.4548618578874998,
          -0.28081765560387134,
          0.011772750841938939,
          -0.3274067294413862,
          -0.5962238831091922,
          -1.4992843996535743,
          -0.6814237192311466,
          -0.36870526912415374,
          -0.1047288555309101,
          2.1506056914516782,
          -0.9839862105924292,
          1.092333878962264,
          0.11894918611924253,
          -0.4015425020670459,
          1.1142914730518803,
          -0.2967379401748048
         ],
         "xaxis": "x10",
         "y": [
          -0.1495873057280749,
          -0.07389591067093795,
          -0.05424649164552918,
          -1.6191328516391368,
          0.7861292420726962,
          0.16458728004590947,
          -0.35703492113350604,
          -0.426685266299582,
          -0.5991789583388359,
          -0.5157204112982977,
          2.0866639925261543,
          -0.5666538139387771,
          -0.06077987911208819,
          0.9342259947988482,
          -1.5656911043341355,
          0.23638393339599628,
          1.305690926120735,
          0.3364837228418128,
          -0.18388526011911294,
          0.15078765384007473,
          2.045359078996665,
          0.09084688188139022,
          0.3029885321000563,
          0.005640127992127931,
          -0.0288675855409102,
          -0.6590044580518759,
          -0.13485543846494127,
          -0.1040084699023544,
          0.17252887049950819,
          0.33909536489731035,
          -0.2052930632831629,
          -2.194007734071559,
          0.9629620636859435,
          -0.043561965406199166,
          -0.011560900492798187,
          -0.8296747581876137,
          0.4191127311567892,
          -0.959807329683778,
          -0.5119346931534932,
          0.3620624310508169,
          -1.7160067167617838,
          1.1219263615376818,
          -0.39370877508301655,
          -0.8152053080517907,
          -0.10681052700243587,
          -2.239088167020022,
          0.948146099933787,
          -1.1000314549095331,
          2.5824163517615704,
          0.7728368219352023,
          -0.7186359746916166,
          0.5346466089342827,
          -0.46273206501167197,
          0.3768178637237596,
          0.11073571289215428,
          0.05404378650617628,
          0.9085527002673297,
          -0.38897941329748437,
          -0.016248019293256716,
          -0.7084129337671787,
          -0.23605047435667145,
          0.06762523361193007,
          -1.4937661057807585,
          -1.581577590958831,
          0.3165428702605645,
          1.0760245337795067,
          -0.165931841927548,
          0.3154464529938777,
          -2.265401528517308,
          -0.08929231953168348,
          1.9655966095288562,
          -0.5129665800009727,
          -1.002299233471418,
          -1.4380855637946208,
          0.37146983475571843,
          -0.3572176570685798,
          0.04175933964522382,
          1.8119801603216394,
          0.5974935753797596,
          -0.021122586085694794,
          -0.7779900785671291,
          0.5052488953158533,
          -1.19892167597399,
          0.7838373918020359,
          -0.7537141655547988,
          -0.8397930665970642,
          -0.13089359355861377,
          -0.8109683538257121,
          -0.2229580367999272,
          0.18010591937992163,
          1.0895343297602935,
          1.045718270652688,
          -0.2921818454145917,
          0.10335561209896946,
          0.7811411658955167,
          1.4008410540732736,
          -1.2922640723674863,
          -1.0903101250379186,
          -1.7689312036931846,
          -0.5197017824849333
         ],
         "yaxis": "y10"
        },
        {
         "histfunc": "count",
         "histnorm": "",
         "marker": {
          "color": "rgba(50, 171, 96, 1.0)",
          "line": {
           "color": "#4D5663",
           "width": 1.3
          }
         },
         "name": "C",
         "nbinsx": 10,
         "opacity": 0.8,
         "orientation": "v",
         "type": "histogram",
         "x": [
          -0.1495873057280749,
          -0.07389591067093795,
          -0.05424649164552918,
          -1.6191328516391368,
          0.7861292420726962,
          0.16458728004590947,
          -0.35703492113350604,
          -0.426685266299582,
          -0.5991789583388359,
          -0.5157204112982977,
          2.0866639925261543,
          -0.5666538139387771,
          -0.06077987911208819,
          0.9342259947988482,
          -1.5656911043341355,
          0.23638393339599628,
          1.305690926120735,
          0.3364837228418128,
          -0.18388526011911294,
          0.15078765384007473,
          2.045359078996665,
          0.09084688188139022,
          0.3029885321000563,
          0.005640127992127931,
          -0.0288675855409102,
          -0.6590044580518759,
          -0.13485543846494127,
          -0.1040084699023544,
          0.17252887049950819,
          0.33909536489731035,
          -0.2052930632831629,
          -2.194007734071559,
          0.9629620636859435,
          -0.043561965406199166,
          -0.011560900492798187,
          -0.8296747581876137,
          0.4191127311567892,
          -0.959807329683778,
          -0.5119346931534932,
          0.3620624310508169,
          -1.7160067167617838,
          1.1219263615376818,
          -0.39370877508301655,
          -0.8152053080517907,
          -0.10681052700243587,
          -2.239088167020022,
          0.948146099933787,
          -1.1000314549095331,
          2.5824163517615704,
          0.7728368219352023,
          -0.7186359746916166,
          0.5346466089342827,
          -0.46273206501167197,
          0.3768178637237596,
          0.11073571289215428,
          0.05404378650617628,
          0.9085527002673297,
          -0.38897941329748437,
          -0.016248019293256716,
          -0.7084129337671787,
          -0.23605047435667145,
          0.06762523361193007,
          -1.4937661057807585,
          -1.581577590958831,
          0.3165428702605645,
          1.0760245337795067,
          -0.165931841927548,
          0.3154464529938777,
          -2.265401528517308,
          -0.08929231953168348,
          1.9655966095288562,
          -0.5129665800009727,
          -1.002299233471418,
          -1.4380855637946208,
          0.37146983475571843,
          -0.3572176570685798,
          0.04175933964522382,
          1.8119801603216394,
          0.5974935753797596,
          -0.021122586085694794,
          -0.7779900785671291,
          0.5052488953158533,
          -1.19892167597399,
          0.7838373918020359,
          -0.7537141655547988,
          -0.8397930665970642,
          -0.13089359355861377,
          -0.8109683538257121,
          -0.2229580367999272,
          0.18010591937992163,
          1.0895343297602935,
          1.045718270652688,
          -0.2921818454145917,
          0.10335561209896946,
          0.7811411658955167,
          1.4008410540732736,
          -1.2922640723674863,
          -1.0903101250379186,
          -1.7689312036931846,
          -0.5197017824849333
         ],
         "xaxis": "x11",
         "yaxis": "y11"
        },
        {
         "line": {
          "color": "rgba(128, 128, 128, 1.0)",
          "dash": "solid",
          "shape": "linear",
          "width": 1.3
         },
         "marker": {
          "size": 2,
          "symbol": "circle"
         },
         "mode": "markers",
         "name": "C",
         "text": "",
         "type": "scatter",
         "x": [
          0.5293665006458524,
          -0.7748805540604703,
          1.0041063702226753,
          -0.5014685711589817,
          -0.7990699114298004,
          1.3526012472409807,
          2.7069625745810697,
          0.9418765685204512,
          0.6646196140664915,
          -0.37622698308513036,
          1.872907234974121,
          0.23098970425502563,
          -0.6696393977467702,
          -0.5532576114227775,
          -0.580975686840012,
          0.5118352419450641,
          -0.39594423600474965,
          0.4073970490229041,
          0.8542214083712736,
          -0.004834655193624482,
          -0.9723765849277642,
          -0.7463364737419851,
          2.4549819401427,
          -3.517635691987328,
          0.5738766909002905,
          -1.5345633051352354,
          -1.3059813594634928,
          -0.10684477373060267,
          -0.8959571576646118,
          0.24851463316831024,
          -0.5373821928201002,
          -0.5638124807760423,
          -1.5830907703026236,
          -0.48455664782929425,
          0.39416057604739785,
          -0.6521202111561265,
          0.3833858295349967,
          -0.026974854734215244,
          -1.718310627697159,
          0.43789618970833816,
          -0.03480276384231127,
          -1.994803828383732,
          1.2992884271258542,
          -1.8596734442133096,
          0.21485077510458403,
          -0.8593747521691765,
          0.38525141505965566,
          1.0585660632805256,
          -1.3105395488930291,
          -0.39074347238128293,
          -0.6900930041310154,
          0.23208264972938333,
          0.4826854483567595,
          -0.7767312911036357,
          0.22491136388331373,
          0.5814384893304747,
          0.5078618747203191,
          0.02912004819766613,
          -1.5408572234277373,
          0.8275475626338956,
          -1.2347380782919617,
          1.0454485217526956,
          2.000591036660255,
          0.3420397889762249,
          0.8305548583982847,
          -2.680051380624589,
          1.2106173604330084,
          -0.03491584896631556,
          0.20415674953273252,
          -0.7278868952741584,
          -0.4066709643380715,
          -0.6913941307546945,
          -0.7078265041387234,
          -0.24780906832072142,
          -0.9546900723223362,
          -0.25004170195760256,
          -0.5578099813542368,
          -2.0985699375508955,
          1.1967765947042563,
          -1.0484578443537154,
          0.5224002539238172,
          -0.9046286734930047,
          0.8504712301101417,
          -0.34440141948439057,
          1.1525486552216617,
          0.21879756283661364,
          -0.19225249825170607,
          0.2717283496788176,
          0.167357830092262,
          0.2092226485472227,
          -0.8147360118198178,
          0.24502094240023395,
          0.6221445409198278,
          0.5875180132353891,
          0.8504584167568766,
          1.8804820110000087,
          -1.2799977832826221,
          -1.5283676504453465,
          1.5140637923583105,
          -0.9247953154379341
         ],
         "xaxis": "x12",
         "y": [
          -0.1495873057280749,
          -0.07389591067093795,
          -0.05424649164552918,
          -1.6191328516391368,
          0.7861292420726962,
          0.16458728004590947,
          -0.35703492113350604,
          -0.426685266299582,
          -0.5991789583388359,
          -0.5157204112982977,
          2.0866639925261543,
          -0.5666538139387771,
          -0.06077987911208819,
          0.9342259947988482,
          -1.5656911043341355,
          0.23638393339599628,
          1.305690926120735,
          0.3364837228418128,
          -0.18388526011911294,
          0.15078765384007473,
          2.045359078996665,
          0.09084688188139022,
          0.3029885321000563,
          0.005640127992127931,
          -0.0288675855409102,
          -0.6590044580518759,
          -0.13485543846494127,
          -0.1040084699023544,
          0.17252887049950819,
          0.33909536489731035,
          -0.2052930632831629,
          -2.194007734071559,
          0.9629620636859435,
          -0.043561965406199166,
          -0.011560900492798187,
          -0.8296747581876137,
          0.4191127311567892,
          -0.959807329683778,
          -0.5119346931534932,
          0.3620624310508169,
          -1.7160067167617838,
          1.1219263615376818,
          -0.39370877508301655,
          -0.8152053080517907,
          -0.10681052700243587,
          -2.239088167020022,
          0.948146099933787,
          -1.1000314549095331,
          2.5824163517615704,
          0.7728368219352023,
          -0.7186359746916166,
          0.5346466089342827,
          -0.46273206501167197,
          0.3768178637237596,
          0.11073571289215428,
          0.05404378650617628,
          0.9085527002673297,
          -0.38897941329748437,
          -0.016248019293256716,
          -0.7084129337671787,
          -0.23605047435667145,
          0.06762523361193007,
          -1.4937661057807585,
          -1.581577590958831,
          0.3165428702605645,
          1.0760245337795067,
          -0.165931841927548,
          0.3154464529938777,
          -2.265401528517308,
          -0.08929231953168348,
          1.9655966095288562,
          -0.5129665800009727,
          -1.002299233471418,
          -1.4380855637946208,
          0.37146983475571843,
          -0.3572176570685798,
          0.04175933964522382,
          1.8119801603216394,
          0.5974935753797596,
          -0.021122586085694794,
          -0.7779900785671291,
          0.5052488953158533,
          -1.19892167597399,
          0.7838373918020359,
          -0.7537141655547988,
          -0.8397930665970642,
          -0.13089359355861377,
          -0.8109683538257121,
          -0.2229580367999272,
          0.18010591937992163,
          1.0895343297602935,
          1.045718270652688,
          -0.2921818454145917,
          0.10335561209896946,
          0.7811411658955167,
          1.4008410540732736,
          -1.2922640723674863,
          -1.0903101250379186,
          -1.7689312036931846,
          -0.5197017824849333
         ],
         "yaxis": "y12"
        },
        {
         "line": {
          "color": "rgba(128, 128, 128, 1.0)",
          "dash": "solid",
          "shape": "linear",
          "width": 1.3
         },
         "marker": {
          "size": 2,
          "symbol": "circle"
         },
         "mode": "markers",
         "name": "D",
         "text": "",
         "type": "scatter",
         "x": [
          -1.2369250000725207,
          0.6473596835857014,
          -0.4576338812403941,
          1.3516406754529127,
          0.7400490122585802,
          0.25510972366488843,
          -1.0651127106807845,
          2.3917146406957177,
          -1.4679389463105594,
          0.8391765739801815,
          0.4275400882654248,
          0.16019668981205584,
          -0.6546600458002377,
          0.25412542709008795,
          0.5812567887503652,
          2.824949855418005,
          -0.31753914966873975,
          -1.1188413124275982,
          -1.4841744546525169,
          -0.6865651933187513,
          -0.42853193432899855,
          -0.12083131295141886,
          -1.221878323795664,
          -0.21561458823488314,
          -0.6307860927928218,
          -2.7228708574986076,
          -0.14450177790649302,
          -0.13376997897710408,
          -2.1398184114432217,
          -0.27717423900572963,
          0.32303226145341607,
          0.3196944117300218,
          0.18597203059934792,
          -0.3799543016021088,
          -1.0570470176616962,
          -1.0437146318646817,
          1.244589105638801,
          -0.04337519472915891,
          0.30445962279555866,
          -1.8154741203814067,
          -0.8887990983280419,
          -1.5770320135643106,
          -0.6197241790299651,
          0.7644478130818563,
          -0.029785981514331553,
          0.23798873536899082,
          0.9446448368549804,
          0.7613448633925672,
          0.14087615944824644,
          0.6789662147155467,
          -1.6009293240998381,
          -0.2598721191100311,
          -2.7010390549845638,
          -0.26171844799409383,
          -0.9532264629107607,
          -0.03094940289085503,
          2.221027207346979,
          -0.24580105092785837,
          0.8183072372593397,
          0.5713252247110742,
          -0.31740801327057744,
          -1.0604555041989718,
          2.0615159143161503,
          -0.1092063059271307,
          -1.183761123674222,
          0.8302419529454999,
          -0.7770729098525189,
          1.9288790251622796,
          -1.6447440687176327,
          2.2441800141523807,
          -1.0906365477452125,
          -0.5183838762682667,
          -0.7108962314761669,
          -1.150536488305488,
          1.175992686063915,
          2.032896845776216,
          0.35408398135278496,
          0.8631735515015497,
          -0.3051640736411098,
          1.3060739739788678,
          1.4258657965350854,
          1.5277233446501692,
          1.6820603839835706,
          2.143177075085741,
          -0.47631071552440274,
          -0.9258348620953202,
          -1.3563642994337253,
          0.4804089287943433,
          -0.37248548367288253,
          0.7844780851728226,
          0.8658452629035026,
          1.1774201175308285,
          2.3582276533948496,
          1.577825382866515,
          0.7451127400443657,
          0.5417536639361865,
          0.5538339949773834,
          -0.8830866917087877,
          0.3986237791716136,
          1.4054611931446328
         ],
         "xaxis": "x13",
         "y": [
          0.5293665006458524,
          -0.7748805540604703,
          1.0041063702226753,
          -0.5014685711589817,
          -0.7990699114298004,
          1.3526012472409807,
          2.7069625745810697,
          0.9418765685204512,
          0.6646196140664915,
          -0.37622698308513036,
          1.872907234974121,
          0.23098970425502563,
          -0.6696393977467702,
          -0.5532576114227775,
          -0.580975686840012,
          0.5118352419450641,
          -0.39594423600474965,
          0.4073970490229041,
          0.8542214083712736,
          -0.004834655193624482,
          -0.9723765849277642,
          -0.7463364737419851,
          2.4549819401427,
          -3.517635691987328,
          0.5738766909002905,
          -1.5345633051352354,
          -1.3059813594634928,
          -0.10684477373060267,
          -0.8959571576646118,
          0.24851463316831024,
          -0.5373821928201002,
          -0.5638124807760423,
          -1.5830907703026236,
          -0.48455664782929425,
          0.39416057604739785,
          -0.6521202111561265,
          0.3833858295349967,
          -0.026974854734215244,
          -1.718310627697159,
          0.43789618970833816,
          -0.03480276384231127,
          -1.994803828383732,
          1.2992884271258542,
          -1.8596734442133096,
          0.21485077510458403,
          -0.8593747521691765,
          0.38525141505965566,
          1.0585660632805256,
          -1.3105395488930291,
          -0.39074347238128293,
          -0.6900930041310154,
          0.23208264972938333,
          0.4826854483567595,
          -0.7767312911036357,
          0.22491136388331373,
          0.5814384893304747,
          0.5078618747203191,
          0.02912004819766613,
          -1.5408572234277373,
          0.8275475626338956,
          -1.2347380782919617,
          1.0454485217526956,
          2.000591036660255,
          0.3420397889762249,
          0.8305548583982847,
          -2.680051380624589,
          1.2106173604330084,
          -0.03491584896631556,
          0.20415674953273252,
          -0.7278868952741584,
          -0.4066709643380715,
          -0.6913941307546945,
          -0.7078265041387234,
          -0.24780906832072142,
          -0.9546900723223362,
          -0.25004170195760256,
          -0.5578099813542368,
          -2.0985699375508955,
          1.1967765947042563,
          -1.0484578443537154,
          0.5224002539238172,
          -0.9046286734930047,
          0.8504712301101417,
          -0.34440141948439057,
          1.1525486552216617,
          0.21879756283661364,
          -0.19225249825170607,
          0.2717283496788176,
          0.167357830092262,
          0.2092226485472227,
          -0.8147360118198178,
          0.24502094240023395,
          0.6221445409198278,
          0.5875180132353891,
          0.8504584167568766,
          1.8804820110000087,
          -1.2799977832826221,
          -1.5283676504453465,
          1.5140637923583105,
          -0.9247953154379341
         ],
         "yaxis": "y13"
        },
        {
         "line": {
          "color": "rgba(128, 128, 128, 1.0)",
          "dash": "solid",
          "shape": "linear",
          "width": 1.3
         },
         "marker": {
          "size": 2,
          "symbol": "circle"
         },
         "mode": "markers",
         "name": "D",
         "text": "",
         "type": "scatter",
         "x": [
          -0.7698420862193472,
          -0.01761344336614215,
          -0.3686509050757071,
          -1.8714428775453267,
          1.988312377332831,
          -1.3694925212446596,
          -2.401861046922229,
          2.189063518367414,
          -0.6621720424869381,
          1.524830199372334,
          1.4325678710439211,
          0.2550436856316146,
          0.8589892106314515,
          1.8432136918947117,
          -1.1688456826211293,
          -1.515607620680818,
          -1.980287684188495,
          0.25328966866584374,
          -1.7739046333305717,
          0.8556947038213887,
          -0.5140998417635303,
          0.7223069066597191,
          0.39218572055196327,
          -0.18528948274597204,
          -0.04737676014181813,
          -0.11184810713112321,
          -0.06878806172071653,
          2.1147752527686583,
          0.03454371723819343,
          0.41196652639701076,
          -0.1281605512730255,
          1.9780250375126323,
          0.4491786287378268,
          0.5802485955833719,
          1.8130977866814353,
          1.1581563719854284,
          0.13656895481419654,
          -0.05096485569692876,
          0.3975911275865297,
          -2.407100495423285,
          -0.511101815832546,
          0.04656885644815061,
          -0.9653852690988891,
          1.0783208346025044,
          0.7551442633864494,
          -1.067561156982996,
          -1.6379049071327247,
          -0.4722769241659087,
          0.3479744630317592,
          0.5534559533175919,
          0.14931895908285625,
          -0.853566511765684,
          -0.6789447430531352,
          -0.14248196175510502,
          0.4066834180661509,
          -0.6562879392179125,
          0.34913669973456174,
          0.9022011491435852,
          -0.5713150913939063,
          1.5092160997551691,
          -0.7751297096205931,
          -0.2913856688677858,
          -0.3104074903415344,
          1.4033441419701584,
          0.7210651941738934,
          -1.9081400958723442,
          0.6467291739360184,
          0.42314805386297644,
          -1.4004503453459785,
          1.2200421037296094,
          0.609092067563452,
          -2.6755118760668073,
          0.6336658466514746,
          0.9300038752354216,
          1.3044851754888402,
          1.0413176800369963,
          -0.387193892665513,
          -0.361276679396097,
          0.38503462731182436,
          1.103668402883417,
          0.49031354112047426,
          -3.2077677410318635,
          0.20980464731512286,
          -0.05156654692620989,
          0.4548618578874998,
          -0.28081765560387134,
          0.011772750841938939,
          -0.3274067294413862,
          -0.5962238831091922,
          -1.4992843996535743,
          -0.6814237192311466,
          -0.36870526912415374,
          -0.1047288555309101,
          2.1506056914516782,
          -0.9839862105924292,
          1.092333878962264,
          0.11894918611924253,
          -0.4015425020670459,
          1.1142914730518803,
          -0.2967379401748048
         ],
         "xaxis": "x14",
         "y": [
          0.5293665006458524,
          -0.7748805540604703,
          1.0041063702226753,
          -0.5014685711589817,
          -0.7990699114298004,
          1.3526012472409807,
          2.7069625745810697,
          0.9418765685204512,
          0.6646196140664915,
          -0.37622698308513036,
          1.872907234974121,
          0.23098970425502563,
          -0.6696393977467702,
          -0.5532576114227775,
          -0.580975686840012,
          0.5118352419450641,
          -0.39594423600474965,
          0.4073970490229041,
          0.8542214083712736,
          -0.004834655193624482,
          -0.9723765849277642,
          -0.7463364737419851,
          2.4549819401427,
          -3.517635691987328,
          0.5738766909002905,
          -1.5345633051352354,
          -1.3059813594634928,
          -0.10684477373060267,
          -0.8959571576646118,
          0.24851463316831024,
          -0.5373821928201002,
          -0.5638124807760423,
          -1.5830907703026236,
          -0.48455664782929425,
          0.39416057604739785,
          -0.6521202111561265,
          0.3833858295349967,
          -0.026974854734215244,
          -1.718310627697159,
          0.43789618970833816,
          -0.03480276384231127,
          -1.994803828383732,
          1.2992884271258542,
          -1.8596734442133096,
          0.21485077510458403,
          -0.8593747521691765,
          0.38525141505965566,
          1.0585660632805256,
          -1.3105395488930291,
          -0.39074347238128293,
          -0.6900930041310154,
          0.23208264972938333,
          0.4826854483567595,
          -0.7767312911036357,
          0.22491136388331373,
          0.5814384893304747,
          0.5078618747203191,
          0.02912004819766613,
          -1.5408572234277373,
          0.8275475626338956,
          -1.2347380782919617,
          1.0454485217526956,
          2.000591036660255,
          0.3420397889762249,
          0.8305548583982847,
          -2.680051380624589,
          1.2106173604330084,
          -0.03491584896631556,
          0.20415674953273252,
          -0.7278868952741584,
          -0.4066709643380715,
          -0.6913941307546945,
          -0.7078265041387234,
          -0.24780906832072142,
          -0.9546900723223362,
          -0.25004170195760256,
          -0.5578099813542368,
          -2.0985699375508955,
          1.1967765947042563,
          -1.0484578443537154,
          0.5224002539238172,
          -0.9046286734930047,
          0.8504712301101417,
          -0.34440141948439057,
          1.1525486552216617,
          0.21879756283661364,
          -0.19225249825170607,
          0.2717283496788176,
          0.167357830092262,
          0.2092226485472227,
          -0.8147360118198178,
          0.24502094240023395,
          0.6221445409198278,
          0.5875180132353891,
          0.8504584167568766,
          1.8804820110000087,
          -1.2799977832826221,
          -1.5283676504453465,
          1.5140637923583105,
          -0.9247953154379341
         ],
         "yaxis": "y14"
        },
        {
         "line": {
          "color": "rgba(128, 128, 128, 1.0)",
          "dash": "solid",
          "shape": "linear",
          "width": 1.3
         },
         "marker": {
          "size": 2,
          "symbol": "circle"
         },
         "mode": "markers",
         "name": "D",
         "text": "",
         "type": "scatter",
         "x": [
          -0.1495873057280749,
          -0.07389591067093795,
          -0.05424649164552918,
          -1.6191328516391368,
          0.7861292420726962,
          0.16458728004590947,
          -0.35703492113350604,
          -0.426685266299582,
          -0.5991789583388359,
          -0.5157204112982977,
          2.0866639925261543,
          -0.5666538139387771,
          -0.06077987911208819,
          0.9342259947988482,
          -1.5656911043341355,
          0.23638393339599628,
          1.305690926120735,
          0.3364837228418128,
          -0.18388526011911294,
          0.15078765384007473,
          2.045359078996665,
          0.09084688188139022,
          0.3029885321000563,
          0.005640127992127931,
          -0.0288675855409102,
          -0.6590044580518759,
          -0.13485543846494127,
          -0.1040084699023544,
          0.17252887049950819,
          0.33909536489731035,
          -0.2052930632831629,
          -2.194007734071559,
          0.9629620636859435,
          -0.043561965406199166,
          -0.011560900492798187,
          -0.8296747581876137,
          0.4191127311567892,
          -0.959807329683778,
          -0.5119346931534932,
          0.3620624310508169,
          -1.7160067167617838,
          1.1219263615376818,
          -0.39370877508301655,
          -0.8152053080517907,
          -0.10681052700243587,
          -2.239088167020022,
          0.948146099933787,
          -1.1000314549095331,
          2.5824163517615704,
          0.7728368219352023,
          -0.7186359746916166,
          0.5346466089342827,
          -0.46273206501167197,
          0.3768178637237596,
          0.11073571289215428,
          0.05404378650617628,
          0.9085527002673297,
          -0.38897941329748437,
          -0.016248019293256716,
          -0.7084129337671787,
          -0.23605047435667145,
          0.06762523361193007,
          -1.4937661057807585,
          -1.581577590958831,
          0.3165428702605645,
          1.0760245337795067,
          -0.165931841927548,
          0.3154464529938777,
          -2.265401528517308,
          -0.08929231953168348,
          1.9655966095288562,
          -0.5129665800009727,
          -1.002299233471418,
          -1.4380855637946208,
          0.37146983475571843,
          -0.3572176570685798,
          0.04175933964522382,
          1.8119801603216394,
          0.5974935753797596,
          -0.021122586085694794,
          -0.7779900785671291,
          0.5052488953158533,
          -1.19892167597399,
          0.7838373918020359,
          -0.7537141655547988,
          -0.8397930665970642,
          -0.13089359355861377,
          -0.8109683538257121,
          -0.2229580367999272,
          0.18010591937992163,
          1.0895343297602935,
          1.045718270652688,
          -0.2921818454145917,
          0.10335561209896946,
          0.7811411658955167,
          1.4008410540732736,
          -1.2922640723674863,
          -1.0903101250379186,
          -1.7689312036931846,
          -0.5197017824849333
         ],
         "xaxis": "x15",
         "y": [
          0.5293665006458524,
          -0.7748805540604703,
          1.0041063702226753,
          -0.5014685711589817,
          -0.7990699114298004,
          1.3526012472409807,
          2.7069625745810697,
          0.9418765685204512,
          0.6646196140664915,
          -0.37622698308513036,
          1.872907234974121,
          0.23098970425502563,
          -0.6696393977467702,
          -0.5532576114227775,
          -0.580975686840012,
          0.5118352419450641,
          -0.39594423600474965,
          0.4073970490229041,
          0.8542214083712736,
          -0.004834655193624482,
          -0.9723765849277642,
          -0.7463364737419851,
          2.4549819401427,
          -3.517635691987328,
          0.5738766909002905,
          -1.5345633051352354,
          -1.3059813594634928,
          -0.10684477373060267,
          -0.8959571576646118,
          0.24851463316831024,
          -0.5373821928201002,
          -0.5638124807760423,
          -1.5830907703026236,
          -0.48455664782929425,
          0.39416057604739785,
          -0.6521202111561265,
          0.3833858295349967,
          -0.026974854734215244,
          -1.718310627697159,
          0.43789618970833816,
          -0.03480276384231127,
          -1.994803828383732,
          1.2992884271258542,
          -1.8596734442133096,
          0.21485077510458403,
          -0.8593747521691765,
          0.38525141505965566,
          1.0585660632805256,
          -1.3105395488930291,
          -0.39074347238128293,
          -0.6900930041310154,
          0.23208264972938333,
          0.4826854483567595,
          -0.7767312911036357,
          0.22491136388331373,
          0.5814384893304747,
          0.5078618747203191,
          0.02912004819766613,
          -1.5408572234277373,
          0.8275475626338956,
          -1.2347380782919617,
          1.0454485217526956,
          2.000591036660255,
          0.3420397889762249,
          0.8305548583982847,
          -2.680051380624589,
          1.2106173604330084,
          -0.03491584896631556,
          0.20415674953273252,
          -0.7278868952741584,
          -0.4066709643380715,
          -0.6913941307546945,
          -0.7078265041387234,
          -0.24780906832072142,
          -0.9546900723223362,
          -0.25004170195760256,
          -0.5578099813542368,
          -2.0985699375508955,
          1.1967765947042563,
          -1.0484578443537154,
          0.5224002539238172,
          -0.9046286734930047,
          0.8504712301101417,
          -0.34440141948439057,
          1.1525486552216617,
          0.21879756283661364,
          -0.19225249825170607,
          0.2717283496788176,
          0.167357830092262,
          0.2092226485472227,
          -0.8147360118198178,
          0.24502094240023395,
          0.6221445409198278,
          0.5875180132353891,
          0.8504584167568766,
          1.8804820110000087,
          -1.2799977832826221,
          -1.5283676504453465,
          1.5140637923583105,
          -0.9247953154379341
         ],
         "yaxis": "y15"
        },
        {
         "histfunc": "count",
         "histnorm": "",
         "marker": {
          "color": "rgba(128, 0, 128, 1.0)",
          "line": {
           "color": "#4D5663",
           "width": 1.3
          }
         },
         "name": "D",
         "nbinsx": 10,
         "opacity": 0.8,
         "orientation": "v",
         "type": "histogram",
         "x": [
          0.5293665006458524,
          -0.7748805540604703,
          1.0041063702226753,
          -0.5014685711589817,
          -0.7990699114298004,
          1.3526012472409807,
          2.7069625745810697,
          0.9418765685204512,
          0.6646196140664915,
          -0.37622698308513036,
          1.872907234974121,
          0.23098970425502563,
          -0.6696393977467702,
          -0.5532576114227775,
          -0.580975686840012,
          0.5118352419450641,
          -0.39594423600474965,
          0.4073970490229041,
          0.8542214083712736,
          -0.004834655193624482,
          -0.9723765849277642,
          -0.7463364737419851,
          2.4549819401427,
          -3.517635691987328,
          0.5738766909002905,
          -1.5345633051352354,
          -1.3059813594634928,
          -0.10684477373060267,
          -0.8959571576646118,
          0.24851463316831024,
          -0.5373821928201002,
          -0.5638124807760423,
          -1.5830907703026236,
          -0.48455664782929425,
          0.39416057604739785,
          -0.6521202111561265,
          0.3833858295349967,
          -0.026974854734215244,
          -1.718310627697159,
          0.43789618970833816,
          -0.03480276384231127,
          -1.994803828383732,
          1.2992884271258542,
          -1.8596734442133096,
          0.21485077510458403,
          -0.8593747521691765,
          0.38525141505965566,
          1.0585660632805256,
          -1.3105395488930291,
          -0.39074347238128293,
          -0.6900930041310154,
          0.23208264972938333,
          0.4826854483567595,
          -0.7767312911036357,
          0.22491136388331373,
          0.5814384893304747,
          0.5078618747203191,
          0.02912004819766613,
          -1.5408572234277373,
          0.8275475626338956,
          -1.2347380782919617,
          1.0454485217526956,
          2.000591036660255,
          0.3420397889762249,
          0.8305548583982847,
          -2.680051380624589,
          1.2106173604330084,
          -0.03491584896631556,
          0.20415674953273252,
          -0.7278868952741584,
          -0.4066709643380715,
          -0.6913941307546945,
          -0.7078265041387234,
          -0.24780906832072142,
          -0.9546900723223362,
          -0.25004170195760256,
          -0.5578099813542368,
          -2.0985699375508955,
          1.1967765947042563,
          -1.0484578443537154,
          0.5224002539238172,
          -0.9046286734930047,
          0.8504712301101417,
          -0.34440141948439057,
          1.1525486552216617,
          0.21879756283661364,
          -0.19225249825170607,
          0.2717283496788176,
          0.167357830092262,
          0.2092226485472227,
          -0.8147360118198178,
          0.24502094240023395,
          0.6221445409198278,
          0.5875180132353891,
          0.8504584167568766,
          1.8804820110000087,
          -1.2799977832826221,
          -1.5283676504453465,
          1.5140637923583105,
          -0.9247953154379341
         ],
         "xaxis": "x16",
         "yaxis": "y16"
        }
       ],
       "layout": {
        "bargap": 0.02,
        "legend": {
         "bgcolor": "#F5F6F9",
         "font": {
          "color": "#4D5663"
         }
        },
        "paper_bgcolor": "#F5F6F9",
        "plot_bgcolor": "#F5F6F9",
        "showlegend": false,
        "template": {
         "data": {
          "bar": [
           {
            "error_x": {
             "color": "#2a3f5f"
            },
            "error_y": {
             "color": "#2a3f5f"
            },
            "marker": {
             "line": {
              "color": "#E5ECF6",
              "width": 0.5
             },
             "pattern": {
              "fillmode": "overlay",
              "size": 10,
              "solidity": 0.2
             }
            },
            "type": "bar"
           }
          ],
          "barpolar": [
           {
            "marker": {
             "line": {
              "color": "#E5ECF6",
              "width": 0.5
             },
             "pattern": {
              "fillmode": "overlay",
              "size": 10,
              "solidity": 0.2
             }
            },
            "type": "barpolar"
           }
          ],
          "carpet": [
           {
            "aaxis": {
             "endlinecolor": "#2a3f5f",
             "gridcolor": "white",
             "linecolor": "white",
             "minorgridcolor": "white",
             "startlinecolor": "#2a3f5f"
            },
            "baxis": {
             "endlinecolor": "#2a3f5f",
             "gridcolor": "white",
             "linecolor": "white",
             "minorgridcolor": "white",
             "startlinecolor": "#2a3f5f"
            },
            "type": "carpet"
           }
          ],
          "choropleth": [
           {
            "colorbar": {
             "outlinewidth": 0,
             "ticks": ""
            },
            "type": "choropleth"
           }
          ],
          "contour": [
           {
            "colorbar": {
             "outlinewidth": 0,
             "ticks": ""
            },
            "colorscale": [
             [
              0,
              "#0d0887"
             ],
             [
              0.1111111111111111,
              "#46039f"
             ],
             [
              0.2222222222222222,
              "#7201a8"
             ],
             [
              0.3333333333333333,
              "#9c179e"
             ],
             [
              0.4444444444444444,
              "#bd3786"
             ],
             [
              0.5555555555555556,
              "#d8576b"
             ],
             [
              0.6666666666666666,
              "#ed7953"
             ],
             [
              0.7777777777777778,
              "#fb9f3a"
             ],
             [
              0.8888888888888888,
              "#fdca26"
             ],
             [
              1,
              "#f0f921"
             ]
            ],
            "type": "contour"
           }
          ],
          "contourcarpet": [
           {
            "colorbar": {
             "outlinewidth": 0,
             "ticks": ""
            },
            "type": "contourcarpet"
           }
          ],
          "heatmap": [
           {
            "colorbar": {
             "outlinewidth": 0,
             "ticks": ""
            },
            "colorscale": [
             [
              0,
              "#0d0887"
             ],
             [
              0.1111111111111111,
              "#46039f"
             ],
             [
              0.2222222222222222,
              "#7201a8"
             ],
             [
              0.3333333333333333,
              "#9c179e"
             ],
             [
              0.4444444444444444,
              "#bd3786"
             ],
             [
              0.5555555555555556,
              "#d8576b"
             ],
             [
              0.6666666666666666,
              "#ed7953"
             ],
             [
              0.7777777777777778,
              "#fb9f3a"
             ],
             [
              0.8888888888888888,
              "#fdca26"
             ],
             [
              1,
              "#f0f921"
             ]
            ],
            "type": "heatmap"
           }
          ],
          "heatmapgl": [
           {
            "colorbar": {
             "outlinewidth": 0,
             "ticks": ""
            },
            "colorscale": [
             [
              0,
              "#0d0887"
             ],
             [
              0.1111111111111111,
              "#46039f"
             ],
             [
              0.2222222222222222,
              "#7201a8"
             ],
             [
              0.3333333333333333,
              "#9c179e"
             ],
             [
              0.4444444444444444,
              "#bd3786"
             ],
             [
              0.5555555555555556,
              "#d8576b"
             ],
             [
              0.6666666666666666,
              "#ed7953"
             ],
             [
              0.7777777777777778,
              "#fb9f3a"
             ],
             [
              0.8888888888888888,
              "#fdca26"
             ],
             [
              1,
              "#f0f921"
             ]
            ],
            "type": "heatmapgl"
           }
          ],
          "histogram": [
           {
            "marker": {
             "pattern": {
              "fillmode": "overlay",
              "size": 10,
              "solidity": 0.2
             }
            },
            "type": "histogram"
           }
          ],
          "histogram2d": [
           {
            "colorbar": {
             "outlinewidth": 0,
             "ticks": ""
            },
            "colorscale": [
             [
              0,
              "#0d0887"
             ],
             [
              0.1111111111111111,
              "#46039f"
             ],
             [
              0.2222222222222222,
              "#7201a8"
             ],
             [
              0.3333333333333333,
              "#9c179e"
             ],
             [
              0.4444444444444444,
              "#bd3786"
             ],
             [
              0.5555555555555556,
              "#d8576b"
             ],
             [
              0.6666666666666666,
              "#ed7953"
             ],
             [
              0.7777777777777778,
              "#fb9f3a"
             ],
             [
              0.8888888888888888,
              "#fdca26"
             ],
             [
              1,
              "#f0f921"
             ]
            ],
            "type": "histogram2d"
           }
          ],
          "histogram2dcontour": [
           {
            "colorbar": {
             "outlinewidth": 0,
             "ticks": ""
            },
            "colorscale": [
             [
              0,
              "#0d0887"
             ],
             [
              0.1111111111111111,
              "#46039f"
             ],
             [
              0.2222222222222222,
              "#7201a8"
             ],
             [
              0.3333333333333333,
              "#9c179e"
             ],
             [
              0.4444444444444444,
              "#bd3786"
             ],
             [
              0.5555555555555556,
              "#d8576b"
             ],
             [
              0.6666666666666666,
              "#ed7953"
             ],
             [
              0.7777777777777778,
              "#fb9f3a"
             ],
             [
              0.8888888888888888,
              "#fdca26"
             ],
             [
              1,
              "#f0f921"
             ]
            ],
            "type": "histogram2dcontour"
           }
          ],
          "mesh3d": [
           {
            "colorbar": {
             "outlinewidth": 0,
             "ticks": ""
            },
            "type": "mesh3d"
           }
          ],
          "parcoords": [
           {
            "line": {
             "colorbar": {
              "outlinewidth": 0,
              "ticks": ""
             }
            },
            "type": "parcoords"
           }
          ],
          "pie": [
           {
            "automargin": true,
            "type": "pie"
           }
          ],
          "scatter": [
           {
            "marker": {
             "colorbar": {
              "outlinewidth": 0,
              "ticks": ""
             }
            },
            "type": "scatter"
           }
          ],
          "scatter3d": [
           {
            "line": {
             "colorbar": {
              "outlinewidth": 0,
              "ticks": ""
             }
            },
            "marker": {
             "colorbar": {
              "outlinewidth": 0,
              "ticks": ""
             }
            },
            "type": "scatter3d"
           }
          ],
          "scattercarpet": [
           {
            "marker": {
             "colorbar": {
              "outlinewidth": 0,
              "ticks": ""
             }
            },
            "type": "scattercarpet"
           }
          ],
          "scattergeo": [
           {
            "marker": {
             "colorbar": {
              "outlinewidth": 0,
              "ticks": ""
             }
            },
            "type": "scattergeo"
           }
          ],
          "scattergl": [
           {
            "marker": {
             "colorbar": {
              "outlinewidth": 0,
              "ticks": ""
             }
            },
            "type": "scattergl"
           }
          ],
          "scattermapbox": [
           {
            "marker": {
             "colorbar": {
              "outlinewidth": 0,
              "ticks": ""
             }
            },
            "type": "scattermapbox"
           }
          ],
          "scatterpolar": [
           {
            "marker": {
             "colorbar": {
              "outlinewidth": 0,
              "ticks": ""
             }
            },
            "type": "scatterpolar"
           }
          ],
          "scatterpolargl": [
           {
            "marker": {
             "colorbar": {
              "outlinewidth": 0,
              "ticks": ""
             }
            },
            "type": "scatterpolargl"
           }
          ],
          "scatterternary": [
           {
            "marker": {
             "colorbar": {
              "outlinewidth": 0,
              "ticks": ""
             }
            },
            "type": "scatterternary"
           }
          ],
          "surface": [
           {
            "colorbar": {
             "outlinewidth": 0,
             "ticks": ""
            },
            "colorscale": [
             [
              0,
              "#0d0887"
             ],
             [
              0.1111111111111111,
              "#46039f"
             ],
             [
              0.2222222222222222,
              "#7201a8"
             ],
             [
              0.3333333333333333,
              "#9c179e"
             ],
             [
              0.4444444444444444,
              "#bd3786"
             ],
             [
              0.5555555555555556,
              "#d8576b"
             ],
             [
              0.6666666666666666,
              "#ed7953"
             ],
             [
              0.7777777777777778,
              "#fb9f3a"
             ],
             [
              0.8888888888888888,
              "#fdca26"
             ],
             [
              1,
              "#f0f921"
             ]
            ],
            "type": "surface"
           }
          ],
          "table": [
           {
            "cells": {
             "fill": {
              "color": "#EBF0F8"
             },
             "line": {
              "color": "white"
             }
            },
            "header": {
             "fill": {
              "color": "#C8D4E3"
             },
             "line": {
              "color": "white"
             }
            },
            "type": "table"
           }
          ]
         },
         "layout": {
          "annotationdefaults": {
           "arrowcolor": "#2a3f5f",
           "arrowhead": 0,
           "arrowwidth": 1
          },
          "autotypenumbers": "strict",
          "coloraxis": {
           "colorbar": {
            "outlinewidth": 0,
            "ticks": ""
           }
          },
          "colorscale": {
           "diverging": [
            [
             0,
             "#8e0152"
            ],
            [
             0.1,
             "#c51b7d"
            ],
            [
             0.2,
             "#de77ae"
            ],
            [
             0.3,
             "#f1b6da"
            ],
            [
             0.4,
             "#fde0ef"
            ],
            [
             0.5,
             "#f7f7f7"
            ],
            [
             0.6,
             "#e6f5d0"
            ],
            [
             0.7,
             "#b8e186"
            ],
            [
             0.8,
             "#7fbc41"
            ],
            [
             0.9,
             "#4d9221"
            ],
            [
             1,
             "#276419"
            ]
           ],
           "sequential": [
            [
             0,
             "#0d0887"
            ],
            [
             0.1111111111111111,
             "#46039f"
            ],
            [
             0.2222222222222222,
             "#7201a8"
            ],
            [
             0.3333333333333333,
             "#9c179e"
            ],
            [
             0.4444444444444444,
             "#bd3786"
            ],
            [
             0.5555555555555556,
             "#d8576b"
            ],
            [
             0.6666666666666666,
             "#ed7953"
            ],
            [
             0.7777777777777778,
             "#fb9f3a"
            ],
            [
             0.8888888888888888,
             "#fdca26"
            ],
            [
             1,
             "#f0f921"
            ]
           ],
           "sequentialminus": [
            [
             0,
             "#0d0887"
            ],
            [
             0.1111111111111111,
             "#46039f"
            ],
            [
             0.2222222222222222,
             "#7201a8"
            ],
            [
             0.3333333333333333,
             "#9c179e"
            ],
            [
             0.4444444444444444,
             "#bd3786"
            ],
            [
             0.5555555555555556,
             "#d8576b"
            ],
            [
             0.6666666666666666,
             "#ed7953"
            ],
            [
             0.7777777777777778,
             "#fb9f3a"
            ],
            [
             0.8888888888888888,
             "#fdca26"
            ],
            [
             1,
             "#f0f921"
            ]
           ]
          },
          "colorway": [
           "#636efa",
           "#EF553B",
           "#00cc96",
           "#ab63fa",
           "#FFA15A",
           "#19d3f3",
           "#FF6692",
           "#B6E880",
           "#FF97FF",
           "#FECB52"
          ],
          "font": {
           "color": "#2a3f5f"
          },
          "geo": {
           "bgcolor": "white",
           "lakecolor": "white",
           "landcolor": "#E5ECF6",
           "showlakes": true,
           "showland": true,
           "subunitcolor": "white"
          },
          "hoverlabel": {
           "align": "left"
          },
          "hovermode": "closest",
          "mapbox": {
           "style": "light"
          },
          "paper_bgcolor": "white",
          "plot_bgcolor": "#E5ECF6",
          "polar": {
           "angularaxis": {
            "gridcolor": "white",
            "linecolor": "white",
            "ticks": ""
           },
           "bgcolor": "#E5ECF6",
           "radialaxis": {
            "gridcolor": "white",
            "linecolor": "white",
            "ticks": ""
           }
          },
          "scene": {
           "xaxis": {
            "backgroundcolor": "#E5ECF6",
            "gridcolor": "white",
            "gridwidth": 2,
            "linecolor": "white",
            "showbackground": true,
            "ticks": "",
            "zerolinecolor": "white"
           },
           "yaxis": {
            "backgroundcolor": "#E5ECF6",
            "gridcolor": "white",
            "gridwidth": 2,
            "linecolor": "white",
            "showbackground": true,
            "ticks": "",
            "zerolinecolor": "white"
           },
           "zaxis": {
            "backgroundcolor": "#E5ECF6",
            "gridcolor": "white",
            "gridwidth": 2,
            "linecolor": "white",
            "showbackground": true,
            "ticks": "",
            "zerolinecolor": "white"
           }
          },
          "shapedefaults": {
           "line": {
            "color": "#2a3f5f"
           }
          },
          "ternary": {
           "aaxis": {
            "gridcolor": "white",
            "linecolor": "white",
            "ticks": ""
           },
           "baxis": {
            "gridcolor": "white",
            "linecolor": "white",
            "ticks": ""
           },
           "bgcolor": "#E5ECF6",
           "caxis": {
            "gridcolor": "white",
            "linecolor": "white",
            "ticks": ""
           }
          },
          "title": {
           "x": 0.05
          },
          "xaxis": {
           "automargin": true,
           "gridcolor": "white",
           "linecolor": "white",
           "ticks": "",
           "title": {
            "standoff": 15
           },
           "zerolinecolor": "white",
           "zerolinewidth": 2
          },
          "yaxis": {
           "automargin": true,
           "gridcolor": "white",
           "linecolor": "white",
           "ticks": "",
           "title": {
            "standoff": 15
           },
           "zerolinecolor": "white",
           "zerolinewidth": 2
          }
         }
        },
        "title": {
         "font": {
          "color": "#4D5663"
         }
        },
        "xaxis": {
         "anchor": "y",
         "domain": [
          0,
          0.2125
         ],
         "gridcolor": "#E1E5ED",
         "showgrid": false,
         "tickfont": {
          "color": "#4D5663"
         },
         "title": {
          "font": {
           "color": "#4D5663"
          },
          "text": ""
         },
         "zerolinecolor": "#E1E5ED"
        },
        "xaxis10": {
         "anchor": "y10",
         "domain": [
          0.2625,
          0.475
         ],
         "gridcolor": "#E1E5ED",
         "showgrid": false,
         "tickfont": {
          "color": "#4D5663"
         },
         "title": {
          "font": {
           "color": "#4D5663"
          },
          "text": ""
         },
         "zerolinecolor": "#E1E5ED"
        },
        "xaxis11": {
         "anchor": "y11",
         "domain": [
          0.525,
          0.7375
         ],
         "gridcolor": "#E1E5ED",
         "showgrid": false,
         "tickfont": {
          "color": "#4D5663"
         },
         "title": {
          "font": {
           "color": "#4D5663"
          },
          "text": ""
         },
         "zerolinecolor": "#E1E5ED"
        },
        "xaxis12": {
         "anchor": "y12",
         "domain": [
          0.7875,
          1
         ],
         "gridcolor": "#E1E5ED",
         "showgrid": false,
         "tickfont": {
          "color": "#4D5663"
         },
         "title": {
          "font": {
           "color": "#4D5663"
          },
          "text": ""
         },
         "zerolinecolor": "#E1E5ED"
        },
        "xaxis13": {
         "anchor": "y13",
         "domain": [
          0,
          0.2125
         ],
         "gridcolor": "#E1E5ED",
         "showgrid": false,
         "tickfont": {
          "color": "#4D5663"
         },
         "title": {
          "font": {
           "color": "#4D5663"
          },
          "text": ""
         },
         "zerolinecolor": "#E1E5ED"
        },
        "xaxis14": {
         "anchor": "y14",
         "domain": [
          0.2625,
          0.475
         ],
         "gridcolor": "#E1E5ED",
         "showgrid": false,
         "tickfont": {
          "color": "#4D5663"
         },
         "title": {
          "font": {
           "color": "#4D5663"
          },
          "text": ""
         },
         "zerolinecolor": "#E1E5ED"
        },
        "xaxis15": {
         "anchor": "y15",
         "domain": [
          0.525,
          0.7375
         ],
         "gridcolor": "#E1E5ED",
         "showgrid": false,
         "tickfont": {
          "color": "#4D5663"
         },
         "title": {
          "font": {
           "color": "#4D5663"
          },
          "text": ""
         },
         "zerolinecolor": "#E1E5ED"
        },
        "xaxis16": {
         "anchor": "y16",
         "domain": [
          0.7875,
          1
         ],
         "gridcolor": "#E1E5ED",
         "showgrid": false,
         "tickfont": {
          "color": "#4D5663"
         },
         "title": {
          "font": {
           "color": "#4D5663"
          },
          "text": ""
         },
         "zerolinecolor": "#E1E5ED"
        },
        "xaxis2": {
         "anchor": "y2",
         "domain": [
          0.2625,
          0.475
         ],
         "gridcolor": "#E1E5ED",
         "showgrid": false,
         "tickfont": {
          "color": "#4D5663"
         },
         "title": {
          "font": {
           "color": "#4D5663"
          },
          "text": ""
         },
         "zerolinecolor": "#E1E5ED"
        },
        "xaxis3": {
         "anchor": "y3",
         "domain": [
          0.525,
          0.7375
         ],
         "gridcolor": "#E1E5ED",
         "showgrid": false,
         "tickfont": {
          "color": "#4D5663"
         },
         "title": {
          "font": {
           "color": "#4D5663"
          },
          "text": ""
         },
         "zerolinecolor": "#E1E5ED"
        },
        "xaxis4": {
         "anchor": "y4",
         "domain": [
          0.7875,
          1
         ],
         "gridcolor": "#E1E5ED",
         "showgrid": false,
         "tickfont": {
          "color": "#4D5663"
         },
         "title": {
          "font": {
           "color": "#4D5663"
          },
          "text": ""
         },
         "zerolinecolor": "#E1E5ED"
        },
        "xaxis5": {
         "anchor": "y5",
         "domain": [
          0,
          0.2125
         ],
         "gridcolor": "#E1E5ED",
         "showgrid": false,
         "tickfont": {
          "color": "#4D5663"
         },
         "title": {
          "font": {
           "color": "#4D5663"
          },
          "text": ""
         },
         "zerolinecolor": "#E1E5ED"
        },
        "xaxis6": {
         "anchor": "y6",
         "domain": [
          0.2625,
          0.475
         ],
         "gridcolor": "#E1E5ED",
         "showgrid": false,
         "tickfont": {
          "color": "#4D5663"
         },
         "title": {
          "font": {
           "color": "#4D5663"
          },
          "text": ""
         },
         "zerolinecolor": "#E1E5ED"
        },
        "xaxis7": {
         "anchor": "y7",
         "domain": [
          0.525,
          0.7375
         ],
         "gridcolor": "#E1E5ED",
         "showgrid": false,
         "tickfont": {
          "color": "#4D5663"
         },
         "title": {
          "font": {
           "color": "#4D5663"
          },
          "text": ""
         },
         "zerolinecolor": "#E1E5ED"
        },
        "xaxis8": {
         "anchor": "y8",
         "domain": [
          0.7875,
          1
         ],
         "gridcolor": "#E1E5ED",
         "showgrid": false,
         "tickfont": {
          "color": "#4D5663"
         },
         "title": {
          "font": {
           "color": "#4D5663"
          },
          "text": ""
         },
         "zerolinecolor": "#E1E5ED"
        },
        "xaxis9": {
         "anchor": "y9",
         "domain": [
          0,
          0.2125
         ],
         "gridcolor": "#E1E5ED",
         "showgrid": false,
         "tickfont": {
          "color": "#4D5663"
         },
         "title": {
          "font": {
           "color": "#4D5663"
          },
          "text": ""
         },
         "zerolinecolor": "#E1E5ED"
        },
        "yaxis": {
         "anchor": "x",
         "domain": [
          0.8025,
          1
         ],
         "gridcolor": "#E1E5ED",
         "showgrid": false,
         "tickfont": {
          "color": "#4D5663"
         },
         "title": {
          "font": {
           "color": "#4D5663"
          },
          "text": ""
         },
         "zerolinecolor": "#E1E5ED"
        },
        "yaxis10": {
         "anchor": "x10",
         "domain": [
          0.2675,
          0.465
         ],
         "gridcolor": "#E1E5ED",
         "showgrid": false,
         "tickfont": {
          "color": "#4D5663"
         },
         "title": {
          "font": {
           "color": "#4D5663"
          },
          "text": ""
         },
         "zerolinecolor": "#E1E5ED"
        },
        "yaxis11": {
         "anchor": "x11",
         "domain": [
          0.2675,
          0.465
         ],
         "gridcolor": "#E1E5ED",
         "showgrid": false,
         "tickfont": {
          "color": "#4D5663"
         },
         "title": {
          "font": {
           "color": "#4D5663"
          },
          "text": ""
         },
         "zerolinecolor": "#E1E5ED"
        },
        "yaxis12": {
         "anchor": "x12",
         "domain": [
          0.2675,
          0.465
         ],
         "gridcolor": "#E1E5ED",
         "showgrid": false,
         "tickfont": {
          "color": "#4D5663"
         },
         "title": {
          "font": {
           "color": "#4D5663"
          },
          "text": ""
         },
         "zerolinecolor": "#E1E5ED"
        },
        "yaxis13": {
         "anchor": "x13",
         "domain": [
          0,
          0.1975
         ],
         "gridcolor": "#E1E5ED",
         "showgrid": false,
         "tickfont": {
          "color": "#4D5663"
         },
         "title": {
          "font": {
           "color": "#4D5663"
          },
          "text": ""
         },
         "zerolinecolor": "#E1E5ED"
        },
        "yaxis14": {
         "anchor": "x14",
         "domain": [
          0,
          0.1975
         ],
         "gridcolor": "#E1E5ED",
         "showgrid": false,
         "tickfont": {
          "color": "#4D5663"
         },
         "title": {
          "font": {
           "color": "#4D5663"
          },
          "text": ""
         },
         "zerolinecolor": "#E1E5ED"
        },
        "yaxis15": {
         "anchor": "x15",
         "domain": [
          0,
          0.1975
         ],
         "gridcolor": "#E1E5ED",
         "showgrid": false,
         "tickfont": {
          "color": "#4D5663"
         },
         "title": {
          "font": {
           "color": "#4D5663"
          },
          "text": ""
         },
         "zerolinecolor": "#E1E5ED"
        },
        "yaxis16": {
         "anchor": "x16",
         "domain": [
          0,
          0.1975
         ],
         "gridcolor": "#E1E5ED",
         "showgrid": false,
         "tickfont": {
          "color": "#4D5663"
         },
         "title": {
          "font": {
           "color": "#4D5663"
          },
          "text": ""
         },
         "zerolinecolor": "#E1E5ED"
        },
        "yaxis2": {
         "anchor": "x2",
         "domain": [
          0.8025,
          1
         ],
         "gridcolor": "#E1E5ED",
         "showgrid": false,
         "tickfont": {
          "color": "#4D5663"
         },
         "title": {
          "font": {
           "color": "#4D5663"
          },
          "text": ""
         },
         "zerolinecolor": "#E1E5ED"
        },
        "yaxis3": {
         "anchor": "x3",
         "domain": [
          0.8025,
          1
         ],
         "gridcolor": "#E1E5ED",
         "showgrid": false,
         "tickfont": {
          "color": "#4D5663"
         },
         "title": {
          "font": {
           "color": "#4D5663"
          },
          "text": ""
         },
         "zerolinecolor": "#E1E5ED"
        },
        "yaxis4": {
         "anchor": "x4",
         "domain": [
          0.8025,
          1
         ],
         "gridcolor": "#E1E5ED",
         "showgrid": false,
         "tickfont": {
          "color": "#4D5663"
         },
         "title": {
          "font": {
           "color": "#4D5663"
          },
          "text": ""
         },
         "zerolinecolor": "#E1E5ED"
        },
        "yaxis5": {
         "anchor": "x5",
         "domain": [
          0.535,
          0.7325
         ],
         "gridcolor": "#E1E5ED",
         "showgrid": false,
         "tickfont": {
          "color": "#4D5663"
         },
         "title": {
          "font": {
           "color": "#4D5663"
          },
          "text": ""
         },
         "zerolinecolor": "#E1E5ED"
        },
        "yaxis6": {
         "anchor": "x6",
         "domain": [
          0.535,
          0.7325
         ],
         "gridcolor": "#E1E5ED",
         "showgrid": false,
         "tickfont": {
          "color": "#4D5663"
         },
         "title": {
          "font": {
           "color": "#4D5663"
          },
          "text": ""
         },
         "zerolinecolor": "#E1E5ED"
        },
        "yaxis7": {
         "anchor": "x7",
         "domain": [
          0.535,
          0.7325
         ],
         "gridcolor": "#E1E5ED",
         "showgrid": false,
         "tickfont": {
          "color": "#4D5663"
         },
         "title": {
          "font": {
           "color": "#4D5663"
          },
          "text": ""
         },
         "zerolinecolor": "#E1E5ED"
        },
        "yaxis8": {
         "anchor": "x8",
         "domain": [
          0.535,
          0.7325
         ],
         "gridcolor": "#E1E5ED",
         "showgrid": false,
         "tickfont": {
          "color": "#4D5663"
         },
         "title": {
          "font": {
           "color": "#4D5663"
          },
          "text": ""
         },
         "zerolinecolor": "#E1E5ED"
        },
        "yaxis9": {
         "anchor": "x9",
         "domain": [
          0.2675,
          0.465
         ],
         "gridcolor": "#E1E5ED",
         "showgrid": false,
         "tickfont": {
          "color": "#4D5663"
         },
         "title": {
          "font": {
           "color": "#4D5663"
          },
          "text": ""
         },
         "zerolinecolor": "#E1E5ED"
        }
       }
      },
      "text/html": [
       "<div>                            <div id=\"b8ae0396-1099-44a9-9210-ade230fb6ce3\" class=\"plotly-graph-div\" style=\"height:525px; width:100%;\"></div>            <script type=\"text/javascript\">                require([\"plotly\"], function(Plotly) {                    window.PLOTLYENV=window.PLOTLYENV || {};\n",
       "                    window.PLOTLYENV.BASE_URL='https://plot.ly';                                    if (document.getElementById(\"b8ae0396-1099-44a9-9210-ade230fb6ce3\")) {                    Plotly.newPlot(                        \"b8ae0396-1099-44a9-9210-ade230fb6ce3\",                        [{\"histfunc\":\"count\",\"histnorm\":\"\",\"marker\":{\"color\":\"rgba(255, 153, 51, 1.0)\",\"line\":{\"color\":\"#4D5663\",\"width\":1.3}},\"name\":\"A\",\"nbinsx\":10,\"opacity\":0.8,\"orientation\":\"v\",\"x\":[-1.2369250000725207,0.6473596835857014,-0.4576338812403941,1.3516406754529127,0.7400490122585802,0.25510972366488843,-1.0651127106807845,2.3917146406957177,-1.4679389463105594,0.8391765739801815,0.4275400882654248,0.16019668981205584,-0.6546600458002377,0.25412542709008795,0.5812567887503652,2.824949855418005,-0.31753914966873975,-1.1188413124275982,-1.4841744546525169,-0.6865651933187513,-0.42853193432899855,-0.12083131295141886,-1.221878323795664,-0.21561458823488314,-0.6307860927928218,-2.7228708574986076,-0.14450177790649302,-0.13376997897710408,-2.1398184114432217,-0.27717423900572963,0.32303226145341607,0.3196944117300218,0.18597203059934792,-0.3799543016021088,-1.0570470176616962,-1.0437146318646817,1.244589105638801,-0.04337519472915891,0.30445962279555866,-1.8154741203814067,-0.8887990983280419,-1.5770320135643106,-0.6197241790299651,0.7644478130818563,-0.029785981514331553,0.23798873536899082,0.9446448368549804,0.7613448633925672,0.14087615944824644,0.6789662147155467,-1.6009293240998381,-0.2598721191100311,-2.7010390549845638,-0.26171844799409383,-0.9532264629107607,-0.03094940289085503,2.221027207346979,-0.24580105092785837,0.8183072372593397,0.5713252247110742,-0.31740801327057744,-1.0604555041989718,2.0615159143161503,-0.1092063059271307,-1.183761123674222,0.8302419529454999,-0.7770729098525189,1.9288790251622796,-1.6447440687176327,2.2441800141523807,-1.0906365477452125,-0.5183838762682667,-0.7108962314761669,-1.150536488305488,1.175992686063915,2.032896845776216,0.35408398135278496,0.8631735515015497,-0.3051640736411098,1.3060739739788678,1.4258657965350854,1.5277233446501692,1.6820603839835706,2.143177075085741,-0.47631071552440274,-0.9258348620953202,-1.3563642994337253,0.4804089287943433,-0.37248548367288253,0.7844780851728226,0.8658452629035026,1.1774201175308285,2.3582276533948496,1.577825382866515,0.7451127400443657,0.5417536639361865,0.5538339949773834,-0.8830866917087877,0.3986237791716136,1.4054611931446328],\"xaxis\":\"x\",\"yaxis\":\"y\",\"type\":\"histogram\"},{\"line\":{\"color\":\"rgba(128, 128, 128, 1.0)\",\"dash\":\"solid\",\"shape\":\"linear\",\"width\":1.3},\"marker\":{\"size\":2,\"symbol\":\"circle\"},\"mode\":\"markers\",\"name\":\"A\",\"text\":\"\",\"x\":[-0.7698420862193472,-0.01761344336614215,-0.3686509050757071,-1.8714428775453267,1.988312377332831,-1.3694925212446596,-2.401861046922229,2.189063518367414,-0.6621720424869381,1.524830199372334,1.4325678710439211,0.2550436856316146,0.8589892106314515,1.8432136918947117,-1.1688456826211293,-1.515607620680818,-1.980287684188495,0.25328966866584374,-1.7739046333305717,0.8556947038213887,-0.5140998417635303,0.7223069066597191,0.39218572055196327,-0.18528948274597204,-0.04737676014181813,-0.11184810713112321,-0.06878806172071653,2.1147752527686583,0.03454371723819343,0.41196652639701076,-0.1281605512730255,1.9780250375126323,0.4491786287378268,0.5802485955833719,1.8130977866814353,1.1581563719854284,0.13656895481419654,-0.05096485569692876,0.3975911275865297,-2.407100495423285,-0.511101815832546,0.04656885644815061,-0.9653852690988891,1.0783208346025044,0.7551442633864494,-1.067561156982996,-1.6379049071327247,-0.4722769241659087,0.3479744630317592,0.5534559533175919,0.14931895908285625,-0.853566511765684,-0.6789447430531352,-0.14248196175510502,0.4066834180661509,-0.6562879392179125,0.34913669973456174,0.9022011491435852,-0.5713150913939063,1.5092160997551691,-0.7751297096205931,-0.2913856688677858,-0.3104074903415344,1.4033441419701584,0.7210651941738934,-1.9081400958723442,0.6467291739360184,0.42314805386297644,-1.4004503453459785,1.2200421037296094,0.609092067563452,-2.6755118760668073,0.6336658466514746,0.9300038752354216,1.3044851754888402,1.0413176800369963,-0.387193892665513,-0.361276679396097,0.38503462731182436,1.103668402883417,0.49031354112047426,-3.2077677410318635,0.20980464731512286,-0.05156654692620989,0.4548618578874998,-0.28081765560387134,0.011772750841938939,-0.3274067294413862,-0.5962238831091922,-1.4992843996535743,-0.6814237192311466,-0.36870526912415374,-0.1047288555309101,2.1506056914516782,-0.9839862105924292,1.092333878962264,0.11894918611924253,-0.4015425020670459,1.1142914730518803,-0.2967379401748048],\"xaxis\":\"x2\",\"y\":[-1.2369250000725207,0.6473596835857014,-0.4576338812403941,1.3516406754529127,0.7400490122585802,0.25510972366488843,-1.0651127106807845,2.3917146406957177,-1.4679389463105594,0.8391765739801815,0.4275400882654248,0.16019668981205584,-0.6546600458002377,0.25412542709008795,0.5812567887503652,2.824949855418005,-0.31753914966873975,-1.1188413124275982,-1.4841744546525169,-0.6865651933187513,-0.42853193432899855,-0.12083131295141886,-1.221878323795664,-0.21561458823488314,-0.6307860927928218,-2.7228708574986076,-0.14450177790649302,-0.13376997897710408,-2.1398184114432217,-0.27717423900572963,0.32303226145341607,0.3196944117300218,0.18597203059934792,-0.3799543016021088,-1.0570470176616962,-1.0437146318646817,1.244589105638801,-0.04337519472915891,0.30445962279555866,-1.8154741203814067,-0.8887990983280419,-1.5770320135643106,-0.6197241790299651,0.7644478130818563,-0.029785981514331553,0.23798873536899082,0.9446448368549804,0.7613448633925672,0.14087615944824644,0.6789662147155467,-1.6009293240998381,-0.2598721191100311,-2.7010390549845638,-0.26171844799409383,-0.9532264629107607,-0.03094940289085503,2.221027207346979,-0.24580105092785837,0.8183072372593397,0.5713252247110742,-0.31740801327057744,-1.0604555041989718,2.0615159143161503,-0.1092063059271307,-1.183761123674222,0.8302419529454999,-0.7770729098525189,1.9288790251622796,-1.6447440687176327,2.2441800141523807,-1.0906365477452125,-0.5183838762682667,-0.7108962314761669,-1.150536488305488,1.175992686063915,2.032896845776216,0.35408398135278496,0.8631735515015497,-0.3051640736411098,1.3060739739788678,1.4258657965350854,1.5277233446501692,1.6820603839835706,2.143177075085741,-0.47631071552440274,-0.9258348620953202,-1.3563642994337253,0.4804089287943433,-0.37248548367288253,0.7844780851728226,0.8658452629035026,1.1774201175308285,2.3582276533948496,1.577825382866515,0.7451127400443657,0.5417536639361865,0.5538339949773834,-0.8830866917087877,0.3986237791716136,1.4054611931446328],\"yaxis\":\"y2\",\"type\":\"scatter\"},{\"line\":{\"color\":\"rgba(128, 128, 128, 1.0)\",\"dash\":\"solid\",\"shape\":\"linear\",\"width\":1.3},\"marker\":{\"size\":2,\"symbol\":\"circle\"},\"mode\":\"markers\",\"name\":\"A\",\"text\":\"\",\"x\":[-0.1495873057280749,-0.07389591067093795,-0.05424649164552918,-1.6191328516391368,0.7861292420726962,0.16458728004590947,-0.35703492113350604,-0.426685266299582,-0.5991789583388359,-0.5157204112982977,2.0866639925261543,-0.5666538139387771,-0.06077987911208819,0.9342259947988482,-1.5656911043341355,0.23638393339599628,1.305690926120735,0.3364837228418128,-0.18388526011911294,0.15078765384007473,2.045359078996665,0.09084688188139022,0.3029885321000563,0.005640127992127931,-0.0288675855409102,-0.6590044580518759,-0.13485543846494127,-0.1040084699023544,0.17252887049950819,0.33909536489731035,-0.2052930632831629,-2.194007734071559,0.9629620636859435,-0.043561965406199166,-0.011560900492798187,-0.8296747581876137,0.4191127311567892,-0.959807329683778,-0.5119346931534932,0.3620624310508169,-1.7160067167617838,1.1219263615376818,-0.39370877508301655,-0.8152053080517907,-0.10681052700243587,-2.239088167020022,0.948146099933787,-1.1000314549095331,2.5824163517615704,0.7728368219352023,-0.7186359746916166,0.5346466089342827,-0.46273206501167197,0.3768178637237596,0.11073571289215428,0.05404378650617628,0.9085527002673297,-0.38897941329748437,-0.016248019293256716,-0.7084129337671787,-0.23605047435667145,0.06762523361193007,-1.4937661057807585,-1.581577590958831,0.3165428702605645,1.0760245337795067,-0.165931841927548,0.3154464529938777,-2.265401528517308,-0.08929231953168348,1.9655966095288562,-0.5129665800009727,-1.002299233471418,-1.4380855637946208,0.37146983475571843,-0.3572176570685798,0.04175933964522382,1.8119801603216394,0.5974935753797596,-0.021122586085694794,-0.7779900785671291,0.5052488953158533,-1.19892167597399,0.7838373918020359,-0.7537141655547988,-0.8397930665970642,-0.13089359355861377,-0.8109683538257121,-0.2229580367999272,0.18010591937992163,1.0895343297602935,1.045718270652688,-0.2921818454145917,0.10335561209896946,0.7811411658955167,1.4008410540732736,-1.2922640723674863,-1.0903101250379186,-1.7689312036931846,-0.5197017824849333],\"xaxis\":\"x3\",\"y\":[-1.2369250000725207,0.6473596835857014,-0.4576338812403941,1.3516406754529127,0.7400490122585802,0.25510972366488843,-1.0651127106807845,2.3917146406957177,-1.4679389463105594,0.8391765739801815,0.4275400882654248,0.16019668981205584,-0.6546600458002377,0.25412542709008795,0.5812567887503652,2.824949855418005,-0.31753914966873975,-1.1188413124275982,-1.4841744546525169,-0.6865651933187513,-0.42853193432899855,-0.12083131295141886,-1.221878323795664,-0.21561458823488314,-0.6307860927928218,-2.7228708574986076,-0.14450177790649302,-0.13376997897710408,-2.1398184114432217,-0.27717423900572963,0.32303226145341607,0.3196944117300218,0.18597203059934792,-0.3799543016021088,-1.0570470176616962,-1.0437146318646817,1.244589105638801,-0.04337519472915891,0.30445962279555866,-1.8154741203814067,-0.8887990983280419,-1.5770320135643106,-0.6197241790299651,0.7644478130818563,-0.029785981514331553,0.23798873536899082,0.9446448368549804,0.7613448633925672,0.14087615944824644,0.6789662147155467,-1.6009293240998381,-0.2598721191100311,-2.7010390549845638,-0.26171844799409383,-0.9532264629107607,-0.03094940289085503,2.221027207346979,-0.24580105092785837,0.8183072372593397,0.5713252247110742,-0.31740801327057744,-1.0604555041989718,2.0615159143161503,-0.1092063059271307,-1.183761123674222,0.8302419529454999,-0.7770729098525189,1.9288790251622796,-1.6447440687176327,2.2441800141523807,-1.0906365477452125,-0.5183838762682667,-0.7108962314761669,-1.150536488305488,1.175992686063915,2.032896845776216,0.35408398135278496,0.8631735515015497,-0.3051640736411098,1.3060739739788678,1.4258657965350854,1.5277233446501692,1.6820603839835706,2.143177075085741,-0.47631071552440274,-0.9258348620953202,-1.3563642994337253,0.4804089287943433,-0.37248548367288253,0.7844780851728226,0.8658452629035026,1.1774201175308285,2.3582276533948496,1.577825382866515,0.7451127400443657,0.5417536639361865,0.5538339949773834,-0.8830866917087877,0.3986237791716136,1.4054611931446328],\"yaxis\":\"y3\",\"type\":\"scatter\"},{\"line\":{\"color\":\"rgba(128, 128, 128, 1.0)\",\"dash\":\"solid\",\"shape\":\"linear\",\"width\":1.3},\"marker\":{\"size\":2,\"symbol\":\"circle\"},\"mode\":\"markers\",\"name\":\"A\",\"text\":\"\",\"x\":[0.5293665006458524,-0.7748805540604703,1.0041063702226753,-0.5014685711589817,-0.7990699114298004,1.3526012472409807,2.7069625745810697,0.9418765685204512,0.6646196140664915,-0.37622698308513036,1.872907234974121,0.23098970425502563,-0.6696393977467702,-0.5532576114227775,-0.580975686840012,0.5118352419450641,-0.39594423600474965,0.4073970490229041,0.8542214083712736,-0.004834655193624482,-0.9723765849277642,-0.7463364737419851,2.4549819401427,-3.517635691987328,0.5738766909002905,-1.5345633051352354,-1.3059813594634928,-0.10684477373060267,-0.8959571576646118,0.24851463316831024,-0.5373821928201002,-0.5638124807760423,-1.5830907703026236,-0.48455664782929425,0.39416057604739785,-0.6521202111561265,0.3833858295349967,-0.026974854734215244,-1.718310627697159,0.43789618970833816,-0.03480276384231127,-1.994803828383732,1.2992884271258542,-1.8596734442133096,0.21485077510458403,-0.8593747521691765,0.38525141505965566,1.0585660632805256,-1.3105395488930291,-0.39074347238128293,-0.6900930041310154,0.23208264972938333,0.4826854483567595,-0.7767312911036357,0.22491136388331373,0.5814384893304747,0.5078618747203191,0.02912004819766613,-1.5408572234277373,0.8275475626338956,-1.2347380782919617,1.0454485217526956,2.000591036660255,0.3420397889762249,0.8305548583982847,-2.680051380624589,1.2106173604330084,-0.03491584896631556,0.20415674953273252,-0.7278868952741584,-0.4066709643380715,-0.6913941307546945,-0.7078265041387234,-0.24780906832072142,-0.9546900723223362,-0.25004170195760256,-0.5578099813542368,-2.0985699375508955,1.1967765947042563,-1.0484578443537154,0.5224002539238172,-0.9046286734930047,0.8504712301101417,-0.34440141948439057,1.1525486552216617,0.21879756283661364,-0.19225249825170607,0.2717283496788176,0.167357830092262,0.2092226485472227,-0.8147360118198178,0.24502094240023395,0.6221445409198278,0.5875180132353891,0.8504584167568766,1.8804820110000087,-1.2799977832826221,-1.5283676504453465,1.5140637923583105,-0.9247953154379341],\"xaxis\":\"x4\",\"y\":[-1.2369250000725207,0.6473596835857014,-0.4576338812403941,1.3516406754529127,0.7400490122585802,0.25510972366488843,-1.0651127106807845,2.3917146406957177,-1.4679389463105594,0.8391765739801815,0.4275400882654248,0.16019668981205584,-0.6546600458002377,0.25412542709008795,0.5812567887503652,2.824949855418005,-0.31753914966873975,-1.1188413124275982,-1.4841744546525169,-0.6865651933187513,-0.42853193432899855,-0.12083131295141886,-1.221878323795664,-0.21561458823488314,-0.6307860927928218,-2.7228708574986076,-0.14450177790649302,-0.13376997897710408,-2.1398184114432217,-0.27717423900572963,0.32303226145341607,0.3196944117300218,0.18597203059934792,-0.3799543016021088,-1.0570470176616962,-1.0437146318646817,1.244589105638801,-0.04337519472915891,0.30445962279555866,-1.8154741203814067,-0.8887990983280419,-1.5770320135643106,-0.6197241790299651,0.7644478130818563,-0.029785981514331553,0.23798873536899082,0.9446448368549804,0.7613448633925672,0.14087615944824644,0.6789662147155467,-1.6009293240998381,-0.2598721191100311,-2.7010390549845638,-0.26171844799409383,-0.9532264629107607,-0.03094940289085503,2.221027207346979,-0.24580105092785837,0.8183072372593397,0.5713252247110742,-0.31740801327057744,-1.0604555041989718,2.0615159143161503,-0.1092063059271307,-1.183761123674222,0.8302419529454999,-0.7770729098525189,1.9288790251622796,-1.6447440687176327,2.2441800141523807,-1.0906365477452125,-0.5183838762682667,-0.7108962314761669,-1.150536488305488,1.175992686063915,2.032896845776216,0.35408398135278496,0.8631735515015497,-0.3051640736411098,1.3060739739788678,1.4258657965350854,1.5277233446501692,1.6820603839835706,2.143177075085741,-0.47631071552440274,-0.9258348620953202,-1.3563642994337253,0.4804089287943433,-0.37248548367288253,0.7844780851728226,0.8658452629035026,1.1774201175308285,2.3582276533948496,1.577825382866515,0.7451127400443657,0.5417536639361865,0.5538339949773834,-0.8830866917087877,0.3986237791716136,1.4054611931446328],\"yaxis\":\"y4\",\"type\":\"scatter\"},{\"line\":{\"color\":\"rgba(128, 128, 128, 1.0)\",\"dash\":\"solid\",\"shape\":\"linear\",\"width\":1.3},\"marker\":{\"size\":2,\"symbol\":\"circle\"},\"mode\":\"markers\",\"name\":\"B\",\"text\":\"\",\"x\":[-1.2369250000725207,0.6473596835857014,-0.4576338812403941,1.3516406754529127,0.7400490122585802,0.25510972366488843,-1.0651127106807845,2.3917146406957177,-1.4679389463105594,0.8391765739801815,0.4275400882654248,0.16019668981205584,-0.6546600458002377,0.25412542709008795,0.5812567887503652,2.824949855418005,-0.31753914966873975,-1.1188413124275982,-1.4841744546525169,-0.6865651933187513,-0.42853193432899855,-0.12083131295141886,-1.221878323795664,-0.21561458823488314,-0.6307860927928218,-2.7228708574986076,-0.14450177790649302,-0.13376997897710408,-2.1398184114432217,-0.27717423900572963,0.32303226145341607,0.3196944117300218,0.18597203059934792,-0.3799543016021088,-1.0570470176616962,-1.0437146318646817,1.244589105638801,-0.04337519472915891,0.30445962279555866,-1.8154741203814067,-0.8887990983280419,-1.5770320135643106,-0.6197241790299651,0.7644478130818563,-0.029785981514331553,0.23798873536899082,0.9446448368549804,0.7613448633925672,0.14087615944824644,0.6789662147155467,-1.6009293240998381,-0.2598721191100311,-2.7010390549845638,-0.26171844799409383,-0.9532264629107607,-0.03094940289085503,2.221027207346979,-0.24580105092785837,0.8183072372593397,0.5713252247110742,-0.31740801327057744,-1.0604555041989718,2.0615159143161503,-0.1092063059271307,-1.183761123674222,0.8302419529454999,-0.7770729098525189,1.9288790251622796,-1.6447440687176327,2.2441800141523807,-1.0906365477452125,-0.5183838762682667,-0.7108962314761669,-1.150536488305488,1.175992686063915,2.032896845776216,0.35408398135278496,0.8631735515015497,-0.3051640736411098,1.3060739739788678,1.4258657965350854,1.5277233446501692,1.6820603839835706,2.143177075085741,-0.47631071552440274,-0.9258348620953202,-1.3563642994337253,0.4804089287943433,-0.37248548367288253,0.7844780851728226,0.8658452629035026,1.1774201175308285,2.3582276533948496,1.577825382866515,0.7451127400443657,0.5417536639361865,0.5538339949773834,-0.8830866917087877,0.3986237791716136,1.4054611931446328],\"xaxis\":\"x5\",\"y\":[-0.7698420862193472,-0.01761344336614215,-0.3686509050757071,-1.8714428775453267,1.988312377332831,-1.3694925212446596,-2.401861046922229,2.189063518367414,-0.6621720424869381,1.524830199372334,1.4325678710439211,0.2550436856316146,0.8589892106314515,1.8432136918947117,-1.1688456826211293,-1.515607620680818,-1.980287684188495,0.25328966866584374,-1.7739046333305717,0.8556947038213887,-0.5140998417635303,0.7223069066597191,0.39218572055196327,-0.18528948274597204,-0.04737676014181813,-0.11184810713112321,-0.06878806172071653,2.1147752527686583,0.03454371723819343,0.41196652639701076,-0.1281605512730255,1.9780250375126323,0.4491786287378268,0.5802485955833719,1.8130977866814353,1.1581563719854284,0.13656895481419654,-0.05096485569692876,0.3975911275865297,-2.407100495423285,-0.511101815832546,0.04656885644815061,-0.9653852690988891,1.0783208346025044,0.7551442633864494,-1.067561156982996,-1.6379049071327247,-0.4722769241659087,0.3479744630317592,0.5534559533175919,0.14931895908285625,-0.853566511765684,-0.6789447430531352,-0.14248196175510502,0.4066834180661509,-0.6562879392179125,0.34913669973456174,0.9022011491435852,-0.5713150913939063,1.5092160997551691,-0.7751297096205931,-0.2913856688677858,-0.3104074903415344,1.4033441419701584,0.7210651941738934,-1.9081400958723442,0.6467291739360184,0.42314805386297644,-1.4004503453459785,1.2200421037296094,0.609092067563452,-2.6755118760668073,0.6336658466514746,0.9300038752354216,1.3044851754888402,1.0413176800369963,-0.387193892665513,-0.361276679396097,0.38503462731182436,1.103668402883417,0.49031354112047426,-3.2077677410318635,0.20980464731512286,-0.05156654692620989,0.4548618578874998,-0.28081765560387134,0.011772750841938939,-0.3274067294413862,-0.5962238831091922,-1.4992843996535743,-0.6814237192311466,-0.36870526912415374,-0.1047288555309101,2.1506056914516782,-0.9839862105924292,1.092333878962264,0.11894918611924253,-0.4015425020670459,1.1142914730518803,-0.2967379401748048],\"yaxis\":\"y5\",\"type\":\"scatter\"},{\"histfunc\":\"count\",\"histnorm\":\"\",\"marker\":{\"color\":\"rgba(55, 128, 191, 1.0)\",\"line\":{\"color\":\"#4D5663\",\"width\":1.3}},\"name\":\"B\",\"nbinsx\":10,\"opacity\":0.8,\"orientation\":\"v\",\"x\":[-0.7698420862193472,-0.01761344336614215,-0.3686509050757071,-1.8714428775453267,1.988312377332831,-1.3694925212446596,-2.401861046922229,2.189063518367414,-0.6621720424869381,1.524830199372334,1.4325678710439211,0.2550436856316146,0.8589892106314515,1.8432136918947117,-1.1688456826211293,-1.515607620680818,-1.980287684188495,0.25328966866584374,-1.7739046333305717,0.8556947038213887,-0.5140998417635303,0.7223069066597191,0.39218572055196327,-0.18528948274597204,-0.04737676014181813,-0.11184810713112321,-0.06878806172071653,2.1147752527686583,0.03454371723819343,0.41196652639701076,-0.1281605512730255,1.9780250375126323,0.4491786287378268,0.5802485955833719,1.8130977866814353,1.1581563719854284,0.13656895481419654,-0.05096485569692876,0.3975911275865297,-2.407100495423285,-0.511101815832546,0.04656885644815061,-0.9653852690988891,1.0783208346025044,0.7551442633864494,-1.067561156982996,-1.6379049071327247,-0.4722769241659087,0.3479744630317592,0.5534559533175919,0.14931895908285625,-0.853566511765684,-0.6789447430531352,-0.14248196175510502,0.4066834180661509,-0.6562879392179125,0.34913669973456174,0.9022011491435852,-0.5713150913939063,1.5092160997551691,-0.7751297096205931,-0.2913856688677858,-0.3104074903415344,1.4033441419701584,0.7210651941738934,-1.9081400958723442,0.6467291739360184,0.42314805386297644,-1.4004503453459785,1.2200421037296094,0.609092067563452,-2.6755118760668073,0.6336658466514746,0.9300038752354216,1.3044851754888402,1.0413176800369963,-0.387193892665513,-0.361276679396097,0.38503462731182436,1.103668402883417,0.49031354112047426,-3.2077677410318635,0.20980464731512286,-0.05156654692620989,0.4548618578874998,-0.28081765560387134,0.011772750841938939,-0.3274067294413862,-0.5962238831091922,-1.4992843996535743,-0.6814237192311466,-0.36870526912415374,-0.1047288555309101,2.1506056914516782,-0.9839862105924292,1.092333878962264,0.11894918611924253,-0.4015425020670459,1.1142914730518803,-0.2967379401748048],\"xaxis\":\"x6\",\"yaxis\":\"y6\",\"type\":\"histogram\"},{\"line\":{\"color\":\"rgba(128, 128, 128, 1.0)\",\"dash\":\"solid\",\"shape\":\"linear\",\"width\":1.3},\"marker\":{\"size\":2,\"symbol\":\"circle\"},\"mode\":\"markers\",\"name\":\"B\",\"text\":\"\",\"x\":[-0.1495873057280749,-0.07389591067093795,-0.05424649164552918,-1.6191328516391368,0.7861292420726962,0.16458728004590947,-0.35703492113350604,-0.426685266299582,-0.5991789583388359,-0.5157204112982977,2.0866639925261543,-0.5666538139387771,-0.06077987911208819,0.9342259947988482,-1.5656911043341355,0.23638393339599628,1.305690926120735,0.3364837228418128,-0.18388526011911294,0.15078765384007473,2.045359078996665,0.09084688188139022,0.3029885321000563,0.005640127992127931,-0.0288675855409102,-0.6590044580518759,-0.13485543846494127,-0.1040084699023544,0.17252887049950819,0.33909536489731035,-0.2052930632831629,-2.194007734071559,0.9629620636859435,-0.043561965406199166,-0.011560900492798187,-0.8296747581876137,0.4191127311567892,-0.959807329683778,-0.5119346931534932,0.3620624310508169,-1.7160067167617838,1.1219263615376818,-0.39370877508301655,-0.8152053080517907,-0.10681052700243587,-2.239088167020022,0.948146099933787,-1.1000314549095331,2.5824163517615704,0.7728368219352023,-0.7186359746916166,0.5346466089342827,-0.46273206501167197,0.3768178637237596,0.11073571289215428,0.05404378650617628,0.9085527002673297,-0.38897941329748437,-0.016248019293256716,-0.7084129337671787,-0.23605047435667145,0.06762523361193007,-1.4937661057807585,-1.581577590958831,0.3165428702605645,1.0760245337795067,-0.165931841927548,0.3154464529938777,-2.265401528517308,-0.08929231953168348,1.9655966095288562,-0.5129665800009727,-1.002299233471418,-1.4380855637946208,0.37146983475571843,-0.3572176570685798,0.04175933964522382,1.8119801603216394,0.5974935753797596,-0.021122586085694794,-0.7779900785671291,0.5052488953158533,-1.19892167597399,0.7838373918020359,-0.7537141655547988,-0.8397930665970642,-0.13089359355861377,-0.8109683538257121,-0.2229580367999272,0.18010591937992163,1.0895343297602935,1.045718270652688,-0.2921818454145917,0.10335561209896946,0.7811411658955167,1.4008410540732736,-1.2922640723674863,-1.0903101250379186,-1.7689312036931846,-0.5197017824849333],\"xaxis\":\"x7\",\"y\":[-0.7698420862193472,-0.01761344336614215,-0.3686509050757071,-1.8714428775453267,1.988312377332831,-1.3694925212446596,-2.401861046922229,2.189063518367414,-0.6621720424869381,1.524830199372334,1.4325678710439211,0.2550436856316146,0.8589892106314515,1.8432136918947117,-1.1688456826211293,-1.515607620680818,-1.980287684188495,0.25328966866584374,-1.7739046333305717,0.8556947038213887,-0.5140998417635303,0.7223069066597191,0.39218572055196327,-0.18528948274597204,-0.04737676014181813,-0.11184810713112321,-0.06878806172071653,2.1147752527686583,0.03454371723819343,0.41196652639701076,-0.1281605512730255,1.9780250375126323,0.4491786287378268,0.5802485955833719,1.8130977866814353,1.1581563719854284,0.13656895481419654,-0.05096485569692876,0.3975911275865297,-2.407100495423285,-0.511101815832546,0.04656885644815061,-0.9653852690988891,1.0783208346025044,0.7551442633864494,-1.067561156982996,-1.6379049071327247,-0.4722769241659087,0.3479744630317592,0.5534559533175919,0.14931895908285625,-0.853566511765684,-0.6789447430531352,-0.14248196175510502,0.4066834180661509,-0.6562879392179125,0.34913669973456174,0.9022011491435852,-0.5713150913939063,1.5092160997551691,-0.7751297096205931,-0.2913856688677858,-0.3104074903415344,1.4033441419701584,0.7210651941738934,-1.9081400958723442,0.6467291739360184,0.42314805386297644,-1.4004503453459785,1.2200421037296094,0.609092067563452,-2.6755118760668073,0.6336658466514746,0.9300038752354216,1.3044851754888402,1.0413176800369963,-0.387193892665513,-0.361276679396097,0.38503462731182436,1.103668402883417,0.49031354112047426,-3.2077677410318635,0.20980464731512286,-0.05156654692620989,0.4548618578874998,-0.28081765560387134,0.011772750841938939,-0.3274067294413862,-0.5962238831091922,-1.4992843996535743,-0.6814237192311466,-0.36870526912415374,-0.1047288555309101,2.1506056914516782,-0.9839862105924292,1.092333878962264,0.11894918611924253,-0.4015425020670459,1.1142914730518803,-0.2967379401748048],\"yaxis\":\"y7\",\"type\":\"scatter\"},{\"line\":{\"color\":\"rgba(128, 128, 128, 1.0)\",\"dash\":\"solid\",\"shape\":\"linear\",\"width\":1.3},\"marker\":{\"size\":2,\"symbol\":\"circle\"},\"mode\":\"markers\",\"name\":\"B\",\"text\":\"\",\"x\":[0.5293665006458524,-0.7748805540604703,1.0041063702226753,-0.5014685711589817,-0.7990699114298004,1.3526012472409807,2.7069625745810697,0.9418765685204512,0.6646196140664915,-0.37622698308513036,1.872907234974121,0.23098970425502563,-0.6696393977467702,-0.5532576114227775,-0.580975686840012,0.5118352419450641,-0.39594423600474965,0.4073970490229041,0.8542214083712736,-0.004834655193624482,-0.9723765849277642,-0.7463364737419851,2.4549819401427,-3.517635691987328,0.5738766909002905,-1.5345633051352354,-1.3059813594634928,-0.10684477373060267,-0.8959571576646118,0.24851463316831024,-0.5373821928201002,-0.5638124807760423,-1.5830907703026236,-0.48455664782929425,0.39416057604739785,-0.6521202111561265,0.3833858295349967,-0.026974854734215244,-1.718310627697159,0.43789618970833816,-0.03480276384231127,-1.994803828383732,1.2992884271258542,-1.8596734442133096,0.21485077510458403,-0.8593747521691765,0.38525141505965566,1.0585660632805256,-1.3105395488930291,-0.39074347238128293,-0.6900930041310154,0.23208264972938333,0.4826854483567595,-0.7767312911036357,0.22491136388331373,0.5814384893304747,0.5078618747203191,0.02912004819766613,-1.5408572234277373,0.8275475626338956,-1.2347380782919617,1.0454485217526956,2.000591036660255,0.3420397889762249,0.8305548583982847,-2.680051380624589,1.2106173604330084,-0.03491584896631556,0.20415674953273252,-0.7278868952741584,-0.4066709643380715,-0.6913941307546945,-0.7078265041387234,-0.24780906832072142,-0.9546900723223362,-0.25004170195760256,-0.5578099813542368,-2.0985699375508955,1.1967765947042563,-1.0484578443537154,0.5224002539238172,-0.9046286734930047,0.8504712301101417,-0.34440141948439057,1.1525486552216617,0.21879756283661364,-0.19225249825170607,0.2717283496788176,0.167357830092262,0.2092226485472227,-0.8147360118198178,0.24502094240023395,0.6221445409198278,0.5875180132353891,0.8504584167568766,1.8804820110000087,-1.2799977832826221,-1.5283676504453465,1.5140637923583105,-0.9247953154379341],\"xaxis\":\"x8\",\"y\":[-0.7698420862193472,-0.01761344336614215,-0.3686509050757071,-1.8714428775453267,1.988312377332831,-1.3694925212446596,-2.401861046922229,2.189063518367414,-0.6621720424869381,1.524830199372334,1.4325678710439211,0.2550436856316146,0.8589892106314515,1.8432136918947117,-1.1688456826211293,-1.515607620680818,-1.980287684188495,0.25328966866584374,-1.7739046333305717,0.8556947038213887,-0.5140998417635303,0.7223069066597191,0.39218572055196327,-0.18528948274597204,-0.04737676014181813,-0.11184810713112321,-0.06878806172071653,2.1147752527686583,0.03454371723819343,0.41196652639701076,-0.1281605512730255,1.9780250375126323,0.4491786287378268,0.5802485955833719,1.8130977866814353,1.1581563719854284,0.13656895481419654,-0.05096485569692876,0.3975911275865297,-2.407100495423285,-0.511101815832546,0.04656885644815061,-0.9653852690988891,1.0783208346025044,0.7551442633864494,-1.067561156982996,-1.6379049071327247,-0.4722769241659087,0.3479744630317592,0.5534559533175919,0.14931895908285625,-0.853566511765684,-0.6789447430531352,-0.14248196175510502,0.4066834180661509,-0.6562879392179125,0.34913669973456174,0.9022011491435852,-0.5713150913939063,1.5092160997551691,-0.7751297096205931,-0.2913856688677858,-0.3104074903415344,1.4033441419701584,0.7210651941738934,-1.9081400958723442,0.6467291739360184,0.42314805386297644,-1.4004503453459785,1.2200421037296094,0.609092067563452,-2.6755118760668073,0.6336658466514746,0.9300038752354216,1.3044851754888402,1.0413176800369963,-0.387193892665513,-0.361276679396097,0.38503462731182436,1.103668402883417,0.49031354112047426,-3.2077677410318635,0.20980464731512286,-0.05156654692620989,0.4548618578874998,-0.28081765560387134,0.011772750841938939,-0.3274067294413862,-0.5962238831091922,-1.4992843996535743,-0.6814237192311466,-0.36870526912415374,-0.1047288555309101,2.1506056914516782,-0.9839862105924292,1.092333878962264,0.11894918611924253,-0.4015425020670459,1.1142914730518803,-0.2967379401748048],\"yaxis\":\"y8\",\"type\":\"scatter\"},{\"line\":{\"color\":\"rgba(128, 128, 128, 1.0)\",\"dash\":\"solid\",\"shape\":\"linear\",\"width\":1.3},\"marker\":{\"size\":2,\"symbol\":\"circle\"},\"mode\":\"markers\",\"name\":\"C\",\"text\":\"\",\"x\":[-1.2369250000725207,0.6473596835857014,-0.4576338812403941,1.3516406754529127,0.7400490122585802,0.25510972366488843,-1.0651127106807845,2.3917146406957177,-1.4679389463105594,0.8391765739801815,0.4275400882654248,0.16019668981205584,-0.6546600458002377,0.25412542709008795,0.5812567887503652,2.824949855418005,-0.31753914966873975,-1.1188413124275982,-1.4841744546525169,-0.6865651933187513,-0.42853193432899855,-0.12083131295141886,-1.221878323795664,-0.21561458823488314,-0.6307860927928218,-2.7228708574986076,-0.14450177790649302,-0.13376997897710408,-2.1398184114432217,-0.27717423900572963,0.32303226145341607,0.3196944117300218,0.18597203059934792,-0.3799543016021088,-1.0570470176616962,-1.0437146318646817,1.244589105638801,-0.04337519472915891,0.30445962279555866,-1.8154741203814067,-0.8887990983280419,-1.5770320135643106,-0.6197241790299651,0.7644478130818563,-0.029785981514331553,0.23798873536899082,0.9446448368549804,0.7613448633925672,0.14087615944824644,0.6789662147155467,-1.6009293240998381,-0.2598721191100311,-2.7010390549845638,-0.26171844799409383,-0.9532264629107607,-0.03094940289085503,2.221027207346979,-0.24580105092785837,0.8183072372593397,0.5713252247110742,-0.31740801327057744,-1.0604555041989718,2.0615159143161503,-0.1092063059271307,-1.183761123674222,0.8302419529454999,-0.7770729098525189,1.9288790251622796,-1.6447440687176327,2.2441800141523807,-1.0906365477452125,-0.5183838762682667,-0.7108962314761669,-1.150536488305488,1.175992686063915,2.032896845776216,0.35408398135278496,0.8631735515015497,-0.3051640736411098,1.3060739739788678,1.4258657965350854,1.5277233446501692,1.6820603839835706,2.143177075085741,-0.47631071552440274,-0.9258348620953202,-1.3563642994337253,0.4804089287943433,-0.37248548367288253,0.7844780851728226,0.8658452629035026,1.1774201175308285,2.3582276533948496,1.577825382866515,0.7451127400443657,0.5417536639361865,0.5538339949773834,-0.8830866917087877,0.3986237791716136,1.4054611931446328],\"xaxis\":\"x9\",\"y\":[-0.1495873057280749,-0.07389591067093795,-0.05424649164552918,-1.6191328516391368,0.7861292420726962,0.16458728004590947,-0.35703492113350604,-0.426685266299582,-0.5991789583388359,-0.5157204112982977,2.0866639925261543,-0.5666538139387771,-0.06077987911208819,0.9342259947988482,-1.5656911043341355,0.23638393339599628,1.305690926120735,0.3364837228418128,-0.18388526011911294,0.15078765384007473,2.045359078996665,0.09084688188139022,0.3029885321000563,0.005640127992127931,-0.0288675855409102,-0.6590044580518759,-0.13485543846494127,-0.1040084699023544,0.17252887049950819,0.33909536489731035,-0.2052930632831629,-2.194007734071559,0.9629620636859435,-0.043561965406199166,-0.011560900492798187,-0.8296747581876137,0.4191127311567892,-0.959807329683778,-0.5119346931534932,0.3620624310508169,-1.7160067167617838,1.1219263615376818,-0.39370877508301655,-0.8152053080517907,-0.10681052700243587,-2.239088167020022,0.948146099933787,-1.1000314549095331,2.5824163517615704,0.7728368219352023,-0.7186359746916166,0.5346466089342827,-0.46273206501167197,0.3768178637237596,0.11073571289215428,0.05404378650617628,0.9085527002673297,-0.38897941329748437,-0.016248019293256716,-0.7084129337671787,-0.23605047435667145,0.06762523361193007,-1.4937661057807585,-1.581577590958831,0.3165428702605645,1.0760245337795067,-0.165931841927548,0.3154464529938777,-2.265401528517308,-0.08929231953168348,1.9655966095288562,-0.5129665800009727,-1.002299233471418,-1.4380855637946208,0.37146983475571843,-0.3572176570685798,0.04175933964522382,1.8119801603216394,0.5974935753797596,-0.021122586085694794,-0.7779900785671291,0.5052488953158533,-1.19892167597399,0.7838373918020359,-0.7537141655547988,-0.8397930665970642,-0.13089359355861377,-0.8109683538257121,-0.2229580367999272,0.18010591937992163,1.0895343297602935,1.045718270652688,-0.2921818454145917,0.10335561209896946,0.7811411658955167,1.4008410540732736,-1.2922640723674863,-1.0903101250379186,-1.7689312036931846,-0.5197017824849333],\"yaxis\":\"y9\",\"type\":\"scatter\"},{\"line\":{\"color\":\"rgba(128, 128, 128, 1.0)\",\"dash\":\"solid\",\"shape\":\"linear\",\"width\":1.3},\"marker\":{\"size\":2,\"symbol\":\"circle\"},\"mode\":\"markers\",\"name\":\"C\",\"text\":\"\",\"x\":[-0.7698420862193472,-0.01761344336614215,-0.3686509050757071,-1.8714428775453267,1.988312377332831,-1.3694925212446596,-2.401861046922229,2.189063518367414,-0.6621720424869381,1.524830199372334,1.4325678710439211,0.2550436856316146,0.8589892106314515,1.8432136918947117,-1.1688456826211293,-1.515607620680818,-1.980287684188495,0.25328966866584374,-1.7739046333305717,0.8556947038213887,-0.5140998417635303,0.7223069066597191,0.39218572055196327,-0.18528948274597204,-0.04737676014181813,-0.11184810713112321,-0.06878806172071653,2.1147752527686583,0.03454371723819343,0.41196652639701076,-0.1281605512730255,1.9780250375126323,0.4491786287378268,0.5802485955833719,1.8130977866814353,1.1581563719854284,0.13656895481419654,-0.05096485569692876,0.3975911275865297,-2.407100495423285,-0.511101815832546,0.04656885644815061,-0.9653852690988891,1.0783208346025044,0.7551442633864494,-1.067561156982996,-1.6379049071327247,-0.4722769241659087,0.3479744630317592,0.5534559533175919,0.14931895908285625,-0.853566511765684,-0.6789447430531352,-0.14248196175510502,0.4066834180661509,-0.6562879392179125,0.34913669973456174,0.9022011491435852,-0.5713150913939063,1.5092160997551691,-0.7751297096205931,-0.2913856688677858,-0.3104074903415344,1.4033441419701584,0.7210651941738934,-1.9081400958723442,0.6467291739360184,0.42314805386297644,-1.4004503453459785,1.2200421037296094,0.609092067563452,-2.6755118760668073,0.6336658466514746,0.9300038752354216,1.3044851754888402,1.0413176800369963,-0.387193892665513,-0.361276679396097,0.38503462731182436,1.103668402883417,0.49031354112047426,-3.2077677410318635,0.20980464731512286,-0.05156654692620989,0.4548618578874998,-0.28081765560387134,0.011772750841938939,-0.3274067294413862,-0.5962238831091922,-1.4992843996535743,-0.6814237192311466,-0.36870526912415374,-0.1047288555309101,2.1506056914516782,-0.9839862105924292,1.092333878962264,0.11894918611924253,-0.4015425020670459,1.1142914730518803,-0.2967379401748048],\"xaxis\":\"x10\",\"y\":[-0.1495873057280749,-0.07389591067093795,-0.05424649164552918,-1.6191328516391368,0.7861292420726962,0.16458728004590947,-0.35703492113350604,-0.426685266299582,-0.5991789583388359,-0.5157204112982977,2.0866639925261543,-0.5666538139387771,-0.06077987911208819,0.9342259947988482,-1.5656911043341355,0.23638393339599628,1.305690926120735,0.3364837228418128,-0.18388526011911294,0.15078765384007473,2.045359078996665,0.09084688188139022,0.3029885321000563,0.005640127992127931,-0.0288675855409102,-0.6590044580518759,-0.13485543846494127,-0.1040084699023544,0.17252887049950819,0.33909536489731035,-0.2052930632831629,-2.194007734071559,0.9629620636859435,-0.043561965406199166,-0.011560900492798187,-0.8296747581876137,0.4191127311567892,-0.959807329683778,-0.5119346931534932,0.3620624310508169,-1.7160067167617838,1.1219263615376818,-0.39370877508301655,-0.8152053080517907,-0.10681052700243587,-2.239088167020022,0.948146099933787,-1.1000314549095331,2.5824163517615704,0.7728368219352023,-0.7186359746916166,0.5346466089342827,-0.46273206501167197,0.3768178637237596,0.11073571289215428,0.05404378650617628,0.9085527002673297,-0.38897941329748437,-0.016248019293256716,-0.7084129337671787,-0.23605047435667145,0.06762523361193007,-1.4937661057807585,-1.581577590958831,0.3165428702605645,1.0760245337795067,-0.165931841927548,0.3154464529938777,-2.265401528517308,-0.08929231953168348,1.9655966095288562,-0.5129665800009727,-1.002299233471418,-1.4380855637946208,0.37146983475571843,-0.3572176570685798,0.04175933964522382,1.8119801603216394,0.5974935753797596,-0.021122586085694794,-0.7779900785671291,0.5052488953158533,-1.19892167597399,0.7838373918020359,-0.7537141655547988,-0.8397930665970642,-0.13089359355861377,-0.8109683538257121,-0.2229580367999272,0.18010591937992163,1.0895343297602935,1.045718270652688,-0.2921818454145917,0.10335561209896946,0.7811411658955167,1.4008410540732736,-1.2922640723674863,-1.0903101250379186,-1.7689312036931846,-0.5197017824849333],\"yaxis\":\"y10\",\"type\":\"scatter\"},{\"histfunc\":\"count\",\"histnorm\":\"\",\"marker\":{\"color\":\"rgba(50, 171, 96, 1.0)\",\"line\":{\"color\":\"#4D5663\",\"width\":1.3}},\"name\":\"C\",\"nbinsx\":10,\"opacity\":0.8,\"orientation\":\"v\",\"x\":[-0.1495873057280749,-0.07389591067093795,-0.05424649164552918,-1.6191328516391368,0.7861292420726962,0.16458728004590947,-0.35703492113350604,-0.426685266299582,-0.5991789583388359,-0.5157204112982977,2.0866639925261543,-0.5666538139387771,-0.06077987911208819,0.9342259947988482,-1.5656911043341355,0.23638393339599628,1.305690926120735,0.3364837228418128,-0.18388526011911294,0.15078765384007473,2.045359078996665,0.09084688188139022,0.3029885321000563,0.005640127992127931,-0.0288675855409102,-0.6590044580518759,-0.13485543846494127,-0.1040084699023544,0.17252887049950819,0.33909536489731035,-0.2052930632831629,-2.194007734071559,0.9629620636859435,-0.043561965406199166,-0.011560900492798187,-0.8296747581876137,0.4191127311567892,-0.959807329683778,-0.5119346931534932,0.3620624310508169,-1.7160067167617838,1.1219263615376818,-0.39370877508301655,-0.8152053080517907,-0.10681052700243587,-2.239088167020022,0.948146099933787,-1.1000314549095331,2.5824163517615704,0.7728368219352023,-0.7186359746916166,0.5346466089342827,-0.46273206501167197,0.3768178637237596,0.11073571289215428,0.05404378650617628,0.9085527002673297,-0.38897941329748437,-0.016248019293256716,-0.7084129337671787,-0.23605047435667145,0.06762523361193007,-1.4937661057807585,-1.581577590958831,0.3165428702605645,1.0760245337795067,-0.165931841927548,0.3154464529938777,-2.265401528517308,-0.08929231953168348,1.9655966095288562,-0.5129665800009727,-1.002299233471418,-1.4380855637946208,0.37146983475571843,-0.3572176570685798,0.04175933964522382,1.8119801603216394,0.5974935753797596,-0.021122586085694794,-0.7779900785671291,0.5052488953158533,-1.19892167597399,0.7838373918020359,-0.7537141655547988,-0.8397930665970642,-0.13089359355861377,-0.8109683538257121,-0.2229580367999272,0.18010591937992163,1.0895343297602935,1.045718270652688,-0.2921818454145917,0.10335561209896946,0.7811411658955167,1.4008410540732736,-1.2922640723674863,-1.0903101250379186,-1.7689312036931846,-0.5197017824849333],\"xaxis\":\"x11\",\"yaxis\":\"y11\",\"type\":\"histogram\"},{\"line\":{\"color\":\"rgba(128, 128, 128, 1.0)\",\"dash\":\"solid\",\"shape\":\"linear\",\"width\":1.3},\"marker\":{\"size\":2,\"symbol\":\"circle\"},\"mode\":\"markers\",\"name\":\"C\",\"text\":\"\",\"x\":[0.5293665006458524,-0.7748805540604703,1.0041063702226753,-0.5014685711589817,-0.7990699114298004,1.3526012472409807,2.7069625745810697,0.9418765685204512,0.6646196140664915,-0.37622698308513036,1.872907234974121,0.23098970425502563,-0.6696393977467702,-0.5532576114227775,-0.580975686840012,0.5118352419450641,-0.39594423600474965,0.4073970490229041,0.8542214083712736,-0.004834655193624482,-0.9723765849277642,-0.7463364737419851,2.4549819401427,-3.517635691987328,0.5738766909002905,-1.5345633051352354,-1.3059813594634928,-0.10684477373060267,-0.8959571576646118,0.24851463316831024,-0.5373821928201002,-0.5638124807760423,-1.5830907703026236,-0.48455664782929425,0.39416057604739785,-0.6521202111561265,0.3833858295349967,-0.026974854734215244,-1.718310627697159,0.43789618970833816,-0.03480276384231127,-1.994803828383732,1.2992884271258542,-1.8596734442133096,0.21485077510458403,-0.8593747521691765,0.38525141505965566,1.0585660632805256,-1.3105395488930291,-0.39074347238128293,-0.6900930041310154,0.23208264972938333,0.4826854483567595,-0.7767312911036357,0.22491136388331373,0.5814384893304747,0.5078618747203191,0.02912004819766613,-1.5408572234277373,0.8275475626338956,-1.2347380782919617,1.0454485217526956,2.000591036660255,0.3420397889762249,0.8305548583982847,-2.680051380624589,1.2106173604330084,-0.03491584896631556,0.20415674953273252,-0.7278868952741584,-0.4066709643380715,-0.6913941307546945,-0.7078265041387234,-0.24780906832072142,-0.9546900723223362,-0.25004170195760256,-0.5578099813542368,-2.0985699375508955,1.1967765947042563,-1.0484578443537154,0.5224002539238172,-0.9046286734930047,0.8504712301101417,-0.34440141948439057,1.1525486552216617,0.21879756283661364,-0.19225249825170607,0.2717283496788176,0.167357830092262,0.2092226485472227,-0.8147360118198178,0.24502094240023395,0.6221445409198278,0.5875180132353891,0.8504584167568766,1.8804820110000087,-1.2799977832826221,-1.5283676504453465,1.5140637923583105,-0.9247953154379341],\"xaxis\":\"x12\",\"y\":[-0.1495873057280749,-0.07389591067093795,-0.05424649164552918,-1.6191328516391368,0.7861292420726962,0.16458728004590947,-0.35703492113350604,-0.426685266299582,-0.5991789583388359,-0.5157204112982977,2.0866639925261543,-0.5666538139387771,-0.06077987911208819,0.9342259947988482,-1.5656911043341355,0.23638393339599628,1.305690926120735,0.3364837228418128,-0.18388526011911294,0.15078765384007473,2.045359078996665,0.09084688188139022,0.3029885321000563,0.005640127992127931,-0.0288675855409102,-0.6590044580518759,-0.13485543846494127,-0.1040084699023544,0.17252887049950819,0.33909536489731035,-0.2052930632831629,-2.194007734071559,0.9629620636859435,-0.043561965406199166,-0.011560900492798187,-0.8296747581876137,0.4191127311567892,-0.959807329683778,-0.5119346931534932,0.3620624310508169,-1.7160067167617838,1.1219263615376818,-0.39370877508301655,-0.8152053080517907,-0.10681052700243587,-2.239088167020022,0.948146099933787,-1.1000314549095331,2.5824163517615704,0.7728368219352023,-0.7186359746916166,0.5346466089342827,-0.46273206501167197,0.3768178637237596,0.11073571289215428,0.05404378650617628,0.9085527002673297,-0.38897941329748437,-0.016248019293256716,-0.7084129337671787,-0.23605047435667145,0.06762523361193007,-1.4937661057807585,-1.581577590958831,0.3165428702605645,1.0760245337795067,-0.165931841927548,0.3154464529938777,-2.265401528517308,-0.08929231953168348,1.9655966095288562,-0.5129665800009727,-1.002299233471418,-1.4380855637946208,0.37146983475571843,-0.3572176570685798,0.04175933964522382,1.8119801603216394,0.5974935753797596,-0.021122586085694794,-0.7779900785671291,0.5052488953158533,-1.19892167597399,0.7838373918020359,-0.7537141655547988,-0.8397930665970642,-0.13089359355861377,-0.8109683538257121,-0.2229580367999272,0.18010591937992163,1.0895343297602935,1.045718270652688,-0.2921818454145917,0.10335561209896946,0.7811411658955167,1.4008410540732736,-1.2922640723674863,-1.0903101250379186,-1.7689312036931846,-0.5197017824849333],\"yaxis\":\"y12\",\"type\":\"scatter\"},{\"line\":{\"color\":\"rgba(128, 128, 128, 1.0)\",\"dash\":\"solid\",\"shape\":\"linear\",\"width\":1.3},\"marker\":{\"size\":2,\"symbol\":\"circle\"},\"mode\":\"markers\",\"name\":\"D\",\"text\":\"\",\"x\":[-1.2369250000725207,0.6473596835857014,-0.4576338812403941,1.3516406754529127,0.7400490122585802,0.25510972366488843,-1.0651127106807845,2.3917146406957177,-1.4679389463105594,0.8391765739801815,0.4275400882654248,0.16019668981205584,-0.6546600458002377,0.25412542709008795,0.5812567887503652,2.824949855418005,-0.31753914966873975,-1.1188413124275982,-1.4841744546525169,-0.6865651933187513,-0.42853193432899855,-0.12083131295141886,-1.221878323795664,-0.21561458823488314,-0.6307860927928218,-2.7228708574986076,-0.14450177790649302,-0.13376997897710408,-2.1398184114432217,-0.27717423900572963,0.32303226145341607,0.3196944117300218,0.18597203059934792,-0.3799543016021088,-1.0570470176616962,-1.0437146318646817,1.244589105638801,-0.04337519472915891,0.30445962279555866,-1.8154741203814067,-0.8887990983280419,-1.5770320135643106,-0.6197241790299651,0.7644478130818563,-0.029785981514331553,0.23798873536899082,0.9446448368549804,0.7613448633925672,0.14087615944824644,0.6789662147155467,-1.6009293240998381,-0.2598721191100311,-2.7010390549845638,-0.26171844799409383,-0.9532264629107607,-0.03094940289085503,2.221027207346979,-0.24580105092785837,0.8183072372593397,0.5713252247110742,-0.31740801327057744,-1.0604555041989718,2.0615159143161503,-0.1092063059271307,-1.183761123674222,0.8302419529454999,-0.7770729098525189,1.9288790251622796,-1.6447440687176327,2.2441800141523807,-1.0906365477452125,-0.5183838762682667,-0.7108962314761669,-1.150536488305488,1.175992686063915,2.032896845776216,0.35408398135278496,0.8631735515015497,-0.3051640736411098,1.3060739739788678,1.4258657965350854,1.5277233446501692,1.6820603839835706,2.143177075085741,-0.47631071552440274,-0.9258348620953202,-1.3563642994337253,0.4804089287943433,-0.37248548367288253,0.7844780851728226,0.8658452629035026,1.1774201175308285,2.3582276533948496,1.577825382866515,0.7451127400443657,0.5417536639361865,0.5538339949773834,-0.8830866917087877,0.3986237791716136,1.4054611931446328],\"xaxis\":\"x13\",\"y\":[0.5293665006458524,-0.7748805540604703,1.0041063702226753,-0.5014685711589817,-0.7990699114298004,1.3526012472409807,2.7069625745810697,0.9418765685204512,0.6646196140664915,-0.37622698308513036,1.872907234974121,0.23098970425502563,-0.6696393977467702,-0.5532576114227775,-0.580975686840012,0.5118352419450641,-0.39594423600474965,0.4073970490229041,0.8542214083712736,-0.004834655193624482,-0.9723765849277642,-0.7463364737419851,2.4549819401427,-3.517635691987328,0.5738766909002905,-1.5345633051352354,-1.3059813594634928,-0.10684477373060267,-0.8959571576646118,0.24851463316831024,-0.5373821928201002,-0.5638124807760423,-1.5830907703026236,-0.48455664782929425,0.39416057604739785,-0.6521202111561265,0.3833858295349967,-0.026974854734215244,-1.718310627697159,0.43789618970833816,-0.03480276384231127,-1.994803828383732,1.2992884271258542,-1.8596734442133096,0.21485077510458403,-0.8593747521691765,0.38525141505965566,1.0585660632805256,-1.3105395488930291,-0.39074347238128293,-0.6900930041310154,0.23208264972938333,0.4826854483567595,-0.7767312911036357,0.22491136388331373,0.5814384893304747,0.5078618747203191,0.02912004819766613,-1.5408572234277373,0.8275475626338956,-1.2347380782919617,1.0454485217526956,2.000591036660255,0.3420397889762249,0.8305548583982847,-2.680051380624589,1.2106173604330084,-0.03491584896631556,0.20415674953273252,-0.7278868952741584,-0.4066709643380715,-0.6913941307546945,-0.7078265041387234,-0.24780906832072142,-0.9546900723223362,-0.25004170195760256,-0.5578099813542368,-2.0985699375508955,1.1967765947042563,-1.0484578443537154,0.5224002539238172,-0.9046286734930047,0.8504712301101417,-0.34440141948439057,1.1525486552216617,0.21879756283661364,-0.19225249825170607,0.2717283496788176,0.167357830092262,0.2092226485472227,-0.8147360118198178,0.24502094240023395,0.6221445409198278,0.5875180132353891,0.8504584167568766,1.8804820110000087,-1.2799977832826221,-1.5283676504453465,1.5140637923583105,-0.9247953154379341],\"yaxis\":\"y13\",\"type\":\"scatter\"},{\"line\":{\"color\":\"rgba(128, 128, 128, 1.0)\",\"dash\":\"solid\",\"shape\":\"linear\",\"width\":1.3},\"marker\":{\"size\":2,\"symbol\":\"circle\"},\"mode\":\"markers\",\"name\":\"D\",\"text\":\"\",\"x\":[-0.7698420862193472,-0.01761344336614215,-0.3686509050757071,-1.8714428775453267,1.988312377332831,-1.3694925212446596,-2.401861046922229,2.189063518367414,-0.6621720424869381,1.524830199372334,1.4325678710439211,0.2550436856316146,0.8589892106314515,1.8432136918947117,-1.1688456826211293,-1.515607620680818,-1.980287684188495,0.25328966866584374,-1.7739046333305717,0.8556947038213887,-0.5140998417635303,0.7223069066597191,0.39218572055196327,-0.18528948274597204,-0.04737676014181813,-0.11184810713112321,-0.06878806172071653,2.1147752527686583,0.03454371723819343,0.41196652639701076,-0.1281605512730255,1.9780250375126323,0.4491786287378268,0.5802485955833719,1.8130977866814353,1.1581563719854284,0.13656895481419654,-0.05096485569692876,0.3975911275865297,-2.407100495423285,-0.511101815832546,0.04656885644815061,-0.9653852690988891,1.0783208346025044,0.7551442633864494,-1.067561156982996,-1.6379049071327247,-0.4722769241659087,0.3479744630317592,0.5534559533175919,0.14931895908285625,-0.853566511765684,-0.6789447430531352,-0.14248196175510502,0.4066834180661509,-0.6562879392179125,0.34913669973456174,0.9022011491435852,-0.5713150913939063,1.5092160997551691,-0.7751297096205931,-0.2913856688677858,-0.3104074903415344,1.4033441419701584,0.7210651941738934,-1.9081400958723442,0.6467291739360184,0.42314805386297644,-1.4004503453459785,1.2200421037296094,0.609092067563452,-2.6755118760668073,0.6336658466514746,0.9300038752354216,1.3044851754888402,1.0413176800369963,-0.387193892665513,-0.361276679396097,0.38503462731182436,1.103668402883417,0.49031354112047426,-3.2077677410318635,0.20980464731512286,-0.05156654692620989,0.4548618578874998,-0.28081765560387134,0.011772750841938939,-0.3274067294413862,-0.5962238831091922,-1.4992843996535743,-0.6814237192311466,-0.36870526912415374,-0.1047288555309101,2.1506056914516782,-0.9839862105924292,1.092333878962264,0.11894918611924253,-0.4015425020670459,1.1142914730518803,-0.2967379401748048],\"xaxis\":\"x14\",\"y\":[0.5293665006458524,-0.7748805540604703,1.0041063702226753,-0.5014685711589817,-0.7990699114298004,1.3526012472409807,2.7069625745810697,0.9418765685204512,0.6646196140664915,-0.37622698308513036,1.872907234974121,0.23098970425502563,-0.6696393977467702,-0.5532576114227775,-0.580975686840012,0.5118352419450641,-0.39594423600474965,0.4073970490229041,0.8542214083712736,-0.004834655193624482,-0.9723765849277642,-0.7463364737419851,2.4549819401427,-3.517635691987328,0.5738766909002905,-1.5345633051352354,-1.3059813594634928,-0.10684477373060267,-0.8959571576646118,0.24851463316831024,-0.5373821928201002,-0.5638124807760423,-1.5830907703026236,-0.48455664782929425,0.39416057604739785,-0.6521202111561265,0.3833858295349967,-0.026974854734215244,-1.718310627697159,0.43789618970833816,-0.03480276384231127,-1.994803828383732,1.2992884271258542,-1.8596734442133096,0.21485077510458403,-0.8593747521691765,0.38525141505965566,1.0585660632805256,-1.3105395488930291,-0.39074347238128293,-0.6900930041310154,0.23208264972938333,0.4826854483567595,-0.7767312911036357,0.22491136388331373,0.5814384893304747,0.5078618747203191,0.02912004819766613,-1.5408572234277373,0.8275475626338956,-1.2347380782919617,1.0454485217526956,2.000591036660255,0.3420397889762249,0.8305548583982847,-2.680051380624589,1.2106173604330084,-0.03491584896631556,0.20415674953273252,-0.7278868952741584,-0.4066709643380715,-0.6913941307546945,-0.7078265041387234,-0.24780906832072142,-0.9546900723223362,-0.25004170195760256,-0.5578099813542368,-2.0985699375508955,1.1967765947042563,-1.0484578443537154,0.5224002539238172,-0.9046286734930047,0.8504712301101417,-0.34440141948439057,1.1525486552216617,0.21879756283661364,-0.19225249825170607,0.2717283496788176,0.167357830092262,0.2092226485472227,-0.8147360118198178,0.24502094240023395,0.6221445409198278,0.5875180132353891,0.8504584167568766,1.8804820110000087,-1.2799977832826221,-1.5283676504453465,1.5140637923583105,-0.9247953154379341],\"yaxis\":\"y14\",\"type\":\"scatter\"},{\"line\":{\"color\":\"rgba(128, 128, 128, 1.0)\",\"dash\":\"solid\",\"shape\":\"linear\",\"width\":1.3},\"marker\":{\"size\":2,\"symbol\":\"circle\"},\"mode\":\"markers\",\"name\":\"D\",\"text\":\"\",\"x\":[-0.1495873057280749,-0.07389591067093795,-0.05424649164552918,-1.6191328516391368,0.7861292420726962,0.16458728004590947,-0.35703492113350604,-0.426685266299582,-0.5991789583388359,-0.5157204112982977,2.0866639925261543,-0.5666538139387771,-0.06077987911208819,0.9342259947988482,-1.5656911043341355,0.23638393339599628,1.305690926120735,0.3364837228418128,-0.18388526011911294,0.15078765384007473,2.045359078996665,0.09084688188139022,0.3029885321000563,0.005640127992127931,-0.0288675855409102,-0.6590044580518759,-0.13485543846494127,-0.1040084699023544,0.17252887049950819,0.33909536489731035,-0.2052930632831629,-2.194007734071559,0.9629620636859435,-0.043561965406199166,-0.011560900492798187,-0.8296747581876137,0.4191127311567892,-0.959807329683778,-0.5119346931534932,0.3620624310508169,-1.7160067167617838,1.1219263615376818,-0.39370877508301655,-0.8152053080517907,-0.10681052700243587,-2.239088167020022,0.948146099933787,-1.1000314549095331,2.5824163517615704,0.7728368219352023,-0.7186359746916166,0.5346466089342827,-0.46273206501167197,0.3768178637237596,0.11073571289215428,0.05404378650617628,0.9085527002673297,-0.38897941329748437,-0.016248019293256716,-0.7084129337671787,-0.23605047435667145,0.06762523361193007,-1.4937661057807585,-1.581577590958831,0.3165428702605645,1.0760245337795067,-0.165931841927548,0.3154464529938777,-2.265401528517308,-0.08929231953168348,1.9655966095288562,-0.5129665800009727,-1.002299233471418,-1.4380855637946208,0.37146983475571843,-0.3572176570685798,0.04175933964522382,1.8119801603216394,0.5974935753797596,-0.021122586085694794,-0.7779900785671291,0.5052488953158533,-1.19892167597399,0.7838373918020359,-0.7537141655547988,-0.8397930665970642,-0.13089359355861377,-0.8109683538257121,-0.2229580367999272,0.18010591937992163,1.0895343297602935,1.045718270652688,-0.2921818454145917,0.10335561209896946,0.7811411658955167,1.4008410540732736,-1.2922640723674863,-1.0903101250379186,-1.7689312036931846,-0.5197017824849333],\"xaxis\":\"x15\",\"y\":[0.5293665006458524,-0.7748805540604703,1.0041063702226753,-0.5014685711589817,-0.7990699114298004,1.3526012472409807,2.7069625745810697,0.9418765685204512,0.6646196140664915,-0.37622698308513036,1.872907234974121,0.23098970425502563,-0.6696393977467702,-0.5532576114227775,-0.580975686840012,0.5118352419450641,-0.39594423600474965,0.4073970490229041,0.8542214083712736,-0.004834655193624482,-0.9723765849277642,-0.7463364737419851,2.4549819401427,-3.517635691987328,0.5738766909002905,-1.5345633051352354,-1.3059813594634928,-0.10684477373060267,-0.8959571576646118,0.24851463316831024,-0.5373821928201002,-0.5638124807760423,-1.5830907703026236,-0.48455664782929425,0.39416057604739785,-0.6521202111561265,0.3833858295349967,-0.026974854734215244,-1.718310627697159,0.43789618970833816,-0.03480276384231127,-1.994803828383732,1.2992884271258542,-1.8596734442133096,0.21485077510458403,-0.8593747521691765,0.38525141505965566,1.0585660632805256,-1.3105395488930291,-0.39074347238128293,-0.6900930041310154,0.23208264972938333,0.4826854483567595,-0.7767312911036357,0.22491136388331373,0.5814384893304747,0.5078618747203191,0.02912004819766613,-1.5408572234277373,0.8275475626338956,-1.2347380782919617,1.0454485217526956,2.000591036660255,0.3420397889762249,0.8305548583982847,-2.680051380624589,1.2106173604330084,-0.03491584896631556,0.20415674953273252,-0.7278868952741584,-0.4066709643380715,-0.6913941307546945,-0.7078265041387234,-0.24780906832072142,-0.9546900723223362,-0.25004170195760256,-0.5578099813542368,-2.0985699375508955,1.1967765947042563,-1.0484578443537154,0.5224002539238172,-0.9046286734930047,0.8504712301101417,-0.34440141948439057,1.1525486552216617,0.21879756283661364,-0.19225249825170607,0.2717283496788176,0.167357830092262,0.2092226485472227,-0.8147360118198178,0.24502094240023395,0.6221445409198278,0.5875180132353891,0.8504584167568766,1.8804820110000087,-1.2799977832826221,-1.5283676504453465,1.5140637923583105,-0.9247953154379341],\"yaxis\":\"y15\",\"type\":\"scatter\"},{\"histfunc\":\"count\",\"histnorm\":\"\",\"marker\":{\"color\":\"rgba(128, 0, 128, 1.0)\",\"line\":{\"color\":\"#4D5663\",\"width\":1.3}},\"name\":\"D\",\"nbinsx\":10,\"opacity\":0.8,\"orientation\":\"v\",\"x\":[0.5293665006458524,-0.7748805540604703,1.0041063702226753,-0.5014685711589817,-0.7990699114298004,1.3526012472409807,2.7069625745810697,0.9418765685204512,0.6646196140664915,-0.37622698308513036,1.872907234974121,0.23098970425502563,-0.6696393977467702,-0.5532576114227775,-0.580975686840012,0.5118352419450641,-0.39594423600474965,0.4073970490229041,0.8542214083712736,-0.004834655193624482,-0.9723765849277642,-0.7463364737419851,2.4549819401427,-3.517635691987328,0.5738766909002905,-1.5345633051352354,-1.3059813594634928,-0.10684477373060267,-0.8959571576646118,0.24851463316831024,-0.5373821928201002,-0.5638124807760423,-1.5830907703026236,-0.48455664782929425,0.39416057604739785,-0.6521202111561265,0.3833858295349967,-0.026974854734215244,-1.718310627697159,0.43789618970833816,-0.03480276384231127,-1.994803828383732,1.2992884271258542,-1.8596734442133096,0.21485077510458403,-0.8593747521691765,0.38525141505965566,1.0585660632805256,-1.3105395488930291,-0.39074347238128293,-0.6900930041310154,0.23208264972938333,0.4826854483567595,-0.7767312911036357,0.22491136388331373,0.5814384893304747,0.5078618747203191,0.02912004819766613,-1.5408572234277373,0.8275475626338956,-1.2347380782919617,1.0454485217526956,2.000591036660255,0.3420397889762249,0.8305548583982847,-2.680051380624589,1.2106173604330084,-0.03491584896631556,0.20415674953273252,-0.7278868952741584,-0.4066709643380715,-0.6913941307546945,-0.7078265041387234,-0.24780906832072142,-0.9546900723223362,-0.25004170195760256,-0.5578099813542368,-2.0985699375508955,1.1967765947042563,-1.0484578443537154,0.5224002539238172,-0.9046286734930047,0.8504712301101417,-0.34440141948439057,1.1525486552216617,0.21879756283661364,-0.19225249825170607,0.2717283496788176,0.167357830092262,0.2092226485472227,-0.8147360118198178,0.24502094240023395,0.6221445409198278,0.5875180132353891,0.8504584167568766,1.8804820110000087,-1.2799977832826221,-1.5283676504453465,1.5140637923583105,-0.9247953154379341],\"xaxis\":\"x16\",\"yaxis\":\"y16\",\"type\":\"histogram\"}],                        {\"bargap\":0.02,\"legend\":{\"bgcolor\":\"#F5F6F9\",\"font\":{\"color\":\"#4D5663\"}},\"paper_bgcolor\":\"#F5F6F9\",\"plot_bgcolor\":\"#F5F6F9\",\"showlegend\":false,\"template\":{\"data\":{\"barpolar\":[{\"marker\":{\"line\":{\"color\":\"#E5ECF6\",\"width\":0.5},\"pattern\":{\"fillmode\":\"overlay\",\"size\":10,\"solidity\":0.2}},\"type\":\"barpolar\"}],\"bar\":[{\"error_x\":{\"color\":\"#2a3f5f\"},\"error_y\":{\"color\":\"#2a3f5f\"},\"marker\":{\"line\":{\"color\":\"#E5ECF6\",\"width\":0.5},\"pattern\":{\"fillmode\":\"overlay\",\"size\":10,\"solidity\":0.2}},\"type\":\"bar\"}],\"carpet\":[{\"aaxis\":{\"endlinecolor\":\"#2a3f5f\",\"gridcolor\":\"white\",\"linecolor\":\"white\",\"minorgridcolor\":\"white\",\"startlinecolor\":\"#2a3f5f\"},\"baxis\":{\"endlinecolor\":\"#2a3f5f\",\"gridcolor\":\"white\",\"linecolor\":\"white\",\"minorgridcolor\":\"white\",\"startlinecolor\":\"#2a3f5f\"},\"type\":\"carpet\"}],\"choropleth\":[{\"colorbar\":{\"outlinewidth\":0,\"ticks\":\"\"},\"type\":\"choropleth\"}],\"contourcarpet\":[{\"colorbar\":{\"outlinewidth\":0,\"ticks\":\"\"},\"type\":\"contourcarpet\"}],\"contour\":[{\"colorbar\":{\"outlinewidth\":0,\"ticks\":\"\"},\"colorscale\":[[0.0,\"#0d0887\"],[0.1111111111111111,\"#46039f\"],[0.2222222222222222,\"#7201a8\"],[0.3333333333333333,\"#9c179e\"],[0.4444444444444444,\"#bd3786\"],[0.5555555555555556,\"#d8576b\"],[0.6666666666666666,\"#ed7953\"],[0.7777777777777778,\"#fb9f3a\"],[0.8888888888888888,\"#fdca26\"],[1.0,\"#f0f921\"]],\"type\":\"contour\"}],\"heatmapgl\":[{\"colorbar\":{\"outlinewidth\":0,\"ticks\":\"\"},\"colorscale\":[[0.0,\"#0d0887\"],[0.1111111111111111,\"#46039f\"],[0.2222222222222222,\"#7201a8\"],[0.3333333333333333,\"#9c179e\"],[0.4444444444444444,\"#bd3786\"],[0.5555555555555556,\"#d8576b\"],[0.6666666666666666,\"#ed7953\"],[0.7777777777777778,\"#fb9f3a\"],[0.8888888888888888,\"#fdca26\"],[1.0,\"#f0f921\"]],\"type\":\"heatmapgl\"}],\"heatmap\":[{\"colorbar\":{\"outlinewidth\":0,\"ticks\":\"\"},\"colorscale\":[[0.0,\"#0d0887\"],[0.1111111111111111,\"#46039f\"],[0.2222222222222222,\"#7201a8\"],[0.3333333333333333,\"#9c179e\"],[0.4444444444444444,\"#bd3786\"],[0.5555555555555556,\"#d8576b\"],[0.6666666666666666,\"#ed7953\"],[0.7777777777777778,\"#fb9f3a\"],[0.8888888888888888,\"#fdca26\"],[1.0,\"#f0f921\"]],\"type\":\"heatmap\"}],\"histogram2dcontour\":[{\"colorbar\":{\"outlinewidth\":0,\"ticks\":\"\"},\"colorscale\":[[0.0,\"#0d0887\"],[0.1111111111111111,\"#46039f\"],[0.2222222222222222,\"#7201a8\"],[0.3333333333333333,\"#9c179e\"],[0.4444444444444444,\"#bd3786\"],[0.5555555555555556,\"#d8576b\"],[0.6666666666666666,\"#ed7953\"],[0.7777777777777778,\"#fb9f3a\"],[0.8888888888888888,\"#fdca26\"],[1.0,\"#f0f921\"]],\"type\":\"histogram2dcontour\"}],\"histogram2d\":[{\"colorbar\":{\"outlinewidth\":0,\"ticks\":\"\"},\"colorscale\":[[0.0,\"#0d0887\"],[0.1111111111111111,\"#46039f\"],[0.2222222222222222,\"#7201a8\"],[0.3333333333333333,\"#9c179e\"],[0.4444444444444444,\"#bd3786\"],[0.5555555555555556,\"#d8576b\"],[0.6666666666666666,\"#ed7953\"],[0.7777777777777778,\"#fb9f3a\"],[0.8888888888888888,\"#fdca26\"],[1.0,\"#f0f921\"]],\"type\":\"histogram2d\"}],\"histogram\":[{\"marker\":{\"pattern\":{\"fillmode\":\"overlay\",\"size\":10,\"solidity\":0.2}},\"type\":\"histogram\"}],\"mesh3d\":[{\"colorbar\":{\"outlinewidth\":0,\"ticks\":\"\"},\"type\":\"mesh3d\"}],\"parcoords\":[{\"line\":{\"colorbar\":{\"outlinewidth\":0,\"ticks\":\"\"}},\"type\":\"parcoords\"}],\"pie\":[{\"automargin\":true,\"type\":\"pie\"}],\"scatter3d\":[{\"line\":{\"colorbar\":{\"outlinewidth\":0,\"ticks\":\"\"}},\"marker\":{\"colorbar\":{\"outlinewidth\":0,\"ticks\":\"\"}},\"type\":\"scatter3d\"}],\"scattercarpet\":[{\"marker\":{\"colorbar\":{\"outlinewidth\":0,\"ticks\":\"\"}},\"type\":\"scattercarpet\"}],\"scattergeo\":[{\"marker\":{\"colorbar\":{\"outlinewidth\":0,\"ticks\":\"\"}},\"type\":\"scattergeo\"}],\"scattergl\":[{\"marker\":{\"colorbar\":{\"outlinewidth\":0,\"ticks\":\"\"}},\"type\":\"scattergl\"}],\"scattermapbox\":[{\"marker\":{\"colorbar\":{\"outlinewidth\":0,\"ticks\":\"\"}},\"type\":\"scattermapbox\"}],\"scatterpolargl\":[{\"marker\":{\"colorbar\":{\"outlinewidth\":0,\"ticks\":\"\"}},\"type\":\"scatterpolargl\"}],\"scatterpolar\":[{\"marker\":{\"colorbar\":{\"outlinewidth\":0,\"ticks\":\"\"}},\"type\":\"scatterpolar\"}],\"scatter\":[{\"marker\":{\"colorbar\":{\"outlinewidth\":0,\"ticks\":\"\"}},\"type\":\"scatter\"}],\"scatterternary\":[{\"marker\":{\"colorbar\":{\"outlinewidth\":0,\"ticks\":\"\"}},\"type\":\"scatterternary\"}],\"surface\":[{\"colorbar\":{\"outlinewidth\":0,\"ticks\":\"\"},\"colorscale\":[[0.0,\"#0d0887\"],[0.1111111111111111,\"#46039f\"],[0.2222222222222222,\"#7201a8\"],[0.3333333333333333,\"#9c179e\"],[0.4444444444444444,\"#bd3786\"],[0.5555555555555556,\"#d8576b\"],[0.6666666666666666,\"#ed7953\"],[0.7777777777777778,\"#fb9f3a\"],[0.8888888888888888,\"#fdca26\"],[1.0,\"#f0f921\"]],\"type\":\"surface\"}],\"table\":[{\"cells\":{\"fill\":{\"color\":\"#EBF0F8\"},\"line\":{\"color\":\"white\"}},\"header\":{\"fill\":{\"color\":\"#C8D4E3\"},\"line\":{\"color\":\"white\"}},\"type\":\"table\"}]},\"layout\":{\"annotationdefaults\":{\"arrowcolor\":\"#2a3f5f\",\"arrowhead\":0,\"arrowwidth\":1},\"autotypenumbers\":\"strict\",\"coloraxis\":{\"colorbar\":{\"outlinewidth\":0,\"ticks\":\"\"}},\"colorscale\":{\"diverging\":[[0,\"#8e0152\"],[0.1,\"#c51b7d\"],[0.2,\"#de77ae\"],[0.3,\"#f1b6da\"],[0.4,\"#fde0ef\"],[0.5,\"#f7f7f7\"],[0.6,\"#e6f5d0\"],[0.7,\"#b8e186\"],[0.8,\"#7fbc41\"],[0.9,\"#4d9221\"],[1,\"#276419\"]],\"sequential\":[[0.0,\"#0d0887\"],[0.1111111111111111,\"#46039f\"],[0.2222222222222222,\"#7201a8\"],[0.3333333333333333,\"#9c179e\"],[0.4444444444444444,\"#bd3786\"],[0.5555555555555556,\"#d8576b\"],[0.6666666666666666,\"#ed7953\"],[0.7777777777777778,\"#fb9f3a\"],[0.8888888888888888,\"#fdca26\"],[1.0,\"#f0f921\"]],\"sequentialminus\":[[0.0,\"#0d0887\"],[0.1111111111111111,\"#46039f\"],[0.2222222222222222,\"#7201a8\"],[0.3333333333333333,\"#9c179e\"],[0.4444444444444444,\"#bd3786\"],[0.5555555555555556,\"#d8576b\"],[0.6666666666666666,\"#ed7953\"],[0.7777777777777778,\"#fb9f3a\"],[0.8888888888888888,\"#fdca26\"],[1.0,\"#f0f921\"]]},\"colorway\":[\"#636efa\",\"#EF553B\",\"#00cc96\",\"#ab63fa\",\"#FFA15A\",\"#19d3f3\",\"#FF6692\",\"#B6E880\",\"#FF97FF\",\"#FECB52\"],\"font\":{\"color\":\"#2a3f5f\"},\"geo\":{\"bgcolor\":\"white\",\"lakecolor\":\"white\",\"landcolor\":\"#E5ECF6\",\"showlakes\":true,\"showland\":true,\"subunitcolor\":\"white\"},\"hoverlabel\":{\"align\":\"left\"},\"hovermode\":\"closest\",\"mapbox\":{\"style\":\"light\"},\"paper_bgcolor\":\"white\",\"plot_bgcolor\":\"#E5ECF6\",\"polar\":{\"angularaxis\":{\"gridcolor\":\"white\",\"linecolor\":\"white\",\"ticks\":\"\"},\"bgcolor\":\"#E5ECF6\",\"radialaxis\":{\"gridcolor\":\"white\",\"linecolor\":\"white\",\"ticks\":\"\"}},\"scene\":{\"xaxis\":{\"backgroundcolor\":\"#E5ECF6\",\"gridcolor\":\"white\",\"gridwidth\":2,\"linecolor\":\"white\",\"showbackground\":true,\"ticks\":\"\",\"zerolinecolor\":\"white\"},\"yaxis\":{\"backgroundcolor\":\"#E5ECF6\",\"gridcolor\":\"white\",\"gridwidth\":2,\"linecolor\":\"white\",\"showbackground\":true,\"ticks\":\"\",\"zerolinecolor\":\"white\"},\"zaxis\":{\"backgroundcolor\":\"#E5ECF6\",\"gridcolor\":\"white\",\"gridwidth\":2,\"linecolor\":\"white\",\"showbackground\":true,\"ticks\":\"\",\"zerolinecolor\":\"white\"}},\"shapedefaults\":{\"line\":{\"color\":\"#2a3f5f\"}},\"ternary\":{\"aaxis\":{\"gridcolor\":\"white\",\"linecolor\":\"white\",\"ticks\":\"\"},\"baxis\":{\"gridcolor\":\"white\",\"linecolor\":\"white\",\"ticks\":\"\"},\"bgcolor\":\"#E5ECF6\",\"caxis\":{\"gridcolor\":\"white\",\"linecolor\":\"white\",\"ticks\":\"\"}},\"title\":{\"x\":0.05},\"xaxis\":{\"automargin\":true,\"gridcolor\":\"white\",\"linecolor\":\"white\",\"ticks\":\"\",\"title\":{\"standoff\":15},\"zerolinecolor\":\"white\",\"zerolinewidth\":2},\"yaxis\":{\"automargin\":true,\"gridcolor\":\"white\",\"linecolor\":\"white\",\"ticks\":\"\",\"title\":{\"standoff\":15},\"zerolinecolor\":\"white\",\"zerolinewidth\":2}}},\"title\":{\"font\":{\"color\":\"#4D5663\"}},\"xaxis\":{\"anchor\":\"y\",\"domain\":[0.0,0.2125],\"gridcolor\":\"#E1E5ED\",\"showgrid\":false,\"tickfont\":{\"color\":\"#4D5663\"},\"title\":{\"font\":{\"color\":\"#4D5663\"},\"text\":\"\"},\"zerolinecolor\":\"#E1E5ED\"},\"yaxis\":{\"anchor\":\"x\",\"domain\":[0.8025,1.0],\"gridcolor\":\"#E1E5ED\",\"showgrid\":false,\"tickfont\":{\"color\":\"#4D5663\"},\"title\":{\"font\":{\"color\":\"#4D5663\"},\"text\":\"\"},\"zerolinecolor\":\"#E1E5ED\"},\"xaxis2\":{\"anchor\":\"y2\",\"domain\":[0.2625,0.475],\"gridcolor\":\"#E1E5ED\",\"showgrid\":false,\"tickfont\":{\"color\":\"#4D5663\"},\"title\":{\"font\":{\"color\":\"#4D5663\"},\"text\":\"\"},\"zerolinecolor\":\"#E1E5ED\"},\"yaxis2\":{\"anchor\":\"x2\",\"domain\":[0.8025,1.0],\"gridcolor\":\"#E1E5ED\",\"showgrid\":false,\"tickfont\":{\"color\":\"#4D5663\"},\"title\":{\"font\":{\"color\":\"#4D5663\"},\"text\":\"\"},\"zerolinecolor\":\"#E1E5ED\"},\"xaxis3\":{\"anchor\":\"y3\",\"domain\":[0.525,0.7375],\"gridcolor\":\"#E1E5ED\",\"showgrid\":false,\"tickfont\":{\"color\":\"#4D5663\"},\"title\":{\"font\":{\"color\":\"#4D5663\"},\"text\":\"\"},\"zerolinecolor\":\"#E1E5ED\"},\"yaxis3\":{\"anchor\":\"x3\",\"domain\":[0.8025,1.0],\"gridcolor\":\"#E1E5ED\",\"showgrid\":false,\"tickfont\":{\"color\":\"#4D5663\"},\"title\":{\"font\":{\"color\":\"#4D5663\"},\"text\":\"\"},\"zerolinecolor\":\"#E1E5ED\"},\"xaxis4\":{\"anchor\":\"y4\",\"domain\":[0.7875,1.0],\"gridcolor\":\"#E1E5ED\",\"showgrid\":false,\"tickfont\":{\"color\":\"#4D5663\"},\"title\":{\"font\":{\"color\":\"#4D5663\"},\"text\":\"\"},\"zerolinecolor\":\"#E1E5ED\"},\"yaxis4\":{\"anchor\":\"x4\",\"domain\":[0.8025,1.0],\"gridcolor\":\"#E1E5ED\",\"showgrid\":false,\"tickfont\":{\"color\":\"#4D5663\"},\"title\":{\"font\":{\"color\":\"#4D5663\"},\"text\":\"\"},\"zerolinecolor\":\"#E1E5ED\"},\"xaxis5\":{\"anchor\":\"y5\",\"domain\":[0.0,0.2125],\"gridcolor\":\"#E1E5ED\",\"showgrid\":false,\"tickfont\":{\"color\":\"#4D5663\"},\"title\":{\"font\":{\"color\":\"#4D5663\"},\"text\":\"\"},\"zerolinecolor\":\"#E1E5ED\"},\"yaxis5\":{\"anchor\":\"x5\",\"domain\":[0.535,0.7325],\"gridcolor\":\"#E1E5ED\",\"showgrid\":false,\"tickfont\":{\"color\":\"#4D5663\"},\"title\":{\"font\":{\"color\":\"#4D5663\"},\"text\":\"\"},\"zerolinecolor\":\"#E1E5ED\"},\"xaxis6\":{\"anchor\":\"y6\",\"domain\":[0.2625,0.475],\"gridcolor\":\"#E1E5ED\",\"showgrid\":false,\"tickfont\":{\"color\":\"#4D5663\"},\"title\":{\"font\":{\"color\":\"#4D5663\"},\"text\":\"\"},\"zerolinecolor\":\"#E1E5ED\"},\"yaxis6\":{\"anchor\":\"x6\",\"domain\":[0.535,0.7325],\"gridcolor\":\"#E1E5ED\",\"showgrid\":false,\"tickfont\":{\"color\":\"#4D5663\"},\"title\":{\"font\":{\"color\":\"#4D5663\"},\"text\":\"\"},\"zerolinecolor\":\"#E1E5ED\"},\"xaxis7\":{\"anchor\":\"y7\",\"domain\":[0.525,0.7375],\"gridcolor\":\"#E1E5ED\",\"showgrid\":false,\"tickfont\":{\"color\":\"#4D5663\"},\"title\":{\"font\":{\"color\":\"#4D5663\"},\"text\":\"\"},\"zerolinecolor\":\"#E1E5ED\"},\"yaxis7\":{\"anchor\":\"x7\",\"domain\":[0.535,0.7325],\"gridcolor\":\"#E1E5ED\",\"showgrid\":false,\"tickfont\":{\"color\":\"#4D5663\"},\"title\":{\"font\":{\"color\":\"#4D5663\"},\"text\":\"\"},\"zerolinecolor\":\"#E1E5ED\"},\"xaxis8\":{\"anchor\":\"y8\",\"domain\":[0.7875,1.0],\"gridcolor\":\"#E1E5ED\",\"showgrid\":false,\"tickfont\":{\"color\":\"#4D5663\"},\"title\":{\"font\":{\"color\":\"#4D5663\"},\"text\":\"\"},\"zerolinecolor\":\"#E1E5ED\"},\"yaxis8\":{\"anchor\":\"x8\",\"domain\":[0.535,0.7325],\"gridcolor\":\"#E1E5ED\",\"showgrid\":false,\"tickfont\":{\"color\":\"#4D5663\"},\"title\":{\"font\":{\"color\":\"#4D5663\"},\"text\":\"\"},\"zerolinecolor\":\"#E1E5ED\"},\"xaxis9\":{\"anchor\":\"y9\",\"domain\":[0.0,0.2125],\"gridcolor\":\"#E1E5ED\",\"showgrid\":false,\"tickfont\":{\"color\":\"#4D5663\"},\"title\":{\"font\":{\"color\":\"#4D5663\"},\"text\":\"\"},\"zerolinecolor\":\"#E1E5ED\"},\"yaxis9\":{\"anchor\":\"x9\",\"domain\":[0.2675,0.465],\"gridcolor\":\"#E1E5ED\",\"showgrid\":false,\"tickfont\":{\"color\":\"#4D5663\"},\"title\":{\"font\":{\"color\":\"#4D5663\"},\"text\":\"\"},\"zerolinecolor\":\"#E1E5ED\"},\"xaxis10\":{\"anchor\":\"y10\",\"domain\":[0.2625,0.475],\"gridcolor\":\"#E1E5ED\",\"showgrid\":false,\"tickfont\":{\"color\":\"#4D5663\"},\"title\":{\"font\":{\"color\":\"#4D5663\"},\"text\":\"\"},\"zerolinecolor\":\"#E1E5ED\"},\"yaxis10\":{\"anchor\":\"x10\",\"domain\":[0.2675,0.465],\"gridcolor\":\"#E1E5ED\",\"showgrid\":false,\"tickfont\":{\"color\":\"#4D5663\"},\"title\":{\"font\":{\"color\":\"#4D5663\"},\"text\":\"\"},\"zerolinecolor\":\"#E1E5ED\"},\"xaxis11\":{\"anchor\":\"y11\",\"domain\":[0.525,0.7375],\"gridcolor\":\"#E1E5ED\",\"showgrid\":false,\"tickfont\":{\"color\":\"#4D5663\"},\"title\":{\"font\":{\"color\":\"#4D5663\"},\"text\":\"\"},\"zerolinecolor\":\"#E1E5ED\"},\"yaxis11\":{\"anchor\":\"x11\",\"domain\":[0.2675,0.465],\"gridcolor\":\"#E1E5ED\",\"showgrid\":false,\"tickfont\":{\"color\":\"#4D5663\"},\"title\":{\"font\":{\"color\":\"#4D5663\"},\"text\":\"\"},\"zerolinecolor\":\"#E1E5ED\"},\"xaxis12\":{\"anchor\":\"y12\",\"domain\":[0.7875,1.0],\"gridcolor\":\"#E1E5ED\",\"showgrid\":false,\"tickfont\":{\"color\":\"#4D5663\"},\"title\":{\"font\":{\"color\":\"#4D5663\"},\"text\":\"\"},\"zerolinecolor\":\"#E1E5ED\"},\"yaxis12\":{\"anchor\":\"x12\",\"domain\":[0.2675,0.465],\"gridcolor\":\"#E1E5ED\",\"showgrid\":false,\"tickfont\":{\"color\":\"#4D5663\"},\"title\":{\"font\":{\"color\":\"#4D5663\"},\"text\":\"\"},\"zerolinecolor\":\"#E1E5ED\"},\"xaxis13\":{\"anchor\":\"y13\",\"domain\":[0.0,0.2125],\"gridcolor\":\"#E1E5ED\",\"showgrid\":false,\"tickfont\":{\"color\":\"#4D5663\"},\"title\":{\"font\":{\"color\":\"#4D5663\"},\"text\":\"\"},\"zerolinecolor\":\"#E1E5ED\"},\"yaxis13\":{\"anchor\":\"x13\",\"domain\":[0.0,0.1975],\"gridcolor\":\"#E1E5ED\",\"showgrid\":false,\"tickfont\":{\"color\":\"#4D5663\"},\"title\":{\"font\":{\"color\":\"#4D5663\"},\"text\":\"\"},\"zerolinecolor\":\"#E1E5ED\"},\"xaxis14\":{\"anchor\":\"y14\",\"domain\":[0.2625,0.475],\"gridcolor\":\"#E1E5ED\",\"showgrid\":false,\"tickfont\":{\"color\":\"#4D5663\"},\"title\":{\"font\":{\"color\":\"#4D5663\"},\"text\":\"\"},\"zerolinecolor\":\"#E1E5ED\"},\"yaxis14\":{\"anchor\":\"x14\",\"domain\":[0.0,0.1975],\"gridcolor\":\"#E1E5ED\",\"showgrid\":false,\"tickfont\":{\"color\":\"#4D5663\"},\"title\":{\"font\":{\"color\":\"#4D5663\"},\"text\":\"\"},\"zerolinecolor\":\"#E1E5ED\"},\"xaxis15\":{\"anchor\":\"y15\",\"domain\":[0.525,0.7375],\"gridcolor\":\"#E1E5ED\",\"showgrid\":false,\"tickfont\":{\"color\":\"#4D5663\"},\"title\":{\"font\":{\"color\":\"#4D5663\"},\"text\":\"\"},\"zerolinecolor\":\"#E1E5ED\"},\"yaxis15\":{\"anchor\":\"x15\",\"domain\":[0.0,0.1975],\"gridcolor\":\"#E1E5ED\",\"showgrid\":false,\"tickfont\":{\"color\":\"#4D5663\"},\"title\":{\"font\":{\"color\":\"#4D5663\"},\"text\":\"\"},\"zerolinecolor\":\"#E1E5ED\"},\"xaxis16\":{\"anchor\":\"y16\",\"domain\":[0.7875,1.0],\"gridcolor\":\"#E1E5ED\",\"showgrid\":false,\"tickfont\":{\"color\":\"#4D5663\"},\"title\":{\"font\":{\"color\":\"#4D5663\"},\"text\":\"\"},\"zerolinecolor\":\"#E1E5ED\"},\"yaxis16\":{\"anchor\":\"x16\",\"domain\":[0.0,0.1975],\"gridcolor\":\"#E1E5ED\",\"showgrid\":false,\"tickfont\":{\"color\":\"#4D5663\"},\"title\":{\"font\":{\"color\":\"#4D5663\"},\"text\":\"\"},\"zerolinecolor\":\"#E1E5ED\"}},                        {\"showLink\": true, \"linkText\": \"Export to plot.ly\", \"plotlyServerURL\": \"https://plot.ly\", \"responsive\": true}                    ).then(function(){\n",
       "                            \n",
       "var gd = document.getElementById('b8ae0396-1099-44a9-9210-ade230fb6ce3');\n",
       "var x = new MutationObserver(function (mutations, observer) {{\n",
       "        var display = window.getComputedStyle(gd).display;\n",
       "        if (!display || display === 'none') {{\n",
       "            console.log([gd, 'removed!']);\n",
       "            Plotly.purge(gd);\n",
       "            observer.disconnect();\n",
       "        }}\n",
       "}});\n",
       "\n",
       "// Listen for the removal of the full notebook cells\n",
       "var notebookContainer = gd.closest('#notebook-container');\n",
       "if (notebookContainer) {{\n",
       "    x.observe(notebookContainer, {childList: true});\n",
       "}}\n",
       "\n",
       "// Listen for the clearing of the current output cell\n",
       "var outputEl = gd.closest('.output');\n",
       "if (outputEl) {{\n",
       "    x.observe(outputEl, {childList: true});\n",
       "}}\n",
       "\n",
       "                        })                };                });            </script>        </div>"
      ]
     },
     "metadata": {},
     "output_type": "display_data"
    }
   ],
   "source": [
    "df.scatter_matrix()"
   ]
  },
  {
   "cell_type": "markdown",
   "metadata": {
    "collapsed": true
   },
   "source": [
    "# Great Job!"
   ]
  }
 ],
 "metadata": {
  "kernelspec": {
   "display_name": "Python 3 (ipykernel)",
   "language": "python",
   "name": "python3"
  },
  "language_info": {
   "codemirror_mode": {
    "name": "ipython",
    "version": 3
   },
   "file_extension": ".py",
   "mimetype": "text/x-python",
   "name": "python",
   "nbconvert_exporter": "python",
   "pygments_lexer": "ipython3",
   "version": "3.9.7"
  }
 },
 "nbformat": 4,
 "nbformat_minor": 1
}
